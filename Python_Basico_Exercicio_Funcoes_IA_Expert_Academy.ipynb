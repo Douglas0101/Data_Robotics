{
 "cells": [
  {
   "metadata": {},
   "cell_type": "code",
   "outputs": [],
   "execution_count": null,
   "source": [
    "def ler_temperatura():\n",
    "    temperatura = float(input(\"Digite a temperatura em Celsius: \"))\n",
    "    return temperatura"
   ],
   "id": "db5ddd802af1d052"
  },
  {
   "metadata": {},
   "cell_type": "code",
   "outputs": [],
   "execution_count": null,
   "source": [
    "def converter(temperatura_celsius):\n",
    "    temperatura_f = (9 * temperatura_celsius + 160) / 5\n",
    "    return temperatura_f"
   ],
   "id": "b9c1ed9de991b6d8"
  },
  {
   "metadata": {},
   "cell_type": "code",
   "outputs": [],
   "execution_count": null,
   "source": [
    "def mostrar(temperatura_f):\n",
    "    print(temperatura_f)"
   ],
   "id": "4a98f7ecb5652684"
  },
  {
   "metadata": {},
   "cell_type": "code",
   "outputs": [],
   "execution_count": null,
   "source": [
    "temperatura_c = ler_temperatura()\n",
    "temperatura_f = converter(temperatura_c)\n",
    "mostrar(temperatura_f)"
   ],
   "id": "8c513d7186c42e9e"
  },
  {
   "metadata": {},
   "cell_type": "code",
   "outputs": [],
   "execution_count": null,
   "source": [
    "def leitura():\n",
    "    tempo = float(input(\"Digite o tempo da viagem (em horas): \"))\n",
    "    velocidade = float(input(\"Digite a velocidade média: \"))\n",
    "    return tempo, velocidade"
   ],
   "id": "9e2e00e0439a4fb9"
  },
  {
   "metadata": {},
   "cell_type": "code",
   "outputs": [],
   "execution_count": null,
   "source": [
    "def calculo_distancia(tempo, velocidade):\n",
    "    return tempo * velocidade"
   ],
   "id": "405185ad44e89893"
  },
  {
   "metadata": {},
   "cell_type": "code",
   "outputs": [],
   "execution_count": null,
   "source": [
    "def calculo_litros(distancia):\n",
    "    return distancia / 12"
   ],
   "id": "b28637d3c98f6b3e"
  },
  {
   "metadata": {},
   "cell_type": "code",
   "outputs": [],
   "execution_count": null,
   "source": [
    "def imprime(velocidade, tempo, distancia, litros):\n",
    "    print(f'Velocidade média: {velocidade}')\n",
    "    print(f'Tempo da viagem: {tempo}')\n",
    "    print(f'Distancia percorrida: {distancia}')\n",
    "    print(f'Litros usados: {litros}')"
   ],
   "id": "319607bd97030c45"
  },
  {
   "metadata": {},
   "cell_type": "code",
   "outputs": [],
   "execution_count": null,
   "source": [
    "t, v=  leitura()\n",
    "d = calculo_distancia(t, v)\n",
    "l = calculo_litros(d)\n",
    "imprime(v, t, d, l)"
   ],
   "id": "eae8ea7efcf645a9"
  }
 ],
 "metadata": {
  "kernelspec": {
   "display_name": "Python 3",
   "language": "python",
   "name": "python3"
  },
  "language_info": {
   "codemirror_mode": {
    "name": "ipython",
    "version": 2
   },
   "file_extension": ".py",
   "mimetype": "text/x-python",
   "name": "python",
   "nbconvert_exporter": "python",
   "pygments_lexer": "ipython2",
   "version": "2.7.6"
  }
 },
 "nbformat": 4,
 "nbformat_minor": 5
}
