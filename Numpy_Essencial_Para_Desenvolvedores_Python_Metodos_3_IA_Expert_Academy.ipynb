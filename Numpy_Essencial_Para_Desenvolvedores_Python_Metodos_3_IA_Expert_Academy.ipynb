{
 "cells": [
  {
   "cell_type": "code",
   "id": "initial_id",
   "metadata": {
    "collapsed": true,
    "ExecuteTime": {
     "end_time": "2024-12-19T17:17:32.199049Z",
     "start_time": "2024-12-19T17:17:32.190198Z"
    }
   },
   "source": "import numpy as np",
   "outputs": [],
   "execution_count": 99
  },
  {
   "metadata": {
    "ExecuteTime": {
     "end_time": "2024-12-19T17:17:32.279957Z",
     "start_time": "2024-12-19T17:17:32.275670Z"
    }
   },
   "cell_type": "code",
   "source": [
    "# Criando um array exemplo para demonstrar os métodos\n",
    "arr = np.array([[1, 2, 3], [4, 5, 6]])\n",
    "print(f'Array original: {arr}')"
   ],
   "id": "eabddda843bbcc24",
   "outputs": [
    {
     "name": "stdout",
     "output_type": "stream",
     "text": [
      "Array original: [[1 2 3]\n",
      " [4 5 6]]\n"
     ]
    }
   ],
   "execution_count": 100
  },
  {
   "metadata": {
    "ExecuteTime": {
     "end_time": "2024-12-19T17:17:32.423727Z",
     "start_time": "2024-12-19T17:17:32.421045Z"
    }
   },
   "cell_type": "code",
   "source": "",
   "id": "6dedaceb59586cbc",
   "outputs": [],
   "execution_count": null
  },
  {
   "metadata": {
    "ExecuteTime": {
     "end_time": "2024-12-19T17:17:32.520131Z",
     "start_time": "2024-12-19T17:17:32.514886Z"
    }
   },
   "cell_type": "code",
   "source": [
    "# 1 - Método tolist()\n",
    "# Converte um Array Numpy em uma lista Python\n",
    "lista = arr.tolist()\n",
    "print(f'1. Demonstração do tolist(): {lista}')\n",
    "print(f'Array convertido para lista: {arr}')\n",
    "print(f'Tipo do resultado: {type(lista)}')"
   ],
   "id": "934a66d1a2ef1a8c",
   "outputs": [
    {
     "name": "stdout",
     "output_type": "stream",
     "text": [
      "1. Demonstração do tolist(): [[1, 2, 3], [4, 5, 6]]\n",
      "Array convertido para lista: [[1 2 3]\n",
      " [4 5 6]]\n",
      "Tipo do resultado: <class 'list'>\n"
     ]
    }
   ],
   "execution_count": 101
  },
  {
   "metadata": {
    "ExecuteTime": {
     "end_time": "2024-12-19T17:17:32.596557Z",
     "start_time": "2024-12-19T17:17:32.593703Z"
    }
   },
   "cell_type": "code",
   "source": [
    "# 2 - Método item()\n",
    "# Retorna um único elemento como um objeto Python escalar\n",
    "primeiro_elemento = arr.item(0)\n",
    "print(f'2. Demonstração do item(): {primeiro_elemento}')\n",
    "print(f'Tipo do resultado: {type(primeiro_elemento)}')"
   ],
   "id": "5028c78d361edeaf",
   "outputs": [
    {
     "name": "stdout",
     "output_type": "stream",
     "text": [
      "2. Demonstração do item(): 1\n",
      "Tipo do resultado: <class 'int'>\n"
     ]
    }
   ],
   "execution_count": 102
  },
  {
   "metadata": {
    "ExecuteTime": {
     "end_time": "2024-12-19T17:17:32.674683Z",
     "start_time": "2024-12-19T17:17:32.669978Z"
    }
   },
   "cell_type": "code",
   "source": [
    "# 3 - Método itemset()\n",
    "# Define o valor de um elemento específico\n",
    "arr_itemset = arr.copy() # Obtém o primeiro elemento\n",
    "arr_itemset.itemset(0, 99)\n",
    "print('3. Demonstração do itemset():')\n",
    "print(f'Array após itemset(0, 99): {arr_itemset}')\n",
    "print(arr_itemset)"
   ],
   "id": "bcb6e247fde35d1a",
   "outputs": [
    {
     "name": "stdout",
     "output_type": "stream",
     "text": [
      "3. Demonstração do itemset():\n",
      "Array após itemset(0, 99): [[99  2  3]\n",
      " [ 4  5  6]]\n",
      "[[99  2  3]\n",
      " [ 4  5  6]]\n"
     ]
    }
   ],
   "execution_count": 103
  },
  {
   "metadata": {
    "ExecuteTime": {
     "end_time": "2024-12-19T17:17:32.753561Z",
     "start_time": "2024-12-19T17:17:32.746783Z"
    }
   },
   "cell_type": "code",
   "source": [
    "# 4 - Método view()\n",
    "# Cria uma nova visualização do mesmo dados em memória\n",
    "view_arr = arr.view()\n",
    "print(f'4. Demonstração do view(): {view_arr}')\n",
    "print(f'Modificando o view arr: {view_arr}')\n",
    "view_arr[0,0] = 100 # Modifica a view\n",
    "print(f'Array original também modificado: {arr}') # O array original também é modificado"
   ],
   "id": "8435d511729a4406",
   "outputs": [
    {
     "name": "stdout",
     "output_type": "stream",
     "text": [
      "4. Demonstração do view(): [[1 2 3]\n",
      " [4 5 6]]\n",
      "Modificando o view arr: [[1 2 3]\n",
      " [4 5 6]]\n",
      "Array original também modificado: [[100   2   3]\n",
      " [  4   5   6]]\n"
     ]
    }
   ],
   "execution_count": 104
  },
  {
   "metadata": {
    "ExecuteTime": {
     "end_time": "2024-12-19T17:17:32.810192Z",
     "start_time": "2024-12-19T17:17:32.802441Z"
    }
   },
   "cell_type": "code",
   "source": [
    "# 5 - Método copy()\n",
    "# Cria uma cópia indenpendente do array\n",
    "copia_arr = arr.copy()\n",
    "print(f'5. Demonstração do copy(): {copia_arr}')\n",
    "print('Modificando o cópia')\n",
    "copia_arr[0,0] = 200 # Modifica a cópia\n",
    "print(f'Array original també modificado: {arr}') # O array original també é modificado"
   ],
   "id": "ce0add0d9e562c2d",
   "outputs": [
    {
     "name": "stdout",
     "output_type": "stream",
     "text": [
      "5. Demonstração do copy(): [[100   2   3]\n",
      " [  4   5   6]]\n",
      "Modificando o cópia\n",
      "Array original també modificado: [[100   2   3]\n",
      " [  4   5   6]]\n"
     ]
    }
   ],
   "execution_count": 105
  },
  {
   "metadata": {
    "ExecuteTime": {
     "end_time": "2024-12-19T17:17:32.860635Z",
     "start_time": "2024-12-19T17:17:32.857505Z"
    }
   },
   "cell_type": "code",
   "source": [
    "# 6 - Método fill()\n",
    "# Preenche oa array com um valor específico\n",
    "arr_fill = arr.copy()\n",
    "arr_fill.fill(7)\n",
    "print(f'6. Demonstração do fill()')\n",
    "print(f'Array preenchido com 7: {arr_fill}')"
   ],
   "id": "aa312f94f51a8d9f",
   "outputs": [
    {
     "name": "stdout",
     "output_type": "stream",
     "text": [
      "6. Demonstração do fill()\n",
      "Array preenchido com 7: [[7 7 7]\n",
      " [7 7 7]]\n"
     ]
    }
   ],
   "execution_count": 106
  }
 ],
 "metadata": {
  "kernelspec": {
   "display_name": "Python 3",
   "language": "python",
   "name": "python3"
  },
  "language_info": {
   "codemirror_mode": {
    "name": "ipython",
    "version": 2
   },
   "file_extension": ".py",
   "mimetype": "text/x-python",
   "name": "python",
   "nbconvert_exporter": "python",
   "pygments_lexer": "ipython2",
   "version": "2.7.6"
  }
 },
 "nbformat": 4,
 "nbformat_minor": 5
}
