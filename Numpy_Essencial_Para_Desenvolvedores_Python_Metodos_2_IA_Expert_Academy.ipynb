{
 "cells": [
  {
   "cell_type": "code",
   "id": "initial_id",
   "metadata": {
    "collapsed": true,
    "ExecuteTime": {
     "end_time": "2024-12-17T22:04:02.868109Z",
     "start_time": "2024-12-17T22:04:02.866081Z"
    }
   },
   "source": "import numpy as np",
   "outputs": [],
   "execution_count": 2
  },
  {
   "metadata": {
    "ExecuteTime": {
     "end_time": "2024-12-17T22:10:32.090426Z",
     "start_time": "2024-12-17T22:10:32.082449Z"
    }
   },
   "cell_type": "code",
   "source": [
    "def filter_and_replace(arr, condition, new_value):\n",
    "    \"\"\"\n",
    "    Subistitui os valores em 'arr' que atendem à 'condition' por 'nem_value'.\n",
    "    - arr: Matriz de dados\n",
    "    - condition: Função que define a condição (ex: arr < 0)\n",
    "    - new_value: Valor a ser atribuído onde a condição é verdadeira\n",
    "    \"\"\"\n",
    "\n",
    "    # Indexação condicional e atribuição\n",
    "    arr[condition(arr)] = new_value\n",
    "    return arr"
   ],
   "id": "86c7ba325abd4725",
   "outputs": [],
   "execution_count": 3
  },
  {
   "metadata": {
    "ExecuteTime": {
     "end_time": "2024-12-17T22:10:34.296167Z",
     "start_time": "2024-12-17T22:10:34.288264Z"
    }
   },
   "cell_type": "code",
   "source": [
    "# Exemplo de uso\n",
    "arr = np.random.randn(5, 5) # Criando uma matriz aleatória com valores negativos e positivos\n",
    "print(\"Antes da substituição: \")\n",
    "print(arr)"
   ],
   "id": "3fc796e4e9fbeb28",
   "outputs": [
    {
     "name": "stdout",
     "output_type": "stream",
     "text": [
      "Antes da substituição: \n",
      "[[ 0.61364933  0.52188651 -0.88082784  0.76805664 -0.23841503]\n",
      " [-0.08958814  0.37946212  0.38428378 -0.34281043 -0.92674939]\n",
      " [-1.60313434  1.69226804  0.41184588 -0.85819246 -0.03485739]\n",
      " [ 0.39367051 -0.96668316  0.65978313 -1.03412518  0.36534396]\n",
      " [-0.42071915 -1.48928886 -1.19010714 -0.28834845 -0.12264784]]\n"
     ]
    }
   ],
   "execution_count": 4
  },
  {
   "metadata": {
    "ExecuteTime": {
     "end_time": "2024-12-17T22:12:28.615737Z",
     "start_time": "2024-12-17T22:12:28.607713Z"
    }
   },
   "cell_type": "code",
   "source": [
    "# Substituindo valores menores que 0 por 0\n",
    "arr = filter_and_replace(arr, lambda x: x < 0, 0)\n",
    "print('\\nDepois da substituição: ')\n",
    "print(arr)"
   ],
   "id": "7dee57b07bfe5697",
   "outputs": [
    {
     "name": "stdout",
     "output_type": "stream",
     "text": [
      "\n",
      "Depois da substituição: \n",
      "[[0.61364933 0.52188651 0.         0.76805664 0.        ]\n",
      " [0.         0.37946212 0.38428378 0.         0.        ]\n",
      " [0.         1.69226804 0.41184588 0.         0.        ]\n",
      " [0.39367051 0.         0.65978313 0.         0.36534396]\n",
      " [0.         0.         0.         0.         0.        ]]\n"
     ]
    }
   ],
   "execution_count": 5
  }
 ],
 "metadata": {
  "kernelspec": {
   "display_name": "Python [conda env:anaconda3]",
   "language": "python",
   "name": "conda-env-anaconda3-py"
  },
  "language_info": {
   "codemirror_mode": {
    "name": "ipython",
    "version": 2
   },
   "file_extension": ".py",
   "mimetype": "text/x-python",
   "name": "python",
   "nbconvert_exporter": "python",
   "pygments_lexer": "ipython2",
   "version": "2.7.6"
  }
 },
 "nbformat": 4,
 "nbformat_minor": 5
}
