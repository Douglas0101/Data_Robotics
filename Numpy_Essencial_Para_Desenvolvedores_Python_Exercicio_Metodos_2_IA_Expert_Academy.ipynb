{
 "cells": [
  {
   "cell_type": "code",
   "id": "initial_id",
   "metadata": {
    "collapsed": true,
    "ExecuteTime": {
     "end_time": "2024-12-21T05:10:47.904785Z",
     "start_time": "2024-12-21T05:10:47.901729Z"
    }
   },
   "source": "import numpy as np",
   "outputs": [],
   "execution_count": 151
  },
  {
   "metadata": {
    "ExecuteTime": {
     "end_time": "2024-12-21T05:10:47.915924Z",
     "start_time": "2024-12-21T05:10:47.910339Z"
    }
   },
   "cell_type": "code",
   "source": "rng = np.random.default_rng(seed=1)",
   "id": "5fd8a2ff6ce9fa08",
   "outputs": [],
   "execution_count": 152
  },
  {
   "metadata": {
    "ExecuteTime": {
     "end_time": "2024-12-21T05:10:47.957879Z",
     "start_time": "2024-12-21T05:10:47.955593Z"
    }
   },
   "cell_type": "code",
   "source": "array = rng.normal(loc=50, scale=3, size=60).reshape(3,5,4).round(3)",
   "id": "fc1a403ab768d7df",
   "outputs": [],
   "execution_count": 153
  },
  {
   "metadata": {
    "ExecuteTime": {
     "end_time": "2024-12-21T05:10:48.016604Z",
     "start_time": "2024-12-21T05:10:48.007462Z"
    }
   },
   "cell_type": "code",
   "source": "array",
   "id": "807f73351afdc51f",
   "outputs": [
    {
     "data": {
      "text/plain": [
       "array([[[51.037, 52.465, 50.991, 46.091],\n",
       "        [52.716, 51.339, 48.389, 51.743],\n",
       "        [51.094, 50.882, 50.085, 51.64 ],\n",
       "        [47.791, 49.511, 48.554, 51.797],\n",
       "        [50.119, 49.123, 47.654, 49.228]],\n",
       "\n",
       "       [[50.024, 49.173, 53.882, 53.02 ],\n",
       "        [41.867, 44.333, 49.476, 48.733],\n",
       "        [50.641, 50.652, 56.354, 46.664],\n",
       "        [48.867, 56.128, 51.94 , 51.989],\n",
       "        [48.458, 45.056, 50.502, 50.327]],\n",
       "\n",
       "       [[46.318, 47.95 , 49.784, 47.166],\n",
       "        [49.705, 50.286, 50.107, 48.481],\n",
       "        [51.781, 52.674, 50.963, 47.545],\n",
       "        [52.195, 48.496, 52.637, 46.785],\n",
       "        [52.743, 49.94 , 46.254, 49.058]]])"
      ]
     },
     "execution_count": 154,
     "metadata": {},
     "output_type": "execute_result"
    }
   ],
   "execution_count": 154
  },
  {
   "metadata": {
    "ExecuteTime": {
     "end_time": "2024-12-21T05:10:48.061992Z",
     "start_time": "2024-12-21T05:10:48.058939Z"
    }
   },
   "cell_type": "code",
   "source": "array.shape",
   "id": "aa66417bb3d89d19",
   "outputs": [
    {
     "data": {
      "text/plain": [
       "(3, 5, 4)"
      ]
     },
     "execution_count": 155,
     "metadata": {},
     "output_type": "execute_result"
    }
   ],
   "execution_count": 155
  },
  {
   "metadata": {
    "ExecuteTime": {
     "end_time": "2024-12-21T05:10:48.113206Z",
     "start_time": "2024-12-21T05:10:48.109678Z"
    }
   },
   "cell_type": "code",
   "source": "array.max(axis=0)",
   "id": "ca8c3bbd3af94ea7",
   "outputs": [
    {
     "data": {
      "text/plain": [
       "array([[51.037, 52.465, 53.882, 53.02 ],\n",
       "       [52.716, 51.339, 50.107, 51.743],\n",
       "       [51.781, 52.674, 56.354, 51.64 ],\n",
       "       [52.195, 56.128, 52.637, 51.989],\n",
       "       [52.743, 49.94 , 50.502, 50.327]])"
      ]
     },
     "execution_count": 156,
     "metadata": {},
     "output_type": "execute_result"
    }
   ],
   "execution_count": 156
  },
  {
   "metadata": {
    "ExecuteTime": {
     "end_time": "2024-12-21T05:10:48.193948Z",
     "start_time": "2024-12-21T05:10:48.191186Z"
    }
   },
   "cell_type": "code",
   "source": "array.argmax(axis=0)",
   "id": "1310c7bcc9df6d7c",
   "outputs": [
    {
     "data": {
      "text/plain": [
       "array([[0, 0, 1, 1],\n",
       "       [0, 0, 2, 0],\n",
       "       [2, 2, 1, 0],\n",
       "       [2, 1, 2, 1],\n",
       "       [2, 2, 1, 1]])"
      ]
     },
     "execution_count": 157,
     "metadata": {},
     "output_type": "execute_result"
    }
   ],
   "execution_count": 157
  },
  {
   "metadata": {
    "ExecuteTime": {
     "end_time": "2024-12-21T05:10:48.316186Z",
     "start_time": "2024-12-21T05:10:48.311570Z"
    }
   },
   "cell_type": "code",
   "source": "array.max()",
   "id": "1a1a8143cfd33715",
   "outputs": [
    {
     "data": {
      "text/plain": [
       "56.354"
      ]
     },
     "execution_count": 158,
     "metadata": {},
     "output_type": "execute_result"
    }
   ],
   "execution_count": 158
  },
  {
   "metadata": {
    "ExecuteTime": {
     "end_time": "2024-12-21T05:10:48.474660Z",
     "start_time": "2024-12-21T05:10:48.467707Z"
    }
   },
   "cell_type": "code",
   "source": "array.min(axis=0)",
   "id": "b190fce22829e3de",
   "outputs": [
    {
     "data": {
      "text/plain": [
       "array([[46.318, 47.95 , 49.784, 46.091],\n",
       "       [41.867, 44.333, 48.389, 48.481],\n",
       "       [50.641, 50.652, 50.085, 46.664],\n",
       "       [47.791, 48.496, 48.554, 46.785],\n",
       "       [48.458, 45.056, 46.254, 49.058]])"
      ]
     },
     "execution_count": 159,
     "metadata": {},
     "output_type": "execute_result"
    }
   ],
   "execution_count": 159
  },
  {
   "metadata": {
    "ExecuteTime": {
     "end_time": "2024-12-21T05:10:48.597193Z",
     "start_time": "2024-12-21T05:10:48.592778Z"
    }
   },
   "cell_type": "code",
   "source": "array.argmin(axis=0)",
   "id": "51a4a9352a7de59",
   "outputs": [
    {
     "data": {
      "text/plain": [
       "array([[2, 2, 2, 0],\n",
       "       [1, 1, 0, 2],\n",
       "       [1, 1, 0, 1],\n",
       "       [0, 2, 0, 2],\n",
       "       [1, 1, 2, 2]])"
      ]
     },
     "execution_count": 160,
     "metadata": {},
     "output_type": "execute_result"
    }
   ],
   "execution_count": 160
  },
  {
   "metadata": {
    "ExecuteTime": {
     "end_time": "2024-12-21T05:10:48.673671Z",
     "start_time": "2024-12-21T05:10:48.667435Z"
    }
   },
   "cell_type": "code",
   "source": "array.min(axis=1)",
   "id": "b779a0b5aa9b02b8",
   "outputs": [
    {
     "data": {
      "text/plain": [
       "array([[47.791, 49.123, 47.654, 46.091],\n",
       "       [41.867, 44.333, 49.476, 46.664],\n",
       "       [46.318, 47.95 , 46.254, 46.785]])"
      ]
     },
     "execution_count": 161,
     "metadata": {},
     "output_type": "execute_result"
    }
   ],
   "execution_count": 161
  },
  {
   "metadata": {
    "ExecuteTime": {
     "end_time": "2024-12-21T05:10:48.835290Z",
     "start_time": "2024-12-21T05:10:48.831449Z"
    }
   },
   "cell_type": "code",
   "source": "array.argmin(axis=1)",
   "id": "8a22f566c8b8c7c",
   "outputs": [
    {
     "data": {
      "text/plain": [
       "array([[3, 4, 4, 0],\n",
       "       [1, 1, 1, 2],\n",
       "       [0, 0, 4, 3]])"
      ]
     },
     "execution_count": 162,
     "metadata": {},
     "output_type": "execute_result"
    }
   ],
   "execution_count": 162
  },
  {
   "metadata": {
    "ExecuteTime": {
     "end_time": "2024-12-21T05:10:48.934175Z",
     "start_time": "2024-12-21T05:10:48.930298Z"
    }
   },
   "cell_type": "code",
   "source": "array.min()",
   "id": "938228eec00a6b2a",
   "outputs": [
    {
     "data": {
      "text/plain": [
       "41.867"
      ]
     },
     "execution_count": 163,
     "metadata": {},
     "output_type": "execute_result"
    }
   ],
   "execution_count": 163
  },
  {
   "metadata": {
    "ExecuteTime": {
     "end_time": "2024-12-21T05:10:49.008262Z",
     "start_time": "2024-12-21T05:10:48.999564Z"
    }
   },
   "cell_type": "code",
   "source": "array.ptp(axis=0)",
   "id": "b185160d51619789",
   "outputs": [
    {
     "data": {
      "text/plain": [
       "array([[ 4.719,  4.515,  4.098,  6.929],\n",
       "       [10.849,  7.006,  1.718,  3.262],\n",
       "       [ 1.14 ,  2.022,  6.269,  4.976],\n",
       "       [ 4.404,  7.632,  4.083,  5.204],\n",
       "       [ 4.285,  4.884,  4.248,  1.269]])"
      ]
     },
     "execution_count": 164,
     "metadata": {},
     "output_type": "execute_result"
    }
   ],
   "execution_count": 164
  },
  {
   "metadata": {
    "ExecuteTime": {
     "end_time": "2024-12-21T05:10:49.153045Z",
     "start_time": "2024-12-21T05:10:49.146345Z"
    }
   },
   "cell_type": "code",
   "source": "array.ptp(axis=2)",
   "id": "f36654328c017796",
   "outputs": [
    {
     "data": {
      "text/plain": [
       "array([[6.374, 4.327, 1.555, 4.006, 2.465],\n",
       "       [4.709, 7.609, 9.69 , 7.261, 5.446],\n",
       "       [3.466, 1.805, 5.129, 5.852, 6.489]])"
      ]
     },
     "execution_count": 165,
     "metadata": {},
     "output_type": "execute_result"
    }
   ],
   "execution_count": 165
  },
  {
   "metadata": {
    "ExecuteTime": {
     "end_time": "2024-12-21T05:10:49.284979Z",
     "start_time": "2024-12-21T05:10:49.281221Z"
    }
   },
   "cell_type": "code",
   "source": "array_clip = array.clip(min=43, max=55)",
   "id": "c30872a59a07edcb",
   "outputs": [],
   "execution_count": 166
  },
  {
   "metadata": {
    "ExecuteTime": {
     "end_time": "2024-12-21T05:10:49.408742Z",
     "start_time": "2024-12-21T05:10:49.404264Z"
    }
   },
   "cell_type": "code",
   "source": "array_clip",
   "id": "100b2cef7fe62ad5",
   "outputs": [
    {
     "data": {
      "text/plain": [
       "array([[[51.037, 52.465, 50.991, 46.091],\n",
       "        [52.716, 51.339, 48.389, 51.743],\n",
       "        [51.094, 50.882, 50.085, 51.64 ],\n",
       "        [47.791, 49.511, 48.554, 51.797],\n",
       "        [50.119, 49.123, 47.654, 49.228]],\n",
       "\n",
       "       [[50.024, 49.173, 53.882, 53.02 ],\n",
       "        [43.   , 44.333, 49.476, 48.733],\n",
       "        [50.641, 50.652, 55.   , 46.664],\n",
       "        [48.867, 55.   , 51.94 , 51.989],\n",
       "        [48.458, 45.056, 50.502, 50.327]],\n",
       "\n",
       "       [[46.318, 47.95 , 49.784, 47.166],\n",
       "        [49.705, 50.286, 50.107, 48.481],\n",
       "        [51.781, 52.674, 50.963, 47.545],\n",
       "        [52.195, 48.496, 52.637, 46.785],\n",
       "        [52.743, 49.94 , 46.254, 49.058]]])"
      ]
     },
     "execution_count": 167,
     "metadata": {},
     "output_type": "execute_result"
    }
   ],
   "execution_count": 167
  },
  {
   "metadata": {
    "ExecuteTime": {
     "end_time": "2024-12-21T05:10:49.509964Z",
     "start_time": "2024-12-21T05:10:49.504982Z"
    }
   },
   "cell_type": "code",
   "source": "array_clip.min()",
   "id": "e2c7a8d5112f3670",
   "outputs": [
    {
     "data": {
      "text/plain": [
       "43.0"
      ]
     },
     "execution_count": 168,
     "metadata": {},
     "output_type": "execute_result"
    }
   ],
   "execution_count": 168
  },
  {
   "metadata": {
    "ExecuteTime": {
     "end_time": "2024-12-21T05:10:49.564427Z",
     "start_time": "2024-12-21T05:10:49.558090Z"
    }
   },
   "cell_type": "code",
   "source": "array_clip.max()",
   "id": "e511b59679b14d7",
   "outputs": [
    {
     "data": {
      "text/plain": [
       "55.0"
      ]
     },
     "execution_count": 169,
     "metadata": {},
     "output_type": "execute_result"
    }
   ],
   "execution_count": 169
  },
  {
   "metadata": {
    "ExecuteTime": {
     "end_time": "2024-12-21T05:10:49.628268Z",
     "start_time": "2024-12-21T05:10:49.615916Z"
    }
   },
   "cell_type": "code",
   "source": "array.round(decimals=2)",
   "id": "635afb8804e92013",
   "outputs": [
    {
     "data": {
      "text/plain": [
       "array([[[51.04, 52.46, 50.99, 46.09],\n",
       "        [52.72, 51.34, 48.39, 51.74],\n",
       "        [51.09, 50.88, 50.08, 51.64],\n",
       "        [47.79, 49.51, 48.55, 51.8 ],\n",
       "        [50.12, 49.12, 47.65, 49.23]],\n",
       "\n",
       "       [[50.02, 49.17, 53.88, 53.02],\n",
       "        [41.87, 44.33, 49.48, 48.73],\n",
       "        [50.64, 50.65, 56.35, 46.66],\n",
       "        [48.87, 56.13, 51.94, 51.99],\n",
       "        [48.46, 45.06, 50.5 , 50.33]],\n",
       "\n",
       "       [[46.32, 47.95, 49.78, 47.17],\n",
       "        [49.7 , 50.29, 50.11, 48.48],\n",
       "        [51.78, 52.67, 50.96, 47.54],\n",
       "        [52.2 , 48.5 , 52.64, 46.78],\n",
       "        [52.74, 49.94, 46.25, 49.06]]])"
      ]
     },
     "execution_count": 170,
     "metadata": {},
     "output_type": "execute_result"
    }
   ],
   "execution_count": 170
  },
  {
   "metadata": {
    "ExecuteTime": {
     "end_time": "2024-12-21T05:10:49.669468Z",
     "start_time": "2024-12-21T05:10:49.664954Z"
    }
   },
   "cell_type": "code",
   "source": "array.round(decimals=1)",
   "id": "70b71125b11b36b7",
   "outputs": [
    {
     "data": {
      "text/plain": [
       "array([[[51. , 52.5, 51. , 46.1],\n",
       "        [52.7, 51.3, 48.4, 51.7],\n",
       "        [51.1, 50.9, 50.1, 51.6],\n",
       "        [47.8, 49.5, 48.6, 51.8],\n",
       "        [50.1, 49.1, 47.7, 49.2]],\n",
       "\n",
       "       [[50. , 49.2, 53.9, 53. ],\n",
       "        [41.9, 44.3, 49.5, 48.7],\n",
       "        [50.6, 50.7, 56.4, 46.7],\n",
       "        [48.9, 56.1, 51.9, 52. ],\n",
       "        [48.5, 45.1, 50.5, 50.3]],\n",
       "\n",
       "       [[46.3, 48. , 49.8, 47.2],\n",
       "        [49.7, 50.3, 50.1, 48.5],\n",
       "        [51.8, 52.7, 51. , 47.5],\n",
       "        [52.2, 48.5, 52.6, 46.8],\n",
       "        [52.7, 49.9, 46.3, 49.1]]])"
      ]
     },
     "execution_count": 171,
     "metadata": {},
     "output_type": "execute_result"
    }
   ],
   "execution_count": 171
  },
  {
   "metadata": {
    "ExecuteTime": {
     "end_time": "2024-12-21T05:10:49.718553Z",
     "start_time": "2024-12-21T05:10:49.714915Z"
    }
   },
   "cell_type": "code",
   "source": "array_sum_axis_2 = array.sum(axis=2)",
   "id": "4dc35ecd8cdb648b",
   "outputs": [],
   "execution_count": 172
  },
  {
   "metadata": {
    "ExecuteTime": {
     "end_time": "2024-12-21T05:10:49.766361Z",
     "start_time": "2024-12-21T05:10:49.762508Z"
    }
   },
   "cell_type": "code",
   "source": "array_sum_axis_2",
   "id": "ddcea2a0f1ad3b12",
   "outputs": [
    {
     "data": {
      "text/plain": [
       "array([[200.584, 204.187, 203.701, 197.653, 196.124],\n",
       "       [206.099, 184.409, 204.311, 208.924, 194.343],\n",
       "       [191.218, 198.579, 202.963, 200.113, 197.995]])"
      ]
     },
     "execution_count": 173,
     "metadata": {},
     "output_type": "execute_result"
    }
   ],
   "execution_count": 173
  },
  {
   "metadata": {
    "ExecuteTime": {
     "end_time": "2024-12-21T05:10:49.813656Z",
     "start_time": "2024-12-21T05:10:49.811526Z"
    }
   },
   "cell_type": "code",
   "source": "array_sum_axis_2_axis_0 = array_sum_axis_2.sum(axis=0)",
   "id": "c2645861c37c6692",
   "outputs": [],
   "execution_count": 174
  },
  {
   "metadata": {
    "ExecuteTime": {
     "end_time": "2024-12-21T05:10:49.868305Z",
     "start_time": "2024-12-21T05:10:49.862542Z"
    }
   },
   "cell_type": "code",
   "source": "array_sum_axis_2_axis_0",
   "id": "24f408c2f4b25500",
   "outputs": [
    {
     "data": {
      "text/plain": [
       "array([597.901, 587.175, 610.975, 606.69 , 588.462])"
      ]
     },
     "execution_count": 175,
     "metadata": {},
     "output_type": "execute_result"
    }
   ],
   "execution_count": 175
  },
  {
   "metadata": {
    "ExecuteTime": {
     "end_time": "2024-12-21T05:10:49.982545Z",
     "start_time": "2024-12-21T05:10:49.978166Z"
    }
   },
   "cell_type": "code",
   "source": "array.cumsum(axis=2)",
   "id": "f828083f53987633",
   "outputs": [
    {
     "data": {
      "text/plain": [
       "array([[[ 51.037, 103.502, 154.493, 200.584],\n",
       "        [ 52.716, 104.055, 152.444, 204.187],\n",
       "        [ 51.094, 101.976, 152.061, 203.701],\n",
       "        [ 47.791,  97.302, 145.856, 197.653],\n",
       "        [ 50.119,  99.242, 146.896, 196.124]],\n",
       "\n",
       "       [[ 50.024,  99.197, 153.079, 206.099],\n",
       "        [ 41.867,  86.2  , 135.676, 184.409],\n",
       "        [ 50.641, 101.293, 157.647, 204.311],\n",
       "        [ 48.867, 104.995, 156.935, 208.924],\n",
       "        [ 48.458,  93.514, 144.016, 194.343]],\n",
       "\n",
       "       [[ 46.318,  94.268, 144.052, 191.218],\n",
       "        [ 49.705,  99.991, 150.098, 198.579],\n",
       "        [ 51.781, 104.455, 155.418, 202.963],\n",
       "        [ 52.195, 100.691, 153.328, 200.113],\n",
       "        [ 52.743, 102.683, 148.937, 197.995]]])"
      ]
     },
     "execution_count": 176,
     "metadata": {},
     "output_type": "execute_result"
    }
   ],
   "execution_count": 176
  },
  {
   "metadata": {
    "ExecuteTime": {
     "end_time": "2024-12-21T05:10:50.004298Z",
     "start_time": "2024-12-21T05:10:49.999924Z"
    }
   },
   "cell_type": "code",
   "source": "array.mean(axis=2)",
   "id": "81587e27f3e2397",
   "outputs": [
    {
     "data": {
      "text/plain": [
       "array([[50.146  , 51.04675, 50.92525, 49.41325, 49.031  ],\n",
       "       [51.52475, 46.10225, 51.07775, 52.231  , 48.58575],\n",
       "       [47.8045 , 49.64475, 50.74075, 50.02825, 49.49875]])"
      ]
     },
     "execution_count": 177,
     "metadata": {},
     "output_type": "execute_result"
    }
   ],
   "execution_count": 177
  },
  {
   "metadata": {
    "ExecuteTime": {
     "end_time": "2024-12-21T05:10:50.102668Z",
     "start_time": "2024-12-21T05:10:50.092495Z"
    }
   },
   "cell_type": "code",
   "source": "array.var(axis=2)",
   "id": "51aa7ffe9c1a5dde",
   "outputs": [
    {
     "data": {
      "text/plain": [
       "array([[ 5.832173  ,  2.60505119,  0.31180869,  2.26545619,  0.7817865 ],\n",
       "       [ 3.89384469,  9.84265569, 11.92300419,  6.6615875 ,  4.79485519],\n",
       "       [ 1.63923875,  0.49570519,  3.77044719,  6.09171069,  5.36063069]])"
      ]
     },
     "execution_count": 178,
     "metadata": {},
     "output_type": "execute_result"
    }
   ],
   "execution_count": 178
  },
  {
   "metadata": {
    "ExecuteTime": {
     "end_time": "2024-12-21T05:10:50.184132Z",
     "start_time": "2024-12-21T05:10:50.180381Z"
    }
   },
   "cell_type": "code",
   "source": "array.std(axis=1)",
   "id": "5de59189261c2f72",
   "outputs": [
    {
     "data": {
      "text/plain": [
       "array([[1.61384592, 1.22072438, 1.21939929, 2.22635679],\n",
       "       [3.15095253, 4.26333318, 2.45721293, 2.27201132],\n",
       "       [2.35178533, 1.65012998, 2.09565045, 0.8418178 ]])"
      ]
     },
     "execution_count": 179,
     "metadata": {},
     "output_type": "execute_result"
    }
   ],
   "execution_count": 179
  },
  {
   "metadata": {
    "ExecuteTime": {
     "end_time": "2024-12-21T05:10:50.288390Z",
     "start_time": "2024-12-21T05:10:50.285356Z"
    }
   },
   "cell_type": "code",
   "source": "array_mask = array > 50",
   "id": "37220ef0c6e81fe9",
   "outputs": [],
   "execution_count": 180
  },
  {
   "metadata": {
    "ExecuteTime": {
     "end_time": "2024-12-21T05:10:50.500123Z",
     "start_time": "2024-12-21T05:10:50.492706Z"
    }
   },
   "cell_type": "code",
   "source": "array_mask",
   "id": "e5cf3d42210cec4c",
   "outputs": [
    {
     "data": {
      "text/plain": [
       "array([[[ True,  True,  True, False],\n",
       "        [ True,  True, False,  True],\n",
       "        [ True,  True,  True,  True],\n",
       "        [False, False, False,  True],\n",
       "        [ True, False, False, False]],\n",
       "\n",
       "       [[ True, False,  True,  True],\n",
       "        [False, False, False, False],\n",
       "        [ True,  True,  True, False],\n",
       "        [False,  True,  True,  True],\n",
       "        [False, False,  True,  True]],\n",
       "\n",
       "       [[False, False, False, False],\n",
       "        [False,  True,  True, False],\n",
       "        [ True,  True,  True, False],\n",
       "        [ True, False,  True, False],\n",
       "        [ True, False, False, False]]])"
      ]
     },
     "execution_count": 181,
     "metadata": {},
     "output_type": "execute_result"
    }
   ],
   "execution_count": 181
  },
  {
   "metadata": {
    "ExecuteTime": {
     "end_time": "2024-12-21T05:10:50.831128Z",
     "start_time": "2024-12-21T05:10:50.822254Z"
    }
   },
   "cell_type": "code",
   "source": "array_mask.all(axis=2)",
   "id": "f7d70e8322578e4f",
   "outputs": [
    {
     "data": {
      "text/plain": [
       "array([[False, False,  True, False, False],\n",
       "       [False, False, False, False, False],\n",
       "       [False, False, False, False, False]])"
      ]
     },
     "execution_count": 182,
     "metadata": {},
     "output_type": "execute_result"
    }
   ],
   "execution_count": 182
  },
  {
   "metadata": {
    "ExecuteTime": {
     "end_time": "2024-12-21T05:10:50.940262Z",
     "start_time": "2024-12-21T05:10:50.935562Z"
    }
   },
   "cell_type": "code",
   "source": "array_mask.any(axis=2)",
   "id": "b7692c5b0b7a8d10",
   "outputs": [
    {
     "data": {
      "text/plain": [
       "array([[ True,  True,  True,  True,  True],\n",
       "       [ True, False,  True,  True,  True],\n",
       "       [False,  True,  True,  True,  True]])"
      ]
     },
     "execution_count": 183,
     "metadata": {},
     "output_type": "execute_result"
    }
   ],
   "execution_count": 183
  }
 ],
 "metadata": {
  "kernelspec": {
   "display_name": "Python 3",
   "language": "python",
   "name": "python3"
  },
  "language_info": {
   "codemirror_mode": {
    "name": "ipython",
    "version": 2
   },
   "file_extension": ".py",
   "mimetype": "text/x-python",
   "name": "python",
   "nbconvert_exporter": "python",
   "pygments_lexer": "ipython2",
   "version": "2.7.6"
  }
 },
 "nbformat": 4,
 "nbformat_minor": 5
}
