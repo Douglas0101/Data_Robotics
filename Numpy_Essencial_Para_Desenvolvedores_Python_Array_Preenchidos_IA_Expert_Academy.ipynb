{
 "cells": [
  {
   "metadata": {
    "ExecuteTime": {
     "end_time": "2024-12-02T01:58:25.377222Z",
     "start_time": "2024-12-02T01:58:25.368349Z"
    }
   },
   "cell_type": "code",
   "source": "import numpy as np",
   "id": "1c14c6e005a3aa84",
   "outputs": [],
   "execution_count": 923
  },
  {
   "metadata": {
    "ExecuteTime": {
     "end_time": "2024-12-02T01:58:25.445526Z",
     "start_time": "2024-12-02T01:58:25.432894Z"
    }
   },
   "cell_type": "code",
   "source": "np.zeros(shape=3)",
   "id": "5478bdd64974c79b",
   "outputs": [
    {
     "data": {
      "text/plain": [
       "array([0., 0., 0.])"
      ]
     },
     "execution_count": 924,
     "metadata": {},
     "output_type": "execute_result"
    }
   ],
   "execution_count": 924
  },
  {
   "metadata": {
    "ExecuteTime": {
     "end_time": "2024-12-02T01:58:25.520731Z",
     "start_time": "2024-12-02T01:58:25.512919Z"
    }
   },
   "cell_type": "code",
   "source": "np.zeros(shape=(3, 3))",
   "id": "5635153a7f04f1f6",
   "outputs": [
    {
     "data": {
      "text/plain": [
       "array([[0., 0., 0.],\n",
       "       [0., 0., 0.],\n",
       "       [0., 0., 0.]])"
      ]
     },
     "execution_count": 925,
     "metadata": {},
     "output_type": "execute_result"
    }
   ],
   "execution_count": 925
  },
  {
   "metadata": {
    "ExecuteTime": {
     "end_time": "2024-12-02T01:58:25.639062Z",
     "start_time": "2024-12-02T01:58:25.634287Z"
    }
   },
   "cell_type": "code",
   "source": "np.zeros(shape=(3, 3)).dtype",
   "id": "6e92d2071f850a4c",
   "outputs": [
    {
     "data": {
      "text/plain": [
       "dtype('float64')"
      ]
     },
     "execution_count": 926,
     "metadata": {},
     "output_type": "execute_result"
    }
   ],
   "execution_count": 926
  },
  {
   "metadata": {
    "ExecuteTime": {
     "end_time": "2024-12-02T01:58:25.718876Z",
     "start_time": "2024-12-02T01:58:25.709338Z"
    }
   },
   "cell_type": "code",
   "source": "np.ones(shape=(3, 3))",
   "id": "12ee447bd69aada6",
   "outputs": [
    {
     "data": {
      "text/plain": [
       "array([[1., 1., 1.],\n",
       "       [1., 1., 1.],\n",
       "       [1., 1., 1.]])"
      ]
     },
     "execution_count": 927,
     "metadata": {},
     "output_type": "execute_result"
    }
   ],
   "execution_count": 927
  },
  {
   "metadata": {
    "ExecuteTime": {
     "end_time": "2024-12-02T01:58:25.949110Z",
     "start_time": "2024-12-02T01:58:25.934351Z"
    }
   },
   "cell_type": "code",
   "source": "np.full(shape=(3, 3), fill_value=10)",
   "id": "6195a1663141d515",
   "outputs": [
    {
     "data": {
      "text/plain": [
       "array([[10, 10, 10],\n",
       "       [10, 10, 10],\n",
       "       [10, 10, 10]])"
      ]
     },
     "execution_count": 928,
     "metadata": {},
     "output_type": "execute_result"
    }
   ],
   "execution_count": 928
  },
  {
   "metadata": {
    "ExecuteTime": {
     "end_time": "2024-12-02T01:58:26.102180Z",
     "start_time": "2024-12-02T01:58:26.099073Z"
    }
   },
   "cell_type": "code",
   "source": [
    "array = np.array([[1, 2, 3],\n",
    "                 [4, 5, 6]])"
   ],
   "id": "ea7475a6f2c38940",
   "outputs": [],
   "execution_count": 929
  },
  {
   "metadata": {
    "ExecuteTime": {
     "end_time": "2024-12-02T01:58:26.215223Z",
     "start_time": "2024-12-02T01:58:26.210822Z"
    }
   },
   "cell_type": "code",
   "source": "array.shape",
   "id": "3f385b6e0c852625",
   "outputs": [
    {
     "data": {
      "text/plain": [
       "(2, 3)"
      ]
     },
     "execution_count": 930,
     "metadata": {},
     "output_type": "execute_result"
    }
   ],
   "execution_count": 930
  },
  {
   "metadata": {
    "ExecuteTime": {
     "end_time": "2024-12-02T01:58:26.305852Z",
     "start_time": "2024-12-02T01:58:26.298783Z"
    }
   },
   "cell_type": "code",
   "source": "np.zeros_like(a = array)",
   "id": "191ad14fdff3f915",
   "outputs": [
    {
     "data": {
      "text/plain": [
       "array([[0, 0, 0],\n",
       "       [0, 0, 0]])"
      ]
     },
     "execution_count": 931,
     "metadata": {},
     "output_type": "execute_result"
    }
   ],
   "execution_count": 931
  },
  {
   "metadata": {
    "ExecuteTime": {
     "end_time": "2024-12-02T01:58:26.384012Z",
     "start_time": "2024-12-02T01:58:26.378294Z"
    }
   },
   "cell_type": "code",
   "source": "np.ones_like(a = array)",
   "id": "573b416b0d624eec",
   "outputs": [
    {
     "data": {
      "text/plain": [
       "array([[1, 1, 1],\n",
       "       [1, 1, 1]])"
      ]
     },
     "execution_count": 932,
     "metadata": {},
     "output_type": "execute_result"
    }
   ],
   "execution_count": 932
  },
  {
   "metadata": {
    "ExecuteTime": {
     "end_time": "2024-12-02T01:58:26.562821Z",
     "start_time": "2024-12-02T01:58:26.556878Z"
    }
   },
   "cell_type": "code",
   "source": "np.full_like(a = array, fill_value = 4)",
   "id": "9f773e48e0dd9094",
   "outputs": [
    {
     "data": {
      "text/plain": [
       "array([[4, 4, 4],\n",
       "       [4, 4, 4]])"
      ]
     },
     "execution_count": 933,
     "metadata": {},
     "output_type": "execute_result"
    }
   ],
   "execution_count": 933
  },
  {
   "metadata": {
    "ExecuteTime": {
     "end_time": "2024-12-02T01:58:26.640850Z",
     "start_time": "2024-12-02T01:58:26.636628Z"
    }
   },
   "cell_type": "code",
   "source": "np.empty(shape=(3, 3))",
   "id": "68e300d75e94eeab",
   "outputs": [
    {
     "data": {
      "text/plain": [
       "array([[1., 1., 1.],\n",
       "       [1., 1., 1.],\n",
       "       [1., 1., 1.]])"
      ]
     },
     "execution_count": 934,
     "metadata": {},
     "output_type": "execute_result"
    }
   ],
   "execution_count": 934
  },
  {
   "metadata": {
    "ExecuteTime": {
     "end_time": "2024-12-02T01:58:26.843731Z",
     "start_time": "2024-12-02T01:58:26.837530Z"
    }
   },
   "cell_type": "code",
   "source": "np.eye(N = 5)",
   "id": "5c33ad050c0e29e7",
   "outputs": [
    {
     "data": {
      "text/plain": [
       "array([[1., 0., 0., 0., 0.],\n",
       "       [0., 1., 0., 0., 0.],\n",
       "       [0., 0., 1., 0., 0.],\n",
       "       [0., 0., 0., 1., 0.],\n",
       "       [0., 0., 0., 0., 1.]])"
      ]
     },
     "execution_count": 935,
     "metadata": {},
     "output_type": "execute_result"
    }
   ],
   "execution_count": 935
  },
  {
   "metadata": {
    "ExecuteTime": {
     "end_time": "2024-12-02T01:58:27.035822Z",
     "start_time": "2024-12-02T01:58:27.030089Z"
    }
   },
   "cell_type": "code",
   "source": "np.identity(n = 5)",
   "id": "41a9239e06ec9e01",
   "outputs": [
    {
     "data": {
      "text/plain": [
       "array([[1., 0., 0., 0., 0.],\n",
       "       [0., 1., 0., 0., 0.],\n",
       "       [0., 0., 1., 0., 0.],\n",
       "       [0., 0., 0., 1., 0.],\n",
       "       [0., 0., 0., 0., 1.]])"
      ]
     },
     "execution_count": 936,
     "metadata": {},
     "output_type": "execute_result"
    }
   ],
   "execution_count": 936
  },
  {
   "metadata": {
    "ExecuteTime": {
     "end_time": "2024-12-02T01:58:27.137427Z",
     "start_time": "2024-12-02T01:58:27.130728Z"
    }
   },
   "cell_type": "code",
   "source": "np.arange(start=0, stop = 10)",
   "id": "3a8ae7cd0f5552aa",
   "outputs": [
    {
     "data": {
      "text/plain": [
       "array([0, 1, 2, 3, 4, 5, 6, 7, 8, 9])"
      ]
     },
     "execution_count": 937,
     "metadata": {},
     "output_type": "execute_result"
    }
   ],
   "execution_count": 937
  },
  {
   "metadata": {
    "ExecuteTime": {
     "end_time": "2024-12-02T01:58:27.334690Z",
     "start_time": "2024-12-02T01:58:27.329052Z"
    }
   },
   "cell_type": "code",
   "source": "np.arange(start = 3, stop = 10)",
   "id": "df6c68c2c13590b7",
   "outputs": [
    {
     "data": {
      "text/plain": [
       "array([3, 4, 5, 6, 7, 8, 9])"
      ]
     },
     "execution_count": 938,
     "metadata": {},
     "output_type": "execute_result"
    }
   ],
   "execution_count": 938
  },
  {
   "metadata": {
    "ExecuteTime": {
     "end_time": "2024-12-02T01:58:27.503082Z",
     "start_time": "2024-12-02T01:58:27.496289Z"
    }
   },
   "cell_type": "code",
   "source": "np.arange(start = 3, stop = 10, step = 3)",
   "id": "c2a0c302d8f36cda",
   "outputs": [
    {
     "data": {
      "text/plain": [
       "array([3, 6, 9])"
      ]
     },
     "execution_count": 939,
     "metadata": {},
     "output_type": "execute_result"
    }
   ],
   "execution_count": 939
  },
  {
   "metadata": {
    "ExecuteTime": {
     "end_time": "2024-12-02T01:58:27.547872Z",
     "start_time": "2024-12-02T01:58:27.542680Z"
    }
   },
   "cell_type": "code",
   "source": "np.arange(start = 3, stop = 10, step = -2)",
   "id": "4d6ec20cb2fd41ad",
   "outputs": [
    {
     "data": {
      "text/plain": [
       "array([], dtype=int64)"
      ]
     },
     "execution_count": 940,
     "metadata": {},
     "output_type": "execute_result"
    }
   ],
   "execution_count": 940
  },
  {
   "metadata": {
    "ExecuteTime": {
     "end_time": "2024-12-02T01:58:27.614682Z",
     "start_time": "2024-12-02T01:58:27.609772Z"
    }
   },
   "cell_type": "code",
   "source": "np.arange(start = 3, stop = 10, step = 0.25)",
   "id": "261b530ca5a3f027",
   "outputs": [
    {
     "data": {
      "text/plain": [
       "array([3.  , 3.25, 3.5 , 3.75, 4.  , 4.25, 4.5 , 4.75, 5.  , 5.25, 5.5 ,\n",
       "       5.75, 6.  , 6.25, 6.5 , 6.75, 7.  , 7.25, 7.5 , 7.75, 8.  , 8.25,\n",
       "       8.5 , 8.75, 9.  , 9.25, 9.5 , 9.75])"
      ]
     },
     "execution_count": 941,
     "metadata": {},
     "output_type": "execute_result"
    }
   ],
   "execution_count": 941
  },
  {
   "metadata": {
    "ExecuteTime": {
     "end_time": "2024-12-02T01:58:27.674095Z",
     "start_time": "2024-12-02T01:58:27.667672Z"
    }
   },
   "cell_type": "code",
   "source": "np.linspace(start = 1, stop = 10, num = 4)",
   "id": "3f861fc10796eb34",
   "outputs": [
    {
     "data": {
      "text/plain": [
       "array([ 1.,  4.,  7., 10.])"
      ]
     },
     "execution_count": 942,
     "metadata": {},
     "output_type": "execute_result"
    }
   ],
   "execution_count": 942
  },
  {
   "metadata": {
    "ExecuteTime": {
     "end_time": "2024-12-02T01:58:27.740073Z",
     "start_time": "2024-12-02T01:58:27.728467Z"
    }
   },
   "cell_type": "code",
   "source": "np.linspace(start = 1, stop = 10, num = 7)",
   "id": "e46932fac5b7b381",
   "outputs": [
    {
     "data": {
      "text/plain": [
       "array([ 1. ,  2.5,  4. ,  5.5,  7. ,  8.5, 10. ])"
      ]
     },
     "execution_count": 943,
     "metadata": {},
     "output_type": "execute_result"
    }
   ],
   "execution_count": 943
  },
  {
   "metadata": {
    "ExecuteTime": {
     "end_time": "2024-12-02T01:58:27.801451Z",
     "start_time": "2024-12-02T01:58:27.793018Z"
    }
   },
   "cell_type": "code",
   "source": "np.logspace(start = 1, stop = 4, num = 4)",
   "id": "a22f36f0c606b696",
   "outputs": [
    {
     "data": {
      "text/plain": [
       "array([   10.,   100.,  1000., 10000.])"
      ]
     },
     "execution_count": 944,
     "metadata": {},
     "output_type": "execute_result"
    }
   ],
   "execution_count": 944
  },
  {
   "metadata": {
    "ExecuteTime": {
     "end_time": "2024-12-02T01:58:27.868623Z",
     "start_time": "2024-12-02T01:58:27.862073Z"
    }
   },
   "cell_type": "code",
   "source": "np.geomspace(start = 10, stop = 10000, num = 4)",
   "id": "7b326f3bd2749ca0",
   "outputs": [
    {
     "data": {
      "text/plain": [
       "array([   10.,   100.,  1000., 10000.])"
      ]
     },
     "execution_count": 945,
     "metadata": {},
     "output_type": "execute_result"
    }
   ],
   "execution_count": 945
  },
  {
   "metadata": {
    "ExecuteTime": {
     "end_time": "2024-12-02T02:28:36.266975Z",
     "start_time": "2024-12-02T02:28:36.256862Z"
    }
   },
   "cell_type": "code",
   "source": "np.geomspace(start = 3, stop = 48000, num = 6).astype(int)",
   "id": "6ec99da1684c019b",
   "outputs": [
    {
     "data": {
      "text/plain": [
       "array([    3,    20,   144,   999,  6924, 48000])"
      ]
     },
     "execution_count": 971,
     "metadata": {},
     "output_type": "execute_result"
    }
   ],
   "execution_count": 971
  }
 ],
 "metadata": {
  "kernelspec": {
   "display_name": "Python 3",
   "language": "python",
   "name": "python3"
  },
  "language_info": {
   "codemirror_mode": {
    "name": "ipython",
    "version": 2
   },
   "file_extension": ".py",
   "mimetype": "text/x-python",
   "name": "python",
   "nbconvert_exporter": "python",
   "pygments_lexer": "ipython2",
   "version": "2.7.6"
  }
 },
 "nbformat": 4,
 "nbformat_minor": 5
}
