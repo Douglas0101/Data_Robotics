{
 "cells": [
  {
   "metadata": {
    "ExecuteTime": {
     "end_time": "2024-12-10T00:20:24.700888Z",
     "start_time": "2024-12-10T00:20:24.642507Z"
    }
   },
   "cell_type": "code",
   "source": "import numpy as np",
   "id": "7499d047a825e011",
   "outputs": [],
   "execution_count": 1
  },
  {
   "metadata": {
    "ExecuteTime": {
     "end_time": "2024-12-10T00:20:24.716871Z",
     "start_time": "2024-12-10T00:20:24.710115Z"
    }
   },
   "cell_type": "code",
   "source": [
    "list_3d = [\n",
    "    [\n",
    "        [1,2,3],\n",
    "        [4,5,6],\n",
    "        [7,8,9],\n",
    "        [10,11,12]\n",
    "    ],\n",
    "    [\n",
    "        [13,14,15],\n",
    "        [16,17,18],\n",
    "        [19,20,21],\n",
    "        [22,23,24]\n",
    "    ]\n",
    "]\n",
    "\n",
    "array_3d = np.array(list_3d)\n",
    "array_3d"
   ],
   "id": "8317a039a8754ce",
   "outputs": [
    {
     "data": {
      "text/plain": [
       "array([[[ 1,  2,  3],\n",
       "        [ 4,  5,  6],\n",
       "        [ 7,  8,  9],\n",
       "        [10, 11, 12]],\n",
       "\n",
       "       [[13, 14, 15],\n",
       "        [16, 17, 18],\n",
       "        [19, 20, 21],\n",
       "        [22, 23, 24]]])"
      ]
     },
     "execution_count": 2,
     "metadata": {},
     "output_type": "execute_result"
    }
   ],
   "execution_count": 2
  },
  {
   "metadata": {
    "ExecuteTime": {
     "end_time": "2024-12-10T00:20:24.783706Z",
     "start_time": "2024-12-10T00:20:24.774500Z"
    }
   },
   "cell_type": "code",
   "source": "array_3d.shape",
   "id": "78875b9e0cef2537",
   "outputs": [
    {
     "data": {
      "text/plain": [
       "(2, 4, 3)"
      ]
     },
     "execution_count": 3,
     "metadata": {},
     "output_type": "execute_result"
    }
   ],
   "execution_count": 3
  },
  {
   "metadata": {
    "ExecuteTime": {
     "end_time": "2024-12-10T00:20:24.840492Z",
     "start_time": "2024-12-10T00:20:24.836090Z"
    }
   },
   "cell_type": "code",
   "source": "list_3d[1]",
   "id": "ebabf778d9759e91",
   "outputs": [
    {
     "data": {
      "text/plain": [
       "[[13, 14, 15], [16, 17, 18], [19, 20, 21], [22, 23, 24]]"
      ]
     },
     "execution_count": 4,
     "metadata": {},
     "output_type": "execute_result"
    }
   ],
   "execution_count": 4
  },
  {
   "metadata": {
    "ExecuteTime": {
     "end_time": "2024-12-10T00:20:24.905146Z",
     "start_time": "2024-12-10T00:20:24.898663Z"
    }
   },
   "cell_type": "code",
   "source": "array_3d[1]",
   "id": "7ec28be4c7fbd740",
   "outputs": [
    {
     "data": {
      "text/plain": [
       "array([[13, 14, 15],\n",
       "       [16, 17, 18],\n",
       "       [19, 20, 21],\n",
       "       [22, 23, 24]])"
      ]
     },
     "execution_count": 5,
     "metadata": {},
     "output_type": "execute_result"
    }
   ],
   "execution_count": 5
  },
  {
   "metadata": {
    "ExecuteTime": {
     "end_time": "2024-12-10T00:20:25.232473Z",
     "start_time": "2024-12-10T00:20:25.229748Z"
    }
   },
   "cell_type": "code",
   "source": "array_3d[1][2]",
   "id": "8073b5bb62dceb49",
   "outputs": [
    {
     "data": {
      "text/plain": [
       "array([19, 20, 21])"
      ]
     },
     "execution_count": 6,
     "metadata": {},
     "output_type": "execute_result"
    }
   ],
   "execution_count": 6
  },
  {
   "metadata": {
    "ExecuteTime": {
     "end_time": "2024-12-10T00:20:25.293036Z",
     "start_time": "2024-12-10T00:20:25.289438Z"
    }
   },
   "cell_type": "code",
   "source": "array_3d[1][2][0]",
   "id": "d4bb4845259f8bbb",
   "outputs": [
    {
     "data": {
      "text/plain": [
       "19"
      ]
     },
     "execution_count": 7,
     "metadata": {},
     "output_type": "execute_result"
    }
   ],
   "execution_count": 7
  },
  {
   "metadata": {
    "ExecuteTime": {
     "end_time": "2024-12-10T00:20:25.370205Z",
     "start_time": "2024-12-10T00:20:25.367123Z"
    }
   },
   "cell_type": "code",
   "source": "array_3d[1][2][1]",
   "id": "f5261ba26f8b8099",
   "outputs": [
    {
     "data": {
      "text/plain": [
       "20"
      ]
     },
     "execution_count": 8,
     "metadata": {},
     "output_type": "execute_result"
    }
   ],
   "execution_count": 8
  },
  {
   "metadata": {
    "ExecuteTime": {
     "end_time": "2024-12-10T00:20:25.451283Z",
     "start_time": "2024-12-10T00:20:25.445534Z"
    }
   },
   "cell_type": "code",
   "source": "array_3d[[0, 1]]",
   "id": "a311125ed5bf14a",
   "outputs": [
    {
     "data": {
      "text/plain": [
       "array([[[ 1,  2,  3],\n",
       "        [ 4,  5,  6],\n",
       "        [ 7,  8,  9],\n",
       "        [10, 11, 12]],\n",
       "\n",
       "       [[13, 14, 15],\n",
       "        [16, 17, 18],\n",
       "        [19, 20, 21],\n",
       "        [22, 23, 24]]])"
      ]
     },
     "execution_count": 9,
     "metadata": {},
     "output_type": "execute_result"
    }
   ],
   "execution_count": 9
  },
  {
   "metadata": {
    "ExecuteTime": {
     "end_time": "2024-12-10T00:20:25.512103Z",
     "start_time": "2024-12-10T00:20:25.507862Z"
    }
   },
   "cell_type": "code",
   "source": "array_3d[:, [0,1]]",
   "id": "b6e3a93cc5e0ae91",
   "outputs": [
    {
     "data": {
      "text/plain": [
       "array([[[ 1,  2,  3],\n",
       "        [ 4,  5,  6]],\n",
       "\n",
       "       [[13, 14, 15],\n",
       "        [16, 17, 18]]])"
      ]
     },
     "execution_count": 10,
     "metadata": {},
     "output_type": "execute_result"
    }
   ],
   "execution_count": 10
  },
  {
   "metadata": {
    "ExecuteTime": {
     "end_time": "2024-12-10T00:20:25.563146Z",
     "start_time": "2024-12-10T00:20:25.558415Z"
    }
   },
   "cell_type": "code",
   "source": "array_3d[-1, -2, -2]",
   "id": "6e7d7ef946ce5056",
   "outputs": [
    {
     "data": {
      "text/plain": [
       "20"
      ]
     },
     "execution_count": 11,
     "metadata": {},
     "output_type": "execute_result"
    }
   ],
   "execution_count": 11
  },
  {
   "metadata": {
    "ExecuteTime": {
     "end_time": "2024-12-10T00:20:25.618729Z",
     "start_time": "2024-12-10T00:20:25.614400Z"
    }
   },
   "cell_type": "code",
   "source": [
    "mask = [True, True]\n",
    "array_3d[mask]"
   ],
   "id": "97933efe779a2b24",
   "outputs": [
    {
     "data": {
      "text/plain": [
       "array([[[ 1,  2,  3],\n",
       "        [ 4,  5,  6],\n",
       "        [ 7,  8,  9],\n",
       "        [10, 11, 12]],\n",
       "\n",
       "       [[13, 14, 15],\n",
       "        [16, 17, 18],\n",
       "        [19, 20, 21],\n",
       "        [22, 23, 24]]])"
      ]
     },
     "execution_count": 12,
     "metadata": {},
     "output_type": "execute_result"
    }
   ],
   "execution_count": 12
  },
  {
   "metadata": {
    "ExecuteTime": {
     "end_time": "2024-12-10T00:20:25.679927Z",
     "start_time": "2024-12-10T00:20:25.673112Z"
    }
   },
   "cell_type": "code",
   "source": [
    "mask = [False, True]\n",
    "array_3d[mask]"
   ],
   "id": "e4187a850cebbcc8",
   "outputs": [
    {
     "data": {
      "text/plain": [
       "array([[[13, 14, 15],\n",
       "        [16, 17, 18],\n",
       "        [19, 20, 21],\n",
       "        [22, 23, 24]]])"
      ]
     },
     "execution_count": 13,
     "metadata": {},
     "output_type": "execute_result"
    }
   ],
   "execution_count": 13
  },
  {
   "metadata": {
    "ExecuteTime": {
     "end_time": "2024-12-10T00:20:25.739730Z",
     "start_time": "2024-12-10T00:20:25.735059Z"
    }
   },
   "cell_type": "code",
   "source": [
    "mask = array_3d % 2 == 0\n",
    "mask"
   ],
   "id": "9db6843d00adeaa1",
   "outputs": [
    {
     "data": {
      "text/plain": [
       "array([[[False,  True, False],\n",
       "        [ True, False,  True],\n",
       "        [False,  True, False],\n",
       "        [ True, False,  True]],\n",
       "\n",
       "       [[False,  True, False],\n",
       "        [ True, False,  True],\n",
       "        [False,  True, False],\n",
       "        [ True, False,  True]]])"
      ]
     },
     "execution_count": 14,
     "metadata": {},
     "output_type": "execute_result"
    }
   ],
   "execution_count": 14
  },
  {
   "metadata": {
    "ExecuteTime": {
     "end_time": "2024-12-10T00:20:25.811194Z",
     "start_time": "2024-12-10T00:20:25.805613Z"
    }
   },
   "cell_type": "code",
   "source": "array_3d[mask]",
   "id": "4e1102ed95e058af",
   "outputs": [
    {
     "data": {
      "text/plain": [
       "array([ 2,  4,  6,  8, 10, 12, 14, 16, 18, 20, 22, 24])"
      ]
     },
     "execution_count": 15,
     "metadata": {},
     "output_type": "execute_result"
    }
   ],
   "execution_count": 15
  },
  {
   "metadata": {
    "ExecuteTime": {
     "end_time": "2024-12-10T00:20:25.884286Z",
     "start_time": "2024-12-10T00:20:25.878521Z"
    }
   },
   "cell_type": "code",
   "source": "array_3d[:1]",
   "id": "4551044303cc16b2",
   "outputs": [
    {
     "data": {
      "text/plain": [
       "array([[[ 1,  2,  3],\n",
       "        [ 4,  5,  6],\n",
       "        [ 7,  8,  9],\n",
       "        [10, 11, 12]]])"
      ]
     },
     "execution_count": 16,
     "metadata": {},
     "output_type": "execute_result"
    }
   ],
   "execution_count": 16
  },
  {
   "metadata": {
    "ExecuteTime": {
     "end_time": "2024-12-10T00:20:25.960382Z",
     "start_time": "2024-12-10T00:20:25.953870Z"
    }
   },
   "cell_type": "code",
   "source": "array_3d[:, 1:3]",
   "id": "6d35256dc313765f",
   "outputs": [
    {
     "data": {
      "text/plain": [
       "array([[[ 4,  5,  6],\n",
       "        [ 7,  8,  9]],\n",
       "\n",
       "       [[16, 17, 18],\n",
       "        [19, 20, 21]]])"
      ]
     },
     "execution_count": 17,
     "metadata": {},
     "output_type": "execute_result"
    }
   ],
   "execution_count": 17
  },
  {
   "metadata": {
    "ExecuteTime": {
     "end_time": "2024-12-10T00:20:26.030177Z",
     "start_time": "2024-12-10T00:20:26.020772Z"
    }
   },
   "cell_type": "code",
   "source": "array_3d[:, 1:3, 0:-1]",
   "id": "7d316540bcf12d46",
   "outputs": [
    {
     "data": {
      "text/plain": [
       "array([[[ 4,  5],\n",
       "        [ 7,  8]],\n",
       "\n",
       "       [[16, 17],\n",
       "        [19, 20]]])"
      ]
     },
     "execution_count": 18,
     "metadata": {},
     "output_type": "execute_result"
    }
   ],
   "execution_count": 18
  },
  {
   "metadata": {
    "ExecuteTime": {
     "end_time": "2024-12-10T00:20:26.100731Z",
     "start_time": "2024-12-10T00:20:26.096739Z"
    }
   },
   "cell_type": "code",
   "source": "array_3d[0]",
   "id": "573eacdff2ae8264",
   "outputs": [
    {
     "data": {
      "text/plain": [
       "array([[ 1,  2,  3],\n",
       "       [ 4,  5,  6],\n",
       "       [ 7,  8,  9],\n",
       "       [10, 11, 12]])"
      ]
     },
     "execution_count": 19,
     "metadata": {},
     "output_type": "execute_result"
    }
   ],
   "execution_count": 19
  },
  {
   "metadata": {
    "ExecuteTime": {
     "end_time": "2024-12-10T00:20:26.198406Z",
     "start_time": "2024-12-10T00:20:26.195077Z"
    }
   },
   "cell_type": "code",
   "source": "array_3d[0, 1:4:2]",
   "id": "1420f6556c1d2fe3",
   "outputs": [
    {
     "data": {
      "text/plain": [
       "array([[ 4,  5,  6],\n",
       "       [10, 11, 12]])"
      ]
     },
     "execution_count": 20,
     "metadata": {},
     "output_type": "execute_result"
    }
   ],
   "execution_count": 20
  },
  {
   "metadata": {
    "ExecuteTime": {
     "end_time": "2024-12-10T00:20:26.274530Z",
     "start_time": "2024-12-10T00:20:26.266463Z"
    }
   },
   "cell_type": "code",
   "source": "array_3d[0, 1::2]",
   "id": "d68f27a0e9018247",
   "outputs": [
    {
     "data": {
      "text/plain": [
       "array([[ 4,  5,  6],\n",
       "       [10, 11, 12]])"
      ]
     },
     "execution_count": 21,
     "metadata": {},
     "output_type": "execute_result"
    }
   ],
   "execution_count": 21
  },
  {
   "metadata": {
    "ExecuteTime": {
     "end_time": "2024-12-10T00:20:26.374078Z",
     "start_time": "2024-12-10T00:20:26.370769Z"
    }
   },
   "cell_type": "code",
   "source": "array_3d[0, ::2]",
   "id": "909fe92e5a2f6bf5",
   "outputs": [
    {
     "data": {
      "text/plain": [
       "array([[1, 2, 3],\n",
       "       [7, 8, 9]])"
      ]
     },
     "execution_count": 22,
     "metadata": {},
     "output_type": "execute_result"
    }
   ],
   "execution_count": 22
  },
  {
   "metadata": {
    "ExecuteTime": {
     "end_time": "2024-12-10T00:20:26.535736Z",
     "start_time": "2024-12-10T00:20:26.532811Z"
    }
   },
   "cell_type": "code",
   "source": "array_3d[0, ::-2]",
   "id": "d81c7ef3a71587fc",
   "outputs": [
    {
     "data": {
      "text/plain": [
       "array([[10, 11, 12],\n",
       "       [ 4,  5,  6]])"
      ]
     },
     "execution_count": 23,
     "metadata": {},
     "output_type": "execute_result"
    }
   ],
   "execution_count": 23
  },
  {
   "metadata": {
    "ExecuteTime": {
     "end_time": "2024-12-10T00:20:26.640112Z",
     "start_time": "2024-12-10T00:20:26.632595Z"
    }
   },
   "cell_type": "code",
   "source": "array_3d[0, ::-1]",
   "id": "25b35897e222d977",
   "outputs": [
    {
     "data": {
      "text/plain": [
       "array([[10, 11, 12],\n",
       "       [ 7,  8,  9],\n",
       "       [ 4,  5,  6],\n",
       "       [ 1,  2,  3]])"
      ]
     },
     "execution_count": 24,
     "metadata": {},
     "output_type": "execute_result"
    }
   ],
   "execution_count": 24
  },
  {
   "metadata": {
    "ExecuteTime": {
     "end_time": "2024-12-10T00:20:26.778187Z",
     "start_time": "2024-12-10T00:20:26.774552Z"
    }
   },
   "cell_type": "code",
   "source": "array_3d",
   "id": "16a57351ff736448",
   "outputs": [
    {
     "data": {
      "text/plain": [
       "array([[[ 1,  2,  3],\n",
       "        [ 4,  5,  6],\n",
       "        [ 7,  8,  9],\n",
       "        [10, 11, 12]],\n",
       "\n",
       "       [[13, 14, 15],\n",
       "        [16, 17, 18],\n",
       "        [19, 20, 21],\n",
       "        [22, 23, 24]]])"
      ]
     },
     "execution_count": 25,
     "metadata": {},
     "output_type": "execute_result"
    }
   ],
   "execution_count": 25
  },
  {
   "metadata": {
    "ExecuteTime": {
     "end_time": "2024-12-10T00:20:26.925897Z",
     "start_time": "2024-12-10T00:20:26.919470Z"
    }
   },
   "cell_type": "code",
   "source": "array_3d[1][2][0]",
   "id": "7c8407f3952c7e69",
   "outputs": [
    {
     "data": {
      "text/plain": [
       "19"
      ]
     },
     "execution_count": 26,
     "metadata": {},
     "output_type": "execute_result"
    }
   ],
   "execution_count": 26
  },
  {
   "metadata": {
    "ExecuteTime": {
     "end_time": "2024-12-10T00:20:27.104866Z",
     "start_time": "2024-12-10T00:20:27.102028Z"
    }
   },
   "cell_type": "code",
   "source": "array_3d[1,2,0]",
   "id": "4af7b11bd2e93da1",
   "outputs": [
    {
     "data": {
      "text/plain": [
       "19"
      ]
     },
     "execution_count": 27,
     "metadata": {},
     "output_type": "execute_result"
    }
   ],
   "execution_count": 27
  },
  {
   "metadata": {
    "ExecuteTime": {
     "end_time": "2024-12-10T00:20:27.340302Z",
     "start_time": "2024-12-10T00:20:27.334656Z"
    }
   },
   "cell_type": "code",
   "source": [
    "array_3d[1,2,0] = 50\n",
    "array_3d"
   ],
   "id": "bcba4e81eb9ab649",
   "outputs": [
    {
     "data": {
      "text/plain": [
       "array([[[ 1,  2,  3],\n",
       "        [ 4,  5,  6],\n",
       "        [ 7,  8,  9],\n",
       "        [10, 11, 12]],\n",
       "\n",
       "       [[13, 14, 15],\n",
       "        [16, 17, 18],\n",
       "        [50, 20, 21],\n",
       "        [22, 23, 24]]])"
      ]
     },
     "execution_count": 28,
     "metadata": {},
     "output_type": "execute_result"
    }
   ],
   "execution_count": 28
  },
  {
   "metadata": {
    "ExecuteTime": {
     "end_time": "2024-12-10T00:20:27.476410Z",
     "start_time": "2024-12-10T00:20:27.472737Z"
    }
   },
   "cell_type": "code",
   "source": [
    "array_3d[:, 1:3, 0:-1] = np.array([\n",
    "    [\n",
    "        [64,65],\n",
    "        [67,68]\n",
    "    ],\n",
    "    [\n",
    "        [76, 77],\n",
    "        [79, 80]\n",
    "    ]\n",
    "])"
   ],
   "id": "58fdd47eefd27734",
   "outputs": [],
   "execution_count": 29
  },
  {
   "metadata": {
    "ExecuteTime": {
     "end_time": "2024-12-10T00:20:27.531615Z",
     "start_time": "2024-12-10T00:20:27.527815Z"
    }
   },
   "cell_type": "code",
   "source": "array_3d",
   "id": "57c4de2bd4a3c794",
   "outputs": [
    {
     "data": {
      "text/plain": [
       "array([[[ 1,  2,  3],\n",
       "        [64, 65,  6],\n",
       "        [67, 68,  9],\n",
       "        [10, 11, 12]],\n",
       "\n",
       "       [[13, 14, 15],\n",
       "        [76, 77, 18],\n",
       "        [79, 80, 21],\n",
       "        [22, 23, 24]]])"
      ]
     },
     "execution_count": 30,
     "metadata": {},
     "output_type": "execute_result"
    }
   ],
   "execution_count": 30
  },
  {
   "metadata": {
    "ExecuteTime": {
     "end_time": "2024-12-10T00:20:27.650325Z",
     "start_time": "2024-12-10T00:20:27.641652Z"
    }
   },
   "cell_type": "code",
   "source": "array_3d[0]",
   "id": "9e564b81f7141afb",
   "outputs": [
    {
     "data": {
      "text/plain": [
       "array([[ 1,  2,  3],\n",
       "       [64, 65,  6],\n",
       "       [67, 68,  9],\n",
       "       [10, 11, 12]])"
      ]
     },
     "execution_count": 31,
     "metadata": {},
     "output_type": "execute_result"
    }
   ],
   "execution_count": 31
  },
  {
   "metadata": {
    "ExecuteTime": {
     "end_time": "2024-12-10T00:20:27.741929Z",
     "start_time": "2024-12-10T00:20:27.737984Z"
    }
   },
   "cell_type": "code",
   "source": [
    "array_3d[0] = 99\n",
    "array_3d"
   ],
   "id": "85a64381bee38a0e",
   "outputs": [
    {
     "data": {
      "text/plain": [
       "array([[[99, 99, 99],\n",
       "        [99, 99, 99],\n",
       "        [99, 99, 99],\n",
       "        [99, 99, 99]],\n",
       "\n",
       "       [[13, 14, 15],\n",
       "        [76, 77, 18],\n",
       "        [79, 80, 21],\n",
       "        [22, 23, 24]]])"
      ]
     },
     "execution_count": 32,
     "metadata": {},
     "output_type": "execute_result"
    }
   ],
   "execution_count": 32
  }
 ],
 "metadata": {
  "kernelspec": {
   "display_name": "Python 3",
   "language": "python",
   "name": "python3"
  },
  "language_info": {
   "codemirror_mode": {
    "name": "ipython",
    "version": 2
   },
   "file_extension": ".py",
   "mimetype": "text/x-python",
   "name": "python",
   "nbconvert_exporter": "python",
   "pygments_lexer": "ipython2",
   "version": "2.7.6"
  }
 },
 "nbformat": 4,
 "nbformat_minor": 5
}
