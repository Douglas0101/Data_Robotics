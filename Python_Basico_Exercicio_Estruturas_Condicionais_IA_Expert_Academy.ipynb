{
 "cells": [
  {
   "metadata": {},
   "cell_type": "code",
   "outputs": [],
   "execution_count": null,
   "source": "idade = int(input(\"Digite sua idade: \"))",
   "id": "9b7193ad19dc675d"
  },
  {
   "metadata": {},
   "cell_type": "code",
   "outputs": [],
   "execution_count": null,
   "source": "print(idade)",
   "id": "51c0256410d46ee0"
  },
  {
   "metadata": {},
   "cell_type": "code",
   "outputs": [],
   "execution_count": null,
   "source": [
    "if idade >= 0 and idade <= 12:\n",
    "    print(\"Criança\")\n",
    "elif idade > 12 and idade <= 18:\n",
    "    print(\"Adolescente\")\n",
    "elif idade > 18:\n",
    "    print(\"Adulto\")\n",
    "else:\n",
    "    print(\"Idade inválida\")"
   ],
   "id": "5349c41da8136ab6"
  },
  {
   "metadata": {},
   "cell_type": "code",
   "outputs": [],
   "execution_count": null,
   "source": [
    "m1 = float(input(\"Digite a primeira nota: \"))\n",
    "m2 = float(input(\"Digite a segunda nota: \"))\n",
    "m3 = float(input(\"Digite a terceira nota: \"))"
   ],
   "id": "ff4545d902b1a631"
  },
  {
   "metadata": {},
   "cell_type": "code",
   "outputs": [],
   "execution_count": null,
   "source": [
    "media = (m1 + m2 + m3) / 3\n",
    "print(media)"
   ],
   "id": "916dfee58486dab5"
  },
  {
   "metadata": {},
   "cell_type": "code",
   "outputs": [],
   "execution_count": null,
   "source": [
    "if media >= 0.0 and media <= 4.0:\n",
    "    print(\"Aluno Reprovado\")\n",
    "elif media > 4.1 and media <= 6.0:\n",
    "    exame = float(input(\"Digite a nota do exame: \"))\n",
    "    if exame >= 6.0:\n",
    "        print(\"Aluno Aprovado no exame\")\n",
    "    else:\n",
    "        print(\"Aluno Reprovado no exame\")\n",
    "else:\n",
    "    print(\"Aluno Aprovado\")"
   ],
   "id": "70bbe6b93f61f8a8"
  }
 ],
 "metadata": {
  "kernelspec": {
   "display_name": "Python 3",
   "language": "python",
   "name": "python3"
  },
  "language_info": {
   "codemirror_mode": {
    "name": "ipython",
    "version": 2
   },
   "file_extension": ".py",
   "mimetype": "text/x-python",
   "name": "python",
   "nbconvert_exporter": "python",
   "pygments_lexer": "ipython2",
   "version": "2.7.6"
  }
 },
 "nbformat": 4,
 "nbformat_minor": 5
}
