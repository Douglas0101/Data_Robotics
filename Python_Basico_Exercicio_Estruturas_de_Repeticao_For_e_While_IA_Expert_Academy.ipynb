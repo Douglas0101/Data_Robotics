{
 "cells": [
  {
   "metadata": {},
   "cell_type": "code",
   "outputs": [],
   "execution_count": null,
   "source": [
    "nota = media = soma = 0\n",
    "\n",
    "print(nota, media, soma)"
   ],
   "id": "406a90bcc033f153"
  },
  {
   "metadata": {},
   "cell_type": "code",
   "outputs": [],
   "execution_count": null,
   "source": [
    "for _ in range(1, 6):\n",
    "    nota = float(input(\"Digite a nota: \"))\n",
    "    soma += nota"
   ],
   "id": "16ca0d288d5e5598"
  },
  {
   "metadata": {},
   "cell_type": "code",
   "outputs": [],
   "execution_count": null,
   "source": "print(soma)",
   "id": "dfd62c42aa55933f"
  },
  {
   "metadata": {},
   "cell_type": "code",
   "outputs": [],
   "execution_count": null,
   "source": [
    "media = soma / 5\n",
    "print(f'Media: {media}')"
   ],
   "id": "771f9afdec691c41"
  },
  {
   "metadata": {},
   "cell_type": "code",
   "outputs": [],
   "execution_count": null,
   "source": [
    "nota = soma = 0\n",
    "numero = 1\n",
    "while numero <= 5:\n",
    "    nota = float(input(\"Digite a nota: \"))\n",
    "    soma += nota\n",
    "    numero += 1\n",
    "print(f'Media: {soma / 5}')"
   ],
   "id": "c05437336b9e781b"
  },
  {
   "metadata": {},
   "cell_type": "code",
   "outputs": [],
   "execution_count": null,
   "source": [
    "for i in range(1, 11):\n",
    "    print(f'{i} x {i} = {i * i}')"
   ],
   "id": "6388a2bf35625fcf"
  },
  {
   "metadata": {},
   "cell_type": "code",
   "outputs": [],
   "execution_count": null,
   "source": [
    "numero = 1\n",
    "while numero <= 10:\n",
    "    print(f'{numero} x {numero} = {numero * numero}')\n",
    "    numero += 1"
   ],
   "id": "2c2e9b1931b9837e"
  }
 ],
 "metadata": {
  "kernelspec": {
   "display_name": "Python 3",
   "language": "python",
   "name": "python3"
  },
  "language_info": {
   "codemirror_mode": {
    "name": "ipython",
    "version": 2
   },
   "file_extension": ".py",
   "mimetype": "text/x-python",
   "name": "python",
   "nbconvert_exporter": "python",
   "pygments_lexer": "ipython2",
   "version": "2.7.6"
  }
 },
 "nbformat": 4,
 "nbformat_minor": 5
}
