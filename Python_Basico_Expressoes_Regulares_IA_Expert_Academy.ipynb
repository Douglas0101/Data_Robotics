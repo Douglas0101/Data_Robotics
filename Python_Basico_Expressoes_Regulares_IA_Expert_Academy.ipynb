{
 "cells": [
  {
   "metadata": {
    "ExecuteTime": {
     "end_time": "2024-11-22T03:07:02.204120Z",
     "start_time": "2024-11-22T03:07:02.200131Z"
    }
   },
   "cell_type": "code",
   "source": "import re",
   "id": "935554b94f9b0711",
   "outputs": [],
   "execution_count": 1
  },
  {
   "metadata": {
    "ExecuteTime": {
     "end_time": "2024-11-22T03:07:02.270247Z",
     "start_time": "2024-11-22T03:07:02.267632Z"
    }
   },
   "cell_type": "code",
   "source": "frase = 'Olá, meu número de telefone é (42)00010-0000'",
   "id": "8c3e4fa521ed7c50",
   "outputs": [],
   "execution_count": 2
  },
  {
   "metadata": {
    "ExecuteTime": {
     "end_time": "2024-11-22T03:07:02.336941Z",
     "start_time": "2024-11-22T03:07:02.332801Z"
    }
   },
   "cell_type": "code",
   "source": "re.search('\\(\\d{2}\\)\\d{4,5}-\\d{4}', frase)",
   "id": "8b560142f24b09f3",
   "outputs": [
    {
     "name": "stderr",
     "output_type": "stream",
     "text": [
      "<>:1: SyntaxWarning: invalid escape sequence '\\('\n",
      "<>:1: SyntaxWarning: invalid escape sequence '\\('\n",
      "/tmp/ipykernel_14823/623223401.py:1: SyntaxWarning: invalid escape sequence '\\('\n",
      "  re.search('\\(\\d{2}\\)\\d{4,5}-\\d{4}', frase)\n"
     ]
    },
    {
     "data": {
      "text/plain": [
       "<re.Match object; span=(30, 44), match='(42)00010-0000'>"
      ]
     },
     "execution_count": 3,
     "metadata": {},
     "output_type": "execute_result"
    }
   ],
   "execution_count": 3
  },
  {
   "metadata": {
    "ExecuteTime": {
     "end_time": "2024-11-22T03:07:02.460982Z",
     "start_time": "2024-11-22T03:07:02.454349Z"
    }
   },
   "cell_type": "code",
   "source": "frase = 'A placa do carro que anotei durante o acidente foi FrT-1998'",
   "id": "20bf51fb33a5fe8a",
   "outputs": [],
   "execution_count": 4
  },
  {
   "metadata": {
    "ExecuteTime": {
     "end_time": "2024-11-22T03:07:02.505827Z",
     "start_time": "2024-11-22T03:07:02.502723Z"
    }
   },
   "cell_type": "code",
   "source": "re.search('\\w[A-Za-z]{3}-\\d{4}', frase)",
   "id": "f25a378012684e28",
   "outputs": [
    {
     "name": "stderr",
     "output_type": "stream",
     "text": [
      "<>:1: SyntaxWarning: invalid escape sequence '\\w'\n",
      "<>:1: SyntaxWarning: invalid escape sequence '\\w'\n",
      "/tmp/ipykernel_14823/2016695070.py:1: SyntaxWarning: invalid escape sequence '\\w'\n",
      "  re.search('\\w[A-Za-z]{3}-\\d{4}', frase)\n"
     ]
    }
   ],
   "execution_count": 5
  },
  {
   "metadata": {
    "ExecuteTime": {
     "end_time": "2024-11-22T03:07:02.569761Z",
     "start_time": "2024-11-22T03:07:02.562918Z"
    }
   },
   "cell_type": "code",
   "source": "email = 'Entre em contato, o email é teste@teste.com'",
   "id": "7ae0c5b2fb28d939",
   "outputs": [],
   "execution_count": 6
  },
  {
   "metadata": {
    "ExecuteTime": {
     "end_time": "2024-11-22T03:07:02.628331Z",
     "start_time": "2024-11-22T03:07:02.624658Z"
    }
   },
   "cell_type": "code",
   "source": "re.search('\\w+@\\w+\\.\\w+', email)",
   "id": "712558eb6c334ba7",
   "outputs": [
    {
     "name": "stderr",
     "output_type": "stream",
     "text": [
      "<>:1: SyntaxWarning: invalid escape sequence '\\w'\n",
      "<>:1: SyntaxWarning: invalid escape sequence '\\w'\n",
      "/tmp/ipykernel_14823/566484884.py:1: SyntaxWarning: invalid escape sequence '\\w'\n",
      "  re.search('\\w+@\\w+\\.\\w+', email)\n"
     ]
    },
    {
     "data": {
      "text/plain": [
       "<re.Match object; span=(28, 43), match='teste@teste.com'>"
      ]
     },
     "execution_count": 7,
     "metadata": {},
     "output_type": "execute_result"
    }
   ],
   "execution_count": 7
  },
  {
   "metadata": {
    "ExecuteTime": {
     "end_time": "2024-11-22T03:07:02.689668Z",
     "start_time": "2024-11-22T03:07:02.681487Z"
    }
   },
   "cell_type": "code",
   "source": "frase = 'A placa do carro que anotei durante o acidente foi FrT-1998'",
   "id": "56cceaa623900724",
   "outputs": [],
   "execution_count": 8
  },
  {
   "metadata": {
    "ExecuteTime": {
     "end_time": "2024-11-22T03:07:02.738096Z",
     "start_time": "2024-11-22T03:07:02.734836Z"
    }
   },
   "cell_type": "code",
   "source": "print(re.match('\\w[A-Za-z]{3}-\\d{4}', frase))",
   "id": "c2e62a72bb24261f",
   "outputs": [
    {
     "name": "stdout",
     "output_type": "stream",
     "text": [
      "None\n"
     ]
    },
    {
     "name": "stderr",
     "output_type": "stream",
     "text": [
      "<>:1: SyntaxWarning: invalid escape sequence '\\w'\n",
      "<>:1: SyntaxWarning: invalid escape sequence '\\w'\n",
      "/tmp/ipykernel_14823/468473111.py:1: SyntaxWarning: invalid escape sequence '\\w'\n",
      "  print(re.match('\\w[A-Za-z]{3}-\\d{4}', frase))\n"
     ]
    }
   ],
   "execution_count": 9
  },
  {
   "metadata": {
    "ExecuteTime": {
     "end_time": "2024-11-22T03:07:02.809244Z",
     "start_time": "2024-11-22T03:07:02.806774Z"
    }
   },
   "cell_type": "code",
   "source": "frase2 = 'FRT-1998 é a placa do carro'",
   "id": "be75a7bd2dc25097",
   "outputs": [],
   "execution_count": 10
  },
  {
   "metadata": {
    "ExecuteTime": {
     "end_time": "2024-11-22T03:07:02.864087Z",
     "start_time": "2024-11-22T03:07:02.860261Z"
    }
   },
   "cell_type": "code",
   "source": "print(re.match('\\w[A-Za-z]{3}-\\d{4}', frase2))",
   "id": "88ce14ae5126e285",
   "outputs": [
    {
     "name": "stdout",
     "output_type": "stream",
     "text": [
      "None\n"
     ]
    },
    {
     "name": "stderr",
     "output_type": "stream",
     "text": [
      "<>:1: SyntaxWarning: invalid escape sequence '\\w'\n",
      "<>:1: SyntaxWarning: invalid escape sequence '\\w'\n",
      "/tmp/ipykernel_14823/3801507704.py:1: SyntaxWarning: invalid escape sequence '\\w'\n",
      "  print(re.match('\\w[A-Za-z]{3}-\\d{4}', frase2))\n"
     ]
    }
   ],
   "execution_count": 11
  },
  {
   "metadata": {
    "ExecuteTime": {
     "end_time": "2024-11-22T03:07:02.988761Z",
     "start_time": "2024-11-22T03:07:02.986321Z"
    }
   },
   "cell_type": "code",
   "source": "frase3 = 'Meu número de telefone atual é (42)00010-0000. O número (56)1111-1111 é o meu antigo'",
   "id": "5ae1a378fe997194",
   "outputs": [],
   "execution_count": 12
  },
  {
   "metadata": {
    "ExecuteTime": {
     "end_time": "2024-11-22T03:07:03.108170Z",
     "start_time": "2024-11-22T03:07:03.101942Z"
    }
   },
   "cell_type": "code",
   "source": "re.findall('\\(\\d{2}\\)\\d{4,5}-\\d{4}', frase3)",
   "id": "903c7e6657b1a0d3",
   "outputs": [
    {
     "name": "stderr",
     "output_type": "stream",
     "text": [
      "<>:1: SyntaxWarning: invalid escape sequence '\\('\n",
      "<>:1: SyntaxWarning: invalid escape sequence '\\('\n",
      "/tmp/ipykernel_14823/3392077711.py:1: SyntaxWarning: invalid escape sequence '\\('\n",
      "  re.findall('\\(\\d{2}\\)\\d{4,5}-\\d{4}', frase3)\n"
     ]
    },
    {
     "data": {
      "text/plain": [
       "['(42)00010-0000', '(56)1111-1111']"
      ]
     },
     "execution_count": 13,
     "metadata": {},
     "output_type": "execute_result"
    }
   ],
   "execution_count": 13
  },
  {
   "metadata": {
    "ExecuteTime": {
     "end_time": "2024-11-22T03:07:03.221374Z",
     "start_time": "2024-11-22T03:07:03.217630Z"
    }
   },
   "cell_type": "code",
   "source": [
    "emails = '''\n",
    "email: teste1@teste.com\n",
    "nome: Teste 1\n",
    "\n",
    "email: teste2@teste.com\n",
    "nome: Teste 2\n",
    "\n",
    "email: teste3@teste.com\n",
    "nome: Teste 3\n",
    "'''"
   ],
   "id": "353ed8284e6e2c3f",
   "outputs": [],
   "execution_count": 14
  },
  {
   "metadata": {
    "ExecuteTime": {
     "end_time": "2024-11-22T03:07:03.359093Z",
     "start_time": "2024-11-22T03:07:03.353818Z"
    }
   },
   "cell_type": "code",
   "source": "re.findall('\\w+@\\w+\\.\\w+', emails)",
   "id": "13abf43a61900ea7",
   "outputs": [
    {
     "name": "stderr",
     "output_type": "stream",
     "text": [
      "<>:1: SyntaxWarning: invalid escape sequence '\\w'\n",
      "<>:1: SyntaxWarning: invalid escape sequence '\\w'\n",
      "/tmp/ipykernel_14823/4080487624.py:1: SyntaxWarning: invalid escape sequence '\\w'\n",
      "  re.findall('\\w+@\\w+\\.\\w+', emails)\n"
     ]
    },
    {
     "data": {
      "text/plain": [
       "['teste1@teste.com', 'teste2@teste.com', 'teste3@teste.com']"
      ]
     },
     "execution_count": 15,
     "metadata": {},
     "output_type": "execute_result"
    }
   ],
   "execution_count": 15
  },
  {
   "metadata": {
    "ExecuteTime": {
     "end_time": "2024-11-22T03:07:03.412682Z",
     "start_time": "2024-11-22T03:07:03.407565Z"
    }
   },
   "cell_type": "code",
   "source": "re.findall('[\\w.+-]+@[\\w-]+\\.[\\w.-]+', emails)",
   "id": "51905492aad6e547",
   "outputs": [
    {
     "name": "stderr",
     "output_type": "stream",
     "text": [
      "<>:1: SyntaxWarning: invalid escape sequence '\\w'\n",
      "<>:1: SyntaxWarning: invalid escape sequence '\\w'\n",
      "/tmp/ipykernel_14823/1764269231.py:1: SyntaxWarning: invalid escape sequence '\\w'\n",
      "  re.findall('[\\w.+-]+@[\\w-]+\\.[\\w.-]+', emails)\n"
     ]
    },
    {
     "data": {
      "text/plain": [
       "['teste1@teste.com', 'teste2@teste.com', 'teste3@teste.com']"
      ]
     },
     "execution_count": 16,
     "metadata": {},
     "output_type": "execute_result"
    }
   ],
   "execution_count": 16
  },
  {
   "metadata": {
    "ExecuteTime": {
     "end_time": "2024-11-22T03:07:03.510974Z",
     "start_time": "2024-11-22T03:07:03.507096Z"
    }
   },
   "cell_type": "code",
   "source": "re.findall('\\w+@\\w+\\.\\w+.?\\w+', emails)",
   "id": "6c75e17ce0dcb82d",
   "outputs": [
    {
     "name": "stderr",
     "output_type": "stream",
     "text": [
      "<>:1: SyntaxWarning: invalid escape sequence '\\w'\n",
      "<>:1: SyntaxWarning: invalid escape sequence '\\w'\n",
      "/tmp/ipykernel_14823/735683867.py:1: SyntaxWarning: invalid escape sequence '\\w'\n",
      "  re.findall('\\w+@\\w+\\.\\w+.?\\w+', emails)\n"
     ]
    },
    {
     "data": {
      "text/plain": [
       "['teste1@teste.com', 'teste2@teste.com', 'teste3@teste.com']"
      ]
     },
     "execution_count": 17,
     "metadata": {},
     "output_type": "execute_result"
    }
   ],
   "execution_count": 17
  }
 ],
 "metadata": {
  "kernelspec": {
   "display_name": "Python 3",
   "language": "python",
   "name": "python3"
  },
  "language_info": {
   "codemirror_mode": {
    "name": "ipython",
    "version": 2
   },
   "file_extension": ".py",
   "mimetype": "text/x-python",
   "name": "python",
   "nbconvert_exporter": "python",
   "pygments_lexer": "ipython2",
   "version": "2.7.6"
  }
 },
 "nbformat": 4,
 "nbformat_minor": 5
}
