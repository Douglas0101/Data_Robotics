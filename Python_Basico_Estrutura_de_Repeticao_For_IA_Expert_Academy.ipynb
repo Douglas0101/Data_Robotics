{
 "cells": [
  {
   "metadata": {},
   "cell_type": "code",
   "outputs": [],
   "execution_count": null,
   "source": [
    "print(1)\n",
    "print(2)\n",
    "print(3)\n",
    "print(4)\n",
    "print(5)"
   ],
   "id": "e80522ee7991e323"
  },
  {
   "metadata": {},
   "cell_type": "code",
   "outputs": [],
   "execution_count": null,
   "source": [
    "for numero in range(1, 6):\n",
    "    print(numero)"
   ],
   "id": "c2b3a96bbfc0caf6"
  },
  {
   "metadata": {},
   "cell_type": "code",
   "outputs": [],
   "execution_count": null,
   "source": [
    "for numero in range(5, 0, -1):\n",
    "    print(numero)"
   ],
   "id": "abd61ecb373c40f4"
  },
  {
   "metadata": {},
   "cell_type": "code",
   "outputs": [],
   "execution_count": null,
   "source": "5 + 4 + 3 + 2 + 1",
   "id": "dba88b035bea530b"
  },
  {
   "metadata": {},
   "cell_type": "code",
   "outputs": [],
   "execution_count": null,
   "source": [
    "soma = 0\n",
    "for numero in range(1, 6):\n",
    "    soma = soma + numero\n",
    "print(soma)"
   ],
   "id": "80e3c4b5e6b1b506"
  },
  {
   "metadata": {},
   "cell_type": "code",
   "outputs": [],
   "execution_count": null,
   "source": [
    "palavra = 'Sorvete'\n",
    "for letra in palavra:\n",
    "    if letra == 'v':\n",
    "        print('Achou a letra v')"
   ],
   "id": "faa216d30981f835"
  },
  {
   "metadata": {},
   "cell_type": "code",
   "outputs": [],
   "execution_count": null,
   "source": [
    "for i in range(0, 5):\n",
    "    print(i)\n",
    "    print('---')\n",
    "    for j in range(0, 3):\n",
    "        print(j)"
   ],
   "id": "b1c3efee7c1439fc"
  }
 ],
 "metadata": {
  "kernelspec": {
   "display_name": "Python 3",
   "language": "python",
   "name": "python3"
  },
  "language_info": {
   "codemirror_mode": {
    "name": "ipython",
    "version": 2
   },
   "file_extension": ".py",
   "mimetype": "text/x-python",
   "name": "python",
   "nbconvert_exporter": "python",
   "pygments_lexer": "ipython2",
   "version": "2.7.6"
  }
 },
 "nbformat": 4,
 "nbformat_minor": 5
}
