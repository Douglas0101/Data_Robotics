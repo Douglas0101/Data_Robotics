{
 "cells": [
  {
   "metadata": {
    "ExecuteTime": {
     "end_time": "2024-11-21T03:48:55.299675Z",
     "start_time": "2024-11-21T03:48:55.295559Z"
    }
   },
   "cell_type": "code",
   "source": [
    "alunos = {'Pedro': 8.0, 'Maria': 10.0, 'Amilton': 7.5}\n",
    "alunos"
   ],
   "id": "e7dc735ce445a8f8",
   "outputs": [
    {
     "data": {
      "text/plain": [
       "{'Pedro': 8.0, 'Maria': 10.0, 'Amilton': 7.5}"
      ]
     },
     "execution_count": 4,
     "metadata": {},
     "output_type": "execute_result"
    }
   ],
   "execution_count": 4
  },
  {
   "metadata": {
    "ExecuteTime": {
     "end_time": "2024-11-21T03:48:55.392417Z",
     "start_time": "2024-11-21T03:48:55.387825Z"
    }
   },
   "cell_type": "code",
   "source": [
    "with open('alunos.txt', 'w') as arquivo:\n",
    "    for aluno, nota in alunos.items():\n",
    "        arquivo.write(f'{aluno} {nota}\\n')"
   ],
   "id": "51b1d5ad76f5909d",
   "outputs": [],
   "execution_count": 5
  },
  {
   "metadata": {
    "ExecuteTime": {
     "end_time": "2024-11-21T03:48:55.446768Z",
     "start_time": "2024-11-21T03:48:55.441599Z"
    }
   },
   "cell_type": "code",
   "source": [
    "with open('alunos.txt', 'r') as arquivo:\n",
    "    for linha in arquivo:\n",
    "        print(f'{linha.strip()}')"
   ],
   "id": "951424ac35537815",
   "outputs": [
    {
     "name": "stdout",
     "output_type": "stream",
     "text": [
      "Pedro 8.0\n",
      "Maria 10.0\n",
      "Amilton 7.5\n"
     ]
    }
   ],
   "execution_count": 6
  }
 ],
 "metadata": {
  "kernelspec": {
   "display_name": "Python 3",
   "language": "python",
   "name": "python3"
  },
  "language_info": {
   "codemirror_mode": {
    "name": "ipython",
    "version": 2
   },
   "file_extension": ".py",
   "mimetype": "text/x-python",
   "name": "python",
   "nbconvert_exporter": "python",
   "pygments_lexer": "ipython2",
   "version": "2.7.6"
  }
 },
 "nbformat": 4,
 "nbformat_minor": 5
}
