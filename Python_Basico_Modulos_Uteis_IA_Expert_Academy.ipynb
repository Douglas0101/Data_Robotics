{
 "cells": [
  {
   "metadata": {},
   "cell_type": "code",
   "outputs": [],
   "execution_count": null,
   "source": "import math",
   "id": "2cf348f8835dd81a"
  },
  {
   "metadata": {},
   "cell_type": "code",
   "outputs": [],
   "execution_count": null,
   "source": "math.sqrt(9)",
   "id": "6db1e1f5d05c936e"
  },
  {
   "metadata": {},
   "cell_type": "code",
   "outputs": [],
   "execution_count": null,
   "source": "math.sin(45)",
   "id": "928fd711d2dc35c7"
  },
  {
   "metadata": {},
   "cell_type": "code",
   "outputs": [],
   "execution_count": null,
   "source": "math.cos(45)",
   "id": "20d1a9f2603a8feb"
  },
  {
   "metadata": {},
   "cell_type": "code",
   "outputs": [],
   "execution_count": null,
   "source": "math.log(1000, 10)",
   "id": "1698e594f51aebd0"
  },
  {
   "metadata": {},
   "cell_type": "code",
   "outputs": [],
   "execution_count": null,
   "source": "math.log(32, 2)",
   "id": "4cc9faaad2aaf978"
  },
  {
   "metadata": {},
   "cell_type": "code",
   "outputs": [],
   "execution_count": null,
   "source": "math.log(1000)",
   "id": "bdeb35b3021b8b2c"
  },
  {
   "metadata": {},
   "cell_type": "code",
   "outputs": [],
   "execution_count": null,
   "source": "math.e",
   "id": "b07bd0964fc46c7f"
  },
  {
   "metadata": {},
   "cell_type": "code",
   "outputs": [],
   "execution_count": null,
   "source": "math.pi",
   "id": "bef8861f335ad755"
  },
  {
   "metadata": {},
   "cell_type": "code",
   "outputs": [],
   "execution_count": null,
   "source": "import datetime",
   "id": "a6f133419fe1ade1"
  },
  {
   "metadata": {},
   "cell_type": "code",
   "outputs": [],
   "execution_count": null,
   "source": "dir(datetime)",
   "id": "3a8ff52d71841bab"
  },
  {
   "metadata": {},
   "cell_type": "code",
   "outputs": [],
   "execution_count": null,
   "source": "datetime.date.today()",
   "id": "5ece1ceaac530918"
  },
  {
   "metadata": {},
   "cell_type": "code",
   "outputs": [],
   "execution_count": null,
   "source": "datetime.datetime.now()",
   "id": "7c2e85b12a18d817"
  },
  {
   "metadata": {},
   "cell_type": "code",
   "outputs": [],
   "execution_count": null,
   "source": "data = datetime.datetime(2020, 7, 10)",
   "id": "cf6a0833160ba0ef"
  },
  {
   "metadata": {},
   "cell_type": "code",
   "outputs": [],
   "execution_count": null,
   "source": "data",
   "id": "9ce05df60f15bf6d"
  },
  {
   "metadata": {},
   "cell_type": "code",
   "outputs": [],
   "execution_count": null,
   "source": "data.day",
   "id": "ab80b13d706329f2"
  },
  {
   "metadata": {},
   "cell_type": "code",
   "outputs": [],
   "execution_count": null,
   "source": "data.month",
   "id": "c27a9fb326f8df03"
  },
  {
   "metadata": {},
   "cell_type": "code",
   "outputs": [],
   "execution_count": null,
   "source": "data.year",
   "id": "bbf1c951aad4ba9e"
  },
  {
   "metadata": {},
   "cell_type": "code",
   "outputs": [],
   "execution_count": null,
   "source": "horario = datetime.datetime(2020, 7, 10, 7, 30, 0)",
   "id": "dd10587f1aff45c9"
  },
  {
   "metadata": {},
   "cell_type": "code",
   "outputs": [],
   "execution_count": null,
   "source": "horario",
   "id": "9dbb4a7b3fefdc73"
  },
  {
   "metadata": {},
   "cell_type": "code",
   "outputs": [],
   "execution_count": null,
   "source": "horario.hour",
   "id": "7d01f50604ce12ab"
  },
  {
   "metadata": {},
   "cell_type": "code",
   "outputs": [],
   "execution_count": null,
   "source": "horario.minute",
   "id": "ad3cd1cf72cd78cf"
  },
  {
   "metadata": {},
   "cell_type": "code",
   "outputs": [],
   "execution_count": null,
   "source": "horario.second",
   "id": "4e6f1744631488f4"
  },
  {
   "metadata": {},
   "cell_type": "code",
   "outputs": [],
   "execution_count": null,
   "source": "import random",
   "id": "e9131ac320a1768d"
  },
  {
   "metadata": {},
   "cell_type": "code",
   "outputs": [],
   "execution_count": null,
   "source": "random.random()",
   "id": "9695934721eadbab"
  },
  {
   "metadata": {},
   "cell_type": "code",
   "outputs": [],
   "execution_count": null,
   "source": "random.randint(1, 10)",
   "id": "e4ff0247173af25"
  },
  {
   "metadata": {},
   "cell_type": "code",
   "outputs": [],
   "execution_count": null,
   "source": "random.randrange(0, 10, 2)",
   "id": "7c475dbc460cd89d"
  },
  {
   "metadata": {},
   "cell_type": "code",
   "outputs": [],
   "execution_count": null,
   "source": "random.randrange(0, 10, 3)",
   "id": "3b9372277f8ae957"
  },
  {
   "metadata": {},
   "cell_type": "code",
   "outputs": [],
   "execution_count": null,
   "source": [
    "x = ['K', 'd', 13, '34-j', 'x']\n",
    "x"
   ],
   "id": "86e6055aec954d95"
  },
  {
   "metadata": {},
   "cell_type": "code",
   "outputs": [],
   "execution_count": null,
   "source": "random.choice(x)",
   "id": "2a5220490ca109b2"
  },
  {
   "metadata": {},
   "cell_type": "code",
   "outputs": [],
   "execution_count": null,
   "source": "import time as tm",
   "id": "9b242b10e09dd430"
  },
  {
   "metadata": {},
   "cell_type": "code",
   "outputs": [],
   "execution_count": null,
   "source": "tm.time()",
   "id": "15b07be6b79a3a64"
  },
  {
   "metadata": {},
   "cell_type": "code",
   "outputs": [],
   "execution_count": null,
   "source": [
    "antes = tm.time()\n",
    "lista = []\n",
    "for i in range(0, 10000):\n",
    "    lista.append(i)\n",
    "depois = tm.time()"
   ],
   "id": "da70b0b301031c6a"
  },
  {
   "metadata": {},
   "cell_type": "code",
   "outputs": [],
   "execution_count": null,
   "source": [
    "intervalo = depois - antes\n",
    "print(f'Tempo: {intervalo} segundos')"
   ],
   "id": "6beb939a1642201c"
  },
  {
   "metadata": {},
   "cell_type": "code",
   "outputs": [],
   "execution_count": null,
   "source": [
    "print('Finalizando...')\n",
    "tm.sleep(2)\n",
    "print('...')\n",
    "tm.sleep(2)\n",
    "print('Até a próxima')"
   ],
   "id": "85ac111b2fc17f48"
  }
 ],
 "metadata": {
  "kernelspec": {
   "display_name": "Python 3",
   "language": "python",
   "name": "python3"
  },
  "language_info": {
   "codemirror_mode": {
    "name": "ipython",
    "version": 2
   },
   "file_extension": ".py",
   "mimetype": "text/x-python",
   "name": "python",
   "nbconvert_exporter": "python",
   "pygments_lexer": "ipython2",
   "version": "2.7.6"
  }
 },
 "nbformat": 4,
 "nbformat_minor": 5
}
