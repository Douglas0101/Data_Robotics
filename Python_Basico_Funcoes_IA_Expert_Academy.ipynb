{
 "cells": [
  {
   "metadata": {},
   "cell_type": "code",
   "outputs": [],
   "execution_count": null,
   "source": [
    "def mensagem():\n",
    "    print('Texto da função')"
   ],
   "id": "138eb483f640f605"
  },
  {
   "metadata": {},
   "cell_type": "code",
   "outputs": [],
   "execution_count": null,
   "source": [
    "mensagem()\n",
    "mensagem()\n",
    "mensagem()"
   ],
   "id": "d8c8abb60662afcb"
  },
  {
   "metadata": {},
   "cell_type": "code",
   "outputs": [],
   "execution_count": null,
   "source": [
    "def mensagem(texto):\n",
    "    print(texto)"
   ],
   "id": "b2544e50e0bdb643"
  },
  {
   "metadata": {},
   "cell_type": "code",
   "outputs": [],
   "execution_count": null,
   "source": [
    "mensagem('Texto 1')\n",
    "mensagem('Texto 2')\n",
    "mensagem('Texto 3')"
   ],
   "id": "d02bef8f6e2e0d24"
  },
  {
   "metadata": {},
   "cell_type": "code",
   "outputs": [],
   "execution_count": null,
   "source": [
    "def soma(a, b):\n",
    "    print(a + b)"
   ],
   "id": "e851765279da59a"
  },
  {
   "metadata": {},
   "cell_type": "code",
   "outputs": [],
   "execution_count": null,
   "source": "soma(2, 3)",
   "id": "5ba0c29083e9d040"
  },
  {
   "metadata": {},
   "cell_type": "code",
   "outputs": [],
   "execution_count": null,
   "source": [
    "soma(3, 3)\n",
    "soma(1, 2)"
   ],
   "id": "2c4e3bd8202e2565"
  },
  {
   "metadata": {},
   "cell_type": "code",
   "outputs": [],
   "execution_count": null,
   "source": [
    "def soma(a, b):\n",
    "    return a + b"
   ],
   "id": "6a19ca1e5ba6010c"
  },
  {
   "metadata": {},
   "cell_type": "code",
   "outputs": [],
   "execution_count": null,
   "source": "soma(3, 2)",
   "id": "ca1bf8427901b137"
  },
  {
   "metadata": {},
   "cell_type": "code",
   "outputs": [],
   "execution_count": null,
   "source": [
    "r = soma(3, 2)\n",
    "print(r)"
   ],
   "id": "6d01e18d8b2bad3f"
  },
  {
   "metadata": {},
   "cell_type": "code",
   "outputs": [],
   "execution_count": null,
   "source": [
    "def calculo_energia_potencial_gravitacional(m, h, g = 9.8):\n",
    "    e = g * m * h\n",
    "    return e"
   ],
   "id": "aa577c6a8cf1c539"
  },
  {
   "metadata": {},
   "cell_type": "code",
   "outputs": [],
   "execution_count": null,
   "source": "calculo_energia_potencial_gravitacional(30, 12)",
   "id": "b4f7d4848d3114c3"
  },
  {
   "metadata": {},
   "cell_type": "code",
   "outputs": [],
   "execution_count": null,
   "source": "calculo_energia_potencial_gravitacional(30, 12, 9.8),",
   "id": "cac42311703b17f5"
  },
  {
   "metadata": {},
   "cell_type": "code",
   "outputs": [],
   "execution_count": null,
   "source": "help(calculo_energia_potencial_gravitacional)",
   "id": "e89b34262f1c047a"
  }
 ],
 "metadata": {
  "kernelspec": {
   "display_name": "Python 3",
   "language": "python",
   "name": "python3"
  },
  "language_info": {
   "codemirror_mode": {
    "name": "ipython",
    "version": 2
   },
   "file_extension": ".py",
   "mimetype": "text/x-python",
   "name": "python",
   "nbconvert_exporter": "python",
   "pygments_lexer": "ipython2",
   "version": "2.7.6"
  }
 },
 "nbformat": 4,
 "nbformat_minor": 5
}
