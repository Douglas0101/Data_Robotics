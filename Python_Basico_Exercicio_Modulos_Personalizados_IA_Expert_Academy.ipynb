{
 "cells": [
  {
   "metadata": {
    "ExecuteTime": {
     "end_time": "2024-11-21T01:23:24.747539Z",
     "start_time": "2024-11-21T01:23:24.743667Z"
    }
   },
   "cell_type": "code",
   "source": "import leituras as lt",
   "id": "1fccd61a5b259e79",
   "outputs": [],
   "execution_count": 171
  },
  {
   "metadata": {
    "ExecuteTime": {
     "end_time": "2024-11-21T01:23:28.839141Z",
     "start_time": "2024-11-21T01:23:24.802548Z"
    }
   },
   "cell_type": "code",
   "source": [
    "texto = lt.ler_string()\n",
    "print(f'Seu nome é {texto}.')"
   ],
   "id": "1e1f7bf77d9b8ef1",
   "outputs": [
    {
     "name": "stdout",
     "output_type": "stream",
     "text": [
      "Seu nome é Douglas.\n"
     ]
    }
   ],
   "execution_count": 172
  },
  {
   "metadata": {
    "ExecuteTime": {
     "end_time": "2024-11-21T01:24:19.027402Z",
     "start_time": "2024-11-21T01:23:29.007078Z"
    }
   },
   "cell_type": "code",
   "source": [
    "carro = lt.ler_string()\n",
    "print(f'Seu carro é {carro}.')"
   ],
   "id": "50ea26a7a1131d9",
   "outputs": [
    {
     "name": "stdout",
     "output_type": "stream",
     "text": [
      "Seu carro é BMW.\n"
     ]
    }
   ],
   "execution_count": 173
  },
  {
   "metadata": {
    "ExecuteTime": {
     "end_time": "2024-11-21T01:24:25.375680Z",
     "start_time": "2024-11-21T01:24:19.160837Z"
    }
   },
   "cell_type": "code",
   "source": [
    "numero = lt.ler_inteiro()\n",
    "print(f'Você digitou {numero}.')"
   ],
   "id": "e3ff717dc9ceb9ae",
   "outputs": [
    {
     "name": "stdout",
     "output_type": "stream",
     "text": [
      "Você digitou 12.\n"
     ]
    }
   ],
   "execution_count": 174
  },
  {
   "metadata": {
    "ExecuteTime": {
     "end_time": "2024-11-21T01:24:28.606918Z",
     "start_time": "2024-11-21T01:24:25.479699Z"
    }
   },
   "cell_type": "code",
   "source": [
    "numero_real = lt.ler_real()\n",
    "print(f' Vocé digitou {numero_real}')"
   ],
   "id": "857f44a78b6b5ffe",
   "outputs": [
    {
     "name": "stdout",
     "output_type": "stream",
     "text": [
      " Vocé digitou 36.0.\n"
     ]
    }
   ],
   "execution_count": 175
  }
 ],
 "metadata": {
  "kernelspec": {
   "display_name": "Python 3",
   "language": "python",
   "name": "python3"
  },
  "language_info": {
   "codemirror_mode": {
    "name": "ipython",
    "version": 2
   },
   "file_extension": ".py",
   "mimetype": "text/x-python",
   "name": "python",
   "nbconvert_exporter": "python",
   "pygments_lexer": "ipython2",
   "version": "2.7.6"
  }
 },
 "nbformat": 4,
 "nbformat_minor": 5
}
