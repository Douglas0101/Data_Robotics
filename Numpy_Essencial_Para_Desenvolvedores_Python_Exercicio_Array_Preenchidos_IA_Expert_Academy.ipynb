{
 "cells": [
  {
   "metadata": {
    "ExecuteTime": {
     "end_time": "2024-12-02T02:35:25.087751Z",
     "start_time": "2024-12-02T02:35:25.085147Z"
    }
   },
   "cell_type": "code",
   "source": "import numpy as np",
   "id": "408021480ea17972",
   "outputs": [],
   "execution_count": 4
  },
  {
   "metadata": {
    "ExecuteTime": {
     "end_time": "2024-12-02T02:35:25.105814Z",
     "start_time": "2024-12-02T02:35:25.102012Z"
    }
   },
   "cell_type": "code",
   "source": "shape = (4, 3)",
   "id": "e390641b927f046a",
   "outputs": [],
   "execution_count": 5
  },
  {
   "metadata": {
    "ExecuteTime": {
     "end_time": "2024-12-02T02:35:25.157857Z",
     "start_time": "2024-12-02T02:35:25.153155Z"
    }
   },
   "cell_type": "code",
   "source": "np.zeros(shape=shape)",
   "id": "89ba1b26d9dd8299",
   "outputs": [
    {
     "data": {
      "text/plain": [
       "array([[0., 0., 0.],\n",
       "       [0., 0., 0.],\n",
       "       [0., 0., 0.],\n",
       "       [0., 0., 0.]])"
      ]
     },
     "execution_count": 6,
     "metadata": {},
     "output_type": "execute_result"
    }
   ],
   "execution_count": 6
  },
  {
   "metadata": {
    "ExecuteTime": {
     "end_time": "2024-12-02T02:35:28.189600Z",
     "start_time": "2024-12-02T02:35:28.180072Z"
    }
   },
   "cell_type": "code",
   "source": "np.ones(shape=shape)",
   "id": "8f4d9b6badfc8140",
   "outputs": [
    {
     "data": {
      "text/plain": [
       "array([[1., 1., 1.],\n",
       "       [1., 1., 1.],\n",
       "       [1., 1., 1.],\n",
       "       [1., 1., 1.]])"
      ]
     },
     "execution_count": 8,
     "metadata": {},
     "output_type": "execute_result"
    }
   ],
   "execution_count": 8
  },
  {
   "metadata": {
    "ExecuteTime": {
     "end_time": "2024-12-02T02:36:15.420832Z",
     "start_time": "2024-12-02T02:36:15.414300Z"
    }
   },
   "cell_type": "code",
   "source": "np.full(shape=shape, fill_value=7)",
   "id": "ad74106857c87a24",
   "outputs": [
    {
     "data": {
      "text/plain": [
       "array([[7, 7, 7],\n",
       "       [7, 7, 7],\n",
       "       [7, 7, 7],\n",
       "       [7, 7, 7]])"
      ]
     },
     "execution_count": 10,
     "metadata": {},
     "output_type": "execute_result"
    }
   ],
   "execution_count": 10
  },
  {
   "metadata": {
    "ExecuteTime": {
     "end_time": "2024-12-02T02:36:53.317210Z",
     "start_time": "2024-12-02T02:36:53.313668Z"
    }
   },
   "cell_type": "code",
   "source": "np.full(shape=shape, fill_value=8.9)",
   "id": "81d40d9e5b91183b",
   "outputs": [
    {
     "data": {
      "text/plain": [
       "array([[8.9, 8.9, 8.9],\n",
       "       [8.9, 8.9, 8.9],\n",
       "       [8.9, 8.9, 8.9],\n",
       "       [8.9, 8.9, 8.9]])"
      ]
     },
     "execution_count": 12,
     "metadata": {},
     "output_type": "execute_result"
    }
   ],
   "execution_count": 12
  },
  {
   "metadata": {
    "ExecuteTime": {
     "end_time": "2024-12-02T02:37:27.149319Z",
     "start_time": "2024-12-02T02:37:27.142202Z"
    }
   },
   "cell_type": "code",
   "source": "np.full(shape=shape, fill_value=False)",
   "id": "127acc19eec95ef7",
   "outputs": [
    {
     "data": {
      "text/plain": [
       "array([[False, False, False],\n",
       "       [False, False, False],\n",
       "       [False, False, False],\n",
       "       [False, False, False]])"
      ]
     },
     "execution_count": 13,
     "metadata": {},
     "output_type": "execute_result"
    }
   ],
   "execution_count": 13
  },
  {
   "metadata": {
    "ExecuteTime": {
     "end_time": "2024-12-02T02:41:26.148687Z",
     "start_time": "2024-12-02T02:41:26.140285Z"
    }
   },
   "cell_type": "code",
   "source": "np.identity(shape[0])",
   "id": "f9c20febf9a09ab9",
   "outputs": [
    {
     "data": {
      "text/plain": [
       "array([[1., 0., 0., 0.],\n",
       "       [0., 1., 0., 0.],\n",
       "       [0., 0., 1., 0.],\n",
       "       [0., 0., 0., 1.]])"
      ]
     },
     "execution_count": 15,
     "metadata": {},
     "output_type": "execute_result"
    }
   ],
   "execution_count": 15
  },
  {
   "metadata": {
    "ExecuteTime": {
     "end_time": "2024-12-02T02:43:06.254809Z",
     "start_time": "2024-12-02T02:43:06.249206Z"
    }
   },
   "cell_type": "code",
   "source": "np.eye(N = 4)",
   "id": "4adaacd7dfba2a0d",
   "outputs": [
    {
     "data": {
      "text/plain": [
       "array([[1., 0., 0., 0.],\n",
       "       [0., 1., 0., 0.],\n",
       "       [0., 0., 1., 0.],\n",
       "       [0., 0., 0., 1.]])"
      ]
     },
     "execution_count": 20,
     "metadata": {},
     "output_type": "execute_result"
    }
   ],
   "execution_count": 20
  },
  {
   "metadata": {
    "ExecuteTime": {
     "end_time": "2024-12-02T02:45:50.526335Z",
     "start_time": "2024-12-02T02:45:50.521218Z"
    }
   },
   "cell_type": "code",
   "source": "np.arange(start=4, stop=21, step=2)",
   "id": "cf25c5a44f4028d7",
   "outputs": [
    {
     "data": {
      "text/plain": [
       "array([ 4,  6,  8, 10, 12, 14, 16, 18, 20])"
      ]
     },
     "execution_count": 31,
     "metadata": {},
     "output_type": "execute_result"
    }
   ],
   "execution_count": 31
  },
  {
   "metadata": {
    "ExecuteTime": {
     "end_time": "2024-12-02T03:06:32.291201Z",
     "start_time": "2024-12-02T03:06:32.286592Z"
    }
   },
   "cell_type": "code",
   "source": "np.arange(49, 25, -2)",
   "id": "eeed559fd1ed1a72",
   "outputs": [
    {
     "data": {
      "text/plain": [
       "array([49, 47, 45, 43, 41, 39, 37, 35, 33, 31, 29, 27])"
      ]
     },
     "execution_count": 58,
     "metadata": {},
     "output_type": "execute_result"
    }
   ],
   "execution_count": 58
  },
  {
   "metadata": {
    "ExecuteTime": {
     "end_time": "2024-12-02T02:58:15.449882Z",
     "start_time": "2024-12-02T02:58:15.437686Z"
    }
   },
   "cell_type": "code",
   "source": "np.linspace(start=49, stop=27, num=12).astype(int)",
   "id": "8bdd7d3ad79147fd",
   "outputs": [
    {
     "data": {
      "text/plain": [
       "array([49, 47, 45, 43, 41, 39, 37, 35, 33, 31, 29, 27])"
      ]
     },
     "execution_count": 44,
     "metadata": {},
     "output_type": "execute_result"
    }
   ],
   "execution_count": 44
  },
  {
   "metadata": {
    "ExecuteTime": {
     "end_time": "2024-12-02T03:02:19.183732Z",
     "start_time": "2024-12-02T03:02:19.174617Z"
    }
   },
   "cell_type": "code",
   "source": "np.arange(start=0, stop=1.01, step=0.01)",
   "id": "6d71f7b602cd1c5e",
   "outputs": [
    {
     "data": {
      "text/plain": [
       "array([0.  , 0.01, 0.02, 0.03, 0.04, 0.05, 0.06, 0.07, 0.08, 0.09, 0.1 ,\n",
       "       0.11, 0.12, 0.13, 0.14, 0.15, 0.16, 0.17, 0.18, 0.19, 0.2 , 0.21,\n",
       "       0.22, 0.23, 0.24, 0.25, 0.26, 0.27, 0.28, 0.29, 0.3 , 0.31, 0.32,\n",
       "       0.33, 0.34, 0.35, 0.36, 0.37, 0.38, 0.39, 0.4 , 0.41, 0.42, 0.43,\n",
       "       0.44, 0.45, 0.46, 0.47, 0.48, 0.49, 0.5 , 0.51, 0.52, 0.53, 0.54,\n",
       "       0.55, 0.56, 0.57, 0.58, 0.59, 0.6 , 0.61, 0.62, 0.63, 0.64, 0.65,\n",
       "       0.66, 0.67, 0.68, 0.69, 0.7 , 0.71, 0.72, 0.73, 0.74, 0.75, 0.76,\n",
       "       0.77, 0.78, 0.79, 0.8 , 0.81, 0.82, 0.83, 0.84, 0.85, 0.86, 0.87,\n",
       "       0.88, 0.89, 0.9 , 0.91, 0.92, 0.93, 0.94, 0.95, 0.96, 0.97, 0.98,\n",
       "       0.99, 1.  ])"
      ]
     },
     "execution_count": 48,
     "metadata": {},
     "output_type": "execute_result"
    }
   ],
   "execution_count": 48
  },
  {
   "metadata": {
    "ExecuteTime": {
     "end_time": "2024-12-02T03:13:34.389061Z",
     "start_time": "2024-12-02T03:13:34.385405Z"
    }
   },
   "cell_type": "code",
   "source": "np.linspace(start=0, stop=38, num=5)",
   "id": "2a95b9bb5cef0cc6",
   "outputs": [
    {
     "data": {
      "text/plain": [
       "array([ 0. ,  9.5, 19. , 28.5, 38. ])"
      ]
     },
     "execution_count": 83,
     "metadata": {},
     "output_type": "execute_result"
    }
   ],
   "execution_count": 83
  },
  {
   "metadata": {
    "ExecuteTime": {
     "end_time": "2024-12-02T03:20:38.833474Z",
     "start_time": "2024-12-02T03:20:38.829286Z"
    }
   },
   "cell_type": "code",
   "source": "np.logspace(start=0, stop=5, num=6).astype(int)",
   "id": "2bb96a8b3924090d",
   "outputs": [
    {
     "data": {
      "text/plain": [
       "array([     1,     10,    100,   1000,  10000, 100000])"
      ]
     },
     "execution_count": 98,
     "metadata": {},
     "output_type": "execute_result"
    }
   ],
   "execution_count": 98
  },
  {
   "metadata": {
    "ExecuteTime": {
     "end_time": "2024-12-02T03:36:04.810487Z",
     "start_time": "2024-12-02T03:36:04.806902Z"
    }
   },
   "cell_type": "code",
   "source": "np.geomspace(start=35, stop=48000, num=5).astype(int)",
   "id": "e2a156a205e0f460",
   "outputs": [
    {
     "data": {
      "text/plain": [
       "array([   35,   212,  1296,  7887, 48000])"
      ]
     },
     "execution_count": 103,
     "metadata": {},
     "output_type": "execute_result"
    }
   ],
   "execution_count": 103
  }
 ],
 "metadata": {
  "kernelspec": {
   "display_name": "Python 3",
   "language": "python",
   "name": "python3"
  },
  "language_info": {
   "codemirror_mode": {
    "name": "ipython",
    "version": 2
   },
   "file_extension": ".py",
   "mimetype": "text/x-python",
   "name": "python",
   "nbconvert_exporter": "python",
   "pygments_lexer": "ipython2",
   "version": "2.7.6"
  }
 },
 "nbformat": 4,
 "nbformat_minor": 5
}
