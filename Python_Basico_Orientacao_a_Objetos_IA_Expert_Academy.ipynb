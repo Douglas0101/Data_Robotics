{
 "cells": [
  {
   "metadata": {
    "ExecuteTime": {
     "end_time": "2024-11-22T23:04:50.203503Z",
     "start_time": "2024-11-22T23:04:50.199383Z"
    }
   },
   "cell_type": "code",
   "source": [
    "class Triangulo:\n",
    "    def __init__(self, lado1, lado2, lado3, base, altura):\n",
    "        self.lado1 = lado1\n",
    "        self.lado2 = lado2\n",
    "        self.lado3 = lado3\n",
    "        self.base = base\n",
    "        self.altura = altura\n",
    "\n",
    "    def area(self):\n",
    "        return self.base * self.altura\n",
    "\n",
    "    def tipo(self):\n",
    "        if self.lado1 > self.lado2 + self.lado3:\n",
    "            return 'Não é um triângulo'\n",
    "        elif self.lado1 == self.lado2 or self.lado1 == self.lado3 or self.lado2 == self.lado2:\n",
    "            return 'Triângulo Isósceles'\n",
    "        else:\n",
    "            return 'Outro tipo de triângulo'"
   ],
   "id": "a78b36ab8b468db2",
   "outputs": [],
   "execution_count": 1
  },
  {
   "metadata": {
    "ExecuteTime": {
     "end_time": "2024-11-22T23:04:50.258913Z",
     "start_time": "2024-11-22T23:04:50.255398Z"
    }
   },
   "cell_type": "code",
   "source": "t1 = Triangulo(5, 1, 3, 4, 3)",
   "id": "266e0c21ffae0b2a",
   "outputs": [],
   "execution_count": 2
  },
  {
   "metadata": {
    "ExecuteTime": {
     "end_time": "2024-11-22T23:04:50.314846Z",
     "start_time": "2024-11-22T23:04:50.309581Z"
    }
   },
   "cell_type": "code",
   "source": "t1.area()",
   "id": "cc9583dc8959108e",
   "outputs": [
    {
     "data": {
      "text/plain": [
       "12"
      ]
     },
     "execution_count": 3,
     "metadata": {},
     "output_type": "execute_result"
    }
   ],
   "execution_count": 3
  },
  {
   "metadata": {
    "ExecuteTime": {
     "end_time": "2024-11-22T23:04:50.440633Z",
     "start_time": "2024-11-22T23:04:50.434605Z"
    }
   },
   "cell_type": "code",
   "source": "t1.tipo()",
   "id": "e99c04f61d21629b",
   "outputs": [
    {
     "data": {
      "text/plain": [
       "'Não é um triângulo'"
      ]
     },
     "execution_count": 4,
     "metadata": {},
     "output_type": "execute_result"
    }
   ],
   "execution_count": 4
  },
  {
   "metadata": {
    "ExecuteTime": {
     "end_time": "2024-11-22T23:04:50.549588Z",
     "start_time": "2024-11-22T23:04:50.544209Z"
    }
   },
   "cell_type": "code",
   "source": "t2 = Triangulo(8, 8, 8, 16, 9)",
   "id": "781154cd8464d22b",
   "outputs": [],
   "execution_count": 5
  },
  {
   "metadata": {
    "ExecuteTime": {
     "end_time": "2024-11-22T23:04:50.606100Z",
     "start_time": "2024-11-22T23:04:50.597028Z"
    }
   },
   "cell_type": "code",
   "source": "t2.area()",
   "id": "dc29168e634a72eb",
   "outputs": [
    {
     "data": {
      "text/plain": [
       "144"
      ]
     },
     "execution_count": 6,
     "metadata": {},
     "output_type": "execute_result"
    }
   ],
   "execution_count": 6
  },
  {
   "metadata": {
    "ExecuteTime": {
     "end_time": "2024-11-22T23:04:50.740411Z",
     "start_time": "2024-11-22T23:04:50.732277Z"
    }
   },
   "cell_type": "code",
   "source": "t2.tipo()",
   "id": "78a8f8d282ca8085",
   "outputs": [
    {
     "data": {
      "text/plain": [
       "'Triângulo Isósceles'"
      ]
     },
     "execution_count": 7,
     "metadata": {},
     "output_type": "execute_result"
    }
   ],
   "execution_count": 7
  }
 ],
 "metadata": {
  "kernelspec": {
   "display_name": "Python 3",
   "language": "python",
   "name": "python3"
  },
  "language_info": {
   "codemirror_mode": {
    "name": "ipython",
    "version": 2
   },
   "file_extension": ".py",
   "mimetype": "text/x-python",
   "name": "python",
   "nbconvert_exporter": "python",
   "pygments_lexer": "ipython2",
   "version": "2.7.6"
  }
 },
 "nbformat": 4,
 "nbformat_minor": 5
}
