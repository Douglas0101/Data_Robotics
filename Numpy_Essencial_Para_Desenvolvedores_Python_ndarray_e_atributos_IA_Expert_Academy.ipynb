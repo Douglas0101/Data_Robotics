{
 "cells": [
  {
   "cell_type": "code",
   "id": "initial_id",
   "metadata": {
    "collapsed": true,
    "ExecuteTime": {
     "end_time": "2024-11-28T23:38:05.334813Z",
     "start_time": "2024-11-28T23:38:05.332441Z"
    }
   },
   "source": "import numpy as np",
   "outputs": [],
   "execution_count": 244
  },
  {
   "metadata": {
    "ExecuteTime": {
     "end_time": "2024-11-28T23:38:05.399572Z",
     "start_time": "2024-11-28T23:38:05.394577Z"
    }
   },
   "cell_type": "code",
   "source": [
    "array_from_list = np.array([1, 2, 3])\n",
    "array_from_list"
   ],
   "id": "42bee5c989a1c3c2",
   "outputs": [
    {
     "data": {
      "text/plain": [
       "array([1, 2, 3])"
      ]
     },
     "execution_count": 245,
     "metadata": {},
     "output_type": "execute_result"
    }
   ],
   "execution_count": 245
  },
  {
   "metadata": {
    "ExecuteTime": {
     "end_time": "2024-11-28T23:38:05.472640Z",
     "start_time": "2024-11-28T23:38:05.469039Z"
    }
   },
   "cell_type": "code",
   "source": [
    "list_a = [1, 2, 3]\n",
    "type(list_a)    "
   ],
   "id": "146cd2e0774b502",
   "outputs": [
    {
     "data": {
      "text/plain": [
       "list"
      ]
     },
     "execution_count": 246,
     "metadata": {},
     "output_type": "execute_result"
    }
   ],
   "execution_count": 246
  },
  {
   "metadata": {
    "ExecuteTime": {
     "end_time": "2024-11-28T23:38:05.542605Z",
     "start_time": "2024-11-28T23:38:05.535066Z"
    }
   },
   "cell_type": "code",
   "source": [
    "array_from_list = np.array(list_a)\n",
    "array_from_list"
   ],
   "id": "2a55416b72ff186f",
   "outputs": [
    {
     "data": {
      "text/plain": [
       "array([1, 2, 3])"
      ]
     },
     "execution_count": 247,
     "metadata": {},
     "output_type": "execute_result"
    }
   ],
   "execution_count": 247
  },
  {
   "metadata": {
    "ExecuteTime": {
     "end_time": "2024-11-28T23:38:05.603399Z",
     "start_time": "2024-11-28T23:38:05.599442Z"
    }
   },
   "cell_type": "code",
   "source": "type(array_from_list)",
   "id": "eb429fe99bcc5474",
   "outputs": [
    {
     "data": {
      "text/plain": [
       "numpy.ndarray"
      ]
     },
     "execution_count": 248,
     "metadata": {},
     "output_type": "execute_result"
    }
   ],
   "execution_count": 248
  },
  {
   "metadata": {
    "ExecuteTime": {
     "end_time": "2024-11-28T23:38:05.666284Z",
     "start_time": "2024-11-28T23:38:05.662862Z"
    }
   },
   "cell_type": "code",
   "source": [
    "tuple_a = (1, 2, 3)\n",
    "tuple_a"
   ],
   "id": "143d1638234a1ee1",
   "outputs": [
    {
     "data": {
      "text/plain": [
       "(1, 2, 3)"
      ]
     },
     "execution_count": 249,
     "metadata": {},
     "output_type": "execute_result"
    }
   ],
   "execution_count": 249
  },
  {
   "metadata": {
    "ExecuteTime": {
     "end_time": "2024-11-28T23:38:05.744821Z",
     "start_time": "2024-11-28T23:38:05.739033Z"
    }
   },
   "cell_type": "code",
   "source": "type(tuple_a)",
   "id": "5f77507f0e9823b3",
   "outputs": [
    {
     "data": {
      "text/plain": [
       "tuple"
      ]
     },
     "execution_count": 250,
     "metadata": {},
     "output_type": "execute_result"
    }
   ],
   "execution_count": 250
  },
  {
   "metadata": {
    "ExecuteTime": {
     "end_time": "2024-11-28T23:38:05.811336Z",
     "start_time": "2024-11-28T23:38:05.808611Z"
    }
   },
   "cell_type": "code",
   "source": [
    "array_from_tuple = np.array(tuple_a)\n",
    "print(array_from_tuple)\n",
    "print(type(array_from_tuple))"
   ],
   "id": "6066780fbe646117",
   "outputs": [
    {
     "name": "stdout",
     "output_type": "stream",
     "text": [
      "[1 2 3]\n",
      "<class 'numpy.ndarray'>\n"
     ]
    }
   ],
   "execution_count": 251
  },
  {
   "metadata": {
    "ExecuteTime": {
     "end_time": "2024-11-28T23:38:05.894860Z",
     "start_time": "2024-11-28T23:38:05.888009Z"
    }
   },
   "cell_type": "code",
   "source": "array_from_list + 5",
   "id": "7a52b3922052dda",
   "outputs": [
    {
     "data": {
      "text/plain": [
       "array([6, 7, 8])"
      ]
     },
     "execution_count": 252,
     "metadata": {},
     "output_type": "execute_result"
    }
   ],
   "execution_count": 252
  },
  {
   "metadata": {
    "ExecuteTime": {
     "end_time": "2024-11-28T23:38:05.964355Z",
     "start_time": "2024-11-28T23:38:05.958149Z"
    }
   },
   "cell_type": "code",
   "source": "array_from_tuple + 5",
   "id": "fdaca991df2cd2c3",
   "outputs": [
    {
     "data": {
      "text/plain": [
       "array([6, 7, 8])"
      ]
     },
     "execution_count": 253,
     "metadata": {},
     "output_type": "execute_result"
    }
   ],
   "execution_count": 253
  },
  {
   "metadata": {
    "ExecuteTime": {
     "end_time": "2024-11-28T23:38:06.037534Z",
     "start_time": "2024-11-28T23:38:06.033830Z"
    }
   },
   "cell_type": "code",
   "source": [
    "set_a = {1, 2, 3, 4, 4}\n",
    "print(set_a)\n",
    "print(type(set_a))"
   ],
   "id": "f53af4d4e3b5bbe2",
   "outputs": [
    {
     "name": "stdout",
     "output_type": "stream",
     "text": [
      "{1, 2, 3, 4}\n",
      "<class 'set'>\n"
     ]
    }
   ],
   "execution_count": 254
  },
  {
   "metadata": {
    "ExecuteTime": {
     "end_time": "2024-11-28T23:38:06.107171Z",
     "start_time": "2024-11-28T23:38:06.100497Z"
    }
   },
   "cell_type": "code",
   "source": [
    "array_from_set = np.array(set_a)\n",
    "array_from_set"
   ],
   "id": "b835cde99c1f7dbf",
   "outputs": [
    {
     "data": {
      "text/plain": [
       "array({1, 2, 3, 4}, dtype=object)"
      ]
     },
     "execution_count": 255,
     "metadata": {},
     "output_type": "execute_result"
    }
   ],
   "execution_count": 255
  },
  {
   "metadata": {
    "ExecuteTime": {
     "end_time": "2024-11-28T23:38:06.192544Z",
     "start_time": "2024-11-28T23:38:06.185692Z"
    }
   },
   "cell_type": "code",
   "source": [
    "try:\n",
    "    array_from_set + 5\n",
    "except Exception as e:\n",
    "    print(e)"
   ],
   "id": "a07282dbfdfdc11b",
   "outputs": [
    {
     "name": "stdout",
     "output_type": "stream",
     "text": [
      "unsupported operand type(s) for +: 'set' and 'int'\n"
     ]
    }
   ],
   "execution_count": 256
  },
  {
   "metadata": {
    "ExecuteTime": {
     "end_time": "2024-11-28T23:38:06.251810Z",
     "start_time": "2024-11-28T23:38:06.247856Z"
    }
   },
   "cell_type": "code",
   "source": [
    "dict_a = {1: 'a', 2: 'b'}\n",
    "print(dict_a)\n",
    "print(type(dict_a))"
   ],
   "id": "8b4f52b3823d6173",
   "outputs": [
    {
     "name": "stdout",
     "output_type": "stream",
     "text": [
      "{1: 'a', 2: 'b'}\n",
      "<class 'dict'>\n"
     ]
    }
   ],
   "execution_count": 257
  },
  {
   "metadata": {
    "ExecuteTime": {
     "end_time": "2024-11-28T23:38:06.309332Z",
     "start_time": "2024-11-28T23:38:06.306331Z"
    }
   },
   "cell_type": "code",
   "source": [
    "array_from_dict = np.array(dict_a)\n",
    "array_from_dict"
   ],
   "id": "556ecd3071a8ba05",
   "outputs": [
    {
     "data": {
      "text/plain": [
       "array({1: 'a', 2: 'b'}, dtype=object)"
      ]
     },
     "execution_count": 258,
     "metadata": {},
     "output_type": "execute_result"
    }
   ],
   "execution_count": 258
  },
  {
   "metadata": {
    "ExecuteTime": {
     "end_time": "2024-11-28T23:38:06.366801Z",
     "start_time": "2024-11-28T23:38:06.364096Z"
    }
   },
   "cell_type": "code",
   "source": [
    "try:\n",
    "    array_from_dict + 5\n",
    "except Exception as e:\n",
    "    print(e)"
   ],
   "id": "ea9c21633fcad69c",
   "outputs": [
    {
     "name": "stdout",
     "output_type": "stream",
     "text": [
      "unsupported operand type(s) for +: 'dict' and 'int'\n"
     ]
    }
   ],
   "execution_count": 259
  },
  {
   "metadata": {
    "ExecuteTime": {
     "end_time": "2024-11-28T23:38:06.434880Z",
     "start_time": "2024-11-28T23:38:06.427574Z"
    }
   },
   "cell_type": "code",
   "source": [
    "array_2d = np.array([[1, 2, 3], \n",
    "                     [4, 5, 6], \n",
    "                     [7, 8, 9], \n",
    "                     [10, 11, 12]])\n",
    "array_2d"
   ],
   "id": "11831ce4625ed7bf",
   "outputs": [
    {
     "data": {
      "text/plain": [
       "array([[ 1,  2,  3],\n",
       "       [ 4,  5,  6],\n",
       "       [ 7,  8,  9],\n",
       "       [10, 11, 12]])"
      ]
     },
     "execution_count": 260,
     "metadata": {},
     "output_type": "execute_result"
    }
   ],
   "execution_count": 260
  },
  {
   "metadata": {
    "ExecuteTime": {
     "end_time": "2024-11-28T23:38:06.515467Z",
     "start_time": "2024-11-28T23:38:06.507094Z"
    }
   },
   "cell_type": "code",
   "source": [
    "array_2d = np.array([[1, 2, 3], [4, 5, 6], [7, 8, 9], [10, 11, 12]])\n",
    "array_2d"
   ],
   "id": "5aa17f03526d7701",
   "outputs": [
    {
     "data": {
      "text/plain": [
       "array([[ 1,  2,  3],\n",
       "       [ 4,  5,  6],\n",
       "       [ 7,  8,  9],\n",
       "       [10, 11, 12]])"
      ]
     },
     "execution_count": 261,
     "metadata": {},
     "output_type": "execute_result"
    }
   ],
   "execution_count": 261
  },
  {
   "metadata": {
    "ExecuteTime": {
     "end_time": "2024-11-28T23:38:06.576271Z",
     "start_time": "2024-11-28T23:38:06.573284Z"
    }
   },
   "cell_type": "code",
   "source": "array_2d[1][1], array_2d[3][2]",
   "id": "49733d1475865f40",
   "outputs": [
    {
     "data": {
      "text/plain": [
       "(5, 12)"
      ]
     },
     "execution_count": 262,
     "metadata": {},
     "output_type": "execute_result"
    }
   ],
   "execution_count": 262
  },
  {
   "metadata": {
    "ExecuteTime": {
     "end_time": "2024-11-28T23:38:06.705045Z",
     "start_time": "2024-11-28T23:38:06.702454Z"
    }
   },
   "cell_type": "code",
   "source": [
    "try:\n",
    "    np.array([[1, 2, 3],\n",
    "          [4, 5],\n",
    "          [7, 8, 9],\n",
    "          [10]])\n",
    "except Exception as e:\n",
    "    print(e)"
   ],
   "id": "f7e8f2ddebf521c7",
   "outputs": [
    {
     "name": "stdout",
     "output_type": "stream",
     "text": [
      "setting an array element with a sequence. The requested array has an inhomogeneous shape after 1 dimensions. The detected shape was (4,) + inhomogeneous part.\n"
     ]
    }
   ],
   "execution_count": 263
  },
  {
   "metadata": {
    "ExecuteTime": {
     "end_time": "2024-11-28T23:38:06.823243Z",
     "start_time": "2024-11-28T23:38:06.818629Z"
    }
   },
   "cell_type": "code",
   "source": [
    "array_3d = np.array([[[1, 2, 3], [4, 5, 6], [7, 8, 9], [10, 11, 12]],\n",
    "                     [[13, 14, 15], [16, 17, 18], [19, 20, 21], [22, 23, 24]]])\n",
    "array_3d"
   ],
   "id": "c244724d46228683",
   "outputs": [
    {
     "data": {
      "text/plain": [
       "array([[[ 1,  2,  3],\n",
       "        [ 4,  5,  6],\n",
       "        [ 7,  8,  9],\n",
       "        [10, 11, 12]],\n",
       "\n",
       "       [[13, 14, 15],\n",
       "        [16, 17, 18],\n",
       "        [19, 20, 21],\n",
       "        [22, 23, 24]]])"
      ]
     },
     "execution_count": 264,
     "metadata": {},
     "output_type": "execute_result"
    }
   ],
   "execution_count": 264
  },
  {
   "metadata": {
    "ExecuteTime": {
     "end_time": "2024-11-28T23:38:06.883279Z",
     "start_time": "2024-11-28T23:38:06.880145Z"
    }
   },
   "cell_type": "code",
   "source": "array_3d[0][2][1]",
   "id": "dad8cab4986bb617",
   "outputs": [
    {
     "data": {
      "text/plain": [
       "8"
      ]
     },
     "execution_count": 265,
     "metadata": {},
     "output_type": "execute_result"
    }
   ],
   "execution_count": 265
  },
  {
   "metadata": {
    "ExecuteTime": {
     "end_time": "2024-11-28T23:38:06.945097Z",
     "start_time": "2024-11-28T23:38:06.940107Z"
    }
   },
   "cell_type": "code",
   "source": "array_3d[1][3][2]",
   "id": "1707f0927b046d8f",
   "outputs": [
    {
     "data": {
      "text/plain": [
       "24"
      ]
     },
     "execution_count": 266,
     "metadata": {},
     "output_type": "execute_result"
    }
   ],
   "execution_count": 266
  },
  {
   "metadata": {
    "ExecuteTime": {
     "end_time": "2024-11-28T23:38:07.020094Z",
     "start_time": "2024-11-28T23:38:07.014886Z"
    }
   },
   "cell_type": "code",
   "source": "array_from_list",
   "id": "934d518d43efbfb7",
   "outputs": [
    {
     "data": {
      "text/plain": [
       "array([1, 2, 3])"
      ]
     },
     "execution_count": 267,
     "metadata": {},
     "output_type": "execute_result"
    }
   ],
   "execution_count": 267
  },
  {
   "metadata": {
    "ExecuteTime": {
     "end_time": "2024-11-28T23:38:07.094734Z",
     "start_time": "2024-11-28T23:38:07.088399Z"
    }
   },
   "cell_type": "code",
   "source": "array_from_list.size",
   "id": "252ddb1bbac23368",
   "outputs": [
    {
     "data": {
      "text/plain": [
       "3"
      ]
     },
     "execution_count": 268,
     "metadata": {},
     "output_type": "execute_result"
    }
   ],
   "execution_count": 268
  },
  {
   "metadata": {
    "ExecuteTime": {
     "end_time": "2024-11-28T23:38:07.174757Z",
     "start_time": "2024-11-28T23:38:07.169968Z"
    }
   },
   "cell_type": "code",
   "source": "array_2d",
   "id": "9c6d76cc1a3bcc55",
   "outputs": [
    {
     "data": {
      "text/plain": [
       "array([[ 1,  2,  3],\n",
       "       [ 4,  5,  6],\n",
       "       [ 7,  8,  9],\n",
       "       [10, 11, 12]])"
      ]
     },
     "execution_count": 269,
     "metadata": {},
     "output_type": "execute_result"
    }
   ],
   "execution_count": 269
  },
  {
   "metadata": {
    "ExecuteTime": {
     "end_time": "2024-11-28T23:38:07.265562Z",
     "start_time": "2024-11-28T23:38:07.261884Z"
    }
   },
   "cell_type": "code",
   "source": "array_2d.size",
   "id": "fd17fc9ded65796e",
   "outputs": [
    {
     "data": {
      "text/plain": [
       "12"
      ]
     },
     "execution_count": 270,
     "metadata": {},
     "output_type": "execute_result"
    }
   ],
   "execution_count": 270
  },
  {
   "metadata": {
    "ExecuteTime": {
     "end_time": "2024-11-28T23:38:07.344361Z",
     "start_time": "2024-11-28T23:38:07.338227Z"
    }
   },
   "cell_type": "code",
   "source": "array_3d.size",
   "id": "48d9dde769d4d34e",
   "outputs": [
    {
     "data": {
      "text/plain": [
       "24"
      ]
     },
     "execution_count": 271,
     "metadata": {},
     "output_type": "execute_result"
    }
   ],
   "execution_count": 271
  },
  {
   "metadata": {
    "ExecuteTime": {
     "end_time": "2024-11-28T23:38:07.428100Z",
     "start_time": "2024-11-28T23:38:07.424687Z"
    }
   },
   "cell_type": "code",
   "source": "array_2d.ndim",
   "id": "edfc913d78087e1d",
   "outputs": [
    {
     "data": {
      "text/plain": [
       "2"
      ]
     },
     "execution_count": 272,
     "metadata": {},
     "output_type": "execute_result"
    }
   ],
   "execution_count": 272
  },
  {
   "metadata": {
    "ExecuteTime": {
     "end_time": "2024-11-28T23:38:07.512638Z",
     "start_time": "2024-11-28T23:38:07.504956Z"
    }
   },
   "cell_type": "code",
   "source": "array_3d.ndim",
   "id": "745dcaf5e86128",
   "outputs": [
    {
     "data": {
      "text/plain": [
       "3"
      ]
     },
     "execution_count": 273,
     "metadata": {},
     "output_type": "execute_result"
    }
   ],
   "execution_count": 273
  },
  {
   "metadata": {
    "ExecuteTime": {
     "end_time": "2024-11-28T23:38:07.568332Z",
     "start_time": "2024-11-28T23:38:07.562653Z"
    }
   },
   "cell_type": "code",
   "source": "array_from_list.shape",
   "id": "97b52e921bfaa3e8",
   "outputs": [
    {
     "data": {
      "text/plain": [
       "(3,)"
      ]
     },
     "execution_count": 274,
     "metadata": {},
     "output_type": "execute_result"
    }
   ],
   "execution_count": 274
  },
  {
   "metadata": {
    "ExecuteTime": {
     "end_time": "2024-11-28T23:38:07.642377Z",
     "start_time": "2024-11-28T23:38:07.637454Z"
    }
   },
   "cell_type": "code",
   "source": "array_2d.shape",
   "id": "dd7c7dacdfd5e442",
   "outputs": [
    {
     "data": {
      "text/plain": [
       "(4, 3)"
      ]
     },
     "execution_count": 275,
     "metadata": {},
     "output_type": "execute_result"
    }
   ],
   "execution_count": 275
  },
  {
   "metadata": {
    "ExecuteTime": {
     "end_time": "2024-11-28T23:38:07.718845Z",
     "start_time": "2024-11-28T23:38:07.712976Z"
    }
   },
   "cell_type": "code",
   "source": "array_3d.shape",
   "id": "d1d2368e2892dc66",
   "outputs": [
    {
     "data": {
      "text/plain": [
       "(2, 4, 3)"
      ]
     },
     "execution_count": 276,
     "metadata": {},
     "output_type": "execute_result"
    }
   ],
   "execution_count": 276
  },
  {
   "metadata": {
    "ExecuteTime": {
     "end_time": "2024-11-28T23:38:07.776611Z",
     "start_time": "2024-11-28T23:38:07.771847Z"
    }
   },
   "cell_type": "code",
   "source": "len(array_3d.shape), array_3d.ndim",
   "id": "3446d7e5484954fb",
   "outputs": [
    {
     "data": {
      "text/plain": [
       "(3, 3)"
      ]
     },
     "execution_count": 277,
     "metadata": {},
     "output_type": "execute_result"
    }
   ],
   "execution_count": 277
  },
  {
   "metadata": {
    "ExecuteTime": {
     "end_time": "2024-11-28T23:38:07.846545Z",
     "start_time": "2024-11-28T23:38:07.843234Z"
    }
   },
   "cell_type": "code",
   "source": "2 * 4 * 3, array_3d.size",
   "id": "1c148e50dc8a1163",
   "outputs": [
    {
     "data": {
      "text/plain": [
       "(24, 24)"
      ]
     },
     "execution_count": 278,
     "metadata": {},
     "output_type": "execute_result"
    }
   ],
   "execution_count": 278
  },
  {
   "metadata": {
    "ExecuteTime": {
     "end_time": "2024-11-28T23:38:07.921904Z",
     "start_time": "2024-11-28T23:38:07.915086Z"
    }
   },
   "cell_type": "code",
   "source": "array_from_list.itemsize",
   "id": "a77d4accf88060",
   "outputs": [
    {
     "data": {
      "text/plain": [
       "8"
      ]
     },
     "execution_count": 279,
     "metadata": {},
     "output_type": "execute_result"
    }
   ],
   "execution_count": 279
  },
  {
   "metadata": {
    "ExecuteTime": {
     "end_time": "2024-11-28T23:38:07.997080Z",
     "start_time": "2024-11-28T23:38:07.992234Z"
    }
   },
   "cell_type": "code",
   "source": "array_2d.itemsize",
   "id": "94bb3602fbdfce3c",
   "outputs": [
    {
     "data": {
      "text/plain": [
       "8"
      ]
     },
     "execution_count": 280,
     "metadata": {},
     "output_type": "execute_result"
    }
   ],
   "execution_count": 280
  },
  {
   "metadata": {
    "ExecuteTime": {
     "end_time": "2024-11-28T23:38:08.072676Z",
     "start_time": "2024-11-28T23:38:08.065939Z"
    }
   },
   "cell_type": "code",
   "source": "array_3d.itemsize",
   "id": "682ee5f69875f7c6",
   "outputs": [
    {
     "data": {
      "text/plain": [
       "8"
      ]
     },
     "execution_count": 281,
     "metadata": {},
     "output_type": "execute_result"
    }
   ],
   "execution_count": 281
  },
  {
   "metadata": {
    "ExecuteTime": {
     "end_time": "2024-11-28T23:38:08.135473Z",
     "start_time": "2024-11-28T23:38:08.131293Z"
    }
   },
   "cell_type": "code",
   "source": "array_from_list.nbytes, 3 * 8",
   "id": "93d25edada8937b9",
   "outputs": [
    {
     "data": {
      "text/plain": [
       "(24, 24)"
      ]
     },
     "execution_count": 282,
     "metadata": {},
     "output_type": "execute_result"
    }
   ],
   "execution_count": 282
  },
  {
   "metadata": {
    "ExecuteTime": {
     "end_time": "2024-11-28T23:38:08.196725Z",
     "start_time": "2024-11-28T23:38:08.192624Z"
    }
   },
   "cell_type": "code",
   "source": "array_2d.nbytes, 24 * 8, array_3d.size * array_3d.itemsize",
   "id": "f9cf6cda8af88f76",
   "outputs": [
    {
     "data": {
      "text/plain": [
       "(96, 192, 192)"
      ]
     },
     "execution_count": 283,
     "metadata": {},
     "output_type": "execute_result"
    }
   ],
   "execution_count": 283
  },
  {
   "metadata": {
    "ExecuteTime": {
     "end_time": "2024-11-28T23:38:08.258319Z",
     "start_time": "2024-11-28T23:38:08.253429Z"
    }
   },
   "cell_type": "code",
   "source": "array_from_list.dtype",
   "id": "12900c78442dd24",
   "outputs": [
    {
     "data": {
      "text/plain": [
       "dtype('int64')"
      ]
     },
     "execution_count": 284,
     "metadata": {},
     "output_type": "execute_result"
    }
   ],
   "execution_count": 284
  },
  {
   "metadata": {
    "ExecuteTime": {
     "end_time": "2024-11-28T23:38:08.318655Z",
     "start_time": "2024-11-28T23:38:08.313103Z"
    }
   },
   "cell_type": "code",
   "source": "array_2d.dtype",
   "id": "c0dece43d567a9ba",
   "outputs": [
    {
     "data": {
      "text/plain": [
       "dtype('int64')"
      ]
     },
     "execution_count": 285,
     "metadata": {},
     "output_type": "execute_result"
    }
   ],
   "execution_count": 285
  },
  {
   "metadata": {
    "ExecuteTime": {
     "end_time": "2024-11-28T23:38:08.458233Z",
     "start_time": "2024-11-28T23:38:08.449127Z"
    }
   },
   "cell_type": "code",
   "source": "array_3d.dtype",
   "id": "5ca904f743f16c55",
   "outputs": [
    {
     "data": {
      "text/plain": [
       "dtype('int64')"
      ]
     },
     "execution_count": 286,
     "metadata": {},
     "output_type": "execute_result"
    }
   ],
   "execution_count": 286
  },
  {
   "metadata": {
    "ExecuteTime": {
     "end_time": "2024-11-28T23:38:08.606410Z",
     "start_time": "2024-11-28T23:38:08.595760Z"
    }
   },
   "cell_type": "code",
   "source": [
    "array_32bits = np.array([1, 2, 3], dtype=np.int32)\n",
    "array_32bits"
   ],
   "id": "dc96d41422a2372e",
   "outputs": [
    {
     "data": {
      "text/plain": [
       "array([1, 2, 3], dtype=int32)"
      ]
     },
     "execution_count": 287,
     "metadata": {},
     "output_type": "execute_result"
    }
   ],
   "execution_count": 287
  },
  {
   "metadata": {
    "ExecuteTime": {
     "end_time": "2024-11-28T23:38:08.748040Z",
     "start_time": "2024-11-28T23:38:08.737184Z"
    }
   },
   "cell_type": "code",
   "source": "array_32bits.itemsize",
   "id": "f439da4d23545ab2",
   "outputs": [
    {
     "data": {
      "text/plain": [
       "4"
      ]
     },
     "execution_count": 288,
     "metadata": {},
     "output_type": "execute_result"
    }
   ],
   "execution_count": 288
  },
  {
   "metadata": {
    "ExecuteTime": {
     "end_time": "2024-11-28T23:38:08.897598Z",
     "start_time": "2024-11-28T23:38:08.876770Z"
    }
   },
   "cell_type": "code",
   "source": "np.array([1, 2, 3], dtype=np.float64)",
   "id": "3c22f5d4f4d9e7e",
   "outputs": [
    {
     "data": {
      "text/plain": [
       "array([1., 2., 3.])"
      ]
     },
     "execution_count": 289,
     "metadata": {},
     "output_type": "execute_result"
    }
   ],
   "execution_count": 289
  },
  {
   "metadata": {
    "ExecuteTime": {
     "end_time": "2024-11-28T23:38:09.045062Z",
     "start_time": "2024-11-28T23:38:09.037362Z"
    }
   },
   "cell_type": "code",
   "source": "np.array([1, 2, 3], dtype=np.str_)",
   "id": "e89fbf829d5705c6",
   "outputs": [
    {
     "data": {
      "text/plain": [
       "array(['1', '2', '3'], dtype='<U1')"
      ]
     },
     "execution_count": 290,
     "metadata": {},
     "output_type": "execute_result"
    }
   ],
   "execution_count": 290
  },
  {
   "metadata": {
    "ExecuteTime": {
     "end_time": "2024-11-28T23:38:09.214209Z",
     "start_time": "2024-11-28T23:38:09.207788Z"
    }
   },
   "cell_type": "code",
   "source": "np.array([1, 2, 3], dtype=float).dtype",
   "id": "1051a5504495a151",
   "outputs": [
    {
     "data": {
      "text/plain": [
       "dtype('float64')"
      ]
     },
     "execution_count": 291,
     "metadata": {},
     "output_type": "execute_result"
    }
   ],
   "execution_count": 291
  }
 ],
 "metadata": {
  "kernelspec": {
   "display_name": "Python 3",
   "language": "python",
   "name": "python3"
  },
  "language_info": {
   "codemirror_mode": {
    "name": "ipython",
    "version": 2
   },
   "file_extension": ".py",
   "mimetype": "text/x-python",
   "name": "python",
   "nbconvert_exporter": "python",
   "pygments_lexer": "ipython2",
   "version": "2.7.6"
  }
 },
 "nbformat": 4,
 "nbformat_minor": 5
}
