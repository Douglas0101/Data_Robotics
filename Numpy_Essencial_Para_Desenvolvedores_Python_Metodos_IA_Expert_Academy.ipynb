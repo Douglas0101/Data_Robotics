{
 "cells": [
  {
   "cell_type": "code",
   "id": "initial_id",
   "metadata": {
    "collapsed": true,
    "ExecuteTime": {
     "end_time": "2024-12-17T21:51:04.099876Z",
     "start_time": "2024-12-17T21:51:04.037748Z"
    }
   },
   "source": "import numpy as np",
   "outputs": [],
   "execution_count": 1
  },
  {
   "metadata": {
    "ExecuteTime": {
     "end_time": "2024-12-17T21:51:04.179706Z",
     "start_time": "2024-12-17T21:51:04.164263Z"
    }
   },
   "cell_type": "code",
   "source": [
    "array_3d = np.arange(1, 25).reshape(2, 3, 4)\n",
    "array_3d"
   ],
   "id": "d00c1860197375c2",
   "outputs": [
    {
     "data": {
      "text/plain": [
       "array([[[ 1,  2,  3,  4],\n",
       "        [ 5,  6,  7,  8],\n",
       "        [ 9, 10, 11, 12]],\n",
       "\n",
       "       [[13, 14, 15, 16],\n",
       "        [17, 18, 19, 20],\n",
       "        [21, 22, 23, 24]]])"
      ]
     },
     "execution_count": 2,
     "metadata": {},
     "output_type": "execute_result"
    }
   ],
   "execution_count": 2
  },
  {
   "metadata": {
    "ExecuteTime": {
     "end_time": "2024-12-17T21:51:04.340858Z",
     "start_time": "2024-12-17T21:51:04.334423Z"
    }
   },
   "cell_type": "code",
   "source": "array_3d.tolist()",
   "id": "7755829970089fe0",
   "outputs": [
    {
     "data": {
      "text/plain": [
       "[[[1, 2, 3, 4], [5, 6, 7, 8], [9, 10, 11, 12]],\n",
       " [[13, 14, 15, 16], [17, 18, 19, 20], [21, 22, 23, 24]]]"
      ]
     },
     "execution_count": 3,
     "metadata": {},
     "output_type": "execute_result"
    }
   ],
   "execution_count": 3
  },
  {
   "metadata": {
    "ExecuteTime": {
     "end_time": "2024-12-17T21:51:04.600139Z",
     "start_time": "2024-12-17T21:51:04.587138Z"
    }
   },
   "cell_type": "code",
   "source": "type(array_3d.tolist())",
   "id": "f7643d50486f2ebc",
   "outputs": [
    {
     "data": {
      "text/plain": [
       "list"
      ]
     },
     "execution_count": 4,
     "metadata": {},
     "output_type": "execute_result"
    }
   ],
   "execution_count": 4
  },
  {
   "metadata": {
    "ExecuteTime": {
     "end_time": "2024-12-17T21:51:04.786501Z",
     "start_time": "2024-12-17T21:51:04.774653Z"
    }
   },
   "cell_type": "code",
   "source": "array_3d[0, 1, 2]",
   "id": "841c3fe2f218bd84",
   "outputs": [
    {
     "data": {
      "text/plain": [
       "7"
      ]
     },
     "execution_count": 5,
     "metadata": {},
     "output_type": "execute_result"
    }
   ],
   "execution_count": 5
  },
  {
   "metadata": {
    "ExecuteTime": {
     "end_time": "2024-12-17T21:51:04.927848Z",
     "start_time": "2024-12-17T21:51:04.919303Z"
    }
   },
   "cell_type": "code",
   "source": "array_3d.item((1,0,2))",
   "id": "d3e65320433338b6",
   "outputs": [
    {
     "data": {
      "text/plain": [
       "15"
      ]
     },
     "execution_count": 6,
     "metadata": {},
     "output_type": "execute_result"
    }
   ],
   "execution_count": 6
  },
  {
   "metadata": {
    "ExecuteTime": {
     "end_time": "2024-12-17T21:51:05.031661Z",
     "start_time": "2024-12-17T21:51:05.026520Z"
    }
   },
   "cell_type": "code",
   "source": "array_3d[1,0,2]",
   "id": "a142858b3bf101b9",
   "outputs": [
    {
     "data": {
      "text/plain": [
       "15"
      ]
     },
     "execution_count": 7,
     "metadata": {},
     "output_type": "execute_result"
    }
   ],
   "execution_count": 7
  },
  {
   "metadata": {
    "ExecuteTime": {
     "end_time": "2024-12-17T21:51:05.137834Z",
     "start_time": "2024-12-17T21:51:05.127494Z"
    }
   },
   "cell_type": "code",
   "source": "array_3d.item(14)",
   "id": "7d2b4abc93b43b02",
   "outputs": [
    {
     "data": {
      "text/plain": [
       "15"
      ]
     },
     "execution_count": 8,
     "metadata": {},
     "output_type": "execute_result"
    }
   ],
   "execution_count": 8
  },
  {
   "metadata": {
    "ExecuteTime": {
     "end_time": "2024-12-17T21:51:05.239446Z",
     "start_time": "2024-12-17T21:51:05.228081Z"
    }
   },
   "cell_type": "code",
   "source": [
    "array_3d.itemset(14,50)\n",
    "array_3d"
   ],
   "id": "6472af2ede5291b",
   "outputs": [
    {
     "data": {
      "text/plain": [
       "array([[[ 1,  2,  3,  4],\n",
       "        [ 5,  6,  7,  8],\n",
       "        [ 9, 10, 11, 12]],\n",
       "\n",
       "       [[13, 14, 50, 16],\n",
       "        [17, 18, 19, 20],\n",
       "        [21, 22, 23, 24]]])"
      ]
     },
     "execution_count": 9,
     "metadata": {},
     "output_type": "execute_result"
    }
   ],
   "execution_count": 9
  },
  {
   "metadata": {
    "ExecuteTime": {
     "end_time": "2024-12-17T21:51:05.323306Z",
     "start_time": "2024-12-17T21:51:05.313744Z"
    }
   },
   "cell_type": "code",
   "source": "array_3d.item(14)",
   "id": "89f4e246cb547ff3",
   "outputs": [
    {
     "data": {
      "text/plain": [
       "50"
      ]
     },
     "execution_count": 10,
     "metadata": {},
     "output_type": "execute_result"
    }
   ],
   "execution_count": 10
  },
  {
   "metadata": {
    "ExecuteTime": {
     "end_time": "2024-12-17T21:51:05.398264Z",
     "start_time": "2024-12-17T21:51:05.390783Z"
    }
   },
   "cell_type": "code",
   "source": [
    "array_3d.itemset((1,0,2), 100)\n",
    "array_3d"
   ],
   "id": "17f05cb2d8c952c8",
   "outputs": [
    {
     "data": {
      "text/plain": [
       "array([[[  1,   2,   3,   4],\n",
       "        [  5,   6,   7,   8],\n",
       "        [  9,  10,  11,  12]],\n",
       "\n",
       "       [[ 13,  14, 100,  16],\n",
       "        [ 17,  18,  19,  20],\n",
       "        [ 21,  22,  23,  24]]])"
      ]
     },
     "execution_count": 11,
     "metadata": {},
     "output_type": "execute_result"
    }
   ],
   "execution_count": 11
  },
  {
   "metadata": {
    "ExecuteTime": {
     "end_time": "2024-12-17T21:51:05.444463Z",
     "start_time": "2024-12-17T21:51:05.436858Z"
    }
   },
   "cell_type": "code",
   "source": "array_3d.item((1,0,2))",
   "id": "5544aeb55dc9f0e9",
   "outputs": [
    {
     "data": {
      "text/plain": [
       "100"
      ]
     },
     "execution_count": 12,
     "metadata": {},
     "output_type": "execute_result"
    }
   ],
   "execution_count": 12
  },
  {
   "metadata": {
    "ExecuteTime": {
     "end_time": "2024-12-17T21:51:05.496203Z",
     "start_time": "2024-12-17T21:51:05.490862Z"
    }
   },
   "cell_type": "code",
   "source": [
    "array_3d[1,0,2] = 150\n",
    "array_3d"
   ],
   "id": "af9b6b5e65c010b",
   "outputs": [
    {
     "data": {
      "text/plain": [
       "array([[[  1,   2,   3,   4],\n",
       "        [  5,   6,   7,   8],\n",
       "        [  9,  10,  11,  12]],\n",
       "\n",
       "       [[ 13,  14, 150,  16],\n",
       "        [ 17,  18,  19,  20],\n",
       "        [ 21,  22,  23,  24]]])"
      ]
     },
     "execution_count": 13,
     "metadata": {},
     "output_type": "execute_result"
    }
   ],
   "execution_count": 13
  },
  {
   "metadata": {
    "ExecuteTime": {
     "end_time": "2024-12-17T21:51:05.559384Z",
     "start_time": "2024-12-17T21:51:05.550180Z"
    }
   },
   "cell_type": "code",
   "source": [
    "array_3d = np.arange(1, 25).reshape(2, 4, 3)\n",
    "array_3d"
   ],
   "id": "3427fdaff23e036",
   "outputs": [
    {
     "data": {
      "text/plain": [
       "array([[[ 1,  2,  3],\n",
       "        [ 4,  5,  6],\n",
       "        [ 7,  8,  9],\n",
       "        [10, 11, 12]],\n",
       "\n",
       "       [[13, 14, 15],\n",
       "        [16, 17, 18],\n",
       "        [19, 20, 21],\n",
       "        [22, 23, 24]]])"
      ]
     },
     "execution_count": 14,
     "metadata": {},
     "output_type": "execute_result"
    }
   ],
   "execution_count": 14
  },
  {
   "metadata": {
    "ExecuteTime": {
     "end_time": "2024-12-17T21:51:05.635831Z",
     "start_time": "2024-12-17T21:51:05.628894Z"
    }
   },
   "cell_type": "code",
   "source": [
    "array_view = array_3d.view()\n",
    "array_view"
   ],
   "id": "13a4dcbf2ffdee4e",
   "outputs": [
    {
     "data": {
      "text/plain": [
       "array([[[ 1,  2,  3],\n",
       "        [ 4,  5,  6],\n",
       "        [ 7,  8,  9],\n",
       "        [10, 11, 12]],\n",
       "\n",
       "       [[13, 14, 15],\n",
       "        [16, 17, 18],\n",
       "        [19, 20, 21],\n",
       "        [22, 23, 24]]])"
      ]
     },
     "execution_count": 15,
     "metadata": {},
     "output_type": "execute_result"
    }
   ],
   "execution_count": 15
  },
  {
   "metadata": {
    "ExecuteTime": {
     "end_time": "2024-12-17T21:51:05.691899Z",
     "start_time": "2024-12-17T21:51:05.685275Z"
    }
   },
   "cell_type": "code",
   "source": [
    "array_view[0,0,0] = 0\n",
    "array_view"
   ],
   "id": "e3eea51ef5279b04",
   "outputs": [
    {
     "data": {
      "text/plain": [
       "array([[[ 0,  2,  3],\n",
       "        [ 4,  5,  6],\n",
       "        [ 7,  8,  9],\n",
       "        [10, 11, 12]],\n",
       "\n",
       "       [[13, 14, 15],\n",
       "        [16, 17, 18],\n",
       "        [19, 20, 21],\n",
       "        [22, 23, 24]]])"
      ]
     },
     "execution_count": 16,
     "metadata": {},
     "output_type": "execute_result"
    }
   ],
   "execution_count": 16
  },
  {
   "metadata": {
    "ExecuteTime": {
     "end_time": "2024-12-17T21:51:05.750779Z",
     "start_time": "2024-12-17T21:51:05.738662Z"
    }
   },
   "cell_type": "code",
   "source": "array_3d",
   "id": "464debb9b24982ea",
   "outputs": [
    {
     "data": {
      "text/plain": [
       "array([[[ 0,  2,  3],\n",
       "        [ 4,  5,  6],\n",
       "        [ 7,  8,  9],\n",
       "        [10, 11, 12]],\n",
       "\n",
       "       [[13, 14, 15],\n",
       "        [16, 17, 18],\n",
       "        [19, 20, 21],\n",
       "        [22, 23, 24]]])"
      ]
     },
     "execution_count": 17,
     "metadata": {},
     "output_type": "execute_result"
    }
   ],
   "execution_count": 17
  },
  {
   "metadata": {
    "ExecuteTime": {
     "end_time": "2024-12-17T21:51:05.806001Z",
     "start_time": "2024-12-17T21:51:05.800952Z"
    }
   },
   "cell_type": "code",
   "source": [
    "array_3d = np.arange(1,25).reshape(2,4,3)\n",
    "array_copy = array_3d.copy()\n",
    "array_copy"
   ],
   "id": "ec36d5a47e120f7d",
   "outputs": [
    {
     "data": {
      "text/plain": [
       "array([[[ 1,  2,  3],\n",
       "        [ 4,  5,  6],\n",
       "        [ 7,  8,  9],\n",
       "        [10, 11, 12]],\n",
       "\n",
       "       [[13, 14, 15],\n",
       "        [16, 17, 18],\n",
       "        [19, 20, 21],\n",
       "        [22, 23, 24]]])"
      ]
     },
     "execution_count": 18,
     "metadata": {},
     "output_type": "execute_result"
    }
   ],
   "execution_count": 18
  },
  {
   "metadata": {
    "ExecuteTime": {
     "end_time": "2024-12-17T21:51:05.871595Z",
     "start_time": "2024-12-17T21:51:05.864502Z"
    }
   },
   "cell_type": "code",
   "source": [
    "array_copy[0,0,0] = 99\n",
    "array_copy"
   ],
   "id": "f393251f1576b681",
   "outputs": [
    {
     "data": {
      "text/plain": [
       "array([[[99,  2,  3],\n",
       "        [ 4,  5,  6],\n",
       "        [ 7,  8,  9],\n",
       "        [10, 11, 12]],\n",
       "\n",
       "       [[13, 14, 15],\n",
       "        [16, 17, 18],\n",
       "        [19, 20, 21],\n",
       "        [22, 23, 24]]])"
      ]
     },
     "execution_count": 19,
     "metadata": {},
     "output_type": "execute_result"
    }
   ],
   "execution_count": 19
  },
  {
   "metadata": {
    "ExecuteTime": {
     "end_time": "2024-12-17T21:51:05.985215Z",
     "start_time": "2024-12-17T21:51:05.979895Z"
    }
   },
   "cell_type": "code",
   "source": "array_3d",
   "id": "da1c5fe48efaab0b",
   "outputs": [
    {
     "data": {
      "text/plain": [
       "array([[[ 1,  2,  3],\n",
       "        [ 4,  5,  6],\n",
       "        [ 7,  8,  9],\n",
       "        [10, 11, 12]],\n",
       "\n",
       "       [[13, 14, 15],\n",
       "        [16, 17, 18],\n",
       "        [19, 20, 21],\n",
       "        [22, 23, 24]]])"
      ]
     },
     "execution_count": 20,
     "metadata": {},
     "output_type": "execute_result"
    }
   ],
   "execution_count": 20
  },
  {
   "metadata": {
    "ExecuteTime": {
     "end_time": "2024-12-17T21:51:06.173781Z",
     "start_time": "2024-12-17T21:51:06.163505Z"
    }
   },
   "cell_type": "code",
   "source": [
    "array_3d = np.arange(1,25).reshape(2,4,3)\n",
    "array_3d.fill(55)\n",
    "array_3d"
   ],
   "id": "3af432ed61f6f8dc",
   "outputs": [
    {
     "data": {
      "text/plain": [
       "array([[[55, 55, 55],\n",
       "        [55, 55, 55],\n",
       "        [55, 55, 55],\n",
       "        [55, 55, 55]],\n",
       "\n",
       "       [[55, 55, 55],\n",
       "        [55, 55, 55],\n",
       "        [55, 55, 55],\n",
       "        [55, 55, 55]]])"
      ]
     },
     "execution_count": 21,
     "metadata": {},
     "output_type": "execute_result"
    }
   ],
   "execution_count": 21
  }
 ],
 "metadata": {
  "kernelspec": {
   "display_name": "Python [conda env:base] *",
   "language": "python",
   "name": "conda-base-py"
  },
  "language_info": {
   "codemirror_mode": {
    "name": "ipython",
    "version": 2
   },
   "file_extension": ".py",
   "mimetype": "text/x-python",
   "name": "python",
   "nbconvert_exporter": "python",
   "pygments_lexer": "ipython2",
   "version": "2.7.6"
  }
 },
 "nbformat": 4,
 "nbformat_minor": 5
}
