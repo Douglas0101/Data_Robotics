{
 "cells": [
  {
   "metadata": {},
   "cell_type": "code",
   "outputs": [],
   "execution_count": null,
   "source": "5 > 3",
   "id": "90974278a96e8cdf"
  },
  {
   "metadata": {},
   "cell_type": "code",
   "outputs": [],
   "execution_count": null,
   "source": [
    "if 5 > 3:\n",
    "    print('5 é maior que 3')"
   ],
   "id": "c581bd45d2a3b508"
  },
  {
   "metadata": {},
   "cell_type": "code",
   "outputs": [],
   "execution_count": null,
   "source": [
    "if 5 > 4:\n",
    "    print('5 é maior que 4')\n",
    "else:\n",
    "    print('5 não é maior!')"
   ],
   "id": "65b088c70a9a392b"
  },
  {
   "metadata": {},
   "cell_type": "code",
   "outputs": [],
   "execution_count": null,
   "source": [
    "n = 9\n",
    "if n == 4:\n",
    "    print('n é igual a 4')\n",
    "else:\n",
    "    if n == 3:\n",
    "        print('n é igual a 3')\n",
    "    else:\n",
    "        print('n não é igual a 4 nem a 3!')"
   ],
   "id": "1932338e1ac0d080"
  },
  {
   "metadata": {},
   "cell_type": "code",
   "outputs": [],
   "execution_count": null,
   "source": [
    "x = 1\n",
    "y = 5\n",
    "\n",
    "if (x > 1) or (y % 2 == 0):\n",
    "    print('x maior que 1 ou y é par')\n",
    "else:\n",
    "    print('Uma ou nenhuma das condições foram satisfeitas.')"
   ],
   "id": "c85bd6ea25af474d"
  }
 ],
 "metadata": {
  "kernelspec": {
   "display_name": "Python 3",
   "language": "python",
   "name": "python3"
  },
  "language_info": {
   "codemirror_mode": {
    "name": "ipython",
    "version": 2
   },
   "file_extension": ".py",
   "mimetype": "text/x-python",
   "name": "python",
   "nbconvert_exporter": "python",
   "pygments_lexer": "ipython2",
   "version": "2.7.6"
  }
 },
 "nbformat": 4,
 "nbformat_minor": 5
}
