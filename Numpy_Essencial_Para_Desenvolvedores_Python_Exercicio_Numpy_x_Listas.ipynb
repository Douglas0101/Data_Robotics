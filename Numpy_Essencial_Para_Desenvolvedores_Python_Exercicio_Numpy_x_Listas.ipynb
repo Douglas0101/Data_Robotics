{
 "cells": [
  {
   "metadata": {
    "ExecuteTime": {
     "end_time": "2024-11-27T20:11:55.911855Z",
     "start_time": "2024-11-27T20:11:55.906443Z"
    }
   },
   "cell_type": "code",
   "source": "import numpy as np",
   "id": "65df004bef241c88",
   "outputs": [],
   "execution_count": 169
  },
  {
   "metadata": {
    "ExecuteTime": {
     "end_time": "2024-11-27T20:11:55.970459Z",
     "start_time": "2024-11-27T20:11:55.962452Z"
    }
   },
   "cell_type": "code",
   "source": "array_a = np.array([0, 1, 2, 3])",
   "id": "1a799cdd4a1c2b72",
   "outputs": [],
   "execution_count": 170
  },
  {
   "metadata": {
    "ExecuteTime": {
     "end_time": "2024-11-27T20:11:56.025416Z",
     "start_time": "2024-11-27T20:11:56.020494Z"
    }
   },
   "cell_type": "code",
   "source": "array_b = np.append(array_a, 4)",
   "id": "7756c094bb0dad56",
   "outputs": [],
   "execution_count": 171
  },
  {
   "metadata": {
    "ExecuteTime": {
     "end_time": "2024-11-27T20:11:56.097727Z",
     "start_time": "2024-11-27T20:11:56.087798Z"
    }
   },
   "cell_type": "code",
   "source": "array_b",
   "id": "423d887ef7b13e1b",
   "outputs": [
    {
     "data": {
      "text/plain": [
       "array([0, 1, 2, 3, 4])"
      ]
     },
     "execution_count": 172,
     "metadata": {},
     "output_type": "execute_result"
    }
   ],
   "execution_count": 172
  },
  {
   "metadata": {
    "ExecuteTime": {
     "end_time": "2024-11-27T20:11:56.244056Z",
     "start_time": "2024-11-27T20:11:56.235420Z"
    }
   },
   "cell_type": "code",
   "source": "id(array_a) == id(array_b)",
   "id": "f1e6b4b0a881baf9",
   "outputs": [
    {
     "data": {
      "text/plain": [
       "False"
      ]
     },
     "execution_count": 173,
     "metadata": {},
     "output_type": "execute_result"
    }
   ],
   "execution_count": 173
  },
  {
   "metadata": {
    "ExecuteTime": {
     "end_time": "2024-11-27T20:11:56.371115Z",
     "start_time": "2024-11-27T20:11:56.359870Z"
    }
   },
   "cell_type": "code",
   "source": "id(array_a), id(array_b)",
   "id": "9735a07be6565819",
   "outputs": [
    {
     "data": {
      "text/plain": [
       "(124476341200112, 124476341202032)"
      ]
     },
     "execution_count": 174,
     "metadata": {},
     "output_type": "execute_result"
    }
   ],
   "execution_count": 174
  },
  {
   "metadata": {
    "ExecuteTime": {
     "end_time": "2024-11-27T20:11:56.466252Z",
     "start_time": "2024-11-27T20:11:56.457378Z"
    }
   },
   "cell_type": "code",
   "source": [
    "def id_comprasion(array_a, array_b):\n",
    "    return np.array_equal(array_a, array_b)"
   ],
   "id": "ad754e6486898724",
   "outputs": [],
   "execution_count": 175
  },
  {
   "metadata": {
    "ExecuteTime": {
     "end_time": "2024-11-27T20:11:56.527277Z",
     "start_time": "2024-11-27T20:11:56.519916Z"
    }
   },
   "cell_type": "code",
   "source": "np.array_equal(array_a, array_b)",
   "id": "58def3e2a2e59711",
   "outputs": [
    {
     "data": {
      "text/plain": [
       "False"
      ]
     },
     "execution_count": 176,
     "metadata": {},
     "output_type": "execute_result"
    }
   ],
   "execution_count": 176
  },
  {
   "metadata": {
    "ExecuteTime": {
     "end_time": "2024-11-27T20:11:56.589631Z",
     "start_time": "2024-11-27T20:11:56.583679Z"
    }
   },
   "cell_type": "code",
   "source": "array_c = np.array([3, False, 7.9, 0.0])",
   "id": "e55e53a7b573a379",
   "outputs": [],
   "execution_count": 177
  },
  {
   "metadata": {
    "ExecuteTime": {
     "end_time": "2024-11-27T20:11:56.654927Z",
     "start_time": "2024-11-27T20:11:56.645517Z"
    }
   },
   "cell_type": "code",
   "source": "array_c",
   "id": "1cb2ba2f2a5e2a82",
   "outputs": [
    {
     "data": {
      "text/plain": [
       "array([3. , 0. , 7.9, 0. ])"
      ]
     },
     "execution_count": 178,
     "metadata": {},
     "output_type": "execute_result"
    }
   ],
   "execution_count": 178
  },
  {
   "metadata": {
    "ExecuteTime": {
     "end_time": "2024-11-27T20:11:56.719480Z",
     "start_time": "2024-11-27T20:11:56.711944Z"
    }
   },
   "cell_type": "code",
   "source": [
    "for i in array_c:\n",
    "    print(type(i))"
   ],
   "id": "41c1c2999dce707",
   "outputs": [
    {
     "name": "stdout",
     "output_type": "stream",
     "text": [
      "<class 'numpy.float64'>\n",
      "<class 'numpy.float64'>\n",
      "<class 'numpy.float64'>\n",
      "<class 'numpy.float64'>\n"
     ]
    }
   ],
   "execution_count": 179
  },
  {
   "metadata": {
    "ExecuteTime": {
     "end_time": "2024-11-27T20:11:56.788049Z",
     "start_time": "2024-11-27T20:11:56.784404Z"
    }
   },
   "cell_type": "code",
   "source": "array_c.dtype",
   "id": "a66ab607b67a6d21",
   "outputs": [
    {
     "data": {
      "text/plain": [
       "dtype('float64')"
      ]
     },
     "execution_count": 180,
     "metadata": {},
     "output_type": "execute_result"
    }
   ],
   "execution_count": 180
  },
  {
   "metadata": {
    "ExecuteTime": {
     "end_time": "2024-11-27T20:11:56.838776Z",
     "start_time": "2024-11-27T20:11:56.834092Z"
    }
   },
   "cell_type": "code",
   "source": [
    "array_d = np.array([10, 11, 12, 13])\n",
    "array_e = np.array([1, 2, 3, 4])\n",
    "\n",
    "array_d, array_e"
   ],
   "id": "895ad6aabf38cea0",
   "outputs": [
    {
     "data": {
      "text/plain": [
       "(array([10, 11, 12, 13]), array([1, 2, 3, 4]))"
      ]
     },
     "execution_count": 181,
     "metadata": {},
     "output_type": "execute_result"
    }
   ],
   "execution_count": 181
  },
  {
   "metadata": {
    "ExecuteTime": {
     "end_time": "2024-11-27T20:11:56.899938Z",
     "start_time": "2024-11-27T20:11:56.892587Z"
    }
   },
   "cell_type": "code",
   "source": [
    "adicao_array = array_d + array_e\n",
    "adicao_array"
   ],
   "id": "91c7c89970e1e562",
   "outputs": [
    {
     "data": {
      "text/plain": [
       "array([11, 13, 15, 17])"
      ]
     },
     "execution_count": 182,
     "metadata": {},
     "output_type": "execute_result"
    }
   ],
   "execution_count": 182
  },
  {
   "metadata": {
    "ExecuteTime": {
     "end_time": "2024-11-27T20:11:56.972840Z",
     "start_time": "2024-11-27T20:11:56.963638Z"
    }
   },
   "cell_type": "code",
   "source": [
    "subtracao_array = array_d - array_e\n",
    "subtracao_array"
   ],
   "id": "58ced31818ea8a7d",
   "outputs": [
    {
     "data": {
      "text/plain": [
       "array([9, 9, 9, 9])"
      ]
     },
     "execution_count": 183,
     "metadata": {},
     "output_type": "execute_result"
    }
   ],
   "execution_count": 183
  },
  {
   "metadata": {
    "ExecuteTime": {
     "end_time": "2024-11-27T20:11:57.041549Z",
     "start_time": "2024-11-27T20:11:57.031620Z"
    }
   },
   "cell_type": "code",
   "source": [
    "multiplicacao_array = array_d * array_e\n",
    "multiplicacao_array"
   ],
   "id": "919b75dd7307dbd8",
   "outputs": [
    {
     "data": {
      "text/plain": [
       "array([10, 22, 36, 52])"
      ]
     },
     "execution_count": 184,
     "metadata": {},
     "output_type": "execute_result"
    }
   ],
   "execution_count": 184
  },
  {
   "metadata": {
    "ExecuteTime": {
     "end_time": "2024-11-27T20:11:57.117784Z",
     "start_time": "2024-11-27T20:11:57.102442Z"
    }
   },
   "cell_type": "code",
   "source": [
    "divisao_array = array_d / array_e\n",
    "divisao_array"
   ],
   "id": "3657d49725257d9e",
   "outputs": [
    {
     "data": {
      "text/plain": [
       "array([10.  ,  5.5 ,  4.  ,  3.25])"
      ]
     },
     "execution_count": 185,
     "metadata": {},
     "output_type": "execute_result"
    }
   ],
   "execution_count": 185
  },
  {
   "metadata": {
    "ExecuteTime": {
     "end_time": "2024-11-27T20:11:57.179413Z",
     "start_time": "2024-11-27T20:11:57.170948Z"
    }
   },
   "cell_type": "code",
   "source": [
    "adicao_array_2 = array_d + 2\n",
    "adicao_array_2"
   ],
   "id": "ba63b84c8e3daea8",
   "outputs": [
    {
     "data": {
      "text/plain": [
       "array([12, 13, 14, 15])"
      ]
     },
     "execution_count": 186,
     "metadata": {},
     "output_type": "execute_result"
    }
   ],
   "execution_count": 186
  },
  {
   "metadata": {
    "ExecuteTime": {
     "end_time": "2024-11-27T20:11:57.236119Z",
     "start_time": "2024-11-27T20:11:57.230801Z"
    }
   },
   "cell_type": "code",
   "source": [
    "subtracao_array_2 = array_d - 2\n",
    "subtracao_array_2"
   ],
   "id": "bd7a6b5a94d7dc0b",
   "outputs": [
    {
     "data": {
      "text/plain": [
       "array([ 8,  9, 10, 11])"
      ]
     },
     "execution_count": 187,
     "metadata": {},
     "output_type": "execute_result"
    }
   ],
   "execution_count": 187
  },
  {
   "metadata": {
    "ExecuteTime": {
     "end_time": "2024-11-27T20:11:57.304446Z",
     "start_time": "2024-11-27T20:11:57.298973Z"
    }
   },
   "cell_type": "code",
   "source": [
    "multiplicacao_array_2 = array_d * 2\n",
    "multiplicacao_array_2"
   ],
   "id": "ad533e09a5f62238",
   "outputs": [
    {
     "data": {
      "text/plain": [
       "array([20, 22, 24, 26])"
      ]
     },
     "execution_count": 188,
     "metadata": {},
     "output_type": "execute_result"
    }
   ],
   "execution_count": 188
  },
  {
   "metadata": {
    "ExecuteTime": {
     "end_time": "2024-11-27T20:11:57.365926Z",
     "start_time": "2024-11-27T20:11:57.354966Z"
    }
   },
   "cell_type": "code",
   "source": [
    "divisao_array_2 = array_d / 2\n",
    "divisao_array_2"
   ],
   "id": "8604064eeaf4061",
   "outputs": [
    {
     "data": {
      "text/plain": [
       "array([5. , 5.5, 6. , 6.5])"
      ]
     },
     "execution_count": 189,
     "metadata": {},
     "output_type": "execute_result"
    }
   ],
   "execution_count": 189
  }
 ],
 "metadata": {
  "kernelspec": {
   "display_name": "Python 3",
   "language": "python",
   "name": "python3"
  },
  "language_info": {
   "codemirror_mode": {
    "name": "ipython",
    "version": 2
   },
   "file_extension": ".py",
   "mimetype": "text/x-python",
   "name": "python",
   "nbconvert_exporter": "python",
   "pygments_lexer": "ipython2",
   "version": "2.7.6"
  }
 },
 "nbformat": 4,
 "nbformat_minor": 5
}
