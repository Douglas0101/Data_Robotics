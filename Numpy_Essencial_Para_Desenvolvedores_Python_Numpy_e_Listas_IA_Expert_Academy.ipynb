{
 "cells": [
  {
   "cell_type": "code",
   "id": "4050a6f83179b1d8",
   "metadata": {
    "ExecuteTime": {
     "end_time": "2024-11-26T23:55:05.820447Z",
     "start_time": "2024-11-26T23:55:05.816637Z"
    }
   },
   "source": "import numpy as np",
   "outputs": [],
   "execution_count": 29
  },
  {
   "cell_type": "code",
   "id": "2229f05504d2a841",
   "metadata": {
    "ExecuteTime": {
     "end_time": "2024-11-26T23:55:05.855495Z",
     "start_time": "2024-11-26T23:55:05.848818Z"
    }
   },
   "source": [
    "np.__version__"
   ],
   "outputs": [
    {
     "data": {
      "text/plain": [
       "'1.26.4'"
      ]
     },
     "execution_count": 30,
     "metadata": {},
     "output_type": "execute_result"
    }
   ],
   "execution_count": 30
  },
  {
   "metadata": {
    "ExecuteTime": {
     "end_time": "2024-11-26T23:55:05.923015Z",
     "start_time": "2024-11-26T23:55:05.918151Z"
    }
   },
   "cell_type": "code",
   "source": "list_a = [1, 2, 3, 4]",
   "id": "bedcb40feb10b233",
   "outputs": [],
   "execution_count": 31
  },
  {
   "metadata": {
    "ExecuteTime": {
     "end_time": "2024-11-26T23:55:05.978354Z",
     "start_time": "2024-11-26T23:55:05.973331Z"
    }
   },
   "cell_type": "code",
   "source": "type(list_a)",
   "id": "868d91c15bd143e4",
   "outputs": [
    {
     "data": {
      "text/plain": [
       "list"
      ]
     },
     "execution_count": 32,
     "metadata": {},
     "output_type": "execute_result"
    }
   ],
   "execution_count": 32
  },
  {
   "metadata": {
    "ExecuteTime": {
     "end_time": "2024-11-26T23:55:06.045142Z",
     "start_time": "2024-11-26T23:55:06.036374Z"
    }
   },
   "cell_type": "code",
   "source": "print(id(list_a))",
   "id": "7081fd50efffe063",
   "outputs": [
    {
     "name": "stdout",
     "output_type": "stream",
     "text": [
      "125407540131840\n"
     ]
    }
   ],
   "execution_count": 33
  },
  {
   "metadata": {
    "ExecuteTime": {
     "end_time": "2024-11-26T23:55:06.116541Z",
     "start_time": "2024-11-26T23:55:06.110533Z"
    }
   },
   "cell_type": "code",
   "source": [
    "list_a.append(5)\n",
    "print(list_a)\n",
    "print(id(list_a))"
   ],
   "id": "7f59443e6404340d",
   "outputs": [
    {
     "name": "stdout",
     "output_type": "stream",
     "text": [
      "[1, 2, 3, 4, 5]\n",
      "125407540131840\n"
     ]
    }
   ],
   "execution_count": 34
  },
  {
   "metadata": {
    "ExecuteTime": {
     "end_time": "2024-11-26T23:55:06.177055Z",
     "start_time": "2024-11-26T23:55:06.172252Z"
    }
   },
   "cell_type": "code",
   "source": "array_a = np.array([1, 2, 3, 4])",
   "id": "7240469e5b73aa03",
   "outputs": [],
   "execution_count": 35
  },
  {
   "metadata": {
    "ExecuteTime": {
     "end_time": "2024-11-26T23:55:06.238470Z",
     "start_time": "2024-11-26T23:55:06.229777Z"
    }
   },
   "cell_type": "code",
   "source": "type(array_a)",
   "id": "51acb52fea59f922",
   "outputs": [
    {
     "data": {
      "text/plain": [
       "numpy.ndarray"
      ]
     },
     "execution_count": 36,
     "metadata": {},
     "output_type": "execute_result"
    }
   ],
   "execution_count": 36
  },
  {
   "metadata": {
    "ExecuteTime": {
     "end_time": "2024-11-26T23:55:06.302002Z",
     "start_time": "2024-11-26T23:55:06.298081Z"
    }
   },
   "cell_type": "code",
   "source": "print(id(array_a))",
   "id": "af2be6124efff9f7",
   "outputs": [
    {
     "name": "stdout",
     "output_type": "stream",
     "text": [
      "125408831817264\n"
     ]
    }
   ],
   "execution_count": 37
  },
  {
   "metadata": {
    "ExecuteTime": {
     "end_time": "2024-11-26T23:55:06.366744Z",
     "start_time": "2024-11-26T23:55:06.361053Z"
    }
   },
   "cell_type": "code",
   "source": [
    "array_a = np.append(array_a, [5])\n",
    "print(array_a)\n",
    "print(id(array_a))"
   ],
   "id": "813a0f3cc9aaa703",
   "outputs": [
    {
     "name": "stdout",
     "output_type": "stream",
     "text": [
      "[1 2 3 4 5]\n",
      "125408831817168\n"
     ]
    }
   ],
   "execution_count": 38
  },
  {
   "metadata": {
    "ExecuteTime": {
     "end_time": "2024-11-26T23:55:06.441288Z",
     "start_time": "2024-11-26T23:55:06.434751Z"
    }
   },
   "cell_type": "code",
   "source": [
    "list_a = [1, 2.4, 'a', True, 5]\n",
    "print(list_a)"
   ],
   "id": "cb17dc6a907bec93",
   "outputs": [
    {
     "name": "stdout",
     "output_type": "stream",
     "text": [
      "[1, 2.4, 'a', True, 5]\n"
     ]
    }
   ],
   "execution_count": 39
  },
  {
   "metadata": {
    "ExecuteTime": {
     "end_time": "2024-11-26T23:55:06.510328Z",
     "start_time": "2024-11-26T23:55:06.505565Z"
    }
   },
   "cell_type": "code",
   "source": "type(list_a)",
   "id": "5315b25fe6f96201",
   "outputs": [
    {
     "data": {
      "text/plain": [
       "list"
      ]
     },
     "execution_count": 40,
     "metadata": {},
     "output_type": "execute_result"
    }
   ],
   "execution_count": 40
  },
  {
   "metadata": {
    "ExecuteTime": {
     "end_time": "2024-11-26T23:55:06.608557Z",
     "start_time": "2024-11-26T23:55:06.600964Z"
    }
   },
   "cell_type": "code",
   "source": [
    "for i in array_a:\n",
    "    print(type(i))"
   ],
   "id": "63aa3fde06f49029",
   "outputs": [
    {
     "name": "stdout",
     "output_type": "stream",
     "text": [
      "<class 'numpy.int64'>\n",
      "<class 'numpy.int64'>\n",
      "<class 'numpy.int64'>\n",
      "<class 'numpy.int64'>\n",
      "<class 'numpy.int64'>\n"
     ]
    }
   ],
   "execution_count": 41
  },
  {
   "metadata": {
    "ExecuteTime": {
     "end_time": "2024-11-26T23:55:06.676855Z",
     "start_time": "2024-11-26T23:55:06.670731Z"
    }
   },
   "cell_type": "code",
   "source": "array_a.dtype",
   "id": "ebd41c11eb475296",
   "outputs": [
    {
     "data": {
      "text/plain": [
       "dtype('int64')"
      ]
     },
     "execution_count": 42,
     "metadata": {},
     "output_type": "execute_result"
    }
   ],
   "execution_count": 42
  },
  {
   "metadata": {
    "ExecuteTime": {
     "end_time": "2024-11-26T23:55:06.741972Z",
     "start_time": "2024-11-26T23:55:06.735532Z"
    }
   },
   "cell_type": "code",
   "source": [
    "list_a = [1, 2, 3, 4]\n",
    "list_b = [5, 6, 7, 8]\n",
    "\n",
    "list_c = list_a + list_b\n",
    "print(list_c)"
   ],
   "id": "d32dc991fa0b5a5b",
   "outputs": [
    {
     "name": "stdout",
     "output_type": "stream",
     "text": [
      "[1, 2, 3, 4, 5, 6, 7, 8]\n"
     ]
    }
   ],
   "execution_count": 43
  },
  {
   "metadata": {
    "ExecuteTime": {
     "end_time": "2024-11-26T23:55:06.809276Z",
     "start_time": "2024-11-26T23:55:06.801530Z"
    }
   },
   "cell_type": "code",
   "source": "list_a[0], list_a[1], list_a[2], list_a[3]",
   "id": "ed2dc8dab1d7121e",
   "outputs": [
    {
     "data": {
      "text/plain": [
       "(1, 2, 3, 4)"
      ]
     },
     "execution_count": 44,
     "metadata": {},
     "output_type": "execute_result"
    }
   ],
   "execution_count": 44
  },
  {
   "metadata": {
    "ExecuteTime": {
     "end_time": "2024-11-26T23:55:06.894577Z",
     "start_time": "2024-11-26T23:55:06.887671Z"
    }
   },
   "cell_type": "code",
   "source": [
    "list_c = []\n",
    "for i in range(4):\n",
    "    list_c.append(list_a[i] + list_b[i])\n",
    "print(list_c)"
   ],
   "id": "2afdc09812950213",
   "outputs": [
    {
     "name": "stdout",
     "output_type": "stream",
     "text": [
      "[6, 8, 10, 12]\n"
     ]
    }
   ],
   "execution_count": 45
  },
  {
   "metadata": {
    "ExecuteTime": {
     "end_time": "2024-11-26T23:55:06.987864Z",
     "start_time": "2024-11-26T23:55:06.976967Z"
    }
   },
   "cell_type": "code",
   "source": [
    "array_a = np.array([list_a])\n",
    "array_b = np.array([list_b])\n",
    "\n",
    "array_c = array_a + array_b"
   ],
   "id": "c7bb59402a45503d",
   "outputs": [],
   "execution_count": 46
  },
  {
   "metadata": {
    "ExecuteTime": {
     "end_time": "2024-11-26T23:55:07.041795Z",
     "start_time": "2024-11-26T23:55:07.033186Z"
    }
   },
   "cell_type": "code",
   "source": "print(array_c)",
   "id": "d60357a24b0d424",
   "outputs": [
    {
     "name": "stdout",
     "output_type": "stream",
     "text": [
      "[[ 6  8 10 12]]\n"
     ]
    }
   ],
   "execution_count": 47
  },
  {
   "metadata": {
    "ExecuteTime": {
     "end_time": "2024-11-26T23:55:07.110895Z",
     "start_time": "2024-11-26T23:55:07.105487Z"
    }
   },
   "cell_type": "code",
   "source": "array_a - array_b",
   "id": "e2404f3bac02c934",
   "outputs": [
    {
     "data": {
      "text/plain": [
       "array([[-4, -4, -4, -4]])"
      ]
     },
     "execution_count": 48,
     "metadata": {},
     "output_type": "execute_result"
    }
   ],
   "execution_count": 48
  },
  {
   "metadata": {
    "ExecuteTime": {
     "end_time": "2024-11-26T23:55:07.206161Z",
     "start_time": "2024-11-26T23:55:07.198532Z"
    }
   },
   "cell_type": "code",
   "source": "array_a + array_b",
   "id": "e54e7ee775b5691c",
   "outputs": [
    {
     "data": {
      "text/plain": [
       "array([[ 6,  8, 10, 12]])"
      ]
     },
     "execution_count": 49,
     "metadata": {},
     "output_type": "execute_result"
    }
   ],
   "execution_count": 49
  },
  {
   "metadata": {
    "ExecuteTime": {
     "end_time": "2024-11-26T23:55:07.285048Z",
     "start_time": "2024-11-26T23:55:07.277559Z"
    }
   },
   "cell_type": "code",
   "source": "array_a * array_b",
   "id": "f2cc945287870357",
   "outputs": [
    {
     "data": {
      "text/plain": [
       "array([[ 5, 12, 21, 32]])"
      ]
     },
     "execution_count": 50,
     "metadata": {},
     "output_type": "execute_result"
    }
   ],
   "execution_count": 50
  },
  {
   "metadata": {
    "ExecuteTime": {
     "end_time": "2024-11-26T23:55:07.414269Z",
     "start_time": "2024-11-26T23:55:07.408230Z"
    }
   },
   "cell_type": "code",
   "source": "array_a / array_b",
   "id": "66f3b84aed53e415",
   "outputs": [
    {
     "data": {
      "text/plain": [
       "array([[0.2       , 0.33333333, 0.42857143, 0.5       ]])"
      ]
     },
     "execution_count": 51,
     "metadata": {},
     "output_type": "execute_result"
    }
   ],
   "execution_count": 51
  },
  {
   "metadata": {
    "ExecuteTime": {
     "end_time": "2024-11-26T23:55:07.645547Z",
     "start_time": "2024-11-26T23:55:07.640093Z"
    }
   },
   "cell_type": "code",
   "source": "array_a % array_b",
   "id": "bb00922c48cdc352",
   "outputs": [
    {
     "data": {
      "text/plain": [
       "array([[1, 2, 3, 4]])"
      ]
     },
     "execution_count": 52,
     "metadata": {},
     "output_type": "execute_result"
    }
   ],
   "execution_count": 52
  },
  {
   "metadata": {
    "ExecuteTime": {
     "end_time": "2024-11-26T23:55:07.864927Z",
     "start_time": "2024-11-26T23:55:07.859229Z"
    }
   },
   "cell_type": "code",
   "source": "array_a ** array_b",
   "id": "90bd3dd66d040bec",
   "outputs": [
    {
     "data": {
      "text/plain": [
       "array([[    1,    64,  2187, 65536]])"
      ]
     },
     "execution_count": 53,
     "metadata": {},
     "output_type": "execute_result"
    }
   ],
   "execution_count": 53
  },
  {
   "metadata": {
    "ExecuteTime": {
     "end_time": "2024-11-26T23:55:08.004121Z",
     "start_time": "2024-11-26T23:55:08.001061Z"
    }
   },
   "cell_type": "code",
   "source": [
    "list_a = [1, 2, 3, 4]\n",
    "list_a.append(5)\n",
    "# list_a is now [1, 2, 3, 4, 5]"
   ],
   "id": "bf865505e47a04db",
   "outputs": [],
   "execution_count": 54
  },
  {
   "metadata": {
    "ExecuteTime": {
     "end_time": "2024-11-26T23:55:08.111599Z",
     "start_time": "2024-11-26T23:55:08.106386Z"
    }
   },
   "cell_type": "code",
   "source": [
    "list_b = []\n",
    "for i in list_a:\n",
    "    list_b.append(i + 5)\n",
    "    print(list_b)"
   ],
   "id": "d71bfdc492de4dc2",
   "outputs": [
    {
     "name": "stdout",
     "output_type": "stream",
     "text": [
      "[6]\n",
      "[6, 7]\n",
      "[6, 7, 8]\n",
      "[6, 7, 8, 9]\n",
      "[6, 7, 8, 9, 10]\n"
     ]
    }
   ],
   "execution_count": 55
  },
  {
   "metadata": {
    "ExecuteTime": {
     "end_time": "2024-11-26T23:55:08.367557Z",
     "start_time": "2024-11-26T23:55:08.348231Z"
    }
   },
   "cell_type": "code",
   "source": [
    "array_a = np.array([1, 2, 3, 4])\n",
    "array_a + 5"
   ],
   "id": "7a42ddffc2faf4d1",
   "outputs": [
    {
     "data": {
      "text/plain": [
       "array([6, 7, 8, 9])"
      ]
     },
     "execution_count": 56,
     "metadata": {},
     "output_type": "execute_result"
    }
   ],
   "execution_count": 56
  },
  {
   "metadata": {
    "ExecuteTime": {
     "end_time": "2024-11-26T23:55:08.547078Z",
     "start_time": "2024-11-26T23:55:08.542524Z"
    }
   },
   "cell_type": "code",
   "source": "array_b = np.array([[5], [10]])",
   "id": "ddc23b9d5c6f1e43",
   "outputs": [],
   "execution_count": 57
  },
  {
   "metadata": {
    "ExecuteTime": {
     "end_time": "2024-11-26T23:55:08.602822Z",
     "start_time": "2024-11-26T23:55:08.596715Z"
    }
   },
   "cell_type": "code",
   "source": "array_b",
   "id": "8df2554c4ea1aa0",
   "outputs": [
    {
     "data": {
      "text/plain": [
       "array([[ 5],\n",
       "       [10]])"
      ]
     },
     "execution_count": 58,
     "metadata": {},
     "output_type": "execute_result"
    }
   ],
   "execution_count": 58
  },
  {
   "metadata": {
    "ExecuteTime": {
     "end_time": "2024-11-26T23:55:08.655770Z",
     "start_time": "2024-11-26T23:55:08.650655Z"
    }
   },
   "cell_type": "code",
   "source": "array_b.shape",
   "id": "4bed5a66b05d0ede",
   "outputs": [
    {
     "data": {
      "text/plain": [
       "(2, 1)"
      ]
     },
     "execution_count": 59,
     "metadata": {},
     "output_type": "execute_result"
    }
   ],
   "execution_count": 59
  },
  {
   "metadata": {
    "ExecuteTime": {
     "end_time": "2024-11-26T23:55:08.717971Z",
     "start_time": "2024-11-26T23:55:08.712039Z"
    }
   },
   "cell_type": "code",
   "source": "array_a",
   "id": "1d7c686fb6bc6cd3",
   "outputs": [
    {
     "data": {
      "text/plain": [
       "array([1, 2, 3, 4])"
      ]
     },
     "execution_count": 60,
     "metadata": {},
     "output_type": "execute_result"
    }
   ],
   "execution_count": 60
  },
  {
   "metadata": {
    "ExecuteTime": {
     "end_time": "2024-11-26T23:55:08.775299Z",
     "start_time": "2024-11-26T23:55:08.769652Z"
    }
   },
   "cell_type": "code",
   "source": "array_a + array_b",
   "id": "18c78853c74cfbca",
   "outputs": [
    {
     "data": {
      "text/plain": [
       "array([[ 6,  7,  8,  9],\n",
       "       [11, 12, 13, 14]])"
      ]
     },
     "execution_count": 61,
     "metadata": {},
     "output_type": "execute_result"
    }
   ],
   "execution_count": 61
  },
  {
   "metadata": {
    "ExecuteTime": {
     "end_time": "2024-11-26T23:55:08.927012Z",
     "start_time": "2024-11-26T23:55:08.922486Z"
    }
   },
   "cell_type": "code",
   "source": "array_b = np.array([[5, 6], [10, 11]])",
   "id": "dd3ba047c0ee354",
   "outputs": [],
   "execution_count": 62
  },
  {
   "metadata": {
    "ExecuteTime": {
     "end_time": "2024-11-26T23:55:09.006422Z",
     "start_time": "2024-11-26T23:55:08.998805Z"
    }
   },
   "cell_type": "code",
   "source": "array_b.shape",
   "id": "974ceb8ed9935a60",
   "outputs": [
    {
     "data": {
      "text/plain": [
       "(2, 2)"
      ]
     },
     "execution_count": 63,
     "metadata": {},
     "output_type": "execute_result"
    }
   ],
   "execution_count": 63
  },
  {
   "metadata": {
    "ExecuteTime": {
     "end_time": "2024-11-26T23:55:09.134184Z",
     "start_time": "2024-11-26T23:55:09.113154Z"
    }
   },
   "cell_type": "code",
   "source": "array_a + array_b",
   "id": "267faf95c192dc3b",
   "outputs": [
    {
     "ename": "ValueError",
     "evalue": "operands could not be broadcast together with shapes (4,) (2,2) ",
     "output_type": "error",
     "traceback": [
      "\u001B[0;31m---------------------------------------------------------------------------\u001B[0m",
      "\u001B[0;31mValueError\u001B[0m                                Traceback (most recent call last)",
      "Cell \u001B[0;32mIn[64], line 1\u001B[0m\n\u001B[0;32m----> 1\u001B[0m array_a \u001B[38;5;241m+\u001B[39m array_b\n",
      "\u001B[0;31mValueError\u001B[0m: operands could not be broadcast together with shapes (4,) (2,2) "
     ]
    }
   ],
   "execution_count": 64
  }
 ],
 "metadata": {
  "kernelspec": {
   "display_name": "base",
   "language": "python",
   "name": "python3"
  },
  "language_info": {
   "codemirror_mode": {
    "name": "ipython",
    "version": 2
   },
   "file_extension": ".py",
   "mimetype": "text/x-python",
   "name": "python",
   "nbconvert_exporter": "python",
   "pygments_lexer": "ipython2",
   "version": "3.12.7"
  }
 },
 "nbformat": 4,
 "nbformat_minor": 5
}
