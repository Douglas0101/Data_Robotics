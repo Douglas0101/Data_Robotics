{
 "cells": [
  {
   "metadata": {
    "ExecuteTime": {
     "end_time": "2024-11-24T02:02:06.124508Z",
     "start_time": "2024-11-24T02:02:06.119536Z"
    }
   },
   "cell_type": "code",
   "source": [
    "class Aluno:\n",
    "    def __init__(self, nome, nota_1, nota_2):\n",
    "        self.nome = nome\n",
    "        self.nota_1 = nota_1\n",
    "        self.nota_2 = nota_2\n",
    "        self.media = 0.0\n",
    "\n",
    "    def calcula_media(self):\n",
    "        self.media = (self.nota_1 + self.nota_2) / 2\n",
    "        return self.media\n",
    "\n",
    "    def mostrar_dados(self):\n",
    "        print(f\"Nome: {self.nome}\")\n",
    "        print(f\"Nota 1: {self.nota_1}\")\n",
    "        print(f\"Nota 2: {self.nota_2}\")\n",
    "        print(f\"Media: {self.media}\")\n",
    "\n",
    "    def resultado(self):\n",
    "        if self.media >= 6.0:\n",
    "            print(\"Aprovado\")\n",
    "        else:\n",
    "            print(\"Reprovado\")"
   ],
   "id": "ae635e4c37f12e5d",
   "outputs": [],
   "execution_count": 8
  },
  {
   "metadata": {
    "ExecuteTime": {
     "end_time": "2024-11-24T02:02:06.144235Z",
     "start_time": "2024-11-24T02:02:06.141247Z"
    }
   },
   "cell_type": "code",
   "source": [
    "aluno_1 = Aluno(\"João\", 7.0, 8.0)\n",
    "aluno_1.calcula_media()\n",
    "aluno_1.mostrar_dados()\n",
    "aluno_1.resultado()"
   ],
   "id": "cd7fba097cdb92d9",
   "outputs": [
    {
     "name": "stdout",
     "output_type": "stream",
     "text": [
      "Nome: João\n",
      "Nota 1: 7.0\n",
      "Nota 2: 8.0\n",
      "Media: 7.5\n",
      "Aprovado\n"
     ]
    }
   ],
   "execution_count": 9
  }
 ],
 "metadata": {
  "kernelspec": {
   "display_name": "Python 3",
   "language": "python",
   "name": "python3"
  },
  "language_info": {
   "codemirror_mode": {
    "name": "ipython",
    "version": 2
   },
   "file_extension": ".py",
   "mimetype": "text/x-python",
   "name": "python",
   "nbconvert_exporter": "python",
   "pygments_lexer": "ipython2",
   "version": "2.7.6"
  }
 },
 "nbformat": 4,
 "nbformat_minor": 5
}
