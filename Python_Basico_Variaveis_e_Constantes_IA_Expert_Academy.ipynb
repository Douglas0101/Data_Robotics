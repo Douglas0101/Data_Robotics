{
 "cells": [
  {
   "metadata": {
    "ExecuteTime": {
     "end_time": "2024-11-20T04:15:28.036827Z",
     "start_time": "2024-11-20T04:15:28.034613Z"
    }
   },
   "cell_type": "code",
   "source": [
    "from traceback import print_tb\n",
    "\n",
    "numero = -3\n",
    "numero_jogos = 14\n",
    "numero_convidados = 15"
   ],
   "id": "7c9c54f366e0f6e",
   "outputs": [],
   "execution_count": 1
  },
  {
   "metadata": {
    "ExecuteTime": {
     "end_time": "2024-11-20T04:15:28.091475Z",
     "start_time": "2024-11-20T04:15:28.084559Z"
    }
   },
   "cell_type": "code",
   "source": [
    "numero\n",
    "\n",
    "print(numero)\n",
    "\n",
    "print(numero, numero_convidados)"
   ],
   "id": "98c89a3c1836a0eb",
   "outputs": [
    {
     "name": "stdout",
     "output_type": "stream",
     "text": [
      "-3\n",
      "-3 15\n"
     ]
    }
   ],
   "execution_count": 2
  },
  {
   "metadata": {
    "ExecuteTime": {
     "end_time": "2024-11-20T04:15:28.141208Z",
     "start_time": "2024-11-20T04:15:28.138460Z"
    }
   },
   "cell_type": "code",
   "source": [
    "pi = 3.14\n",
    "numero_euler = 2.71\n",
    "escala_terremoto = -4.55"
   ],
   "id": "c26f8e4cfb751f1a",
   "outputs": [],
   "execution_count": 3
  },
  {
   "metadata": {
    "ExecuteTime": {
     "end_time": "2024-11-20T04:15:28.197055Z",
     "start_time": "2024-11-20T04:15:28.194196Z"
    }
   },
   "cell_type": "code",
   "source": [
    "print(pi)\n",
    "print(numero_euler)\n",
    "print(escala_terremoto)"
   ],
   "id": "f7ad85acf66a7bfb",
   "outputs": [
    {
     "name": "stdout",
     "output_type": "stream",
     "text": [
      "3.14\n",
      "2.71\n",
      "-4.55\n"
     ]
    }
   ],
   "execution_count": 4
  },
  {
   "metadata": {
    "ExecuteTime": {
     "end_time": "2024-11-20T04:15:28.247009Z",
     "start_time": "2024-11-20T04:15:28.242411Z"
    }
   },
   "cell_type": "code",
   "source": [
    "letra = \"a\"\n",
    "palavra1 = 'linguagem de programação'\n",
    "palavra2 = \"Python\""
   ],
   "id": "5b8af25ea5e871f0",
   "outputs": [],
   "execution_count": 5
  },
  {
   "metadata": {
    "ExecuteTime": {
     "end_time": "2024-11-20T04:15:28.301895Z",
     "start_time": "2024-11-20T04:15:28.295593Z"
    }
   },
   "cell_type": "code",
   "source": "print(letra, palavra1)",
   "id": "f6ea467412c935fe",
   "outputs": [
    {
     "name": "stdout",
     "output_type": "stream",
     "text": [
      "a linguagem de programação\n"
     ]
    }
   ],
   "execution_count": 6
  },
  {
   "metadata": {
    "ExecuteTime": {
     "end_time": "2024-11-20T04:15:28.361455Z",
     "start_time": "2024-11-20T04:15:28.354142Z"
    }
   },
   "cell_type": "code",
   "source": "print('Estou aprendendo uma', palavra1)",
   "id": "e4626a8bac5cb148",
   "outputs": [
    {
     "name": "stdout",
     "output_type": "stream",
     "text": [
      "Estou aprendendo uma linguagem de programação\n"
     ]
    }
   ],
   "execution_count": 7
  },
  {
   "metadata": {
    "ExecuteTime": {
     "end_time": "2024-11-20T04:15:28.417839Z",
     "start_time": "2024-11-20T04:15:28.411088Z"
    }
   },
   "cell_type": "code",
   "source": "print(f'Essa {palavra1}, se chama {palavra2}.')",
   "id": "7c28c4d747e79158",
   "outputs": [
    {
     "name": "stdout",
     "output_type": "stream",
     "text": [
      "Essa linguagem de programação, se chama Python.\n"
     ]
    }
   ],
   "execution_count": 8
  },
  {
   "metadata": {
    "ExecuteTime": {
     "end_time": "2024-11-20T04:15:36.214329Z",
     "start_time": "2024-11-20T04:15:28.468183Z"
    }
   },
   "cell_type": "code",
   "source": [
    "idade = int(input('Digite sua idade: '))\n",
    "print('Sua idade é', idade, 'anos.')"
   ],
   "id": "3dc0fac8276d2dbd",
   "outputs": [
    {
     "name": "stdout",
     "output_type": "stream",
     "text": [
      "Sua idade é 27 anos.\n"
     ]
    }
   ],
   "execution_count": 9
  },
  {
   "metadata": {
    "ExecuteTime": {
     "end_time": "2024-11-20T04:15:37.193330Z",
     "start_time": "2024-11-20T04:15:36.245240Z"
    }
   },
   "cell_type": "code",
   "source": [
    "pH = float(input('Qual o pH do solo durante a última medição?'))\n",
    "print(f'O pH medido foi {pH}')"
   ],
   "id": "d0e5fa487986328b",
   "outputs": [
    {
     "ename": "ValueError",
     "evalue": "could not convert string to float: ''",
     "output_type": "error",
     "traceback": [
      "\u001B[0;31m---------------------------------------------------------------------------\u001B[0m",
      "\u001B[0;31mValueError\u001B[0m                                Traceback (most recent call last)",
      "Cell \u001B[0;32mIn[10], line 1\u001B[0m\n\u001B[0;32m----> 1\u001B[0m pH \u001B[38;5;241m=\u001B[39m \u001B[38;5;28mfloat\u001B[39m(\u001B[38;5;28minput\u001B[39m(\u001B[38;5;124m'\u001B[39m\u001B[38;5;124mQual o pH do solo durante a última medição?\u001B[39m\u001B[38;5;124m'\u001B[39m))\n\u001B[1;32m      2\u001B[0m \u001B[38;5;28mprint\u001B[39m(\u001B[38;5;124mf\u001B[39m\u001B[38;5;124m'\u001B[39m\u001B[38;5;124mO pH medido foi \u001B[39m\u001B[38;5;132;01m{\u001B[39;00mpH\u001B[38;5;132;01m}\u001B[39;00m\u001B[38;5;124m'\u001B[39m)\n",
      "\u001B[0;31mValueError\u001B[0m: could not convert string to float: ''"
     ]
    }
   ],
   "execution_count": 10
  },
  {
   "metadata": {
    "ExecuteTime": {
     "end_time": "2024-11-20T04:15:37.195845241Z",
     "start_time": "2024-11-17T01:25:57.926431Z"
    }
   },
   "cell_type": "code",
   "source": [
    "nome = str(input('Qual o seu nome?'))\n",
    "print(f'Seu nome é {nome}.')"
   ],
   "id": "9b02f81ddfcba8d3",
   "outputs": [
    {
     "name": "stdout",
     "output_type": "stream",
     "text": [
      "Seu nome é Douglas.\n"
     ]
    }
   ],
   "execution_count": 11
  },
  {
   "metadata": {
    "ExecuteTime": {
     "end_time": "2024-11-20T04:15:37.199940004Z",
     "start_time": "2024-11-17T01:26:04.848883Z"
    }
   },
   "cell_type": "code",
   "source": "idade",
   "id": "7c90a179165b46ac",
   "outputs": [
    {
     "data": {
      "text/plain": [
       "27"
      ]
     },
     "execution_count": 12,
     "metadata": {},
     "output_type": "execute_result"
    }
   ],
   "execution_count": 12
  }
 ],
 "metadata": {
  "kernelspec": {
   "display_name": "Python 3",
   "language": "python",
   "name": "python3"
  },
  "language_info": {
   "codemirror_mode": {
    "name": "ipython",
    "version": 2
   },
   "file_extension": ".py",
   "mimetype": "text/x-python",
   "name": "python",
   "nbconvert_exporter": "python",
   "pygments_lexer": "ipython2",
   "version": "2.7.6"
  }
 },
 "nbformat": 4,
 "nbformat_minor": 5
}
