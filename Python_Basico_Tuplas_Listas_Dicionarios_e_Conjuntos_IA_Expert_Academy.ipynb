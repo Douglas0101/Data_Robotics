{
 "cells": [
  {
   "metadata": {},
   "cell_type": "code",
   "outputs": [],
   "execution_count": null,
   "source": "tupla = ('Homo Sapiens', 'Canis Familiaris', 'Felis Catus')",
   "id": "667343f26edb8130"
  },
  {
   "metadata": {},
   "cell_type": "code",
   "outputs": [],
   "execution_count": null,
   "source": "tupla",
   "id": "49fcd6484c7deefb"
  },
  {
   "metadata": {},
   "cell_type": "code",
   "outputs": [],
   "execution_count": null,
   "source": "tupla[0]",
   "id": "3c1257b53f639ad6"
  },
  {
   "metadata": {},
   "cell_type": "code",
   "outputs": [],
   "execution_count": null,
   "source": "tupla[1]",
   "id": "9493724ed187f234"
  },
  {
   "metadata": {},
   "cell_type": "code",
   "outputs": [],
   "execution_count": null,
   "source": "tupla[2]",
   "id": "2829ac870e3e7719"
  },
  {
   "metadata": {},
   "cell_type": "code",
   "outputs": [],
   "execution_count": null,
   "source": "tupla[3]",
   "id": "f7695e878c08a25c"
  },
  {
   "metadata": {},
   "cell_type": "code",
   "outputs": [],
   "execution_count": null,
   "source": "tupla.index('Canis Familiaris')",
   "id": "c3b64db30caba908"
  },
  {
   "metadata": {},
   "cell_type": "code",
   "outputs": [],
   "execution_count": null,
   "source": [
    "for elemento in tupla:\n",
    "    print(elemento)"
   ],
   "id": "9ebf851a222fd83f"
  },
  {
   "metadata": {},
   "cell_type": "code",
   "outputs": [],
   "execution_count": null,
   "source": [
    "l1 = ['Homo Sapiens', 'Canis Familiaris', 'Felis Catus']\n",
    "l2 = ['Xenopus Laevis', 'Ailuropoda Melanoleuca', 'Pan Troglodytes']"
   ],
   "id": "66eda93040064300"
  },
  {
   "metadata": {},
   "cell_type": "code",
   "outputs": [],
   "execution_count": null,
   "source": [
    "l3 = l1 + l2\n",
    "print(l3)"
   ],
   "id": "3aa2b7a0f3105f98"
  },
  {
   "metadata": {},
   "cell_type": "code",
   "outputs": [],
   "execution_count": null,
   "source": "l2",
   "id": "4caed99ca498b6ba"
  },
  {
   "metadata": {},
   "cell_type": "code",
   "outputs": [],
   "execution_count": null,
   "source": [
    "l2_2 = l2 * 2\n",
    "print(l2_2)"
   ],
   "id": "2e2fc65950d426f0"
  },
  {
   "metadata": {},
   "cell_type": "code",
   "outputs": [],
   "execution_count": null,
   "source": "l1[0]",
   "id": "54ef3bd5b6b64988"
  },
  {
   "metadata": {},
   "cell_type": "code",
   "outputs": [],
   "execution_count": null,
   "source": "l1[0:2]",
   "id": "14bc3912f55889d2"
  },
  {
   "metadata": {},
   "cell_type": "code",
   "outputs": [],
   "execution_count": null,
   "source": [
    "l1.append('Gorila Gorila')\n",
    "print(l1)"
   ],
   "id": "3d8a2065157d2e8c"
  },
  {
   "metadata": {},
   "cell_type": "code",
   "outputs": [],
   "execution_count": null,
   "source": [
    "l1.remove('Felis Catus')\n",
    "print(l1)"
   ],
   "id": "c639a299147797c8"
  },
  {
   "metadata": {},
   "cell_type": "code",
   "outputs": [],
   "execution_count": null,
   "source": "del(l1)",
   "id": "6f52bf73a9ce4cd6"
  },
  {
   "metadata": {},
   "cell_type": "code",
   "outputs": [],
   "execution_count": null,
   "source": "print(l1)",
   "id": "7d65a6331bf53f6d"
  },
  {
   "metadata": {},
   "cell_type": "code",
   "outputs": [],
   "execution_count": null,
   "source": [
    "for item in l2_2:\n",
    "    print(item)"
   ],
   "id": "68644752aed4457f"
  },
  {
   "metadata": {},
   "cell_type": "code",
   "outputs": [],
   "execution_count": null,
   "source": "coleta = {'Aedes aegypti': 32, 'Aedes albopictus': 22, 'Anopheles darlingi': 14}",
   "id": "3533149fefb50d49"
  },
  {
   "metadata": {},
   "cell_type": "code",
   "outputs": [],
   "execution_count": null,
   "source": "print(coleta)",
   "id": "45f1f6d3ce7628b6"
  },
  {
   "metadata": {},
   "cell_type": "code",
   "outputs": [],
   "execution_count": null,
   "source": [
    "del(coleta)['Aedes albopictus']\n",
    "print(coleta)"
   ],
   "id": "941160a699ee0b85"
  },
  {
   "metadata": {},
   "cell_type": "code",
   "outputs": [],
   "execution_count": null,
   "source": "coleta.items()",
   "id": "2c67fb738b607317"
  },
  {
   "metadata": {},
   "cell_type": "code",
   "outputs": [],
   "execution_count": null,
   "source": "coleta.keys()",
   "id": "58fbb391ece4dc9a"
  },
  {
   "metadata": {},
   "cell_type": "code",
   "outputs": [],
   "execution_count": null,
   "source": "coleta.values()",
   "id": "483ca983bd459c58"
  },
  {
   "metadata": {},
   "cell_type": "code",
   "outputs": [],
   "execution_count": null,
   "source": "coleta2 = {'Anopheles gambie': 13, 'Anopheles deaneorum': 14}",
   "id": "86dbe48ed6468ed3"
  },
  {
   "metadata": {},
   "cell_type": "code",
   "outputs": [],
   "execution_count": null,
   "source": [
    "coleta.update(coleta2)\n",
    "print(coleta)"
   ],
   "id": "43eea9925639941"
  },
  {
   "metadata": {},
   "cell_type": "code",
   "outputs": [],
   "execution_count": null,
   "source": "coleta.items()",
   "id": "c83dce536fb5facb"
  },
  {
   "metadata": {},
   "cell_type": "code",
   "outputs": [],
   "execution_count": null,
   "source": [
    "for especie, num_especimes in coleta.items():\n",
    "    print(f'Espécie: {especie}, Número de especimes coletados: {num_especimes}')"
   ],
   "id": "7023ab0f77ea81da"
  },
  {
   "metadata": {},
   "cell_type": "code",
   "outputs": [],
   "execution_count": null,
   "source": "biomoleculas = ('proteína', 'ácidos nucleicos','carboidrato', 'lipídeo', 'ácidos nucleicos', 'carboidrato', 'carboidrato', 'carboidrato')",
   "id": "deeb71b85e6bbed3"
  },
  {
   "metadata": {},
   "cell_type": "code",
   "outputs": [],
   "execution_count": null,
   "source": "print(biomoleculas)",
   "id": "fade7a891aa04430"
  },
  {
   "metadata": {},
   "cell_type": "code",
   "outputs": [],
   "execution_count": null,
   "source": "print(set(biomoleculas))",
   "id": "31ed1f082163aa75"
  },
  {
   "metadata": {},
   "cell_type": "code",
   "outputs": [],
   "execution_count": null,
   "source": [
    "c1 = {1,2,3,4,5}\n",
    "c2 = {4,5,6,7,8}\n",
    "c3 = c1.intersection(c2)"
   ],
   "id": "5c0cd740a52ed76e"
  },
  {
   "metadata": {},
   "cell_type": "code",
   "outputs": [],
   "execution_count": null,
   "source": "print(c3)",
   "id": "82c5444c6f4c1bbc"
  },
  {
   "metadata": {},
   "cell_type": "code",
   "outputs": [],
   "execution_count": null,
   "source": "c1.difference(c2)",
   "id": "668d6832230118f4"
  },
  {
   "metadata": {},
   "cell_type": "code",
   "outputs": [],
   "execution_count": null,
   "source": "c2.difference(c1)",
   "id": "504a47e5dee15b"
  }
 ],
 "metadata": {
  "kernelspec": {
   "display_name": "Python 3",
   "language": "python",
   "name": "python3"
  },
  "language_info": {
   "codemirror_mode": {
    "name": "ipython",
    "version": 2
   },
   "file_extension": ".py",
   "mimetype": "text/x-python",
   "name": "python",
   "nbconvert_exporter": "python",
   "pygments_lexer": "ipython2",
   "version": "2.7.6"
  }
 },
 "nbformat": 4,
 "nbformat_minor": 5
}
