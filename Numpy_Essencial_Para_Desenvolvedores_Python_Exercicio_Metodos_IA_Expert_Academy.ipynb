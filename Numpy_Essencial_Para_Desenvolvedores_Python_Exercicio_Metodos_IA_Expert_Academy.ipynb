{
 "cells": [
  {
   "cell_type": "code",
   "id": "initial_id",
   "metadata": {
    "collapsed": true,
    "ExecuteTime": {
     "end_time": "2024-12-21T03:32:09.552149Z",
     "start_time": "2024-12-21T03:32:09.550013Z"
    }
   },
   "source": "import numpy as np",
   "outputs": [],
   "execution_count": 411
  },
  {
   "metadata": {
    "ExecuteTime": {
     "end_time": "2024-12-21T03:32:09.611181Z",
     "start_time": "2024-12-21T03:32:09.608772Z"
    }
   },
   "cell_type": "code",
   "source": "rng = np.random.default_rng(seed=1)",
   "id": "1a96392e19bbb539",
   "outputs": [],
   "execution_count": 412
  },
  {
   "metadata": {
    "ExecuteTime": {
     "end_time": "2024-12-21T03:32:09.653600Z",
     "start_time": "2024-12-21T03:32:09.651328Z"
    }
   },
   "cell_type": "code",
   "source": "array = rng.normal(loc=50, scale=3, size=60).reshape(3,5,4).round(3)",
   "id": "93c185b70a90c416",
   "outputs": [],
   "execution_count": 413
  },
  {
   "metadata": {
    "ExecuteTime": {
     "end_time": "2024-12-21T03:32:09.702815Z",
     "start_time": "2024-12-21T03:32:09.698650Z"
    }
   },
   "cell_type": "code",
   "source": "array",
   "id": "62551c7bd1e372c8",
   "outputs": [
    {
     "data": {
      "text/plain": [
       "array([[[51.037, 52.465, 50.991, 46.091],\n",
       "        [52.716, 51.339, 48.389, 51.743],\n",
       "        [51.094, 50.882, 50.085, 51.64 ],\n",
       "        [47.791, 49.511, 48.554, 51.797],\n",
       "        [50.119, 49.123, 47.654, 49.228]],\n",
       "\n",
       "       [[50.024, 49.173, 53.882, 53.02 ],\n",
       "        [41.867, 44.333, 49.476, 48.733],\n",
       "        [50.641, 50.652, 56.354, 46.664],\n",
       "        [48.867, 56.128, 51.94 , 51.989],\n",
       "        [48.458, 45.056, 50.502, 50.327]],\n",
       "\n",
       "       [[46.318, 47.95 , 49.784, 47.166],\n",
       "        [49.705, 50.286, 50.107, 48.481],\n",
       "        [51.781, 52.674, 50.963, 47.545],\n",
       "        [52.195, 48.496, 52.637, 46.785],\n",
       "        [52.743, 49.94 , 46.254, 49.058]]])"
      ]
     },
     "execution_count": 414,
     "metadata": {},
     "output_type": "execute_result"
    }
   ],
   "execution_count": 414
  },
  {
   "metadata": {
    "ExecuteTime": {
     "end_time": "2024-12-21T03:32:09.863886Z",
     "start_time": "2024-12-21T03:32:09.857912Z"
    }
   },
   "cell_type": "code",
   "source": "array[0]\n",
   "id": "98c25a255e310a64",
   "outputs": [
    {
     "data": {
      "text/plain": [
       "array([[51.037, 52.465, 50.991, 46.091],\n",
       "       [52.716, 51.339, 48.389, 51.743],\n",
       "       [51.094, 50.882, 50.085, 51.64 ],\n",
       "       [47.791, 49.511, 48.554, 51.797],\n",
       "       [50.119, 49.123, 47.654, 49.228]])"
      ]
     },
     "execution_count": 415,
     "metadata": {},
     "output_type": "execute_result"
    }
   ],
   "execution_count": 415
  },
  {
   "metadata": {
    "ExecuteTime": {
     "end_time": "2024-12-21T03:32:10.005065Z",
     "start_time": "2024-12-21T03:32:10.001921Z"
    }
   },
   "cell_type": "code",
   "source": "array[1]",
   "id": "1207b5008f88f6a6",
   "outputs": [
    {
     "data": {
      "text/plain": [
       "array([[50.024, 49.173, 53.882, 53.02 ],\n",
       "       [41.867, 44.333, 49.476, 48.733],\n",
       "       [50.641, 50.652, 56.354, 46.664],\n",
       "       [48.867, 56.128, 51.94 , 51.989],\n",
       "       [48.458, 45.056, 50.502, 50.327]])"
      ]
     },
     "execution_count": 416,
     "metadata": {},
     "output_type": "execute_result"
    }
   ],
   "execution_count": 416
  },
  {
   "metadata": {
    "ExecuteTime": {
     "end_time": "2024-12-21T03:32:10.075989Z",
     "start_time": "2024-12-21T03:32:10.072544Z"
    }
   },
   "cell_type": "code",
   "source": "array[2]",
   "id": "e3d331e5ddc686df",
   "outputs": [
    {
     "data": {
      "text/plain": [
       "array([[46.318, 47.95 , 49.784, 47.166],\n",
       "       [49.705, 50.286, 50.107, 48.481],\n",
       "       [51.781, 52.674, 50.963, 47.545],\n",
       "       [52.195, 48.496, 52.637, 46.785],\n",
       "       [52.743, 49.94 , 46.254, 49.058]])"
      ]
     },
     "execution_count": 417,
     "metadata": {},
     "output_type": "execute_result"
    }
   ],
   "execution_count": 417
  },
  {
   "metadata": {
    "ExecuteTime": {
     "end_time": "2024-12-21T03:32:10.156234Z",
     "start_time": "2024-12-21T03:32:10.153503Z"
    }
   },
   "cell_type": "code",
   "source": "array.shape",
   "id": "f8ada83d18f0173e",
   "outputs": [
    {
     "data": {
      "text/plain": [
       "(3, 5, 4)"
      ]
     },
     "execution_count": 418,
     "metadata": {},
     "output_type": "execute_result"
    }
   ],
   "execution_count": 418
  },
  {
   "metadata": {
    "ExecuteTime": {
     "end_time": "2024-12-21T03:32:10.227613Z",
     "start_time": "2024-12-21T03:32:10.224350Z"
    }
   },
   "cell_type": "code",
   "source": "array.item(2,1,0)",
   "id": "8ffbbec2346b6907",
   "outputs": [
    {
     "data": {
      "text/plain": [
       "49.705"
      ]
     },
     "execution_count": 419,
     "metadata": {},
     "output_type": "execute_result"
    }
   ],
   "execution_count": 419
  },
  {
   "metadata": {
    "ExecuteTime": {
     "end_time": "2024-12-21T03:32:10.303171Z",
     "start_time": "2024-12-21T03:32:10.300645Z"
    }
   },
   "cell_type": "code",
   "source": "array.itemset((2,1,0), 49.709)",
   "id": "4c95cac6d509500f",
   "outputs": [],
   "execution_count": 420
  },
  {
   "metadata": {
    "ExecuteTime": {
     "end_time": "2024-12-21T03:32:10.366357Z",
     "start_time": "2024-12-21T03:32:10.363312Z"
    }
   },
   "cell_type": "code",
   "source": "array",
   "id": "1493d7d002afa452",
   "outputs": [
    {
     "data": {
      "text/plain": [
       "array([[[51.037, 52.465, 50.991, 46.091],\n",
       "        [52.716, 51.339, 48.389, 51.743],\n",
       "        [51.094, 50.882, 50.085, 51.64 ],\n",
       "        [47.791, 49.511, 48.554, 51.797],\n",
       "        [50.119, 49.123, 47.654, 49.228]],\n",
       "\n",
       "       [[50.024, 49.173, 53.882, 53.02 ],\n",
       "        [41.867, 44.333, 49.476, 48.733],\n",
       "        [50.641, 50.652, 56.354, 46.664],\n",
       "        [48.867, 56.128, 51.94 , 51.989],\n",
       "        [48.458, 45.056, 50.502, 50.327]],\n",
       "\n",
       "       [[46.318, 47.95 , 49.784, 47.166],\n",
       "        [49.709, 50.286, 50.107, 48.481],\n",
       "        [51.781, 52.674, 50.963, 47.545],\n",
       "        [52.195, 48.496, 52.637, 46.785],\n",
       "        [52.743, 49.94 , 46.254, 49.058]]])"
      ]
     },
     "execution_count": 421,
     "metadata": {},
     "output_type": "execute_result"
    }
   ],
   "execution_count": 421
  },
  {
   "metadata": {
    "ExecuteTime": {
     "end_time": "2024-12-21T03:32:10.425200Z",
     "start_time": "2024-12-21T03:32:10.422283Z"
    }
   },
   "cell_type": "code",
   "source": "array.item(2,1,0)",
   "id": "7c5ddcc8a487a90d",
   "outputs": [
    {
     "data": {
      "text/plain": [
       "49.709"
      ]
     },
     "execution_count": 422,
     "metadata": {},
     "output_type": "execute_result"
    }
   ],
   "execution_count": 422
  },
  {
   "metadata": {
    "ExecuteTime": {
     "end_time": "2024-12-21T03:32:10.471684Z",
     "start_time": "2024-12-21T03:32:10.467640Z"
    }
   },
   "cell_type": "code",
   "source": [
    "array_view = array.view()\n",
    "array_view"
   ],
   "id": "591da8b7652d2bdb",
   "outputs": [
    {
     "data": {
      "text/plain": [
       "array([[[51.037, 52.465, 50.991, 46.091],\n",
       "        [52.716, 51.339, 48.389, 51.743],\n",
       "        [51.094, 50.882, 50.085, 51.64 ],\n",
       "        [47.791, 49.511, 48.554, 51.797],\n",
       "        [50.119, 49.123, 47.654, 49.228]],\n",
       "\n",
       "       [[50.024, 49.173, 53.882, 53.02 ],\n",
       "        [41.867, 44.333, 49.476, 48.733],\n",
       "        [50.641, 50.652, 56.354, 46.664],\n",
       "        [48.867, 56.128, 51.94 , 51.989],\n",
       "        [48.458, 45.056, 50.502, 50.327]],\n",
       "\n",
       "       [[46.318, 47.95 , 49.784, 47.166],\n",
       "        [49.709, 50.286, 50.107, 48.481],\n",
       "        [51.781, 52.674, 50.963, 47.545],\n",
       "        [52.195, 48.496, 52.637, 46.785],\n",
       "        [52.743, 49.94 , 46.254, 49.058]]])"
      ]
     },
     "execution_count": 423,
     "metadata": {},
     "output_type": "execute_result"
    }
   ],
   "execution_count": 423
  },
  {
   "metadata": {
    "ExecuteTime": {
     "end_time": "2024-12-21T03:32:10.577495Z",
     "start_time": "2024-12-21T03:32:10.573827Z"
    }
   },
   "cell_type": "code",
   "source": [
    "array.itemset((2,1,0), 49.705)\n",
    "array.item(2,1,0)"
   ],
   "id": "7e6888f67343d9d4",
   "outputs": [
    {
     "data": {
      "text/plain": [
       "49.705"
      ]
     },
     "execution_count": 424,
     "metadata": {},
     "output_type": "execute_result"
    }
   ],
   "execution_count": 424
  },
  {
   "metadata": {
    "ExecuteTime": {
     "end_time": "2024-12-21T03:32:10.626597Z",
     "start_time": "2024-12-21T03:32:10.623011Z"
    }
   },
   "cell_type": "code",
   "source": "array_view.item(2,1,0)",
   "id": "a95a8d2f839aaa58",
   "outputs": [
    {
     "data": {
      "text/plain": [
       "49.705"
      ]
     },
     "execution_count": 425,
     "metadata": {},
     "output_type": "execute_result"
    }
   ],
   "execution_count": 425
  },
  {
   "metadata": {
    "ExecuteTime": {
     "end_time": "2024-12-21T03:32:10.679162Z",
     "start_time": "2024-12-21T03:32:10.674052Z"
    }
   },
   "cell_type": "code",
   "source": [
    "array_1 = rng.normal(loc=50, scale=3, size=60).reshape(3,5,4).round(3)\n",
    "array_copy = array.copy()\n",
    "array_copy"
   ],
   "id": "8b988f30ea7e8bca",
   "outputs": [
    {
     "data": {
      "text/plain": [
       "array([[[51.037, 52.465, 50.991, 46.091],\n",
       "        [52.716, 51.339, 48.389, 51.743],\n",
       "        [51.094, 50.882, 50.085, 51.64 ],\n",
       "        [47.791, 49.511, 48.554, 51.797],\n",
       "        [50.119, 49.123, 47.654, 49.228]],\n",
       "\n",
       "       [[50.024, 49.173, 53.882, 53.02 ],\n",
       "        [41.867, 44.333, 49.476, 48.733],\n",
       "        [50.641, 50.652, 56.354, 46.664],\n",
       "        [48.867, 56.128, 51.94 , 51.989],\n",
       "        [48.458, 45.056, 50.502, 50.327]],\n",
       "\n",
       "       [[46.318, 47.95 , 49.784, 47.166],\n",
       "        [49.705, 50.286, 50.107, 48.481],\n",
       "        [51.781, 52.674, 50.963, 47.545],\n",
       "        [52.195, 48.496, 52.637, 46.785],\n",
       "        [52.743, 49.94 , 46.254, 49.058]]])"
      ]
     },
     "execution_count": 426,
     "metadata": {},
     "output_type": "execute_result"
    }
   ],
   "execution_count": 426
  },
  {
   "metadata": {
    "ExecuteTime": {
     "end_time": "2024-12-21T03:32:10.729142Z",
     "start_time": "2024-12-21T03:32:10.725128Z"
    }
   },
   "cell_type": "code",
   "source": "array.shape",
   "id": "5dbd7b20e1e50fab",
   "outputs": [
    {
     "data": {
      "text/plain": [
       "(3, 5, 4)"
      ]
     },
     "execution_count": 427,
     "metadata": {},
     "output_type": "execute_result"
    }
   ],
   "execution_count": 427
  },
  {
   "metadata": {
    "ExecuteTime": {
     "end_time": "2024-12-21T03:32:10.780445Z",
     "start_time": "2024-12-21T03:32:10.777664Z"
    }
   },
   "cell_type": "code",
   "source": "array.item(2,1,0)",
   "id": "592787708ee5ddc",
   "outputs": [
    {
     "data": {
      "text/plain": [
       "49.705"
      ]
     },
     "execution_count": 428,
     "metadata": {},
     "output_type": "execute_result"
    }
   ],
   "execution_count": 428
  },
  {
   "metadata": {
    "ExecuteTime": {
     "end_time": "2024-12-21T03:32:10.829852Z",
     "start_time": "2024-12-21T03:32:10.826986Z"
    }
   },
   "cell_type": "code",
   "source": [
    "array.itemset((2,1,0), 49.709)\n",
    "array.item(2,1,0)"
   ],
   "id": "ed1d66f9d2898d0e",
   "outputs": [
    {
     "data": {
      "text/plain": [
       "49.709"
      ]
     },
     "execution_count": 429,
     "metadata": {},
     "output_type": "execute_result"
    }
   ],
   "execution_count": 429
  },
  {
   "metadata": {
    "ExecuteTime": {
     "end_time": "2024-12-21T03:32:10.879996Z",
     "start_time": "2024-12-21T03:32:10.876133Z"
    }
   },
   "cell_type": "code",
   "source": [
    "array_view = array.view()\n",
    "array_view"
   ],
   "id": "db220d2eddd0bf8e",
   "outputs": [
    {
     "data": {
      "text/plain": [
       "array([[[51.037, 52.465, 50.991, 46.091],\n",
       "        [52.716, 51.339, 48.389, 51.743],\n",
       "        [51.094, 50.882, 50.085, 51.64 ],\n",
       "        [47.791, 49.511, 48.554, 51.797],\n",
       "        [50.119, 49.123, 47.654, 49.228]],\n",
       "\n",
       "       [[50.024, 49.173, 53.882, 53.02 ],\n",
       "        [41.867, 44.333, 49.476, 48.733],\n",
       "        [50.641, 50.652, 56.354, 46.664],\n",
       "        [48.867, 56.128, 51.94 , 51.989],\n",
       "        [48.458, 45.056, 50.502, 50.327]],\n",
       "\n",
       "       [[46.318, 47.95 , 49.784, 47.166],\n",
       "        [49.709, 50.286, 50.107, 48.481],\n",
       "        [51.781, 52.674, 50.963, 47.545],\n",
       "        [52.195, 48.496, 52.637, 46.785],\n",
       "        [52.743, 49.94 , 46.254, 49.058]]])"
      ]
     },
     "execution_count": 430,
     "metadata": {},
     "output_type": "execute_result"
    }
   ],
   "execution_count": 430
  },
  {
   "metadata": {
    "ExecuteTime": {
     "end_time": "2024-12-21T03:32:10.929526Z",
     "start_time": "2024-12-21T03:32:10.927315Z"
    }
   },
   "cell_type": "code",
   "source": "array_view[2,1,0] = 49.705",
   "id": "10a96476f595c539",
   "outputs": [],
   "execution_count": 431
  },
  {
   "metadata": {
    "ExecuteTime": {
     "end_time": "2024-12-21T03:32:10.992006Z",
     "start_time": "2024-12-21T03:32:10.987149Z"
    }
   },
   "cell_type": "code",
   "source": "array[2,1,0]",
   "id": "204fb8c854fc8115",
   "outputs": [
    {
     "data": {
      "text/plain": [
       "49.705"
      ]
     },
     "execution_count": 432,
     "metadata": {},
     "output_type": "execute_result"
    }
   ],
   "execution_count": 432
  },
  {
   "metadata": {
    "ExecuteTime": {
     "end_time": "2024-12-21T03:32:11.039464Z",
     "start_time": "2024-12-21T03:32:11.035130Z"
    }
   },
   "cell_type": "code",
   "source": "array_view[2,1,0]",
   "id": "2dcacbc04e5c19af",
   "outputs": [
    {
     "data": {
      "text/plain": [
       "49.705"
      ]
     },
     "execution_count": 433,
     "metadata": {},
     "output_type": "execute_result"
    }
   ],
   "execution_count": 433
  },
  {
   "metadata": {
    "ExecuteTime": {
     "end_time": "2024-12-21T03:32:11.085882Z",
     "start_time": "2024-12-21T03:32:11.083382Z"
    }
   },
   "cell_type": "code",
   "source": "array_copy = array.copy()",
   "id": "5cbd4cf73e32f2e7",
   "outputs": [],
   "execution_count": 434
  },
  {
   "metadata": {
    "ExecuteTime": {
     "end_time": "2024-12-21T03:32:11.131897Z",
     "start_time": "2024-12-21T03:32:11.129569Z"
    }
   },
   "cell_type": "code",
   "source": "array_copy[2,1,0] = 49.705",
   "id": "b967f90028ffa009",
   "outputs": [],
   "execution_count": 435
  },
  {
   "metadata": {
    "ExecuteTime": {
     "end_time": "2024-12-21T03:32:11.178479Z",
     "start_time": "2024-12-21T03:32:11.175578Z"
    }
   },
   "cell_type": "code",
   "source": "array[2,1,0]",
   "id": "2cb102a44dfb4163",
   "outputs": [
    {
     "data": {
      "text/plain": [
       "49.705"
      ]
     },
     "execution_count": 436,
     "metadata": {},
     "output_type": "execute_result"
    }
   ],
   "execution_count": 436
  },
  {
   "metadata": {
    "ExecuteTime": {
     "end_time": "2024-12-21T03:32:11.225960Z",
     "start_time": "2024-12-21T03:32:11.223122Z"
    }
   },
   "cell_type": "code",
   "source": "array.item((2,1,0))",
   "id": "121441f7cf953dc3",
   "outputs": [
    {
     "data": {
      "text/plain": [
       "49.705"
      ]
     },
     "execution_count": 437,
     "metadata": {},
     "output_type": "execute_result"
    }
   ],
   "execution_count": 437
  },
  {
   "metadata": {
    "ExecuteTime": {
     "end_time": "2024-12-21T03:32:11.276873Z",
     "start_time": "2024-12-21T03:32:11.273265Z"
    }
   },
   "cell_type": "code",
   "source": "array_copy.item((2,1,0))",
   "id": "3bcdb88938f7dc51",
   "outputs": [
    {
     "data": {
      "text/plain": [
       "49.705"
      ]
     },
     "execution_count": 438,
     "metadata": {},
     "output_type": "execute_result"
    }
   ],
   "execution_count": 438
  },
  {
   "metadata": {
    "ExecuteTime": {
     "end_time": "2024-12-21T03:32:11.328164Z",
     "start_time": "2024-12-21T03:32:11.324676Z"
    }
   },
   "cell_type": "code",
   "source": "array.reshape(3,20)",
   "id": "e1d5562e00a94270",
   "outputs": [
    {
     "data": {
      "text/plain": [
       "array([[51.037, 52.465, 50.991, 46.091, 52.716, 51.339, 48.389, 51.743,\n",
       "        51.094, 50.882, 50.085, 51.64 , 47.791, 49.511, 48.554, 51.797,\n",
       "        50.119, 49.123, 47.654, 49.228],\n",
       "       [50.024, 49.173, 53.882, 53.02 , 41.867, 44.333, 49.476, 48.733,\n",
       "        50.641, 50.652, 56.354, 46.664, 48.867, 56.128, 51.94 , 51.989,\n",
       "        48.458, 45.056, 50.502, 50.327],\n",
       "       [46.318, 47.95 , 49.784, 47.166, 49.705, 50.286, 50.107, 48.481,\n",
       "        51.781, 52.674, 50.963, 47.545, 52.195, 48.496, 52.637, 46.785,\n",
       "        52.743, 49.94 , 46.254, 49.058]])"
      ]
     },
     "execution_count": 439,
     "metadata": {},
     "output_type": "execute_result"
    }
   ],
   "execution_count": 439
  },
  {
   "metadata": {
    "ExecuteTime": {
     "end_time": "2024-12-21T03:32:11.397223Z",
     "start_time": "2024-12-21T03:32:11.395434Z"
    }
   },
   "cell_type": "code",
   "source": "array_transpose = array.transpose((1,2,0))",
   "id": "e753b8afe209cd40",
   "outputs": [],
   "execution_count": 440
  },
  {
   "metadata": {
    "ExecuteTime": {
     "end_time": "2024-12-21T03:32:11.443180Z",
     "start_time": "2024-12-21T03:32:11.439049Z"
    }
   },
   "cell_type": "code",
   "source": "array_transpose",
   "id": "b9685872c6ce6017",
   "outputs": [
    {
     "data": {
      "text/plain": [
       "array([[[51.037, 50.024, 46.318],\n",
       "        [52.465, 49.173, 47.95 ],\n",
       "        [50.991, 53.882, 49.784],\n",
       "        [46.091, 53.02 , 47.166]],\n",
       "\n",
       "       [[52.716, 41.867, 49.705],\n",
       "        [51.339, 44.333, 50.286],\n",
       "        [48.389, 49.476, 50.107],\n",
       "        [51.743, 48.733, 48.481]],\n",
       "\n",
       "       [[51.094, 50.641, 51.781],\n",
       "        [50.882, 50.652, 52.674],\n",
       "        [50.085, 56.354, 50.963],\n",
       "        [51.64 , 46.664, 47.545]],\n",
       "\n",
       "       [[47.791, 48.867, 52.195],\n",
       "        [49.511, 56.128, 48.496],\n",
       "        [48.554, 51.94 , 52.637],\n",
       "        [51.797, 51.989, 46.785]],\n",
       "\n",
       "       [[50.119, 48.458, 52.743],\n",
       "        [49.123, 45.056, 49.94 ],\n",
       "        [47.654, 50.502, 46.254],\n",
       "        [49.228, 50.327, 49.058]]])"
      ]
     },
     "execution_count": 441,
     "metadata": {},
     "output_type": "execute_result"
    }
   ],
   "execution_count": 441
  },
  {
   "metadata": {
    "ExecuteTime": {
     "end_time": "2024-12-21T03:32:11.491665Z",
     "start_time": "2024-12-21T03:32:11.487389Z"
    }
   },
   "cell_type": "code",
   "source": "array_transpose.shape",
   "id": "95b97e297559f7bc",
   "outputs": [
    {
     "data": {
      "text/plain": [
       "(5, 4, 3)"
      ]
     },
     "execution_count": 442,
     "metadata": {},
     "output_type": "execute_result"
    }
   ],
   "execution_count": 442
  },
  {
   "metadata": {
    "ExecuteTime": {
     "end_time": "2024-12-21T03:32:11.565246Z",
     "start_time": "2024-12-21T03:32:11.562579Z"
    }
   },
   "cell_type": "code",
   "source": "array_swapaxes = array.swapaxes(2,1)",
   "id": "42d5ba75420e7481",
   "outputs": [],
   "execution_count": 443
  },
  {
   "metadata": {
    "ExecuteTime": {
     "end_time": "2024-12-21T03:32:11.612071Z",
     "start_time": "2024-12-21T03:32:11.609049Z"
    }
   },
   "cell_type": "code",
   "source": "array_swapaxes",
   "id": "641f66d40381117b",
   "outputs": [
    {
     "data": {
      "text/plain": [
       "array([[[51.037, 52.716, 51.094, 47.791, 50.119],\n",
       "        [52.465, 51.339, 50.882, 49.511, 49.123],\n",
       "        [50.991, 48.389, 50.085, 48.554, 47.654],\n",
       "        [46.091, 51.743, 51.64 , 51.797, 49.228]],\n",
       "\n",
       "       [[50.024, 41.867, 50.641, 48.867, 48.458],\n",
       "        [49.173, 44.333, 50.652, 56.128, 45.056],\n",
       "        [53.882, 49.476, 56.354, 51.94 , 50.502],\n",
       "        [53.02 , 48.733, 46.664, 51.989, 50.327]],\n",
       "\n",
       "       [[46.318, 49.705, 51.781, 52.195, 52.743],\n",
       "        [47.95 , 50.286, 52.674, 48.496, 49.94 ],\n",
       "        [49.784, 50.107, 50.963, 52.637, 46.254],\n",
       "        [47.166, 48.481, 47.545, 46.785, 49.058]]])"
      ]
     },
     "execution_count": 444,
     "metadata": {},
     "output_type": "execute_result"
    }
   ],
   "execution_count": 444
  },
  {
   "metadata": {
    "ExecuteTime": {
     "end_time": "2024-12-21T03:32:11.663322Z",
     "start_time": "2024-12-21T03:32:11.658444Z"
    }
   },
   "cell_type": "code",
   "source": "array_swapaxes.shape",
   "id": "c6dd404f006e519e",
   "outputs": [
    {
     "data": {
      "text/plain": [
       "(3, 4, 5)"
      ]
     },
     "execution_count": 445,
     "metadata": {},
     "output_type": "execute_result"
    }
   ],
   "execution_count": 445
  },
  {
   "metadata": {
    "ExecuteTime": {
     "end_time": "2024-12-21T03:32:11.711872Z",
     "start_time": "2024-12-21T03:32:11.707840Z"
    }
   },
   "cell_type": "code",
   "source": "array.flatten()",
   "id": "65ffacad9f66110e",
   "outputs": [
    {
     "data": {
      "text/plain": [
       "array([51.037, 52.465, 50.991, 46.091, 52.716, 51.339, 48.389, 51.743,\n",
       "       51.094, 50.882, 50.085, 51.64 , 47.791, 49.511, 48.554, 51.797,\n",
       "       50.119, 49.123, 47.654, 49.228, 50.024, 49.173, 53.882, 53.02 ,\n",
       "       41.867, 44.333, 49.476, 48.733, 50.641, 50.652, 56.354, 46.664,\n",
       "       48.867, 56.128, 51.94 , 51.989, 48.458, 45.056, 50.502, 50.327,\n",
       "       46.318, 47.95 , 49.784, 47.166, 49.705, 50.286, 50.107, 48.481,\n",
       "       51.781, 52.674, 50.963, 47.545, 52.195, 48.496, 52.637, 46.785,\n",
       "       52.743, 49.94 , 46.254, 49.058])"
      ]
     },
     "execution_count": 446,
     "metadata": {},
     "output_type": "execute_result"
    }
   ],
   "execution_count": 446
  },
  {
   "metadata": {
    "ExecuteTime": {
     "end_time": "2024-12-21T03:32:11.763001Z",
     "start_time": "2024-12-21T03:32:11.757223Z"
    }
   },
   "cell_type": "code",
   "source": "array.ravel()",
   "id": "460e711c2e6959f5",
   "outputs": [
    {
     "data": {
      "text/plain": [
       "array([51.037, 52.465, 50.991, 46.091, 52.716, 51.339, 48.389, 51.743,\n",
       "       51.094, 50.882, 50.085, 51.64 , 47.791, 49.511, 48.554, 51.797,\n",
       "       50.119, 49.123, 47.654, 49.228, 50.024, 49.173, 53.882, 53.02 ,\n",
       "       41.867, 44.333, 49.476, 48.733, 50.641, 50.652, 56.354, 46.664,\n",
       "       48.867, 56.128, 51.94 , 51.989, 48.458, 45.056, 50.502, 50.327,\n",
       "       46.318, 47.95 , 49.784, 47.166, 49.705, 50.286, 50.107, 48.481,\n",
       "       51.781, 52.674, 50.963, 47.545, 52.195, 48.496, 52.637, 46.785,\n",
       "       52.743, 49.94 , 46.254, 49.058])"
      ]
     },
     "execution_count": 447,
     "metadata": {},
     "output_type": "execute_result"
    }
   ],
   "execution_count": 447
  },
  {
   "metadata": {
    "ExecuteTime": {
     "end_time": "2024-12-21T03:32:11.810771Z",
     "start_time": "2024-12-21T03:32:11.807759Z"
    }
   },
   "cell_type": "code",
   "source": "array_first_day = array[0:1]",
   "id": "f2bd7b7f02bad08e",
   "outputs": [],
   "execution_count": 448
  },
  {
   "metadata": {
    "ExecuteTime": {
     "end_time": "2024-12-21T03:32:11.859421Z",
     "start_time": "2024-12-21T03:32:11.855510Z"
    }
   },
   "cell_type": "code",
   "source": "array_first_day",
   "id": "1a84a191cc1b1fc0",
   "outputs": [
    {
     "data": {
      "text/plain": [
       "array([[[51.037, 52.465, 50.991, 46.091],\n",
       "        [52.716, 51.339, 48.389, 51.743],\n",
       "        [51.094, 50.882, 50.085, 51.64 ],\n",
       "        [47.791, 49.511, 48.554, 51.797],\n",
       "        [50.119, 49.123, 47.654, 49.228]]])"
      ]
     },
     "execution_count": 449,
     "metadata": {},
     "output_type": "execute_result"
    }
   ],
   "execution_count": 449
  },
  {
   "metadata": {
    "ExecuteTime": {
     "end_time": "2024-12-21T03:32:11.905599Z",
     "start_time": "2024-12-21T03:32:11.903051Z"
    }
   },
   "cell_type": "code",
   "source": "array_first_day.ndim, array_first_day.shape",
   "id": "a86555d3d40e754a",
   "outputs": [
    {
     "data": {
      "text/plain": [
       "(3, (1, 5, 4))"
      ]
     },
     "execution_count": 450,
     "metadata": {},
     "output_type": "execute_result"
    }
   ],
   "execution_count": 450
  },
  {
   "metadata": {
    "ExecuteTime": {
     "end_time": "2024-12-21T03:32:11.952814Z",
     "start_time": "2024-12-21T03:32:11.950734Z"
    }
   },
   "cell_type": "code",
   "source": "array_squeeze = array_first_day.squeeze()",
   "id": "36555542401ffd9",
   "outputs": [],
   "execution_count": 451
  },
  {
   "metadata": {
    "ExecuteTime": {
     "end_time": "2024-12-21T03:32:12.001245Z",
     "start_time": "2024-12-21T03:32:11.998154Z"
    }
   },
   "cell_type": "code",
   "source": "array_squeeze",
   "id": "72efdb605e7cfd9f",
   "outputs": [
    {
     "data": {
      "text/plain": [
       "array([[51.037, 52.465, 50.991, 46.091],\n",
       "       [52.716, 51.339, 48.389, 51.743],\n",
       "       [51.094, 50.882, 50.085, 51.64 ],\n",
       "       [47.791, 49.511, 48.554, 51.797],\n",
       "       [50.119, 49.123, 47.654, 49.228]])"
      ]
     },
     "execution_count": 452,
     "metadata": {},
     "output_type": "execute_result"
    }
   ],
   "execution_count": 452
  },
  {
   "metadata": {
    "ExecuteTime": {
     "end_time": "2024-12-21T03:32:12.071364Z",
     "start_time": "2024-12-21T03:32:12.068710Z"
    }
   },
   "cell_type": "code",
   "source": "array_squeeze.shape",
   "id": "ae557a2abb38224d",
   "outputs": [
    {
     "data": {
      "text/plain": [
       "(5, 4)"
      ]
     },
     "execution_count": 453,
     "metadata": {},
     "output_type": "execute_result"
    }
   ],
   "execution_count": 453
  },
  {
   "metadata": {
    "ExecuteTime": {
     "end_time": "2024-12-21T03:32:12.115843Z",
     "start_time": "2024-12-21T03:32:12.112545Z"
    }
   },
   "cell_type": "code",
   "source": "array.take(indices=[12,25,31,40])",
   "id": "2db9fda5944c0f31",
   "outputs": [
    {
     "data": {
      "text/plain": [
       "array([47.791, 44.333, 46.664, 46.318])"
      ]
     },
     "execution_count": 454,
     "metadata": {},
     "output_type": "execute_result"
    }
   ],
   "execution_count": 454
  },
  {
   "metadata": {
    "ExecuteTime": {
     "end_time": "2024-12-21T03:32:12.159489Z",
     "start_time": "2024-12-21T03:32:12.156302Z"
    }
   },
   "cell_type": "code",
   "source": "array.take(indices=[[12,31],[25,40]])",
   "id": "2ac898111a109ea1",
   "outputs": [
    {
     "data": {
      "text/plain": [
       "array([[47.791, 46.664],\n",
       "       [44.333, 46.318]])"
      ]
     },
     "execution_count": 455,
     "metadata": {},
     "output_type": "execute_result"
    }
   ],
   "execution_count": 455
  },
  {
   "metadata": {
    "ExecuteTime": {
     "end_time": "2024-12-21T03:32:12.229363Z",
     "start_time": "2024-12-21T03:32:12.227262Z"
    }
   },
   "cell_type": "code",
   "source": "array.put(indices=[12,25,31,40], values=np.nan)",
   "id": "47d96222b3ba39b4",
   "outputs": [],
   "execution_count": 456
  },
  {
   "metadata": {
    "ExecuteTime": {
     "end_time": "2024-12-21T03:32:12.281571Z",
     "start_time": "2024-12-21T03:32:12.277250Z"
    }
   },
   "cell_type": "code",
   "source": "array",
   "id": "d647a629da4a7397",
   "outputs": [
    {
     "data": {
      "text/plain": [
       "array([[[51.037, 52.465, 50.991, 46.091],\n",
       "        [52.716, 51.339, 48.389, 51.743],\n",
       "        [51.094, 50.882, 50.085, 51.64 ],\n",
       "        [   nan, 49.511, 48.554, 51.797],\n",
       "        [50.119, 49.123, 47.654, 49.228]],\n",
       "\n",
       "       [[50.024, 49.173, 53.882, 53.02 ],\n",
       "        [41.867,    nan, 49.476, 48.733],\n",
       "        [50.641, 50.652, 56.354,    nan],\n",
       "        [48.867, 56.128, 51.94 , 51.989],\n",
       "        [48.458, 45.056, 50.502, 50.327]],\n",
       "\n",
       "       [[   nan, 47.95 , 49.784, 47.166],\n",
       "        [49.705, 50.286, 50.107, 48.481],\n",
       "        [51.781, 52.674, 50.963, 47.545],\n",
       "        [52.195, 48.496, 52.637, 46.785],\n",
       "        [52.743, 49.94 , 46.254, 49.058]]])"
      ]
     },
     "execution_count": 457,
     "metadata": {},
     "output_type": "execute_result"
    }
   ],
   "execution_count": 457
  },
  {
   "metadata": {
    "ExecuteTime": {
     "end_time": "2024-12-21T03:32:12.352637Z",
     "start_time": "2024-12-21T03:32:12.348891Z"
    }
   },
   "cell_type": "code",
   "source": "array_repeat_axis_0 = array.repeat(repeats=2, axis=0)",
   "id": "b60cc47cb2da9df9",
   "outputs": [],
   "execution_count": 458
  },
  {
   "metadata": {
    "ExecuteTime": {
     "end_time": "2024-12-21T03:32:12.403332Z",
     "start_time": "2024-12-21T03:32:12.398414Z"
    }
   },
   "cell_type": "code",
   "source": "array_repeat_axis_0",
   "id": "ce0e901ca5410b46",
   "outputs": [
    {
     "data": {
      "text/plain": [
       "array([[[51.037, 52.465, 50.991, 46.091],\n",
       "        [52.716, 51.339, 48.389, 51.743],\n",
       "        [51.094, 50.882, 50.085, 51.64 ],\n",
       "        [   nan, 49.511, 48.554, 51.797],\n",
       "        [50.119, 49.123, 47.654, 49.228]],\n",
       "\n",
       "       [[51.037, 52.465, 50.991, 46.091],\n",
       "        [52.716, 51.339, 48.389, 51.743],\n",
       "        [51.094, 50.882, 50.085, 51.64 ],\n",
       "        [   nan, 49.511, 48.554, 51.797],\n",
       "        [50.119, 49.123, 47.654, 49.228]],\n",
       "\n",
       "       [[50.024, 49.173, 53.882, 53.02 ],\n",
       "        [41.867,    nan, 49.476, 48.733],\n",
       "        [50.641, 50.652, 56.354,    nan],\n",
       "        [48.867, 56.128, 51.94 , 51.989],\n",
       "        [48.458, 45.056, 50.502, 50.327]],\n",
       "\n",
       "       [[50.024, 49.173, 53.882, 53.02 ],\n",
       "        [41.867,    nan, 49.476, 48.733],\n",
       "        [50.641, 50.652, 56.354,    nan],\n",
       "        [48.867, 56.128, 51.94 , 51.989],\n",
       "        [48.458, 45.056, 50.502, 50.327]],\n",
       "\n",
       "       [[   nan, 47.95 , 49.784, 47.166],\n",
       "        [49.705, 50.286, 50.107, 48.481],\n",
       "        [51.781, 52.674, 50.963, 47.545],\n",
       "        [52.195, 48.496, 52.637, 46.785],\n",
       "        [52.743, 49.94 , 46.254, 49.058]],\n",
       "\n",
       "       [[   nan, 47.95 , 49.784, 47.166],\n",
       "        [49.705, 50.286, 50.107, 48.481],\n",
       "        [51.781, 52.674, 50.963, 47.545],\n",
       "        [52.195, 48.496, 52.637, 46.785],\n",
       "        [52.743, 49.94 , 46.254, 49.058]]])"
      ]
     },
     "execution_count": 459,
     "metadata": {},
     "output_type": "execute_result"
    }
   ],
   "execution_count": 459
  },
  {
   "metadata": {
    "ExecuteTime": {
     "end_time": "2024-12-21T03:32:12.465440Z",
     "start_time": "2024-12-21T03:32:12.461185Z"
    }
   },
   "cell_type": "code",
   "source": "array_repeat_axis_0.shape",
   "id": "277f4a01c3e48334",
   "outputs": [
    {
     "data": {
      "text/plain": [
       "(6, 5, 4)"
      ]
     },
     "execution_count": 460,
     "metadata": {},
     "output_type": "execute_result"
    }
   ],
   "execution_count": 460
  },
  {
   "metadata": {
    "ExecuteTime": {
     "end_time": "2024-12-21T03:32:12.515416Z",
     "start_time": "2024-12-21T03:32:12.511646Z"
    }
   },
   "cell_type": "code",
   "source": "array_repeat_axis_1 = array.repeat(repeats=2, axis=1)",
   "id": "23a27ae06ea21c5b",
   "outputs": [],
   "execution_count": 461
  },
  {
   "metadata": {
    "ExecuteTime": {
     "end_time": "2024-12-21T03:32:12.567487Z",
     "start_time": "2024-12-21T03:32:12.561220Z"
    }
   },
   "cell_type": "code",
   "source": "array_repeat_axis_1",
   "id": "60486aaf8237042c",
   "outputs": [
    {
     "data": {
      "text/plain": [
       "array([[[51.037, 52.465, 50.991, 46.091],\n",
       "        [51.037, 52.465, 50.991, 46.091],\n",
       "        [52.716, 51.339, 48.389, 51.743],\n",
       "        [52.716, 51.339, 48.389, 51.743],\n",
       "        [51.094, 50.882, 50.085, 51.64 ],\n",
       "        [51.094, 50.882, 50.085, 51.64 ],\n",
       "        [   nan, 49.511, 48.554, 51.797],\n",
       "        [   nan, 49.511, 48.554, 51.797],\n",
       "        [50.119, 49.123, 47.654, 49.228],\n",
       "        [50.119, 49.123, 47.654, 49.228]],\n",
       "\n",
       "       [[50.024, 49.173, 53.882, 53.02 ],\n",
       "        [50.024, 49.173, 53.882, 53.02 ],\n",
       "        [41.867,    nan, 49.476, 48.733],\n",
       "        [41.867,    nan, 49.476, 48.733],\n",
       "        [50.641, 50.652, 56.354,    nan],\n",
       "        [50.641, 50.652, 56.354,    nan],\n",
       "        [48.867, 56.128, 51.94 , 51.989],\n",
       "        [48.867, 56.128, 51.94 , 51.989],\n",
       "        [48.458, 45.056, 50.502, 50.327],\n",
       "        [48.458, 45.056, 50.502, 50.327]],\n",
       "\n",
       "       [[   nan, 47.95 , 49.784, 47.166],\n",
       "        [   nan, 47.95 , 49.784, 47.166],\n",
       "        [49.705, 50.286, 50.107, 48.481],\n",
       "        [49.705, 50.286, 50.107, 48.481],\n",
       "        [51.781, 52.674, 50.963, 47.545],\n",
       "        [51.781, 52.674, 50.963, 47.545],\n",
       "        [52.195, 48.496, 52.637, 46.785],\n",
       "        [52.195, 48.496, 52.637, 46.785],\n",
       "        [52.743, 49.94 , 46.254, 49.058],\n",
       "        [52.743, 49.94 , 46.254, 49.058]]])"
      ]
     },
     "execution_count": 462,
     "metadata": {},
     "output_type": "execute_result"
    }
   ],
   "execution_count": 462
  },
  {
   "metadata": {
    "ExecuteTime": {
     "end_time": "2024-12-21T03:32:12.614670Z",
     "start_time": "2024-12-21T03:32:12.611167Z"
    }
   },
   "cell_type": "code",
   "source": "array_repeat_axis_2 = array.repeat(repeats=2, axis=2)",
   "id": "d39f2b09c4770a21",
   "outputs": [],
   "execution_count": 463
  },
  {
   "metadata": {
    "ExecuteTime": {
     "end_time": "2024-12-21T03:32:12.665443Z",
     "start_time": "2024-12-21T03:32:12.657848Z"
    }
   },
   "cell_type": "code",
   "source": "array_repeat_axis_2",
   "id": "ee6764c1aeb17075",
   "outputs": [
    {
     "data": {
      "text/plain": [
       "array([[[51.037, 51.037, 52.465, 52.465, 50.991, 50.991, 46.091, 46.091],\n",
       "        [52.716, 52.716, 51.339, 51.339, 48.389, 48.389, 51.743, 51.743],\n",
       "        [51.094, 51.094, 50.882, 50.882, 50.085, 50.085, 51.64 , 51.64 ],\n",
       "        [   nan,    nan, 49.511, 49.511, 48.554, 48.554, 51.797, 51.797],\n",
       "        [50.119, 50.119, 49.123, 49.123, 47.654, 47.654, 49.228, 49.228]],\n",
       "\n",
       "       [[50.024, 50.024, 49.173, 49.173, 53.882, 53.882, 53.02 , 53.02 ],\n",
       "        [41.867, 41.867,    nan,    nan, 49.476, 49.476, 48.733, 48.733],\n",
       "        [50.641, 50.641, 50.652, 50.652, 56.354, 56.354,    nan,    nan],\n",
       "        [48.867, 48.867, 56.128, 56.128, 51.94 , 51.94 , 51.989, 51.989],\n",
       "        [48.458, 48.458, 45.056, 45.056, 50.502, 50.502, 50.327, 50.327]],\n",
       "\n",
       "       [[   nan,    nan, 47.95 , 47.95 , 49.784, 49.784, 47.166, 47.166],\n",
       "        [49.705, 49.705, 50.286, 50.286, 50.107, 50.107, 48.481, 48.481],\n",
       "        [51.781, 51.781, 52.674, 52.674, 50.963, 50.963, 47.545, 47.545],\n",
       "        [52.195, 52.195, 48.496, 48.496, 52.637, 52.637, 46.785, 46.785],\n",
       "        [52.743, 52.743, 49.94 , 49.94 , 46.254, 46.254, 49.058, 49.058]]])"
      ]
     },
     "execution_count": 464,
     "metadata": {},
     "output_type": "execute_result"
    }
   ],
   "execution_count": 464
  },
  {
   "metadata": {
    "ExecuteTime": {
     "end_time": "2024-12-21T03:32:12.718306Z",
     "start_time": "2024-12-21T03:32:12.711688Z"
    }
   },
   "cell_type": "code",
   "source": "array_repeat_axis_2.shape",
   "id": "c886db07cfa264bc",
   "outputs": [
    {
     "data": {
      "text/plain": [
       "(3, 5, 8)"
      ]
     },
     "execution_count": 465,
     "metadata": {},
     "output_type": "execute_result"
    }
   ],
   "execution_count": 465
  },
  {
   "metadata": {
    "ExecuteTime": {
     "end_time": "2024-12-21T03:32:12.768007Z",
     "start_time": "2024-12-21T03:32:12.763460Z"
    }
   },
   "cell_type": "code",
   "source": "array_copy = array.copy()",
   "id": "31f2894475af24ab",
   "outputs": [],
   "execution_count": 466
  },
  {
   "metadata": {
    "ExecuteTime": {
     "end_time": "2024-12-21T03:32:12.814468Z",
     "start_time": "2024-12-21T03:32:12.810385Z"
    }
   },
   "cell_type": "code",
   "source": "array_copy.sort(axis=0)",
   "id": "574b7633298b6ba3",
   "outputs": [],
   "execution_count": 467
  },
  {
   "metadata": {
    "ExecuteTime": {
     "end_time": "2024-12-21T03:32:12.874986Z",
     "start_time": "2024-12-21T03:32:12.865285Z"
    }
   },
   "cell_type": "code",
   "source": "array_copy",
   "id": "db714ede5df3c4db",
   "outputs": [
    {
     "data": {
      "text/plain": [
       "array([[[50.024, 47.95 , 49.784, 46.091],\n",
       "        [41.867, 50.286, 48.389, 48.481],\n",
       "        [50.641, 50.652, 50.085, 47.545],\n",
       "        [48.867, 48.496, 48.554, 46.785],\n",
       "        [48.458, 45.056, 46.254, 49.058]],\n",
       "\n",
       "       [[51.037, 49.173, 50.991, 47.166],\n",
       "        [49.705, 51.339, 49.476, 48.733],\n",
       "        [51.094, 50.882, 50.963, 51.64 ],\n",
       "        [52.195, 49.511, 51.94 , 51.797],\n",
       "        [50.119, 49.123, 47.654, 49.228]],\n",
       "\n",
       "       [[   nan, 52.465, 53.882, 53.02 ],\n",
       "        [52.716,    nan, 50.107, 51.743],\n",
       "        [51.781, 52.674, 56.354,    nan],\n",
       "        [   nan, 56.128, 52.637, 51.989],\n",
       "        [52.743, 49.94 , 50.502, 50.327]]])"
      ]
     },
     "execution_count": 468,
     "metadata": {},
     "output_type": "execute_result"
    }
   ],
   "execution_count": 468
  },
  {
   "metadata": {
    "ExecuteTime": {
     "end_time": "2024-12-21T03:32:12.934344Z",
     "start_time": "2024-12-21T03:32:12.931740Z"
    }
   },
   "cell_type": "code",
   "source": "array_copy = array.copy()",
   "id": "6ec9416ca60fa000",
   "outputs": [],
   "execution_count": 469
  },
  {
   "metadata": {
    "ExecuteTime": {
     "end_time": "2024-12-21T03:32:12.989075Z",
     "start_time": "2024-12-21T03:32:12.985094Z"
    }
   },
   "cell_type": "code",
   "source": "array_copy.sort(axis=1)",
   "id": "4cb946ffc5718fff",
   "outputs": [],
   "execution_count": 470
  },
  {
   "metadata": {
    "ExecuteTime": {
     "end_time": "2024-12-21T03:32:13.171322Z",
     "start_time": "2024-12-21T03:32:13.167509Z"
    }
   },
   "cell_type": "code",
   "source": "array_copy",
   "id": "7c9ae36da83f0475",
   "outputs": [
    {
     "data": {
      "text/plain": [
       "array([[[50.119, 49.123, 47.654, 46.091],\n",
       "        [51.037, 49.511, 48.389, 49.228],\n",
       "        [51.094, 50.882, 48.554, 51.64 ],\n",
       "        [52.716, 51.339, 50.085, 51.743],\n",
       "        [   nan, 52.465, 50.991, 51.797]],\n",
       "\n",
       "       [[41.867, 45.056, 49.476, 48.733],\n",
       "        [48.458, 49.173, 50.502, 50.327],\n",
       "        [48.867, 50.652, 51.94 , 51.989],\n",
       "        [50.024, 56.128, 53.882, 53.02 ],\n",
       "        [50.641,    nan, 56.354,    nan]],\n",
       "\n",
       "       [[49.705, 47.95 , 46.254, 46.785],\n",
       "        [51.781, 48.496, 49.784, 47.166],\n",
       "        [52.195, 49.94 , 50.107, 47.545],\n",
       "        [52.743, 50.286, 50.963, 48.481],\n",
       "        [   nan, 52.674, 52.637, 49.058]]])"
      ]
     },
     "execution_count": 471,
     "metadata": {},
     "output_type": "execute_result"
    }
   ],
   "execution_count": 471
  },
  {
   "metadata": {
    "ExecuteTime": {
     "end_time": "2024-12-21T03:32:13.227502Z",
     "start_time": "2024-12-21T03:32:13.224332Z"
    }
   },
   "cell_type": "code",
   "source": "array_copy = array.copy()",
   "id": "bccc6f5f3bea9064",
   "outputs": [],
   "execution_count": 472
  },
  {
   "metadata": {
    "ExecuteTime": {
     "end_time": "2024-12-21T03:32:13.277415Z",
     "start_time": "2024-12-21T03:32:13.275244Z"
    }
   },
   "cell_type": "code",
   "source": "array_copy.sort(axis=2)",
   "id": "8fe7d4ab48e09c6b",
   "outputs": [],
   "execution_count": 473
  },
  {
   "metadata": {
    "ExecuteTime": {
     "end_time": "2024-12-21T03:32:13.337740Z",
     "start_time": "2024-12-21T03:32:13.332007Z"
    }
   },
   "cell_type": "code",
   "source": "array_copy",
   "id": "cc96d147b41228de",
   "outputs": [
    {
     "data": {
      "text/plain": [
       "array([[[46.091, 50.991, 51.037, 52.465],\n",
       "        [48.389, 51.339, 51.743, 52.716],\n",
       "        [50.085, 50.882, 51.094, 51.64 ],\n",
       "        [48.554, 49.511, 51.797,    nan],\n",
       "        [47.654, 49.123, 49.228, 50.119]],\n",
       "\n",
       "       [[49.173, 50.024, 53.02 , 53.882],\n",
       "        [41.867, 48.733, 49.476,    nan],\n",
       "        [50.641, 50.652, 56.354,    nan],\n",
       "        [48.867, 51.94 , 51.989, 56.128],\n",
       "        [45.056, 48.458, 50.327, 50.502]],\n",
       "\n",
       "       [[47.166, 47.95 , 49.784,    nan],\n",
       "        [48.481, 49.705, 50.107, 50.286],\n",
       "        [47.545, 50.963, 51.781, 52.674],\n",
       "        [46.785, 48.496, 52.195, 52.637],\n",
       "        [46.254, 49.058, 49.94 , 52.743]]])"
      ]
     },
     "execution_count": 474,
     "metadata": {},
     "output_type": "execute_result"
    }
   ],
   "execution_count": 474
  },
  {
   "metadata": {
    "ExecuteTime": {
     "end_time": "2024-12-21T03:32:13.377223Z",
     "start_time": "2024-12-21T03:32:13.374773Z"
    }
   },
   "cell_type": "code",
   "source": "indices_axis_0 = array.argsort(axis=0)",
   "id": "5ef40341266ba894",
   "outputs": [],
   "execution_count": 475
  },
  {
   "metadata": {
    "ExecuteTime": {
     "end_time": "2024-12-21T03:32:13.445014Z",
     "start_time": "2024-12-21T03:32:13.438194Z"
    }
   },
   "cell_type": "code",
   "source": "indices_axis_0",
   "id": "c2ac2a2cd0c65837",
   "outputs": [
    {
     "data": {
      "text/plain": [
       "array([[[1, 2, 2, 0],\n",
       "        [1, 2, 0, 2],\n",
       "        [1, 1, 0, 2],\n",
       "        [1, 2, 0, 2],\n",
       "        [1, 1, 2, 2]],\n",
       "\n",
       "       [[0, 1, 0, 2],\n",
       "        [2, 0, 1, 1],\n",
       "        [0, 0, 2, 0],\n",
       "        [2, 0, 1, 0],\n",
       "        [0, 0, 0, 0]],\n",
       "\n",
       "       [[2, 0, 1, 1],\n",
       "        [0, 1, 2, 0],\n",
       "        [2, 2, 1, 1],\n",
       "        [0, 1, 2, 1],\n",
       "        [2, 2, 1, 1]]])"
      ]
     },
     "execution_count": 476,
     "metadata": {},
     "output_type": "execute_result"
    }
   ],
   "execution_count": 476
  },
  {
   "metadata": {
    "ExecuteTime": {
     "end_time": "2024-12-21T03:32:13.485683Z",
     "start_time": "2024-12-21T03:32:13.482629Z"
    }
   },
   "cell_type": "code",
   "source": "indices_axis_1 = array.argsort(axis=1)",
   "id": "90581e8f806a22cf",
   "outputs": [],
   "execution_count": 477
  },
  {
   "metadata": {
    "ExecuteTime": {
     "end_time": "2024-12-21T03:32:13.533770Z",
     "start_time": "2024-12-21T03:32:13.530603Z"
    }
   },
   "cell_type": "code",
   "source": "indices_axis_1",
   "id": "5e5b859d99dfcada",
   "outputs": [
    {
     "data": {
      "text/plain": [
       "array([[[4, 4, 4, 0],\n",
       "        [0, 3, 1, 4],\n",
       "        [2, 2, 3, 2],\n",
       "        [1, 1, 2, 1],\n",
       "        [3, 0, 0, 3]],\n",
       "\n",
       "       [[1, 4, 1, 1],\n",
       "        [4, 0, 4, 4],\n",
       "        [3, 2, 3, 3],\n",
       "        [0, 3, 0, 0],\n",
       "        [2, 1, 2, 2]],\n",
       "\n",
       "       [[1, 0, 4, 3],\n",
       "        [2, 3, 0, 0],\n",
       "        [3, 4, 1, 2],\n",
       "        [4, 1, 2, 1],\n",
       "        [0, 2, 3, 4]]])"
      ]
     },
     "execution_count": 478,
     "metadata": {},
     "output_type": "execute_result"
    }
   ],
   "execution_count": 478
  },
  {
   "metadata": {
    "ExecuteTime": {
     "end_time": "2024-12-21T03:32:13.581341Z",
     "start_time": "2024-12-21T03:32:13.578737Z"
    }
   },
   "cell_type": "code",
   "source": "indices_axis_2 = array.argsort(axis=2)",
   "id": "ef0b1b2a5528d12c",
   "outputs": [],
   "execution_count": 479
  },
  {
   "metadata": {
    "ExecuteTime": {
     "end_time": "2024-12-21T03:32:13.628782Z",
     "start_time": "2024-12-21T03:32:13.625723Z"
    }
   },
   "cell_type": "code",
   "source": "indices_axis_2",
   "id": "6c397921d3c72722",
   "outputs": [
    {
     "data": {
      "text/plain": [
       "array([[[3, 2, 0, 1],\n",
       "        [2, 1, 3, 0],\n",
       "        [2, 1, 0, 3],\n",
       "        [2, 1, 3, 0],\n",
       "        [2, 1, 3, 0]],\n",
       "\n",
       "       [[1, 0, 3, 2],\n",
       "        [0, 3, 2, 1],\n",
       "        [0, 1, 2, 3],\n",
       "        [0, 2, 3, 1],\n",
       "        [1, 0, 3, 2]],\n",
       "\n",
       "       [[3, 1, 2, 0],\n",
       "        [3, 0, 2, 1],\n",
       "        [3, 2, 0, 1],\n",
       "        [3, 1, 0, 2],\n",
       "        [2, 3, 1, 0]]])"
      ]
     },
     "execution_count": 480,
     "metadata": {},
     "output_type": "execute_result"
    }
   ],
   "execution_count": 480
  },
  {
   "metadata": {
    "ExecuteTime": {
     "end_time": "2024-12-21T03:32:13.675222Z",
     "start_time": "2024-12-21T03:32:13.672742Z"
    }
   },
   "cell_type": "code",
   "source": "array_flatten = array.flatten()",
   "id": "547b1554d3c98df8",
   "outputs": [],
   "execution_count": 481
  },
  {
   "metadata": {
    "ExecuteTime": {
     "end_time": "2024-12-21T03:32:13.722717Z",
     "start_time": "2024-12-21T03:32:13.719250Z"
    }
   },
   "cell_type": "code",
   "source": "array_flatten",
   "id": "9d243dcaa2c4224d",
   "outputs": [
    {
     "data": {
      "text/plain": [
       "array([51.037, 52.465, 50.991, 46.091, 52.716, 51.339, 48.389, 51.743,\n",
       "       51.094, 50.882, 50.085, 51.64 ,    nan, 49.511, 48.554, 51.797,\n",
       "       50.119, 49.123, 47.654, 49.228, 50.024, 49.173, 53.882, 53.02 ,\n",
       "       41.867,    nan, 49.476, 48.733, 50.641, 50.652, 56.354,    nan,\n",
       "       48.867, 56.128, 51.94 , 51.989, 48.458, 45.056, 50.502, 50.327,\n",
       "          nan, 47.95 , 49.784, 47.166, 49.705, 50.286, 50.107, 48.481,\n",
       "       51.781, 52.674, 50.963, 47.545, 52.195, 48.496, 52.637, 46.785,\n",
       "       52.743, 49.94 , 46.254, 49.058])"
      ]
     },
     "execution_count": 482,
     "metadata": {},
     "output_type": "execute_result"
    }
   ],
   "execution_count": 482
  },
  {
   "metadata": {
    "ExecuteTime": {
     "end_time": "2024-12-21T03:32:13.767809Z",
     "start_time": "2024-12-21T03:32:13.765778Z"
    }
   },
   "cell_type": "code",
   "source": "array_flatten.sort()",
   "id": "da6b84762098ee66",
   "outputs": [],
   "execution_count": 483
  },
  {
   "metadata": {
    "ExecuteTime": {
     "end_time": "2024-12-21T03:32:13.816742Z",
     "start_time": "2024-12-21T03:32:13.812947Z"
    }
   },
   "cell_type": "code",
   "source": "array_flatten",
   "id": "dbc607eef1621769",
   "outputs": [
    {
     "data": {
      "text/plain": [
       "array([41.867, 45.056, 46.091, 46.254, 46.785, 47.166, 47.545, 47.654,\n",
       "       47.95 , 48.389, 48.458, 48.481, 48.496, 48.554, 48.733, 48.867,\n",
       "       49.058, 49.123, 49.173, 49.228, 49.476, 49.511, 49.705, 49.784,\n",
       "       49.94 , 50.024, 50.085, 50.107, 50.119, 50.286, 50.327, 50.502,\n",
       "       50.641, 50.652, 50.882, 50.963, 50.991, 51.037, 51.094, 51.339,\n",
       "       51.64 , 51.743, 51.781, 51.797, 51.94 , 51.989, 52.195, 52.465,\n",
       "       52.637, 52.674, 52.716, 52.743, 53.02 , 53.882, 56.128, 56.354,\n",
       "          nan,    nan,    nan,    nan])"
      ]
     },
     "execution_count": 484,
     "metadata": {},
     "output_type": "execute_result"
    }
   ],
   "execution_count": 484
  },
  {
   "metadata": {
    "ExecuteTime": {
     "end_time": "2024-12-21T03:32:13.865046Z",
     "start_time": "2024-12-21T03:32:13.860833Z"
    }
   },
   "cell_type": "code",
   "source": "array_filtered = array_flatten[:15]",
   "id": "66b19629773dc4be",
   "outputs": [],
   "execution_count": 485
  },
  {
   "metadata": {
    "ExecuteTime": {
     "end_time": "2024-12-21T03:32:13.912781Z",
     "start_time": "2024-12-21T03:32:13.909568Z"
    }
   },
   "cell_type": "code",
   "source": "array_filtered",
   "id": "e992775bfc2ebb2e",
   "outputs": [
    {
     "data": {
      "text/plain": [
       "array([41.867, 45.056, 46.091, 46.254, 46.785, 47.166, 47.545, 47.654,\n",
       "       47.95 , 48.389, 48.458, 48.481, 48.496, 48.554, 48.733])"
      ]
     },
     "execution_count": 486,
     "metadata": {},
     "output_type": "execute_result"
    }
   ],
   "execution_count": 486
  },
  {
   "metadata": {
    "ExecuteTime": {
     "end_time": "2024-12-21T03:32:13.960969Z",
     "start_time": "2024-12-21T03:32:13.957783Z"
    }
   },
   "cell_type": "code",
   "source": "indices = array_filtered.searchsorted([40.50, 42.357, 47.025, 48.952])",
   "id": "a3b45c6a78693283",
   "outputs": [],
   "execution_count": 487
  },
  {
   "metadata": {
    "ExecuteTime": {
     "end_time": "2024-12-21T03:32:14.008402Z",
     "start_time": "2024-12-21T03:32:14.004369Z"
    }
   },
   "cell_type": "code",
   "source": "indices",
   "id": "c192814058526d88",
   "outputs": [
    {
     "data": {
      "text/plain": [
       "array([ 0,  1,  5, 15])"
      ]
     },
     "execution_count": 488,
     "metadata": {},
     "output_type": "execute_result"
    }
   ],
   "execution_count": 488
  },
  {
   "metadata": {
    "ExecuteTime": {
     "end_time": "2024-12-21T03:32:14.054155Z",
     "start_time": "2024-12-21T03:32:14.051776Z"
    }
   },
   "cell_type": "code",
   "source": "array_2D = array[0]",
   "id": "59b05989df7f7849",
   "outputs": [],
   "execution_count": 489
  },
  {
   "metadata": {
    "ExecuteTime": {
     "end_time": "2024-12-21T03:32:14.101205Z",
     "start_time": "2024-12-21T03:32:14.098009Z"
    }
   },
   "cell_type": "code",
   "source": "array_2D",
   "id": "868a2fd1db8d83ab",
   "outputs": [
    {
     "data": {
      "text/plain": [
       "array([[51.037, 52.465, 50.991, 46.091],\n",
       "       [52.716, 51.339, 48.389, 51.743],\n",
       "       [51.094, 50.882, 50.085, 51.64 ],\n",
       "       [   nan, 49.511, 48.554, 51.797],\n",
       "       [50.119, 49.123, 47.654, 49.228]])"
      ]
     },
     "execution_count": 490,
     "metadata": {},
     "output_type": "execute_result"
    }
   ],
   "execution_count": 490
  },
  {
   "metadata": {
    "ExecuteTime": {
     "end_time": "2024-12-21T03:32:14.218433Z",
     "start_time": "2024-12-21T03:32:14.216049Z"
    }
   },
   "cell_type": "code",
   "source": "array_2D.shape",
   "id": "8385303cbb289ed4",
   "outputs": [
    {
     "data": {
      "text/plain": [
       "(5, 4)"
      ]
     },
     "execution_count": 491,
     "metadata": {},
     "output_type": "execute_result"
    }
   ],
   "execution_count": 491
  },
  {
   "metadata": {
    "ExecuteTime": {
     "end_time": "2024-12-21T03:32:14.264041Z",
     "start_time": "2024-12-21T03:32:14.261037Z"
    }
   },
   "cell_type": "code",
   "source": "array_2D.diagonal()",
   "id": "cb60542f5e58e8a1",
   "outputs": [
    {
     "data": {
      "text/plain": [
       "array([51.037, 51.339, 50.085, 51.797])"
      ]
     },
     "execution_count": 492,
     "metadata": {},
     "output_type": "execute_result"
    }
   ],
   "execution_count": 492
  }
 ],
 "metadata": {
  "kernelspec": {
   "display_name": "Python 3",
   "language": "python",
   "name": "python3"
  },
  "language_info": {
   "codemirror_mode": {
    "name": "ipython",
    "version": 2
   },
   "file_extension": ".py",
   "mimetype": "text/x-python",
   "name": "python",
   "nbconvert_exporter": "python",
   "pygments_lexer": "ipython2",
   "version": "2.7.6"
  }
 },
 "nbformat": 4,
 "nbformat_minor": 5
}
