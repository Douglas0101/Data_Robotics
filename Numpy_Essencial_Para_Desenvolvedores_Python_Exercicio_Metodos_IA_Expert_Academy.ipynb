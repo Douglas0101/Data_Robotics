{
 "cells": [
  {
   "cell_type": "code",
   "id": "initial_id",
   "metadata": {
    "collapsed": true,
    "ExecuteTime": {
     "end_time": "2024-12-20T17:28:31.523107Z",
     "start_time": "2024-12-20T17:28:31.520738Z"
    }
   },
   "source": "import numpy as np",
   "outputs": [],
   "execution_count": 50
  },
  {
   "metadata": {
    "ExecuteTime": {
     "end_time": "2024-12-20T17:28:31.552893Z",
     "start_time": "2024-12-20T17:28:31.547573Z"
    }
   },
   "cell_type": "code",
   "source": "rng = np.random.default_rng(seed=1)",
   "id": "1a96392e19bbb539",
   "outputs": [],
   "execution_count": 51
  },
  {
   "metadata": {
    "ExecuteTime": {
     "end_time": "2024-12-20T17:28:31.603715Z",
     "start_time": "2024-12-20T17:28:31.599436Z"
    }
   },
   "cell_type": "code",
   "source": "array = rng.normal(loc=50, scale=3, size=60).reshape(3,5,4).round(3)",
   "id": "93c185b70a90c416",
   "outputs": [],
   "execution_count": 52
  },
  {
   "metadata": {
    "ExecuteTime": {
     "end_time": "2024-12-20T17:28:31.673109Z",
     "start_time": "2024-12-20T17:28:31.657939Z"
    }
   },
   "cell_type": "code",
   "source": "array",
   "id": "62551c7bd1e372c8",
   "outputs": [
    {
     "data": {
      "text/plain": [
       "array([[[51.037, 52.465, 50.991, 46.091],\n",
       "        [52.716, 51.339, 48.389, 51.743],\n",
       "        [51.094, 50.882, 50.085, 51.64 ],\n",
       "        [47.791, 49.511, 48.554, 51.797],\n",
       "        [50.119, 49.123, 47.654, 49.228]],\n",
       "\n",
       "       [[50.024, 49.173, 53.882, 53.02 ],\n",
       "        [41.867, 44.333, 49.476, 48.733],\n",
       "        [50.641, 50.652, 56.354, 46.664],\n",
       "        [48.867, 56.128, 51.94 , 51.989],\n",
       "        [48.458, 45.056, 50.502, 50.327]],\n",
       "\n",
       "       [[46.318, 47.95 , 49.784, 47.166],\n",
       "        [49.705, 50.286, 50.107, 48.481],\n",
       "        [51.781, 52.674, 50.963, 47.545],\n",
       "        [52.195, 48.496, 52.637, 46.785],\n",
       "        [52.743, 49.94 , 46.254, 49.058]]])"
      ]
     },
     "execution_count": 53,
     "metadata": {},
     "output_type": "execute_result"
    }
   ],
   "execution_count": 53
  },
  {
   "metadata": {
    "ExecuteTime": {
     "end_time": "2024-12-20T17:28:31.731810Z",
     "start_time": "2024-12-20T17:28:31.725726Z"
    }
   },
   "cell_type": "code",
   "source": "array[0]\n",
   "id": "98c25a255e310a64",
   "outputs": [
    {
     "data": {
      "text/plain": [
       "array([[51.037, 52.465, 50.991, 46.091],\n",
       "       [52.716, 51.339, 48.389, 51.743],\n",
       "       [51.094, 50.882, 50.085, 51.64 ],\n",
       "       [47.791, 49.511, 48.554, 51.797],\n",
       "       [50.119, 49.123, 47.654, 49.228]])"
      ]
     },
     "execution_count": 54,
     "metadata": {},
     "output_type": "execute_result"
    }
   ],
   "execution_count": 54
  },
  {
   "metadata": {
    "ExecuteTime": {
     "end_time": "2024-12-20T17:28:31.817001Z",
     "start_time": "2024-12-20T17:28:31.811715Z"
    }
   },
   "cell_type": "code",
   "source": "array[1]",
   "id": "1207b5008f88f6a6",
   "outputs": [
    {
     "data": {
      "text/plain": [
       "array([[50.024, 49.173, 53.882, 53.02 ],\n",
       "       [41.867, 44.333, 49.476, 48.733],\n",
       "       [50.641, 50.652, 56.354, 46.664],\n",
       "       [48.867, 56.128, 51.94 , 51.989],\n",
       "       [48.458, 45.056, 50.502, 50.327]])"
      ]
     },
     "execution_count": 55,
     "metadata": {},
     "output_type": "execute_result"
    }
   ],
   "execution_count": 55
  },
  {
   "metadata": {
    "ExecuteTime": {
     "end_time": "2024-12-20T17:28:31.909544Z",
     "start_time": "2024-12-20T17:28:31.895814Z"
    }
   },
   "cell_type": "code",
   "source": "array[2]",
   "id": "e3d331e5ddc686df",
   "outputs": [
    {
     "data": {
      "text/plain": [
       "array([[46.318, 47.95 , 49.784, 47.166],\n",
       "       [49.705, 50.286, 50.107, 48.481],\n",
       "       [51.781, 52.674, 50.963, 47.545],\n",
       "       [52.195, 48.496, 52.637, 46.785],\n",
       "       [52.743, 49.94 , 46.254, 49.058]])"
      ]
     },
     "execution_count": 56,
     "metadata": {},
     "output_type": "execute_result"
    }
   ],
   "execution_count": 56
  },
  {
   "metadata": {
    "ExecuteTime": {
     "end_time": "2024-12-20T17:28:32.015858Z",
     "start_time": "2024-12-20T17:28:32.009745Z"
    }
   },
   "cell_type": "code",
   "source": "array.shape",
   "id": "f8ada83d18f0173e",
   "outputs": [
    {
     "data": {
      "text/plain": [
       "(3, 5, 4)"
      ]
     },
     "execution_count": 57,
     "metadata": {},
     "output_type": "execute_result"
    }
   ],
   "execution_count": 57
  },
  {
   "metadata": {
    "ExecuteTime": {
     "end_time": "2024-12-20T17:28:32.089235Z",
     "start_time": "2024-12-20T17:28:32.085851Z"
    }
   },
   "cell_type": "code",
   "source": "array.item(2,1,0)",
   "id": "8ffbbec2346b6907",
   "outputs": [
    {
     "data": {
      "text/plain": [
       "49.705"
      ]
     },
     "execution_count": 58,
     "metadata": {},
     "output_type": "execute_result"
    }
   ],
   "execution_count": 58
  },
  {
   "metadata": {
    "ExecuteTime": {
     "end_time": "2024-12-20T17:28:32.247961Z",
     "start_time": "2024-12-20T17:28:32.242976Z"
    }
   },
   "cell_type": "code",
   "source": "array.itemset((2,1,0), 49.709)",
   "id": "4c95cac6d509500f",
   "outputs": [],
   "execution_count": 59
  },
  {
   "metadata": {
    "ExecuteTime": {
     "end_time": "2024-12-20T17:28:32.296940Z",
     "start_time": "2024-12-20T17:28:32.293116Z"
    }
   },
   "cell_type": "code",
   "source": "array",
   "id": "1493d7d002afa452",
   "outputs": [
    {
     "data": {
      "text/plain": [
       "array([[[51.037, 52.465, 50.991, 46.091],\n",
       "        [52.716, 51.339, 48.389, 51.743],\n",
       "        [51.094, 50.882, 50.085, 51.64 ],\n",
       "        [47.791, 49.511, 48.554, 51.797],\n",
       "        [50.119, 49.123, 47.654, 49.228]],\n",
       "\n",
       "       [[50.024, 49.173, 53.882, 53.02 ],\n",
       "        [41.867, 44.333, 49.476, 48.733],\n",
       "        [50.641, 50.652, 56.354, 46.664],\n",
       "        [48.867, 56.128, 51.94 , 51.989],\n",
       "        [48.458, 45.056, 50.502, 50.327]],\n",
       "\n",
       "       [[46.318, 47.95 , 49.784, 47.166],\n",
       "        [49.709, 50.286, 50.107, 48.481],\n",
       "        [51.781, 52.674, 50.963, 47.545],\n",
       "        [52.195, 48.496, 52.637, 46.785],\n",
       "        [52.743, 49.94 , 46.254, 49.058]]])"
      ]
     },
     "execution_count": 60,
     "metadata": {},
     "output_type": "execute_result"
    }
   ],
   "execution_count": 60
  },
  {
   "metadata": {
    "ExecuteTime": {
     "end_time": "2024-12-20T17:28:32.354196Z",
     "start_time": "2024-12-20T17:28:32.348774Z"
    }
   },
   "cell_type": "code",
   "source": "array.item(2,1,0)",
   "id": "7c5ddcc8a487a90d",
   "outputs": [
    {
     "data": {
      "text/plain": [
       "49.709"
      ]
     },
     "execution_count": 61,
     "metadata": {},
     "output_type": "execute_result"
    }
   ],
   "execution_count": 61
  },
  {
   "metadata": {
    "ExecuteTime": {
     "end_time": "2024-12-20T17:28:32.429200Z",
     "start_time": "2024-12-20T17:28:32.415593Z"
    }
   },
   "cell_type": "code",
   "source": [
    "array_view = array.view()\n",
    "array_view"
   ],
   "id": "591da8b7652d2bdb",
   "outputs": [
    {
     "data": {
      "text/plain": [
       "array([[[51.037, 52.465, 50.991, 46.091],\n",
       "        [52.716, 51.339, 48.389, 51.743],\n",
       "        [51.094, 50.882, 50.085, 51.64 ],\n",
       "        [47.791, 49.511, 48.554, 51.797],\n",
       "        [50.119, 49.123, 47.654, 49.228]],\n",
       "\n",
       "       [[50.024, 49.173, 53.882, 53.02 ],\n",
       "        [41.867, 44.333, 49.476, 48.733],\n",
       "        [50.641, 50.652, 56.354, 46.664],\n",
       "        [48.867, 56.128, 51.94 , 51.989],\n",
       "        [48.458, 45.056, 50.502, 50.327]],\n",
       "\n",
       "       [[46.318, 47.95 , 49.784, 47.166],\n",
       "        [49.709, 50.286, 50.107, 48.481],\n",
       "        [51.781, 52.674, 50.963, 47.545],\n",
       "        [52.195, 48.496, 52.637, 46.785],\n",
       "        [52.743, 49.94 , 46.254, 49.058]]])"
      ]
     },
     "execution_count": 62,
     "metadata": {},
     "output_type": "execute_result"
    }
   ],
   "execution_count": 62
  },
  {
   "metadata": {
    "ExecuteTime": {
     "end_time": "2024-12-20T17:28:32.486656Z",
     "start_time": "2024-12-20T17:28:32.481013Z"
    }
   },
   "cell_type": "code",
   "source": [
    "array.itemset((2,1,0), 49.705)\n",
    "array.item(2,1,0)"
   ],
   "id": "7e6888f67343d9d4",
   "outputs": [
    {
     "data": {
      "text/plain": [
       "49.705"
      ]
     },
     "execution_count": 63,
     "metadata": {},
     "output_type": "execute_result"
    }
   ],
   "execution_count": 63
  },
  {
   "metadata": {
    "ExecuteTime": {
     "end_time": "2024-12-20T17:28:32.538672Z",
     "start_time": "2024-12-20T17:28:32.530624Z"
    }
   },
   "cell_type": "code",
   "source": "array_view.item(2,1,0)",
   "id": "a95a8d2f839aaa58",
   "outputs": [
    {
     "data": {
      "text/plain": [
       "49.705"
      ]
     },
     "execution_count": 64,
     "metadata": {},
     "output_type": "execute_result"
    }
   ],
   "execution_count": 64
  },
  {
   "metadata": {
    "ExecuteTime": {
     "end_time": "2024-12-20T17:28:32.587577Z",
     "start_time": "2024-12-20T17:28:32.583092Z"
    }
   },
   "cell_type": "code",
   "source": [
    "array_1 = rng.normal(loc=50, scale=3, size=60).reshape(3,5,4).round(3)\n",
    "array_copy = array.copy()\n",
    "array_copy"
   ],
   "id": "8b988f30ea7e8bca",
   "outputs": [
    {
     "data": {
      "text/plain": [
       "array([[[51.037, 52.465, 50.991, 46.091],\n",
       "        [52.716, 51.339, 48.389, 51.743],\n",
       "        [51.094, 50.882, 50.085, 51.64 ],\n",
       "        [47.791, 49.511, 48.554, 51.797],\n",
       "        [50.119, 49.123, 47.654, 49.228]],\n",
       "\n",
       "       [[50.024, 49.173, 53.882, 53.02 ],\n",
       "        [41.867, 44.333, 49.476, 48.733],\n",
       "        [50.641, 50.652, 56.354, 46.664],\n",
       "        [48.867, 56.128, 51.94 , 51.989],\n",
       "        [48.458, 45.056, 50.502, 50.327]],\n",
       "\n",
       "       [[46.318, 47.95 , 49.784, 47.166],\n",
       "        [49.705, 50.286, 50.107, 48.481],\n",
       "        [51.781, 52.674, 50.963, 47.545],\n",
       "        [52.195, 48.496, 52.637, 46.785],\n",
       "        [52.743, 49.94 , 46.254, 49.058]]])"
      ]
     },
     "execution_count": 65,
     "metadata": {},
     "output_type": "execute_result"
    }
   ],
   "execution_count": 65
  },
  {
   "metadata": {
    "ExecuteTime": {
     "end_time": "2024-12-20T17:28:32.650040Z",
     "start_time": "2024-12-20T17:28:32.640959Z"
    }
   },
   "cell_type": "code",
   "source": "array.shape",
   "id": "5dbd7b20e1e50fab",
   "outputs": [
    {
     "data": {
      "text/plain": [
       "(3, 5, 4)"
      ]
     },
     "execution_count": 66,
     "metadata": {},
     "output_type": "execute_result"
    }
   ],
   "execution_count": 66
  },
  {
   "metadata": {
    "ExecuteTime": {
     "end_time": "2024-12-20T17:28:32.736306Z",
     "start_time": "2024-12-20T17:28:32.730062Z"
    }
   },
   "cell_type": "code",
   "source": "array.item(2,1,0)",
   "id": "592787708ee5ddc",
   "outputs": [
    {
     "data": {
      "text/plain": [
       "49.705"
      ]
     },
     "execution_count": 67,
     "metadata": {},
     "output_type": "execute_result"
    }
   ],
   "execution_count": 67
  },
  {
   "metadata": {
    "ExecuteTime": {
     "end_time": "2024-12-20T17:28:32.838750Z",
     "start_time": "2024-12-20T17:28:32.834573Z"
    }
   },
   "cell_type": "code",
   "source": [
    "array.itemset((2,1,0), 49.709)\n",
    "array.item(2,1,0)"
   ],
   "id": "ed1d66f9d2898d0e",
   "outputs": [
    {
     "data": {
      "text/plain": [
       "49.709"
      ]
     },
     "execution_count": 68,
     "metadata": {},
     "output_type": "execute_result"
    }
   ],
   "execution_count": 68
  },
  {
   "metadata": {
    "ExecuteTime": {
     "end_time": "2024-12-20T17:28:33.004249Z",
     "start_time": "2024-12-20T17:28:33.000390Z"
    }
   },
   "cell_type": "code",
   "source": [
    "array_view = array.view()\n",
    "array_view"
   ],
   "id": "db220d2eddd0bf8e",
   "outputs": [
    {
     "data": {
      "text/plain": [
       "array([[[51.037, 52.465, 50.991, 46.091],\n",
       "        [52.716, 51.339, 48.389, 51.743],\n",
       "        [51.094, 50.882, 50.085, 51.64 ],\n",
       "        [47.791, 49.511, 48.554, 51.797],\n",
       "        [50.119, 49.123, 47.654, 49.228]],\n",
       "\n",
       "       [[50.024, 49.173, 53.882, 53.02 ],\n",
       "        [41.867, 44.333, 49.476, 48.733],\n",
       "        [50.641, 50.652, 56.354, 46.664],\n",
       "        [48.867, 56.128, 51.94 , 51.989],\n",
       "        [48.458, 45.056, 50.502, 50.327]],\n",
       "\n",
       "       [[46.318, 47.95 , 49.784, 47.166],\n",
       "        [49.709, 50.286, 50.107, 48.481],\n",
       "        [51.781, 52.674, 50.963, 47.545],\n",
       "        [52.195, 48.496, 52.637, 46.785],\n",
       "        [52.743, 49.94 , 46.254, 49.058]]])"
      ]
     },
     "execution_count": 69,
     "metadata": {},
     "output_type": "execute_result"
    }
   ],
   "execution_count": 69
  },
  {
   "metadata": {
    "ExecuteTime": {
     "end_time": "2024-12-20T17:33:44.695695Z",
     "start_time": "2024-12-20T17:33:44.693393Z"
    }
   },
   "cell_type": "code",
   "source": "array_view[2,1,0] = 49.705",
   "id": "10a96476f595c539",
   "outputs": [],
   "execution_count": 74
  },
  {
   "metadata": {
    "ExecuteTime": {
     "end_time": "2024-12-20T17:35:09.927544Z",
     "start_time": "2024-12-20T17:35:09.922455Z"
    }
   },
   "cell_type": "code",
   "source": "array[2,1,0]",
   "id": "204fb8c854fc8115",
   "outputs": [
    {
     "data": {
      "text/plain": [
       "49.705"
      ]
     },
     "execution_count": 76,
     "metadata": {},
     "output_type": "execute_result"
    }
   ],
   "execution_count": 76
  },
  {
   "metadata": {
    "ExecuteTime": {
     "end_time": "2024-12-20T17:35:16.303402Z",
     "start_time": "2024-12-20T17:35:16.299799Z"
    }
   },
   "cell_type": "code",
   "source": "array_view[2,1,0]",
   "id": "2dcacbc04e5c19af",
   "outputs": [
    {
     "data": {
      "text/plain": [
       "49.705"
      ]
     },
     "execution_count": 77,
     "metadata": {},
     "output_type": "execute_result"
    }
   ],
   "execution_count": 77
  },
  {
   "metadata": {
    "ExecuteTime": {
     "end_time": "2024-12-20T17:39:29.431749Z",
     "start_time": "2024-12-20T17:39:29.427292Z"
    }
   },
   "cell_type": "code",
   "source": [
    "array_copy = array.copy()\n",
    "array_copy"
   ],
   "id": "5cbd4cf73e32f2e7",
   "outputs": [
    {
     "data": {
      "text/plain": [
       "array([[[51.037, 52.465, 50.991, 46.091],\n",
       "        [52.716, 51.339, 48.389, 51.743],\n",
       "        [51.094, 50.882, 50.085, 51.64 ],\n",
       "        [47.791, 49.511, 48.554, 51.797],\n",
       "        [50.119, 49.123, 47.654, 49.228]],\n",
       "\n",
       "       [[50.024, 49.173, 53.882, 53.02 ],\n",
       "        [41.867, 44.333, 49.476, 48.733],\n",
       "        [50.641, 50.652, 56.354, 46.664],\n",
       "        [48.867, 56.128, 51.94 , 51.989],\n",
       "        [48.458, 45.056, 50.502, 50.327]],\n",
       "\n",
       "       [[46.318, 47.95 , 49.784, 47.166],\n",
       "        [49.705, 50.286, 50.107, 48.481],\n",
       "        [51.781, 52.674, 50.963, 47.545],\n",
       "        [52.195, 48.496, 52.637, 46.785],\n",
       "        [52.743, 49.94 , 46.254, 49.058]]])"
      ]
     },
     "execution_count": 78,
     "metadata": {},
     "output_type": "execute_result"
    }
   ],
   "execution_count": 78
  },
  {
   "metadata": {
    "ExecuteTime": {
     "end_time": "2024-12-20T17:40:17.501094Z",
     "start_time": "2024-12-20T17:40:17.498731Z"
    }
   },
   "cell_type": "code",
   "source": "array_copy[2,1,0] = 49.705",
   "id": "b967f90028ffa009",
   "outputs": [],
   "execution_count": 81
  },
  {
   "metadata": {
    "ExecuteTime": {
     "end_time": "2024-12-20T17:40:23.470794Z",
     "start_time": "2024-12-20T17:40:23.466847Z"
    }
   },
   "cell_type": "code",
   "source": "array[2,1,0]",
   "id": "2cb102a44dfb4163",
   "outputs": [
    {
     "data": {
      "text/plain": [
       "49.705"
      ]
     },
     "execution_count": 82,
     "metadata": {},
     "output_type": "execute_result"
    }
   ],
   "execution_count": 82
  },
  {
   "metadata": {
    "ExecuteTime": {
     "end_time": "2024-12-20T17:40:30.052917Z",
     "start_time": "2024-12-20T17:40:30.049432Z"
    }
   },
   "cell_type": "code",
   "source": "array_copy[2,1,0]",
   "id": "121441f7cf953dc3",
   "outputs": [
    {
     "data": {
      "text/plain": [
       "49.705"
      ]
     },
     "execution_count": 83,
     "metadata": {},
     "output_type": "execute_result"
    }
   ],
   "execution_count": 83
  },
  {
   "metadata": {},
   "cell_type": "code",
   "outputs": [],
   "execution_count": null,
   "source": "",
   "id": "3bcdb88938f7dc51"
  }
 ],
 "metadata": {
  "kernelspec": {
   "display_name": "Python 3",
   "language": "python",
   "name": "python3"
  },
  "language_info": {
   "codemirror_mode": {
    "name": "ipython",
    "version": 2
   },
   "file_extension": ".py",
   "mimetype": "text/x-python",
   "name": "python",
   "nbconvert_exporter": "python",
   "pygments_lexer": "ipython2",
   "version": "2.7.6"
  }
 },
 "nbformat": 4,
 "nbformat_minor": 5
}
