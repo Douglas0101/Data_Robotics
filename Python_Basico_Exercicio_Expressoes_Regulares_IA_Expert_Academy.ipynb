{
 "cells": [
  {
   "metadata": {
    "ExecuteTime": {
     "end_time": "2024-11-22T15:52:31.928518Z",
     "start_time": "2024-11-22T15:52:31.926496Z"
    }
   },
   "cell_type": "code",
   "source": "texto = 'Minha rua fica no Carneiro, 78. CEP é 88388-000 e 11111-111 meu site é https://www.iaexpertacademy'",
   "id": "1f7b04acda9776c1",
   "outputs": [],
   "execution_count": 1
  },
  {
   "metadata": {
    "ExecuteTime": {
     "end_time": "2024-11-22T15:52:32.037824Z",
     "start_time": "2024-11-22T15:52:32.032284Z"
    }
   },
   "cell_type": "code",
   "source": [
    "import re\n",
    "re.findall('\\d', texto)"
   ],
   "id": "3bf7b3d378357341",
   "outputs": [
    {
     "name": "stderr",
     "output_type": "stream",
     "text": [
      "<>:2: SyntaxWarning: invalid escape sequence '\\d'\n",
      "<>:2: SyntaxWarning: invalid escape sequence '\\d'\n",
      "/tmp/ipykernel_32672/3368164424.py:2: SyntaxWarning: invalid escape sequence '\\d'\n",
      "  re.findall('\\d', texto)\n"
     ]
    },
    {
     "data": {
      "text/plain": [
       "['7',\n",
       " '8',\n",
       " '8',\n",
       " '8',\n",
       " '3',\n",
       " '8',\n",
       " '8',\n",
       " '0',\n",
       " '0',\n",
       " '0',\n",
       " '1',\n",
       " '1',\n",
       " '1',\n",
       " '1',\n",
       " '1',\n",
       " '1',\n",
       " '1',\n",
       " '1']"
      ]
     },
     "execution_count": 2,
     "metadata": {},
     "output_type": "execute_result"
    }
   ],
   "execution_count": 2
  },
  {
   "metadata": {
    "ExecuteTime": {
     "end_time": "2024-11-22T15:52:32.166507Z",
     "start_time": "2024-11-22T15:52:32.158659Z"
    }
   },
   "cell_type": "code",
   "source": "re.findall('\\d{5}-\\d{3}', texto)",
   "id": "a6c7929bbb204c7c",
   "outputs": [
    {
     "name": "stderr",
     "output_type": "stream",
     "text": [
      "<>:1: SyntaxWarning: invalid escape sequence '\\d'\n",
      "<>:1: SyntaxWarning: invalid escape sequence '\\d'\n",
      "/tmp/ipykernel_32672/945903932.py:1: SyntaxWarning: invalid escape sequence '\\d'\n",
      "  re.findall('\\d{5}-\\d{3}', texto)\n"
     ]
    },
    {
     "data": {
      "text/plain": [
       "['88388-000', '11111-111']"
      ]
     },
     "execution_count": 3,
     "metadata": {},
     "output_type": "execute_result"
    }
   ],
   "execution_count": 3
  },
  {
   "metadata": {
    "ExecuteTime": {
     "end_time": "2024-11-22T15:52:32.228729Z",
     "start_time": "2024-11-22T15:52:32.224821Z"
    }
   },
   "cell_type": "code",
   "source": "re.findall('https?://[A-Za-z0-9./]+', texto)",
   "id": "f9f30d5dd465fd25",
   "outputs": [
    {
     "data": {
      "text/plain": [
       "['https://www.iaexpertacademy']"
      ]
     },
     "execution_count": 4,
     "metadata": {},
     "output_type": "execute_result"
    }
   ],
   "execution_count": 4
  }
 ],
 "metadata": {
  "kernelspec": {
   "display_name": "Python 3",
   "language": "python",
   "name": "python3"
  },
  "language_info": {
   "codemirror_mode": {
    "name": "ipython",
    "version": 2
   },
   "file_extension": ".py",
   "mimetype": "text/x-python",
   "name": "python",
   "nbconvert_exporter": "python",
   "pygments_lexer": "ipython2",
   "version": "2.7.6"
  }
 },
 "nbformat": 4,
 "nbformat_minor": 5
}
