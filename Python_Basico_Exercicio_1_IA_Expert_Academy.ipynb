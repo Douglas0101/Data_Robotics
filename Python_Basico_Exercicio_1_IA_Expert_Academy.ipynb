{
 "cells": [
  {
   "metadata": {
    "ExecuteTime": {
     "end_time": "2024-11-18T03:40:27.946335Z",
     "start_time": "2024-11-18T03:40:15.372619Z"
    }
   },
   "cell_type": "code",
   "source": [
    "numero1 = int(input('Digite o primeiro número: '))\n",
    "numero2 = int(input('Digite o segundo número: '))"
   ],
   "id": "c97abb9e5177d1ed",
   "outputs": [],
   "execution_count": 1
  },
  {
   "metadata": {
    "ExecuteTime": {
     "end_time": "2024-11-18T03:40:28.087663Z",
     "start_time": "2024-11-18T03:40:28.083585Z"
    }
   },
   "cell_type": "code",
   "source": "print(numero1, numero2)",
   "id": "31d96b9660fb9948",
   "outputs": [
    {
     "name": "stdout",
     "output_type": "stream",
     "text": [
      "50 10\n"
     ]
    }
   ],
   "execution_count": 2
  },
  {
   "metadata": {
    "ExecuteTime": {
     "end_time": "2024-11-18T03:40:28.197943Z",
     "start_time": "2024-11-18T03:40:28.195084Z"
    }
   },
   "cell_type": "code",
   "source": [
    "adicao = numero1 + numero2\n",
    "subtracao = numero1 - numero2\n",
    "multiplicacao = numero1 * numero2\n",
    "divisao = numero1 / numero2"
   ],
   "id": "3b53b6edbf5d40c6",
   "outputs": [],
   "execution_count": 3
  },
  {
   "metadata": {
    "ExecuteTime": {
     "end_time": "2024-11-18T03:40:29.168849Z",
     "start_time": "2024-11-18T03:40:29.162267Z"
    }
   },
   "cell_type": "code",
   "source": [
    "print('Adição:', adicao)\n",
    "print('Subtração:', subtracao)\n",
    "print('Multiplicação:', multiplicacao)\n",
    "print('Divisão:', divisao)"
   ],
   "id": "2e64d9848fdc7293",
   "outputs": [
    {
     "name": "stdout",
     "output_type": "stream",
     "text": [
      "Adição: 60\n",
      "Subtração: 40\n",
      "Multiplicação: 500\n",
      "Divisão: 5.0\n"
     ]
    }
   ],
   "execution_count": 4
  },
  {
   "metadata": {
    "ExecuteTime": {
     "end_time": "2024-11-18T03:40:42.610283Z",
     "start_time": "2024-11-18T03:40:29.281734Z"
    }
   },
   "cell_type": "code",
   "source": [
    "tempo = float(input('Quanto tempo gasto na viagem? '))\n",
    "velocidade_media = float(input('Qual foi a velocidade média? '))"
   ],
   "id": "f9c800b04f83c3c4",
   "outputs": [],
   "execution_count": 5
  },
  {
   "metadata": {
    "ExecuteTime": {
     "end_time": "2024-11-18T03:40:42.801156Z",
     "start_time": "2024-11-18T03:40:42.796629Z"
    }
   },
   "cell_type": "code",
   "source": [
    "print(f'Tempo gasto na viagem: {tempo}')\n",
    "print(f'Velocidade média: {velocidade_media}')"
   ],
   "id": "d36dd281fb31ed94",
   "outputs": [
    {
     "name": "stdout",
     "output_type": "stream",
     "text": [
      "Tempo gasto na viagem: 6.0\n",
      "Velocidade média: 110.0\n"
     ]
    }
   ],
   "execution_count": 6
  },
  {
   "metadata": {
    "ExecuteTime": {
     "end_time": "2024-11-18T03:40:42.939885Z",
     "start_time": "2024-11-18T03:40:42.935037Z"
    }
   },
   "cell_type": "code",
   "source": [
    "distancia = tempo * velocidade_media\n",
    "litros_usados = distancia / 12"
   ],
   "id": "263f6db92c356b68",
   "outputs": [],
   "execution_count": 7
  },
  {
   "metadata": {
    "ExecuteTime": {
     "end_time": "2024-11-18T03:40:43.035974Z",
     "start_time": "2024-11-18T03:40:43.032420Z"
    }
   },
   "cell_type": "code",
   "source": [
    "print(f'Distância percorrida: {distancia}')\n",
    "print(f'Quantidade de litros usados: {litros_usados}')"
   ],
   "id": "f71e42f032ff71dd",
   "outputs": [
    {
     "name": "stdout",
     "output_type": "stream",
     "text": [
      "Distância percorrida: 660.0\n",
      "Quantidade de litros usados: 55.0\n"
     ]
    }
   ],
   "execution_count": 8
  }
 ],
 "metadata": {
  "kernelspec": {
   "display_name": "Python 3",
   "language": "python",
   "name": "python3"
  },
  "language_info": {
   "codemirror_mode": {
    "name": "ipython",
    "version": 2
   },
   "file_extension": ".py",
   "mimetype": "text/x-python",
   "name": "python",
   "nbconvert_exporter": "python",
   "pygments_lexer": "ipython2",
   "version": "2.7.6"
  }
 },
 "nbformat": 4,
 "nbformat_minor": 5
}
