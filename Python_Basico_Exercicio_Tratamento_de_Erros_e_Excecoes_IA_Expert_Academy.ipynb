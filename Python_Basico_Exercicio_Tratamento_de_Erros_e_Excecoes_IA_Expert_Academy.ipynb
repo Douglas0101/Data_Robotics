{
 "cells": [
  {
   "cell_type": "code",
   "execution_count": null,
   "id": "initial_id",
   "metadata": {
    "collapsed": true
   },
   "outputs": [],
   "source": [
    "lista = []\n",
    "try:\n",
    "    lista.append(int(input('Digite o primeiro valor: ')))\n",
    "    lista.append(int(input('Digite o segundo valor: ')))\n",
    "    divisao = lista[0] / lista[1]\n",
    "except ValueError:\n",
    "    print('Você deve digitar apenas números.')\n",
    "except ZeroDivisionError:\n",
    "    print('Erro! Não é possivel dividir por zero.')\n",
    "except IndexError:\n",
    "    print('Erro! Índice inválido.')\n",
    "except KeyboardInterrupt:\n",
    "    print('O usuário interrompeu a execução do programa.')\n",
    "else:\n",
    "    print(f'O resultado da divisão é {divisao}')"
   ]
  }
 ],
 "metadata": {
  "kernelspec": {
   "display_name": "Python 3",
   "language": "python",
   "name": "python3"
  },
  "language_info": {
   "codemirror_mode": {
    "name": "ipython",
    "version": 2
   },
   "file_extension": ".py",
   "mimetype": "text/x-python",
   "name": "python",
   "nbconvert_exporter": "python",
   "pygments_lexer": "ipython2",
   "version": "2.7.6"
  }
 },
 "nbformat": 4,
 "nbformat_minor": 5
}
