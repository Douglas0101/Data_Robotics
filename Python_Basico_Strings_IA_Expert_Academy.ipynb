{
 "cells": [
  {
   "metadata": {
    "ExecuteTime": {
     "end_time": "2024-11-17T01:21:16.411783Z",
     "start_time": "2024-11-17T01:21:16.408857Z"
    }
   },
   "cell_type": "code",
   "source": [
    "a = 'casaco'\n",
    "print(a)"
   ],
   "id": "ed7fed0f4c1dd6d3",
   "outputs": [
    {
     "name": "stdout",
     "output_type": "stream",
     "text": [
      "casaco\n"
     ]
    }
   ],
   "execution_count": 1
  },
  {
   "metadata": {
    "ExecuteTime": {
     "end_time": "2024-11-17T01:21:16.459058Z",
     "start_time": "2024-11-17T01:21:16.455314Z"
    }
   },
   "cell_type": "code",
   "source": [
    "maiuscula = a.upper()\n",
    "print(maiuscula)"
   ],
   "id": "939d602a76b8fe4c",
   "outputs": [
    {
     "name": "stdout",
     "output_type": "stream",
     "text": [
      "CASACO\n"
     ]
    }
   ],
   "execution_count": 2
  },
  {
   "metadata": {
    "ExecuteTime": {
     "end_time": "2024-11-17T01:21:16.530052Z",
     "start_time": "2024-11-17T01:21:16.526814Z"
    }
   },
   "cell_type": "code",
   "source": [
    "minuscula = a.lower()\n",
    "print(minuscula)"
   ],
   "id": "36a0db7017ec5c79",
   "outputs": [
    {
     "name": "stdout",
     "output_type": "stream",
     "text": [
      "casaco\n"
     ]
    }
   ],
   "execution_count": 3
  },
  {
   "metadata": {
    "ExecuteTime": {
     "end_time": "2024-11-17T01:21:16.571291Z",
     "start_time": "2024-11-17T01:21:16.568396Z"
    }
   },
   "cell_type": "code",
   "source": [
    "capital = a.capitalize()\n",
    "print(capital)"
   ],
   "id": "904d133908ca5865",
   "outputs": [
    {
     "name": "stdout",
     "output_type": "stream",
     "text": [
      "Casaco\n"
     ]
    }
   ],
   "execution_count": 4
  },
  {
   "metadata": {
    "ExecuteTime": {
     "end_time": "2024-11-17T01:21:16.620349Z",
     "start_time": "2024-11-17T01:21:16.617802Z"
    }
   },
   "cell_type": "code",
   "source": [
    "metade_palavra = a[0:4]\n",
    "print(metade_palavra)"
   ],
   "id": "d07ca51e17fbbc48",
   "outputs": [
    {
     "name": "stdout",
     "output_type": "stream",
     "text": [
      "casa\n"
     ]
    }
   ],
   "execution_count": 5
  },
  {
   "metadata": {
    "ExecuteTime": {
     "end_time": "2024-11-17T01:21:16.669158Z",
     "start_time": "2024-11-17T01:21:16.665461Z"
    }
   },
   "cell_type": "code",
   "source": [
    "ultimas_palavras = a[3:]\n",
    "print(ultimas_palavras)"
   ],
   "id": "d4b2abe70320405c",
   "outputs": [
    {
     "name": "stdout",
     "output_type": "stream",
     "text": [
      "aco\n"
     ]
    }
   ],
   "execution_count": 6
  },
  {
   "metadata": {
    "ExecuteTime": {
     "end_time": "2024-11-17T01:21:16.717246Z",
     "start_time": "2024-11-17T01:21:16.714868Z"
    }
   },
   "cell_type": "code",
   "source": [
    "b = a.replace('aco', 'inha')\n",
    "print(a)\n",
    "print(b)"
   ],
   "id": "93d06bfeb4a28927",
   "outputs": [
    {
     "name": "stdout",
     "output_type": "stream",
     "text": [
      "casaco\n",
      "casinha\n"
     ]
    }
   ],
   "execution_count": 7
  },
  {
   "metadata": {
    "ExecuteTime": {
     "end_time": "2024-11-17T01:21:16.771468Z",
     "start_time": "2024-11-17T01:21:16.769031Z"
    }
   },
   "cell_type": "code",
   "source": [
    "c = a.replace('o', 'a')\n",
    "print(c)"
   ],
   "id": "2addab9557a8a73f",
   "outputs": [
    {
     "name": "stdout",
     "output_type": "stream",
     "text": [
      "casaca\n"
     ]
    }
   ],
   "execution_count": 8
  },
  {
   "metadata": {
    "ExecuteTime": {
     "end_time": "2024-11-17T01:21:16.821160Z",
     "start_time": "2024-11-17T01:21:16.813723Z"
    }
   },
   "cell_type": "code",
   "source": "c.find('s')",
   "id": "79f88f8dcbe39fb3",
   "outputs": [
    {
     "data": {
      "text/plain": [
       "2"
      ]
     },
     "execution_count": 9,
     "metadata": {},
     "output_type": "execute_result"
    }
   ],
   "execution_count": 9
  },
  {
   "metadata": {
    "ExecuteTime": {
     "end_time": "2024-11-17T01:21:16.871937Z",
     "start_time": "2024-11-17T01:21:16.867490Z"
    }
   },
   "cell_type": "code",
   "source": "c.find('a')",
   "id": "4790af2c0197e6fb",
   "outputs": [
    {
     "data": {
      "text/plain": [
       "1"
      ]
     },
     "execution_count": 10,
     "metadata": {},
     "output_type": "execute_result"
    }
   ],
   "execution_count": 10
  },
  {
   "metadata": {
    "ExecuteTime": {
     "end_time": "2024-11-17T01:21:16.919878Z",
     "start_time": "2024-11-17T01:21:16.916668Z"
    }
   },
   "cell_type": "code",
   "source": "c.find('b')",
   "id": "50ef93721293fc96",
   "outputs": [
    {
     "data": {
      "text/plain": [
       "-1"
      ]
     },
     "execution_count": 11,
     "metadata": {},
     "output_type": "execute_result"
    }
   ],
   "execution_count": 11
  },
  {
   "metadata": {
    "ExecuteTime": {
     "end_time": "2024-11-17T01:21:16.968453Z",
     "start_time": "2024-11-17T01:21:16.965638Z"
    }
   },
   "cell_type": "code",
   "source": [
    "e = ' casaco '\n",
    "print(len(e))"
   ],
   "id": "19cb5878699c03f6",
   "outputs": [
    {
     "name": "stdout",
     "output_type": "stream",
     "text": [
      "8\n"
     ]
    }
   ],
   "execution_count": 12
  },
  {
   "metadata": {
    "ExecuteTime": {
     "end_time": "2024-11-17T01:21:17.019302Z",
     "start_time": "2024-11-17T01:21:17.015947Z"
    }
   },
   "cell_type": "code",
   "source": [
    "f = e.strip()\n",
    "print(f)"
   ],
   "id": "d9b916c32ce626cc",
   "outputs": [
    {
     "name": "stdout",
     "output_type": "stream",
     "text": [
      "casaco\n"
     ]
    }
   ],
   "execution_count": 13
  },
  {
   "metadata": {
    "ExecuteTime": {
     "end_time": "2024-11-17T01:21:17.069366Z",
     "start_time": "2024-11-17T01:21:17.064785Z"
    }
   },
   "cell_type": "code",
   "source": "print(len(f))",
   "id": "d8b5d31c9b7269ef",
   "outputs": [
    {
     "name": "stdout",
     "output_type": "stream",
     "text": [
      "6\n"
     ]
    }
   ],
   "execution_count": 14
  },
  {
   "metadata": {
    "ExecuteTime": {
     "end_time": "2024-11-17T01:21:17.118759Z",
     "start_time": "2024-11-17T01:21:17.114558Z"
    }
   },
   "cell_type": "code",
   "source": [
    "n1 = 14\n",
    "n2 = 16"
   ],
   "id": "689ea620785a3aa9",
   "outputs": [],
   "execution_count": 15
  },
  {
   "metadata": {
    "ExecuteTime": {
     "end_time": "2024-11-17T01:21:17.167296Z",
     "start_time": "2024-11-17T01:21:17.163056Z"
    }
   },
   "cell_type": "code",
   "source": "print(f'Diviindo {n1} por {n2} resulta em {n1/n2}')",
   "id": "380a01af506e339d",
   "outputs": [
    {
     "name": "stdout",
     "output_type": "stream",
     "text": [
      "Diviindo 14 por 16 resulta em 0.875\n"
     ]
    }
   ],
   "execution_count": 16
  }
 ],
 "metadata": {
  "kernelspec": {
   "display_name": "Python 3",
   "language": "python",
   "name": "python3"
  },
  "language_info": {
   "codemirror_mode": {
    "name": "ipython",
    "version": 2
   },
   "file_extension": ".py",
   "mimetype": "text/x-python",
   "name": "python",
   "nbconvert_exporter": "python",
   "pygments_lexer": "ipython2",
   "version": "2.7.6"
  }
 },
 "nbformat": 4,
 "nbformat_minor": 5
}
