{
 "cells": [
  {
   "metadata": {
    "ExecuteTime": {
     "end_time": "2024-11-17T01:21:03.215799Z",
     "start_time": "2024-11-17T01:21:03.211036Z"
    }
   },
   "cell_type": "code",
   "source": [
    "a = 2\n",
    "b = 5\n",
    "print(a, b)"
   ],
   "id": "2c5a8119eacff21e",
   "outputs": [
    {
     "name": "stdout",
     "output_type": "stream",
     "text": [
      "2 5\n"
     ]
    }
   ],
   "execution_count": 14
  },
  {
   "metadata": {
    "ExecuteTime": {
     "end_time": "2024-11-17T01:21:03.284405Z",
     "start_time": "2024-11-17T01:21:03.280837Z"
    }
   },
   "cell_type": "code",
   "source": "a + b",
   "id": "63b3b1f63d1a1d31",
   "outputs": [
    {
     "data": {
      "text/plain": [
       "7"
      ]
     },
     "execution_count": 15,
     "metadata": {},
     "output_type": "execute_result"
    }
   ],
   "execution_count": 15
  },
  {
   "metadata": {
    "ExecuteTime": {
     "end_time": "2024-11-17T01:21:03.460094Z",
     "start_time": "2024-11-17T01:21:03.454663Z"
    }
   },
   "cell_type": "code",
   "source": "print(f'A soma é {a + b}')",
   "id": "e8ab1f467823594f",
   "outputs": [
    {
     "name": "stdout",
     "output_type": "stream",
     "text": [
      "A soma é 7\n"
     ]
    }
   ],
   "execution_count": 16
  },
  {
   "metadata": {
    "ExecuteTime": {
     "end_time": "2024-11-17T01:21:03.548970Z",
     "start_time": "2024-11-17T01:21:03.545187Z"
    }
   },
   "cell_type": "code",
   "source": "print(f'A subtração é {a - b}')",
   "id": "955deeebbeeaf079",
   "outputs": [
    {
     "name": "stdout",
     "output_type": "stream",
     "text": [
      "A subtração é -3\n"
     ]
    }
   ],
   "execution_count": 17
  },
  {
   "metadata": {
    "ExecuteTime": {
     "end_time": "2024-11-17T01:21:03.601314Z",
     "start_time": "2024-11-17T01:21:03.597078Z"
    }
   },
   "cell_type": "code",
   "source": "print(f'A divisão é {a / b}')",
   "id": "ebb4d88e0ec20452",
   "outputs": [
    {
     "name": "stdout",
     "output_type": "stream",
     "text": [
      "A divisão é 0.4\n"
     ]
    }
   ],
   "execution_count": 18
  },
  {
   "metadata": {
    "ExecuteTime": {
     "end_time": "2024-11-17T01:21:03.652877Z",
     "start_time": "2024-11-17T01:21:03.650263Z"
    }
   },
   "cell_type": "code",
   "source": "print(f'A multiplicação é {a * b}')",
   "id": "5bf87da041df2be2",
   "outputs": [
    {
     "name": "stdout",
     "output_type": "stream",
     "text": [
      "A multiplicação é 10\n"
     ]
    }
   ],
   "execution_count": 19
  },
  {
   "metadata": {
    "ExecuteTime": {
     "end_time": "2024-11-17T01:21:03.709589Z",
     "start_time": "2024-11-17T01:21:03.704556Z"
    }
   },
   "cell_type": "code",
   "source": "print(f'O resto da divisão é {10 % 3}')",
   "id": "1a7ca7408a428bb1",
   "outputs": [
    {
     "name": "stdout",
     "output_type": "stream",
     "text": [
      "O resto da divisão é 1\n"
     ]
    }
   ],
   "execution_count": 20
  },
  {
   "metadata": {
    "ExecuteTime": {
     "end_time": "2024-11-17T01:21:03.768981Z",
     "start_time": "2024-11-17T01:21:03.761605Z"
    }
   },
   "cell_type": "code",
   "source": "5 * 5 * 5 * 5",
   "id": "9157271629abbae0",
   "outputs": [
    {
     "data": {
      "text/plain": [
       "625"
      ]
     },
     "execution_count": 21,
     "metadata": {},
     "output_type": "execute_result"
    }
   ],
   "execution_count": 21
  },
  {
   "metadata": {
    "ExecuteTime": {
     "end_time": "2024-11-17T01:21:03.824550Z",
     "start_time": "2024-11-17T01:21:03.820595Z"
    }
   },
   "cell_type": "code",
   "source": "print(f'5 elevado a 4 é {5 ** 4}')",
   "id": "8fb2c743491aaeb",
   "outputs": [
    {
     "name": "stdout",
     "output_type": "stream",
     "text": [
      "5 elevado a 4 é 625\n"
     ]
    }
   ],
   "execution_count": 22
  },
  {
   "metadata": {
    "ExecuteTime": {
     "end_time": "2024-11-17T01:21:03.877873Z",
     "start_time": "2024-11-17T01:21:03.874020Z"
    }
   },
   "cell_type": "code",
   "source": [
    "import math\n",
    "math.sqrt(81)"
   ],
   "id": "5f4fc0061115c210",
   "outputs": [
    {
     "data": {
      "text/plain": [
       "9.0"
      ]
     },
     "execution_count": 23,
     "metadata": {},
     "output_type": "execute_result"
    }
   ],
   "execution_count": 23
  },
  {
   "metadata": {
    "ExecuteTime": {
     "end_time": "2024-11-17T01:21:03.928083Z",
     "start_time": "2024-11-17T01:21:03.924886Z"
    }
   },
   "cell_type": "code",
   "source": [
    "casos_doenca = 134\n",
    "numero_habitantes = 34432\n",
    "casos_por_habitantes = casos_doenca / numero_habitantes\n",
    "print(f'Casos por habitantes: {casos_por_habitantes}')"
   ],
   "id": "2ec6e80a4be4f09",
   "outputs": [
    {
     "name": "stdout",
     "output_type": "stream",
     "text": [
      "Casos por habitantes: 0.003891728624535316\n"
     ]
    }
   ],
   "execution_count": 24
  },
  {
   "metadata": {
    "ExecuteTime": {
     "end_time": "2024-11-17T01:21:03.981559Z",
     "start_time": "2024-11-17T01:21:03.977891Z"
    }
   },
   "cell_type": "code",
   "source": "round(casos_por_habitantes, 6)",
   "id": "63d5f4ef3c2a7594",
   "outputs": [
    {
     "data": {
      "text/plain": [
       "0.003892"
      ]
     },
     "execution_count": 25,
     "metadata": {},
     "output_type": "execute_result"
    }
   ],
   "execution_count": 25
  },
  {
   "metadata": {
    "ExecuteTime": {
     "end_time": "2024-11-17T01:21:04.034062Z",
     "start_time": "2024-11-17T01:21:04.030513Z"
    }
   },
   "cell_type": "code",
   "source": "print(f'O número de casos por habitante é de', round(casos_por_habitantes, 4))",
   "id": "48607767a206eadd",
   "outputs": [
    {
     "name": "stdout",
     "output_type": "stream",
     "text": [
      "O número de casos por habitante é de 0.0039\n"
     ]
    }
   ],
   "execution_count": 26
  }
 ],
 "metadata": {
  "kernelspec": {
   "display_name": "Python 3",
   "language": "python",
   "name": "python3"
  },
  "language_info": {
   "codemirror_mode": {
    "name": "ipython",
    "version": 2
   },
   "file_extension": ".py",
   "mimetype": "text/x-python",
   "name": "python",
   "nbconvert_exporter": "python",
   "pygments_lexer": "ipython2",
   "version": "2.7.6"
  }
 },
 "nbformat": 4,
 "nbformat_minor": 5
}
