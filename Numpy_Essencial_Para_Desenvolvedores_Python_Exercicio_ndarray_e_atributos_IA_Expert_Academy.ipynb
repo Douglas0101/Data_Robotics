{
 "cells": [
  {
   "metadata": {
    "ExecuteTime": {
     "end_time": "2024-11-30T02:50:39.113098Z",
     "start_time": "2024-11-30T02:50:39.109794Z"
    }
   },
   "cell_type": "code",
   "source": [
    "from array import array\n",
    "\n",
    "import numpy as np\n",
    "from numba.np.arrayobj import array_dtype"
   ],
   "id": "beb35a79b33e2e88",
   "outputs": [],
   "execution_count": 8
  },
  {
   "metadata": {
    "ExecuteTime": {
     "end_time": "2024-11-30T02:50:39.171010Z",
     "start_time": "2024-11-30T02:50:39.164029Z"
    }
   },
   "cell_type": "code",
   "source": "array_a = np.array([1, 2, 3, 4])",
   "id": "cb6327a5dd84d952",
   "outputs": [],
   "execution_count": 9
  },
  {
   "metadata": {
    "ExecuteTime": {
     "end_time": "2024-11-30T02:50:39.233558Z",
     "start_time": "2024-11-30T02:50:39.225692Z"
    }
   },
   "cell_type": "code",
   "source": "array_a.shape, array_a.ndim",
   "id": "560b3fc31a51afcd",
   "outputs": [
    {
     "data": {
      "text/plain": [
       "((4,), 1)"
      ]
     },
     "execution_count": 10,
     "metadata": {},
     "output_type": "execute_result"
    }
   ],
   "execution_count": 10
  },
  {
   "metadata": {
    "ExecuteTime": {
     "end_time": "2024-11-30T02:50:39.288504Z",
     "start_time": "2024-11-30T02:50:39.283540Z"
    }
   },
   "cell_type": "code",
   "source": "array_a.size",
   "id": "5a710db6a3e17c15",
   "outputs": [
    {
     "data": {
      "text/plain": [
       "4"
      ]
     },
     "execution_count": 11,
     "metadata": {},
     "output_type": "execute_result"
    }
   ],
   "execution_count": 11
  },
  {
   "metadata": {
    "ExecuteTime": {
     "end_time": "2024-11-30T02:50:39.341675Z",
     "start_time": "2024-11-30T02:50:39.338023Z"
    }
   },
   "cell_type": "code",
   "source": [
    "array_b = np.array([[1, 2, 3, 4, 5],\n",
    "                   [6, 7, 8, 9, 10]])"
   ],
   "id": "c4a67b9c4922915a",
   "outputs": [],
   "execution_count": 12
  },
  {
   "metadata": {
    "ExecuteTime": {
     "end_time": "2024-11-30T02:50:39.397142Z",
     "start_time": "2024-11-30T02:50:39.392448Z"
    }
   },
   "cell_type": "code",
   "source": "array_b.shape, array_b.ndim, array_b.size",
   "id": "5240300128d22e89",
   "outputs": [
    {
     "data": {
      "text/plain": [
       "((2, 5), 2, 10)"
      ]
     },
     "execution_count": 13,
     "metadata": {},
     "output_type": "execute_result"
    }
   ],
   "execution_count": 13
  },
  {
   "metadata": {
    "ExecuteTime": {
     "end_time": "2024-11-30T02:50:39.522420Z",
     "start_time": "2024-11-30T02:50:39.514362Z"
    }
   },
   "cell_type": "code",
   "source": [
    "array_c = np.array([[[1, 2],\n",
    "                    [3, 4],\n",
    "                    [5, 6],\n",
    "                    [7, 8],\n",
    "                    [9, 10]],\n",
    "                   \n",
    "                    [[11, 12],\n",
    "                     [13, 14],\n",
    "                     [15, 16],\n",
    "                     [17, 18],\n",
    "                     [19, 20]]])"
   ],
   "id": "a582ce280d287b4a",
   "outputs": [],
   "execution_count": 14
  },
  {
   "metadata": {
    "ExecuteTime": {
     "end_time": "2024-11-30T02:50:39.578158Z",
     "start_time": "2024-11-30T02:50:39.572927Z"
    }
   },
   "cell_type": "code",
   "source": "array_c.shape, array_c.ndim, array_c.size",
   "id": "aa45c0a8521a6172",
   "outputs": [
    {
     "data": {
      "text/plain": [
       "((2, 5, 2), 3, 20)"
      ]
     },
     "execution_count": 15,
     "metadata": {},
     "output_type": "execute_result"
    }
   ],
   "execution_count": 15
  },
  {
   "metadata": {
    "ExecuteTime": {
     "end_time": "2024-11-30T02:50:39.698096Z",
     "start_time": "2024-11-30T02:50:39.694019Z"
    }
   },
   "cell_type": "code",
   "source": [
    "list_d = [1, 2, 3, 4, 5]\n",
    "for i in list_d:\n",
    "    print(i, type(i))"
   ],
   "id": "d074486eff9ce444",
   "outputs": [
    {
     "name": "stdout",
     "output_type": "stream",
     "text": [
      "1 <class 'int'>\n",
      "2 <class 'int'>\n",
      "3 <class 'int'>\n",
      "4 <class 'int'>\n",
      "5 <class 'int'>\n"
     ]
    }
   ],
   "execution_count": 16
  },
  {
   "metadata": {
    "ExecuteTime": {
     "end_time": "2024-11-30T02:50:39.831740Z",
     "start_time": "2024-11-30T02:50:39.815519Z"
    }
   },
   "cell_type": "code",
   "source": "array_d = np.array(list_d, dtype=np.float16)",
   "id": "66d1308f0f8abc61",
   "outputs": [],
   "execution_count": 17
  },
  {
   "metadata": {
    "ExecuteTime": {
     "end_time": "2024-11-30T02:50:39.897227Z",
     "start_time": "2024-11-30T02:50:39.890790Z"
    }
   },
   "cell_type": "code",
   "source": "array_d.dtype",
   "id": "1c3cc1a8eb80b6ab",
   "outputs": [
    {
     "data": {
      "text/plain": [
       "dtype('float16')"
      ]
     },
     "execution_count": 18,
     "metadata": {},
     "output_type": "execute_result"
    }
   ],
   "execution_count": 18
  },
  {
   "metadata": {
    "ExecuteTime": {
     "end_time": "2024-11-30T02:50:39.953473Z",
     "start_time": "2024-11-30T02:50:39.946732Z"
    }
   },
   "cell_type": "code",
   "source": "array_d = np.array(list_d, dtype=np.float32)",
   "id": "cc27c3b360b0d387",
   "outputs": [],
   "execution_count": 19
  },
  {
   "metadata": {
    "ExecuteTime": {
     "end_time": "2024-11-30T02:50:40.010148Z",
     "start_time": "2024-11-30T02:50:39.997165Z"
    }
   },
   "cell_type": "code",
   "source": "array_d.dtype",
   "id": "7971a5914aac92a8",
   "outputs": [
    {
     "data": {
      "text/plain": [
       "dtype('float32')"
      ]
     },
     "execution_count": 20,
     "metadata": {},
     "output_type": "execute_result"
    }
   ],
   "execution_count": 20
  },
  {
   "metadata": {
    "ExecuteTime": {
     "end_time": "2024-11-30T02:50:40.080192Z",
     "start_time": "2024-11-30T02:50:40.071991Z"
    }
   },
   "cell_type": "code",
   "source": "array_d = np.array(list_d, dtype=np.str_)",
   "id": "cac24aa72cf6e099",
   "outputs": [],
   "execution_count": 21
  },
  {
   "metadata": {
    "ExecuteTime": {
     "end_time": "2024-11-30T02:50:40.135400Z",
     "start_time": "2024-11-30T02:50:40.129047Z"
    }
   },
   "cell_type": "code",
   "source": "array_d.dtype",
   "id": "9c091f7b31bececc",
   "outputs": [
    {
     "data": {
      "text/plain": [
       "dtype('<U1')"
      ]
     },
     "execution_count": 22,
     "metadata": {},
     "output_type": "execute_result"
    }
   ],
   "execution_count": 22
  },
  {
   "metadata": {
    "ExecuteTime": {
     "end_time": "2024-11-30T02:50:40.198421Z",
     "start_time": "2024-11-30T02:50:40.193790Z"
    }
   },
   "cell_type": "code",
   "source": "array_d = np.array(list_d, dtype=np.bool_)",
   "id": "b4f684461093e1ac",
   "outputs": [],
   "execution_count": 23
  },
  {
   "metadata": {
    "ExecuteTime": {
     "end_time": "2024-11-30T02:50:40.252255Z",
     "start_time": "2024-11-30T02:50:40.245330Z"
    }
   },
   "cell_type": "code",
   "source": "array_d",
   "id": "1a44a9486db5873",
   "outputs": [
    {
     "data": {
      "text/plain": [
       "array([ True,  True,  True,  True,  True])"
      ]
     },
     "execution_count": 24,
     "metadata": {},
     "output_type": "execute_result"
    }
   ],
   "execution_count": 24
  },
  {
   "metadata": {
    "ExecuteTime": {
     "end_time": "2024-11-30T02:50:40.309447Z",
     "start_time": "2024-11-30T02:50:40.304637Z"
    }
   },
   "cell_type": "code",
   "source": "array_d.dtype",
   "id": "2fa2d05805160752",
   "outputs": [
    {
     "data": {
      "text/plain": [
       "dtype('bool')"
      ]
     },
     "execution_count": 25,
     "metadata": {},
     "output_type": "execute_result"
    }
   ],
   "execution_count": 25
  }
 ],
 "metadata": {
  "kernelspec": {
   "display_name": "Python 3",
   "language": "python",
   "name": "python3"
  },
  "language_info": {
   "codemirror_mode": {
    "name": "ipython",
    "version": 2
   },
   "file_extension": ".py",
   "mimetype": "text/x-python",
   "name": "python",
   "nbconvert_exporter": "python",
   "pygments_lexer": "ipython2",
   "version": "2.7.6"
  }
 },
 "nbformat": 4,
 "nbformat_minor": 5
}
