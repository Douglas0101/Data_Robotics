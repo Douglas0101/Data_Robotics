{
 "cells": [
  {
   "metadata": {
    "ExecuteTime": {
     "end_time": "2024-12-11T00:05:56.671808Z",
     "start_time": "2024-12-11T00:05:56.665894Z"
    }
   },
   "cell_type": "code",
   "source": "import numpy as np",
   "id": "b059c8f12eaa9614",
   "outputs": [],
   "execution_count": 31
  },
  {
   "metadata": {
    "ExecuteTime": {
     "end_time": "2024-12-11T00:05:56.697807Z",
     "start_time": "2024-12-11T00:05:56.693924Z"
    }
   },
   "cell_type": "code",
   "source": "rng = np.random.default_rng(seed=1)",
   "id": "e786056438ee3ffd",
   "outputs": [],
   "execution_count": 32
  },
  {
   "metadata": {
    "ExecuteTime": {
     "end_time": "2024-12-11T00:05:56.748130Z",
     "start_time": "2024-12-11T00:05:56.742345Z"
    }
   },
   "cell_type": "code",
   "source": "array = rng.normal(loc=50, scale=3, size=60).reshape(3,5,4).round(3)",
   "id": "91a59f6d6f6eaa97",
   "outputs": [],
   "execution_count": 33
  },
  {
   "metadata": {
    "ExecuteTime": {
     "end_time": "2024-12-11T00:05:56.805532Z",
     "start_time": "2024-12-11T00:05:56.796905Z"
    }
   },
   "cell_type": "code",
   "source": "array",
   "id": "198bbb4e67ab2cdf",
   "outputs": [
    {
     "data": {
      "text/plain": [
       "array([[[51.037, 52.465, 50.991, 46.091],\n",
       "        [52.716, 51.339, 48.389, 51.743],\n",
       "        [51.094, 50.882, 50.085, 51.64 ],\n",
       "        [47.791, 49.511, 48.554, 51.797],\n",
       "        [50.119, 49.123, 47.654, 49.228]],\n",
       "\n",
       "       [[50.024, 49.173, 53.882, 53.02 ],\n",
       "        [41.867, 44.333, 49.476, 48.733],\n",
       "        [50.641, 50.652, 56.354, 46.664],\n",
       "        [48.867, 56.128, 51.94 , 51.989],\n",
       "        [48.458, 45.056, 50.502, 50.327]],\n",
       "\n",
       "       [[46.318, 47.95 , 49.784, 47.166],\n",
       "        [49.705, 50.286, 50.107, 48.481],\n",
       "        [51.781, 52.674, 50.963, 47.545],\n",
       "        [52.195, 48.496, 52.637, 46.785],\n",
       "        [52.743, 49.94 , 46.254, 49.058]]])"
      ]
     },
     "execution_count": 34,
     "metadata": {},
     "output_type": "execute_result"
    }
   ],
   "execution_count": 34
  },
  {
   "metadata": {
    "ExecuteTime": {
     "end_time": "2024-12-11T00:05:56.872465Z",
     "start_time": "2024-12-11T00:05:56.868425Z"
    }
   },
   "cell_type": "code",
   "source": "array[0]",
   "id": "ddd7764798a20595",
   "outputs": [
    {
     "data": {
      "text/plain": [
       "array([[51.037, 52.465, 50.991, 46.091],\n",
       "       [52.716, 51.339, 48.389, 51.743],\n",
       "       [51.094, 50.882, 50.085, 51.64 ],\n",
       "       [47.791, 49.511, 48.554, 51.797],\n",
       "       [50.119, 49.123, 47.654, 49.228]])"
      ]
     },
     "execution_count": 35,
     "metadata": {},
     "output_type": "execute_result"
    }
   ],
   "execution_count": 35
  },
  {
   "metadata": {
    "ExecuteTime": {
     "end_time": "2024-12-11T00:05:56.952639Z",
     "start_time": "2024-12-11T00:05:56.946110Z"
    }
   },
   "cell_type": "code",
   "source": "array[1]",
   "id": "3654eb73557987b",
   "outputs": [
    {
     "data": {
      "text/plain": [
       "array([[50.024, 49.173, 53.882, 53.02 ],\n",
       "       [41.867, 44.333, 49.476, 48.733],\n",
       "       [50.641, 50.652, 56.354, 46.664],\n",
       "       [48.867, 56.128, 51.94 , 51.989],\n",
       "       [48.458, 45.056, 50.502, 50.327]])"
      ]
     },
     "execution_count": 36,
     "metadata": {},
     "output_type": "execute_result"
    }
   ],
   "execution_count": 36
  },
  {
   "metadata": {
    "ExecuteTime": {
     "end_time": "2024-12-11T00:05:57.024160Z",
     "start_time": "2024-12-11T00:05:57.018823Z"
    }
   },
   "cell_type": "code",
   "source": "array[2]",
   "id": "6d91b2c6bf448584",
   "outputs": [
    {
     "data": {
      "text/plain": [
       "array([[46.318, 47.95 , 49.784, 47.166],\n",
       "       [49.705, 50.286, 50.107, 48.481],\n",
       "       [51.781, 52.674, 50.963, 47.545],\n",
       "       [52.195, 48.496, 52.637, 46.785],\n",
       "       [52.743, 49.94 , 46.254, 49.058]])"
      ]
     },
     "execution_count": 37,
     "metadata": {},
     "output_type": "execute_result"
    }
   ],
   "execution_count": 37
  },
  {
   "metadata": {
    "ExecuteTime": {
     "end_time": "2024-12-11T00:05:57.167409Z",
     "start_time": "2024-12-11T00:05:57.163798Z"
    }
   },
   "cell_type": "code",
   "source": "array.shape",
   "id": "12a3e338e9bb3467",
   "outputs": [
    {
     "data": {
      "text/plain": [
       "(3, 5, 4)"
      ]
     },
     "execution_count": 38,
     "metadata": {},
     "output_type": "execute_result"
    }
   ],
   "execution_count": 38
  },
  {
   "metadata": {
    "ExecuteTime": {
     "end_time": "2024-12-11T00:05:57.347186Z",
     "start_time": "2024-12-11T00:05:57.341919Z"
    }
   },
   "cell_type": "code",
   "source": "array[0][0]",
   "id": "9437509c1a0ae38e",
   "outputs": [
    {
     "data": {
      "text/plain": [
       "array([51.037, 52.465, 50.991, 46.091])"
      ]
     },
     "execution_count": 39,
     "metadata": {},
     "output_type": "execute_result"
    }
   ],
   "execution_count": 39
  },
  {
   "metadata": {
    "ExecuteTime": {
     "end_time": "2024-12-11T00:05:57.467684Z",
     "start_time": "2024-12-11T00:05:57.457936Z"
    }
   },
   "cell_type": "code",
   "source": "array[0, ::5]",
   "id": "4f9165af8193c19d",
   "outputs": [
    {
     "data": {
      "text/plain": [
       "array([[51.037, 52.465, 50.991, 46.091]])"
      ]
     },
     "execution_count": 40,
     "metadata": {},
     "output_type": "execute_result"
    }
   ],
   "execution_count": 40
  },
  {
   "metadata": {
    "ExecuteTime": {
     "end_time": "2024-12-11T00:05:57.544487Z",
     "start_time": "2024-12-11T00:05:57.537960Z"
    }
   },
   "cell_type": "code",
   "source": "array[1][1]",
   "id": "65881e5891539c98",
   "outputs": [
    {
     "data": {
      "text/plain": [
       "array([41.867, 44.333, 49.476, 48.733])"
      ]
     },
     "execution_count": 41,
     "metadata": {},
     "output_type": "execute_result"
    }
   ],
   "execution_count": 41
  },
  {
   "metadata": {
    "ExecuteTime": {
     "end_time": "2024-12-11T00:05:57.599014Z",
     "start_time": "2024-12-11T00:05:57.591430Z"
    }
   },
   "cell_type": "code",
   "source": "array[1, 1::4]",
   "id": "f86bd3d21e9496aa",
   "outputs": [
    {
     "data": {
      "text/plain": [
       "array([[41.867, 44.333, 49.476, 48.733]])"
      ]
     },
     "execution_count": 42,
     "metadata": {},
     "output_type": "execute_result"
    }
   ],
   "execution_count": 42
  },
  {
   "metadata": {
    "ExecuteTime": {
     "end_time": "2024-12-11T00:05:57.718154Z",
     "start_time": "2024-12-11T00:05:57.712112Z"
    }
   },
   "cell_type": "code",
   "source": "array[1, 2::3]",
   "id": "7176ffffbbb91d42",
   "outputs": [
    {
     "data": {
      "text/plain": [
       "array([[50.641, 50.652, 56.354, 46.664]])"
      ]
     },
     "execution_count": 43,
     "metadata": {},
     "output_type": "execute_result"
    }
   ],
   "execution_count": 43
  },
  {
   "metadata": {
    "ExecuteTime": {
     "end_time": "2024-12-11T00:05:57.791861Z",
     "start_time": "2024-12-11T00:05:57.788021Z"
    }
   },
   "cell_type": "code",
   "source": "array[0, [0, 1, 2, 3, 4], [3]]",
   "id": "437435c532a1d9fb",
   "outputs": [
    {
     "data": {
      "text/plain": [
       "array([46.091, 51.743, 51.64 , 51.797, 49.228])"
      ]
     },
     "execution_count": 44,
     "metadata": {},
     "output_type": "execute_result"
    }
   ],
   "execution_count": 44
  },
  {
   "metadata": {
    "ExecuteTime": {
     "end_time": "2024-12-11T00:05:57.899952Z",
     "start_time": "2024-12-11T00:05:57.891675Z"
    }
   },
   "cell_type": "code",
   "source": "array[0, [4]]",
   "id": "48a433da6c814f87",
   "outputs": [
    {
     "data": {
      "text/plain": [
       "array([[50.119, 49.123, 47.654, 49.228]])"
      ]
     },
     "execution_count": 45,
     "metadata": {},
     "output_type": "execute_result"
    }
   ],
   "execution_count": 45
  },
  {
   "metadata": {
    "ExecuteTime": {
     "end_time": "2024-12-11T00:05:58.151817Z",
     "start_time": "2024-12-11T00:05:58.145592Z"
    }
   },
   "cell_type": "code",
   "source": "array[2, [1, 3], [1]]",
   "id": "70c792dce4723512",
   "outputs": [
    {
     "data": {
      "text/plain": [
       "array([50.286, 48.496])"
      ]
     },
     "execution_count": 46,
     "metadata": {},
     "output_type": "execute_result"
    }
   ],
   "execution_count": 46
  },
  {
   "metadata": {
    "ExecuteTime": {
     "end_time": "2024-12-11T00:05:58.242732Z",
     "start_time": "2024-12-11T00:05:58.235231Z"
    }
   },
   "cell_type": "code",
   "source": "array[2][1::2, 1::3]",
   "id": "9aed8e8af93488d7",
   "outputs": [
    {
     "data": {
      "text/plain": [
       "array([[50.286],\n",
       "       [48.496]])"
      ]
     },
     "execution_count": 47,
     "metadata": {},
     "output_type": "execute_result"
    }
   ],
   "execution_count": 47
  },
  {
   "metadata": {
    "ExecuteTime": {
     "end_time": "2024-12-11T00:05:58.408771Z",
     "start_time": "2024-12-11T00:05:58.404049Z"
    }
   },
   "cell_type": "code",
   "source": "array[::, [0, 1, 2, 3, 4], [2]]",
   "id": "7e3dc04f1d97ba9",
   "outputs": [
    {
     "data": {
      "text/plain": [
       "array([[50.991, 48.389, 50.085, 48.554, 47.654],\n",
       "       [53.882, 49.476, 56.354, 51.94 , 50.502],\n",
       "       [49.784, 50.107, 50.963, 52.637, 46.254]])"
      ]
     },
     "execution_count": 48,
     "metadata": {},
     "output_type": "execute_result"
    }
   ],
   "execution_count": 48
  },
  {
   "metadata": {
    "ExecuteTime": {
     "end_time": "2024-12-11T00:05:58.512998Z",
     "start_time": "2024-12-11T00:05:58.508298Z"
    }
   },
   "cell_type": "code",
   "source": "array[::, ::, 2::-3]",
   "id": "fbdade6898a39009",
   "outputs": [
    {
     "data": {
      "text/plain": [
       "array([[[50.991],\n",
       "        [48.389],\n",
       "        [50.085],\n",
       "        [48.554],\n",
       "        [47.654]],\n",
       "\n",
       "       [[53.882],\n",
       "        [49.476],\n",
       "        [56.354],\n",
       "        [51.94 ],\n",
       "        [50.502]],\n",
       "\n",
       "       [[49.784],\n",
       "        [50.107],\n",
       "        [50.963],\n",
       "        [52.637],\n",
       "        [46.254]]])"
      ]
     },
     "execution_count": 49,
     "metadata": {},
     "output_type": "execute_result"
    }
   ],
   "execution_count": 49
  },
  {
   "metadata": {
    "ExecuteTime": {
     "end_time": "2024-12-11T00:05:58.610144Z",
     "start_time": "2024-12-11T00:05:58.606556Z"
    }
   },
   "cell_type": "code",
   "source": "mask = array <=46",
   "id": "e1a622bcfe6e4c23",
   "outputs": [],
   "execution_count": 50
  },
  {
   "metadata": {
    "ExecuteTime": {
     "end_time": "2024-12-11T00:05:58.697894Z",
     "start_time": "2024-12-11T00:05:58.692199Z"
    }
   },
   "cell_type": "code",
   "source": "array[mask]",
   "id": "a3137142fec22d74",
   "outputs": [
    {
     "data": {
      "text/plain": [
       "array([41.867, 44.333, 45.056])"
      ]
     },
     "execution_count": 51,
     "metadata": {},
     "output_type": "execute_result"
    }
   ],
   "execution_count": 51
  },
  {
   "metadata": {
    "ExecuteTime": {
     "end_time": "2024-12-11T00:05:58.779996Z",
     "start_time": "2024-12-11T00:05:58.775809Z"
    }
   },
   "cell_type": "code",
   "source": "array[::, [3, 3], [0, 1]]",
   "id": "2c8a965b91476a17",
   "outputs": [
    {
     "data": {
      "text/plain": [
       "array([[47.791, 49.511],\n",
       "       [48.867, 56.128],\n",
       "       [52.195, 48.496]])"
      ]
     },
     "execution_count": 52,
     "metadata": {},
     "output_type": "execute_result"
    }
   ],
   "execution_count": 52
  },
  {
   "metadata": {
    "ExecuteTime": {
     "end_time": "2024-12-11T00:05:58.863936Z",
     "start_time": "2024-12-11T00:05:58.858876Z"
    }
   },
   "cell_type": "code",
   "source": "array[:2:, [0, 1, 2, 3, 4], 1::]",
   "id": "45f361a3180770f",
   "outputs": [
    {
     "data": {
      "text/plain": [
       "array([[[52.465, 50.991, 46.091],\n",
       "        [51.339, 48.389, 51.743],\n",
       "        [50.882, 50.085, 51.64 ],\n",
       "        [49.511, 48.554, 51.797],\n",
       "        [49.123, 47.654, 49.228]],\n",
       "\n",
       "       [[49.173, 53.882, 53.02 ],\n",
       "        [44.333, 49.476, 48.733],\n",
       "        [50.652, 56.354, 46.664],\n",
       "        [56.128, 51.94 , 51.989],\n",
       "        [45.056, 50.502, 50.327]]])"
      ]
     },
     "execution_count": 53,
     "metadata": {},
     "output_type": "execute_result"
    }
   ],
   "execution_count": 53
  },
  {
   "metadata": {
    "ExecuteTime": {
     "end_time": "2024-12-11T00:05:58.959151Z",
     "start_time": "2024-12-11T00:05:58.950151Z"
    }
   },
   "cell_type": "code",
   "source": "array[1, [3, 4], -1::-2]",
   "id": "47a4325b1d4699f7",
   "outputs": [
    {
     "data": {
      "text/plain": [
       "array([[51.989, 56.128],\n",
       "       [50.327, 45.056]])"
      ]
     },
     "execution_count": 54,
     "metadata": {},
     "output_type": "execute_result"
    }
   ],
   "execution_count": 54
  },
  {
   "metadata": {
    "ExecuteTime": {
     "end_time": "2024-12-11T00:05:59.028796Z",
     "start_time": "2024-12-11T00:05:59.026344Z"
    }
   },
   "cell_type": "code",
   "source": "array[2, 1] = 99",
   "id": "a5d55c98621a77df",
   "outputs": [],
   "execution_count": 55
  },
  {
   "metadata": {
    "ExecuteTime": {
     "end_time": "2024-12-11T00:05:59.087102Z",
     "start_time": "2024-12-11T00:05:59.080657Z"
    }
   },
   "cell_type": "code",
   "source": "array",
   "id": "9690a82d1eb14a20",
   "outputs": [
    {
     "data": {
      "text/plain": [
       "array([[[51.037, 52.465, 50.991, 46.091],\n",
       "        [52.716, 51.339, 48.389, 51.743],\n",
       "        [51.094, 50.882, 50.085, 51.64 ],\n",
       "        [47.791, 49.511, 48.554, 51.797],\n",
       "        [50.119, 49.123, 47.654, 49.228]],\n",
       "\n",
       "       [[50.024, 49.173, 53.882, 53.02 ],\n",
       "        [41.867, 44.333, 49.476, 48.733],\n",
       "        [50.641, 50.652, 56.354, 46.664],\n",
       "        [48.867, 56.128, 51.94 , 51.989],\n",
       "        [48.458, 45.056, 50.502, 50.327]],\n",
       "\n",
       "       [[46.318, 47.95 , 49.784, 47.166],\n",
       "        [99.   , 99.   , 99.   , 99.   ],\n",
       "        [51.781, 52.674, 50.963, 47.545],\n",
       "        [52.195, 48.496, 52.637, 46.785],\n",
       "        [52.743, 49.94 , 46.254, 49.058]]])"
      ]
     },
     "execution_count": 56,
     "metadata": {},
     "output_type": "execute_result"
    }
   ],
   "execution_count": 56
  },
  {
   "metadata": {
    "ExecuteTime": {
     "end_time": "2024-12-11T00:05:59.242334Z",
     "start_time": "2024-12-11T00:05:59.237800Z"
    }
   },
   "cell_type": "code",
   "source": "array[2, 1] = array[2, 1] + 0.5",
   "id": "63438c8d0f385517",
   "outputs": [],
   "execution_count": 57
  },
  {
   "metadata": {
    "ExecuteTime": {
     "end_time": "2024-12-11T00:05:59.302217Z",
     "start_time": "2024-12-11T00:05:59.294523Z"
    }
   },
   "cell_type": "code",
   "source": "array",
   "id": "24903ba379250916",
   "outputs": [
    {
     "data": {
      "text/plain": [
       "array([[[51.037, 52.465, 50.991, 46.091],\n",
       "        [52.716, 51.339, 48.389, 51.743],\n",
       "        [51.094, 50.882, 50.085, 51.64 ],\n",
       "        [47.791, 49.511, 48.554, 51.797],\n",
       "        [50.119, 49.123, 47.654, 49.228]],\n",
       "\n",
       "       [[50.024, 49.173, 53.882, 53.02 ],\n",
       "        [41.867, 44.333, 49.476, 48.733],\n",
       "        [50.641, 50.652, 56.354, 46.664],\n",
       "        [48.867, 56.128, 51.94 , 51.989],\n",
       "        [48.458, 45.056, 50.502, 50.327]],\n",
       "\n",
       "       [[46.318, 47.95 , 49.784, 47.166],\n",
       "        [99.5  , 99.5  , 99.5  , 99.5  ],\n",
       "        [51.781, 52.674, 50.963, 47.545],\n",
       "        [52.195, 48.496, 52.637, 46.785],\n",
       "        [52.743, 49.94 , 46.254, 49.058]]])"
      ]
     },
     "execution_count": 58,
     "metadata": {},
     "output_type": "execute_result"
    }
   ],
   "execution_count": 58
  },
  {
   "metadata": {
    "ExecuteTime": {
     "end_time": "2024-12-11T00:05:59.415748Z",
     "start_time": "2024-12-11T00:05:59.411368Z"
    }
   },
   "cell_type": "code",
   "source": "array[1, 0:2, 2] = [53.872, 49.479]",
   "id": "2d5ea160f5f43986",
   "outputs": [],
   "execution_count": 59
  },
  {
   "metadata": {
    "ExecuteTime": {
     "end_time": "2024-12-11T00:05:59.499782Z",
     "start_time": "2024-12-11T00:05:59.491701Z"
    }
   },
   "cell_type": "code",
   "source": "array",
   "id": "2c50652e7eea77e1",
   "outputs": [
    {
     "data": {
      "text/plain": [
       "array([[[51.037, 52.465, 50.991, 46.091],\n",
       "        [52.716, 51.339, 48.389, 51.743],\n",
       "        [51.094, 50.882, 50.085, 51.64 ],\n",
       "        [47.791, 49.511, 48.554, 51.797],\n",
       "        [50.119, 49.123, 47.654, 49.228]],\n",
       "\n",
       "       [[50.024, 49.173, 53.872, 53.02 ],\n",
       "        [41.867, 44.333, 49.479, 48.733],\n",
       "        [50.641, 50.652, 56.354, 46.664],\n",
       "        [48.867, 56.128, 51.94 , 51.989],\n",
       "        [48.458, 45.056, 50.502, 50.327]],\n",
       "\n",
       "       [[46.318, 47.95 , 49.784, 47.166],\n",
       "        [99.5  , 99.5  , 99.5  , 99.5  ],\n",
       "        [51.781, 52.674, 50.963, 47.545],\n",
       "        [52.195, 48.496, 52.637, 46.785],\n",
       "        [52.743, 49.94 , 46.254, 49.058]]])"
      ]
     },
     "execution_count": 60,
     "metadata": {},
     "output_type": "execute_result"
    }
   ],
   "execution_count": 60
  }
 ],
 "metadata": {
  "kernelspec": {
   "display_name": "Python 3",
   "language": "python",
   "name": "python3"
  },
  "language_info": {
   "codemirror_mode": {
    "name": "ipython",
    "version": 2
   },
   "file_extension": ".py",
   "mimetype": "text/x-python",
   "name": "python",
   "nbconvert_exporter": "python",
   "pygments_lexer": "ipython2",
   "version": "2.7.6"
  }
 },
 "nbformat": 4,
 "nbformat_minor": 5
}
