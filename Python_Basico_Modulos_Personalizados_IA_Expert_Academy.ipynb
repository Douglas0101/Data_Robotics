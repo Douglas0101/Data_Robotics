{
 "cells": [
  {
   "metadata": {
    "ExecuteTime": {
     "end_time": "2024-11-20T03:44:15.315067Z",
     "start_time": "2024-11-20T03:44:15.311056Z"
    }
   },
   "cell_type": "code",
   "source": "import utilitarios as ut",
   "id": "b982707532e79f73",
   "outputs": [],
   "execution_count": 34
  },
  {
   "metadata": {
    "ExecuteTime": {
     "end_time": "2024-11-20T03:44:15.325019Z",
     "start_time": "2024-11-20T03:44:15.322006Z"
    }
   },
   "cell_type": "code",
   "source": "ut.soma(2,3)",
   "id": "8725eb7d47904747",
   "outputs": [
    {
     "data": {
      "text/plain": [
       "5"
      ]
     },
     "execution_count": 35,
     "metadata": {},
     "output_type": "execute_result"
    }
   ],
   "execution_count": 35
  },
  {
   "metadata": {
    "ExecuteTime": {
     "end_time": "2024-11-20T03:44:15.381285Z",
     "start_time": "2024-11-20T03:44:15.377193Z"
    }
   },
   "cell_type": "code",
   "source": "ut.subtracao(2,3)",
   "id": "2f08edd4a6cd57ef",
   "outputs": [
    {
     "data": {
      "text/plain": [
       "-1"
      ]
     },
     "execution_count": 36,
     "metadata": {},
     "output_type": "execute_result"
    }
   ],
   "execution_count": 36
  },
  {
   "metadata": {
    "ExecuteTime": {
     "end_time": "2024-11-20T03:44:15.442478Z",
     "start_time": "2024-11-20T03:44:15.435759Z"
    }
   },
   "cell_type": "code",
   "source": "ut.multiplicacao(2,3)",
   "id": "9b6f2d8468bc2784",
   "outputs": [
    {
     "data": {
      "text/plain": [
       "6"
      ]
     },
     "execution_count": 37,
     "metadata": {},
     "output_type": "execute_result"
    }
   ],
   "execution_count": 37
  },
  {
   "metadata": {
    "ExecuteTime": {
     "end_time": "2024-11-20T03:44:15.512513Z",
     "start_time": "2024-11-20T03:44:15.501026Z"
    }
   },
   "cell_type": "code",
   "source": "ut.divisao(2,3)",
   "id": "549dc80981e00b1b",
   "outputs": [
    {
     "data": {
      "text/plain": [
       "0.6666666666666666"
      ]
     },
     "execution_count": 38,
     "metadata": {},
     "output_type": "execute_result"
    }
   ],
   "execution_count": 38
  },
  {
   "metadata": {
    "ExecuteTime": {
     "end_time": "2024-11-20T03:44:15.656742Z",
     "start_time": "2024-11-20T03:44:15.646610Z"
    }
   },
   "cell_type": "code",
   "source": "ut.potencia(2,3)",
   "id": "6ad34e1fd1362595",
   "outputs": [
    {
     "data": {
      "text/plain": [
       "8"
      ]
     },
     "execution_count": 39,
     "metadata": {},
     "output_type": "execute_result"
    }
   ],
   "execution_count": 39
  },
  {
   "metadata": {
    "ExecuteTime": {
     "end_time": "2024-11-20T03:44:15.759236Z",
     "start_time": "2024-11-20T03:44:15.754674Z"
    }
   },
   "cell_type": "code",
   "source": "ut.raiz_quadrada(4)",
   "id": "cdb2ac06130789ed",
   "outputs": [
    {
     "data": {
      "text/plain": [
       "2.0"
      ]
     },
     "execution_count": 40,
     "metadata": {},
     "output_type": "execute_result"
    }
   ],
   "execution_count": 40
  },
  {
   "metadata": {
    "ExecuteTime": {
     "end_time": "2024-11-20T03:44:15.870306Z",
     "start_time": "2024-11-20T03:44:15.863070Z"
    }
   },
   "cell_type": "code",
   "source": "ut.raiz_cubica(125)",
   "id": "759b5fd4f74cf334",
   "outputs": [
    {
     "data": {
      "text/plain": [
       "4.999999999999999"
      ]
     },
     "execution_count": 41,
     "metadata": {},
     "output_type": "execute_result"
    }
   ],
   "execution_count": 41
  },
  {
   "metadata": {
    "ExecuteTime": {
     "end_time": "2024-11-20T03:44:15.924920Z",
     "start_time": "2024-11-20T03:44:15.921108Z"
    }
   },
   "cell_type": "code",
   "source": "ut.logaritmo(10, 2)",
   "id": "658d4ef6f5a1df6d",
   "outputs": [
    {
     "data": {
      "text/plain": [
       "3.1622776601683795"
      ]
     },
     "execution_count": 42,
     "metadata": {},
     "output_type": "execute_result"
    }
   ],
   "execution_count": 42
  },
  {
   "metadata": {
    "ExecuteTime": {
     "end_time": "2024-11-20T03:44:15.988048Z",
     "start_time": "2024-11-20T03:44:15.979992Z"
    }
   },
   "cell_type": "code",
   "source": "ut.logaritmo_natural(10)",
   "id": "58d602d361199741",
   "outputs": [
    {
     "data": {
      "text/plain": [
       "1.2589254117941673"
      ]
     },
     "execution_count": 43,
     "metadata": {},
     "output_type": "execute_result"
    }
   ],
   "execution_count": 43
  }
 ],
 "metadata": {
  "kernelspec": {
   "display_name": "Python 3",
   "language": "python",
   "name": "python3"
  },
  "language_info": {
   "codemirror_mode": {
    "name": "ipython",
    "version": 2
   },
   "file_extension": ".py",
   "mimetype": "text/x-python",
   "name": "python",
   "nbconvert_exporter": "python",
   "pygments_lexer": "ipython2",
   "version": "2.7.6"
  }
 },
 "nbformat": 4,
 "nbformat_minor": 5
}
