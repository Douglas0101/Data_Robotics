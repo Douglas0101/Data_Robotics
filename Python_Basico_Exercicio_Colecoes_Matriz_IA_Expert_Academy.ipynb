{
 "cells": [
  {
   "metadata": {},
   "cell_type": "code",
   "outputs": [],
   "execution_count": null,
   "source": [
    "lista = []\n",
    "for _ in range(1, 6):\n",
    "    valor = int(input('Digite um valor: '))\n",
    "    lista.append(valor)"
   ],
   "id": "c4b5805a5f5c3be2"
  },
  {
   "metadata": {},
   "cell_type": "code",
   "outputs": [],
   "execution_count": null,
   "source": "lista",
   "id": "12140698779086e5"
  },
  {
   "metadata": {},
   "cell_type": "code",
   "outputs": [],
   "execution_count": null,
   "source": "len(lista)",
   "id": "96dbee6f27270b19"
  },
  {
   "metadata": {},
   "cell_type": "code",
   "outputs": [],
   "execution_count": null,
   "source": [
    "soma = 0\n",
    "for i in range(len(lista)):\n",
    "    soma += lista[i]\n",
    "print(f'Soma: {soma}')"
   ],
   "id": "a898c79acf890bbe"
  },
  {
   "metadata": {},
   "cell_type": "code",
   "outputs": [],
   "execution_count": null,
   "source": "lista.sum()",
   "id": "b268656c65db0477"
  },
  {
   "metadata": {},
   "cell_type": "code",
   "outputs": [],
   "execution_count": null,
   "source": [
    "import numpy as np\n",
    "np.array(lista).sum()"
   ],
   "id": "209b9449e0ab10b"
  },
  {
   "metadata": {},
   "cell_type": "code",
   "outputs": [],
   "execution_count": null,
   "source": [
    "alunos = ()\n",
    "for _ in range(1, 4):\n",
    "    nome = input('Digite o nome: ')\n",
    "    nota = float(input('Digite a nota: '))\n",
    "    alunos[nome] = nota"
   ],
   "id": "3a1c8f1ef54c4415"
  },
  {
   "metadata": {},
   "cell_type": "code",
   "outputs": [],
   "execution_count": null,
   "source": "alunos",
   "id": "bacdf3f1e2a817e0"
  },
  {
   "metadata": {},
   "cell_type": "code",
   "outputs": [],
   "execution_count": null,
   "source": "alunos['Maria']",
   "id": "e461ebc277be3af2"
  },
  {
   "metadata": {},
   "cell_type": "code",
   "outputs": [],
   "execution_count": null,
   "source": "alunos.values()",
   "id": "ccc633812a66dca5"
  },
  {
   "metadata": {},
   "cell_type": "code",
   "outputs": [],
   "execution_count": null,
   "source": [
    "soma = 0\n",
    "for nota in alunos.values():\n",
    "    soma += nota\n",
    "print(f'Média: {soma / len(alunos)}')"
   ],
   "id": "1ebe0c5b9fd11f3"
  },
  {
   "metadata": {},
   "cell_type": "code",
   "outputs": [],
   "execution_count": null,
   "source": [
    "matriz = np.array([[3, 4, 1], [3, 1, 5]])\n",
    "\n",
    "matriz"
   ],
   "id": "4dca3a7c3ece2ae7"
  },
  {
   "metadata": {},
   "cell_type": "code",
   "outputs": [],
   "execution_count": null,
   "source": "matriz.shape",
   "id": "8b75bf547b69384b"
  },
  {
   "metadata": {},
   "cell_type": "code",
   "outputs": [],
   "execution_count": null,
   "source": [
    "soma = 0\n",
    "for i in range(matriz.shape[0]):\n",
    "    for j in range(matriz.shape[1]):\n",
    "        soma += matriz[i][j]\n",
    "print(f'Soma: {soma}')"
   ],
   "id": "bb94e34a714a8f6c"
  }
 ],
 "metadata": {
  "kernelspec": {
   "display_name": "Python 3",
   "language": "python",
   "name": "python3"
  },
  "language_info": {
   "codemirror_mode": {
    "name": "ipython",
    "version": 2
   },
   "file_extension": ".py",
   "mimetype": "text/x-python",
   "name": "python",
   "nbconvert_exporter": "python",
   "pygments_lexer": "ipython2",
   "version": "2.7.6"
  }
 },
 "nbformat": 4,
 "nbformat_minor": 5
}
