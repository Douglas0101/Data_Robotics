{
 "cells": [
  {
   "cell_type": "code",
   "id": "initial_id",
   "metadata": {
    "collapsed": true,
    "ExecuteTime": {
     "end_time": "2024-12-21T23:22:51.770409Z",
     "start_time": "2024-12-21T23:22:51.203024Z"
    }
   },
   "source": [
    "import numpy as np\n",
    "import matplotlib.pyplot as plt"
   ],
   "outputs": [],
   "execution_count": 1
  },
  {
   "metadata": {
    "ExecuteTime": {
     "end_time": "2024-12-21T23:22:51.788221Z",
     "start_time": "2024-12-21T23:22:51.784043Z"
    }
   },
   "cell_type": "code",
   "source": "rng = np.random.default_rng(seed=1)",
   "id": "eed5e7b970f294b6",
   "outputs": [],
   "execution_count": 2
  },
  {
   "metadata": {
    "ExecuteTime": {
     "end_time": "2024-12-21T23:22:51.924841Z",
     "start_time": "2024-12-21T23:22:51.916168Z"
    }
   },
   "cell_type": "code",
   "source": "rng.random()",
   "id": "8d658a6a20b0b474",
   "outputs": [
    {
     "data": {
      "text/plain": [
       "0.5118216247002567"
      ]
     },
     "execution_count": 3,
     "metadata": {},
     "output_type": "execute_result"
    }
   ],
   "execution_count": 3
  },
  {
   "metadata": {
    "ExecuteTime": {
     "end_time": "2024-12-21T23:22:51.988365Z",
     "start_time": "2024-12-21T23:22:51.980076Z"
    }
   },
   "cell_type": "code",
   "source": [
    "rng = np.random.default_rng(seed=2)\n",
    "rng.random()"
   ],
   "id": "296ee876561e526c",
   "outputs": [
    {
     "data": {
      "text/plain": [
       "0.2616121342493164"
      ]
     },
     "execution_count": 4,
     "metadata": {},
     "output_type": "execute_result"
    }
   ],
   "execution_count": 4
  },
  {
   "metadata": {
    "ExecuteTime": {
     "end_time": "2024-12-21T23:22:52.095075Z",
     "start_time": "2024-12-21T23:22:52.089200Z"
    }
   },
   "cell_type": "code",
   "source": "rng.random(size=10)",
   "id": "11ef55ef5e592c2d",
   "outputs": [
    {
     "data": {
      "text/plain": [
       "array([0.29849114, 0.81422574, 0.09191594, 0.60010053, 0.72856053,\n",
       "       0.18790107, 0.05514663, 0.27496937, 0.65743301, 0.56226566])"
      ]
     },
     "execution_count": 5,
     "metadata": {},
     "output_type": "execute_result"
    }
   ],
   "execution_count": 5
  },
  {
   "metadata": {
    "ExecuteTime": {
     "end_time": "2024-12-21T23:22:52.262041Z",
     "start_time": "2024-12-21T23:22:52.257220Z"
    }
   },
   "cell_type": "code",
   "source": "rng.random(size=(5,2))",
   "id": "6b20cbb7238b3d07",
   "outputs": [
    {
     "data": {
      "text/plain": [
       "array([[0.15006226, 0.43263079],\n",
       "       [0.6692973 , 0.42278467],\n",
       "       [0.6331844 , 0.96743595],\n",
       "       [0.68306482, 0.39162483],\n",
       "       [0.18725257, 0.34596067]])"
      ]
     },
     "execution_count": 6,
     "metadata": {},
     "output_type": "execute_result"
    }
   ],
   "execution_count": 6
  },
  {
   "metadata": {
    "ExecuteTime": {
     "end_time": "2024-12-21T23:22:52.539394Z",
     "start_time": "2024-12-21T23:22:52.528047Z"
    }
   },
   "cell_type": "code",
   "source": "rng.integers(4, size = 5)",
   "id": "5006fc578377a7dd",
   "outputs": [
    {
     "data": {
      "text/plain": [
       "array([2, 2, 2, 3, 3])"
      ]
     },
     "execution_count": 7,
     "metadata": {},
     "output_type": "execute_result"
    }
   ],
   "execution_count": 7
  },
  {
   "metadata": {
    "ExecuteTime": {
     "end_time": "2024-12-21T23:22:53.518668Z",
     "start_time": "2024-12-21T23:22:53.512914Z"
    }
   },
   "cell_type": "code",
   "source": "rng.integers(low = 10, high = [15,54,100])",
   "id": "2e3fb240b5a3c2e1",
   "outputs": [
    {
     "data": {
      "text/plain": [
       "array([13, 52, 38])"
      ]
     },
     "execution_count": 8,
     "metadata": {},
     "output_type": "execute_result"
    }
   ],
   "execution_count": 8
  },
  {
   "metadata": {
    "ExecuteTime": {
     "end_time": "2024-12-21T23:22:53.570996Z",
     "start_time": "2024-12-21T23:22:53.565087Z"
    }
   },
   "cell_type": "code",
   "source": [
    "array = np.arange(0, 10)\n",
    "array"
   ],
   "id": "63fa94a34e6cf9c",
   "outputs": [
    {
     "data": {
      "text/plain": [
       "array([0, 1, 2, 3, 4, 5, 6, 7, 8, 9])"
      ]
     },
     "execution_count": 9,
     "metadata": {},
     "output_type": "execute_result"
    }
   ],
   "execution_count": 9
  },
  {
   "metadata": {
    "ExecuteTime": {
     "end_time": "2024-12-21T23:22:54.029612Z",
     "start_time": "2024-12-21T23:22:54.014459Z"
    }
   },
   "cell_type": "code",
   "source": "rng.choice(a = array, size = 5)",
   "id": "51bf0770d3e41fb9",
   "outputs": [
    {
     "data": {
      "text/plain": [
       "array([9, 9, 2, 4, 5])"
      ]
     },
     "execution_count": 10,
     "metadata": {},
     "output_type": "execute_result"
    }
   ],
   "execution_count": 10
  },
  {
   "metadata": {
    "ExecuteTime": {
     "end_time": "2024-12-21T23:22:54.280288Z",
     "start_time": "2024-12-21T23:22:54.270029Z"
    }
   },
   "cell_type": "code",
   "source": "rng.choice(a = array, size = 10)",
   "id": "1a0f07364e5266ab",
   "outputs": [
    {
     "data": {
      "text/plain": [
       "array([6, 7, 1, 4, 1, 9, 2, 4, 8, 5])"
      ]
     },
     "execution_count": 11,
     "metadata": {},
     "output_type": "execute_result"
    }
   ],
   "execution_count": 11
  },
  {
   "metadata": {
    "ExecuteTime": {
     "end_time": "2024-12-21T23:22:54.458407Z",
     "start_time": "2024-12-21T23:22:54.453498Z"
    }
   },
   "cell_type": "code",
   "source": "rng.choice(a = array, size = 10, replace = False)",
   "id": "67cf80890740a2b5",
   "outputs": [
    {
     "data": {
      "text/plain": [
       "array([9, 0, 4, 8, 2, 1, 6, 3, 5, 7])"
      ]
     },
     "execution_count": 12,
     "metadata": {},
     "output_type": "execute_result"
    }
   ],
   "execution_count": 12
  },
  {
   "metadata": {
    "ExecuteTime": {
     "end_time": "2024-12-21T23:22:54.552770Z",
     "start_time": "2024-12-21T23:22:54.545333Z"
    }
   },
   "cell_type": "code",
   "source": [
    "array = np.array([1, 2, 3])\n",
    "p = np.array([0.5, 0.4, 0.1]) # a soma deve ser igual a 1 (100%)"
   ],
   "id": "950b50b09638d4b7",
   "outputs": [],
   "execution_count": 13
  },
  {
   "metadata": {
    "ExecuteTime": {
     "end_time": "2024-12-21T23:22:54.633459Z",
     "start_time": "2024-12-21T23:22:54.616991Z"
    }
   },
   "cell_type": "code",
   "source": "rng.choice(a = array, p = p, size = 10)",
   "id": "572f29a6b878864f",
   "outputs": [
    {
     "data": {
      "text/plain": [
       "array([2, 1, 2, 1, 2, 1, 1, 1, 2, 1])"
      ]
     },
     "execution_count": 14,
     "metadata": {},
     "output_type": "execute_result"
    }
   ],
   "execution_count": 14
  },
  {
   "metadata": {
    "ExecuteTime": {
     "end_time": "2024-12-21T23:22:54.679946Z",
     "start_time": "2024-12-21T23:22:54.671377Z"
    }
   },
   "cell_type": "code",
   "source": [
    "array_2d = np.arange(0,20).reshape(4,5)\n",
    "array_2d"
   ],
   "id": "22454a0cb78efbe4",
   "outputs": [
    {
     "data": {
      "text/plain": [
       "array([[ 0,  1,  2,  3,  4],\n",
       "       [ 5,  6,  7,  8,  9],\n",
       "       [10, 11, 12, 13, 14],\n",
       "       [15, 16, 17, 18, 19]])"
      ]
     },
     "execution_count": 15,
     "metadata": {},
     "output_type": "execute_result"
    }
   ],
   "execution_count": 15
  },
  {
   "metadata": {
    "ExecuteTime": {
     "end_time": "2024-12-21T23:22:54.793043Z",
     "start_time": "2024-12-21T23:22:54.783058Z"
    }
   },
   "cell_type": "code",
   "source": "rng.choice(a = array_2d, size = 2, axis = 0)",
   "id": "ca0bc15fab296fcb",
   "outputs": [
    {
     "data": {
      "text/plain": [
       "array([[10, 11, 12, 13, 14],\n",
       "       [ 5,  6,  7,  8,  9]])"
      ]
     },
     "execution_count": 16,
     "metadata": {},
     "output_type": "execute_result"
    }
   ],
   "execution_count": 16
  },
  {
   "metadata": {
    "ExecuteTime": {
     "end_time": "2024-12-21T23:22:54.973773Z",
     "start_time": "2024-12-21T23:22:54.960781Z"
    }
   },
   "cell_type": "code",
   "source": "rng.choice(a = array_2d, size = 2, axis = 1)",
   "id": "ce826fbc010f7e3e",
   "outputs": [
    {
     "data": {
      "text/plain": [
       "array([[ 4,  1],\n",
       "       [ 9,  6],\n",
       "       [14, 11],\n",
       "       [19, 16]])"
      ]
     },
     "execution_count": 17,
     "metadata": {},
     "output_type": "execute_result"
    }
   ],
   "execution_count": 17
  },
  {
   "metadata": {
    "ExecuteTime": {
     "end_time": "2024-12-21T23:22:55.241235Z",
     "start_time": "2024-12-21T23:22:55.233832Z"
    }
   },
   "cell_type": "code",
   "source": [
    "array = np.arange(10)\n",
    "array"
   ],
   "id": "48cbf83e98509df1",
   "outputs": [
    {
     "data": {
      "text/plain": [
       "array([0, 1, 2, 3, 4, 5, 6, 7, 8, 9])"
      ]
     },
     "execution_count": 18,
     "metadata": {},
     "output_type": "execute_result"
    }
   ],
   "execution_count": 18
  },
  {
   "metadata": {
    "ExecuteTime": {
     "end_time": "2024-12-21T23:22:55.465662Z",
     "start_time": "2024-12-21T23:22:55.459398Z"
    }
   },
   "cell_type": "code",
   "source": [
    "rng.shuffle(array)\n",
    "array"
   ],
   "id": "e521668bc40e6fe3",
   "outputs": [
    {
     "data": {
      "text/plain": [
       "array([2, 1, 9, 5, 3, 4, 7, 8, 0, 6])"
      ]
     },
     "execution_count": 19,
     "metadata": {},
     "output_type": "execute_result"
    }
   ],
   "execution_count": 19
  },
  {
   "metadata": {
    "ExecuteTime": {
     "end_time": "2024-12-21T23:22:55.743586Z",
     "start_time": "2024-12-21T23:22:55.732713Z"
    }
   },
   "cell_type": "code",
   "source": [
    "array = np.arange(20).reshape(4,5)\n",
    "array"
   ],
   "id": "218546c90db69b8c",
   "outputs": [
    {
     "data": {
      "text/plain": [
       "array([[ 0,  1,  2,  3,  4],\n",
       "       [ 5,  6,  7,  8,  9],\n",
       "       [10, 11, 12, 13, 14],\n",
       "       [15, 16, 17, 18, 19]])"
      ]
     },
     "execution_count": 20,
     "metadata": {},
     "output_type": "execute_result"
    }
   ],
   "execution_count": 20
  },
  {
   "metadata": {
    "ExecuteTime": {
     "end_time": "2024-12-21T23:22:55.955914Z",
     "start_time": "2024-12-21T23:22:55.942921Z"
    }
   },
   "cell_type": "code",
   "source": [
    "rng.shuffle(array, axis = 0)\n",
    "array"
   ],
   "id": "c8d45676b6162319",
   "outputs": [
    {
     "data": {
      "text/plain": [
       "array([[10, 11, 12, 13, 14],\n",
       "       [ 5,  6,  7,  8,  9],\n",
       "       [15, 16, 17, 18, 19],\n",
       "       [ 0,  1,  2,  3,  4]])"
      ]
     },
     "execution_count": 21,
     "metadata": {},
     "output_type": "execute_result"
    }
   ],
   "execution_count": 21
  },
  {
   "metadata": {
    "ExecuteTime": {
     "end_time": "2024-12-21T23:22:56.117394Z",
     "start_time": "2024-12-21T23:22:56.112221Z"
    }
   },
   "cell_type": "code",
   "source": [
    "array = np.arange(20).reshape(4,5)\n",
    "array"
   ],
   "id": "447b65c945c6f15f",
   "outputs": [
    {
     "data": {
      "text/plain": [
       "array([[ 0,  1,  2,  3,  4],\n",
       "       [ 5,  6,  7,  8,  9],\n",
       "       [10, 11, 12, 13, 14],\n",
       "       [15, 16, 17, 18, 19]])"
      ]
     },
     "execution_count": 22,
     "metadata": {},
     "output_type": "execute_result"
    }
   ],
   "execution_count": 22
  },
  {
   "metadata": {
    "ExecuteTime": {
     "end_time": "2024-12-21T23:22:56.298949Z",
     "start_time": "2024-12-21T23:22:56.290729Z"
    }
   },
   "cell_type": "code",
   "source": [
    "rng.shuffle(array, axis = 1)\n",
    "array"
   ],
   "id": "731bc3edeb8fa9ea",
   "outputs": [
    {
     "data": {
      "text/plain": [
       "array([[ 2,  3,  0,  4,  1],\n",
       "       [ 7,  8,  5,  9,  6],\n",
       "       [12, 13, 10, 14, 11],\n",
       "       [17, 18, 15, 19, 16]])"
      ]
     },
     "execution_count": 23,
     "metadata": {},
     "output_type": "execute_result"
    }
   ],
   "execution_count": 23
  },
  {
   "metadata": {
    "ExecuteTime": {
     "end_time": "2024-12-21T23:22:56.777569Z",
     "start_time": "2024-12-21T23:22:56.765218Z"
    }
   },
   "cell_type": "code",
   "source": [
    "# array = np.arange(10)\n",
    "# np.shuffle(array)\n",
    "\n",
    "rng.permutation(10)"
   ],
   "id": "be2697c1945366c8",
   "outputs": [
    {
     "data": {
      "text/plain": [
       "array([9, 7, 8, 5, 0, 4, 3, 6, 1, 2])"
      ]
     },
     "execution_count": 24,
     "metadata": {},
     "output_type": "execute_result"
    }
   ],
   "execution_count": 24
  },
  {
   "metadata": {
    "ExecuteTime": {
     "end_time": "2024-12-21T23:22:57.214019Z",
     "start_time": "2024-12-21T23:22:57.200200Z"
    }
   },
   "cell_type": "code",
   "source": [
    "array = np.arange(20).reshape(4,5)\n",
    "array"
   ],
   "id": "7c012d91c5c040e8",
   "outputs": [
    {
     "data": {
      "text/plain": [
       "array([[ 0,  1,  2,  3,  4],\n",
       "       [ 5,  6,  7,  8,  9],\n",
       "       [10, 11, 12, 13, 14],\n",
       "       [15, 16, 17, 18, 19]])"
      ]
     },
     "execution_count": 25,
     "metadata": {},
     "output_type": "execute_result"
    }
   ],
   "execution_count": 25
  },
  {
   "metadata": {
    "ExecuteTime": {
     "end_time": "2024-12-21T23:22:57.915478Z",
     "start_time": "2024-12-21T23:22:57.901790Z"
    }
   },
   "cell_type": "code",
   "source": "rng.permutation(array, axis = 0)",
   "id": "18e5d9cb17bb9f",
   "outputs": [
    {
     "data": {
      "text/plain": [
       "array([[ 0,  1,  2,  3,  4],\n",
       "       [15, 16, 17, 18, 19],\n",
       "       [10, 11, 12, 13, 14],\n",
       "       [ 5,  6,  7,  8,  9]])"
      ]
     },
     "execution_count": 26,
     "metadata": {},
     "output_type": "execute_result"
    }
   ],
   "execution_count": 26
  },
  {
   "metadata": {
    "ExecuteTime": {
     "end_time": "2024-12-21T23:22:58.262160Z",
     "start_time": "2024-12-21T23:22:58.255826Z"
    }
   },
   "cell_type": "code",
   "source": "rng.permutation(array, axis = 1)",
   "id": "72d282a907ca28a4",
   "outputs": [
    {
     "data": {
      "text/plain": [
       "array([[ 4,  2,  1,  0,  3],\n",
       "       [ 9,  7,  6,  5,  8],\n",
       "       [14, 12, 11, 10, 13],\n",
       "       [19, 17, 16, 15, 18]])"
      ]
     },
     "execution_count": 27,
     "metadata": {},
     "output_type": "execute_result"
    }
   ],
   "execution_count": 27
  },
  {
   "metadata": {
    "ExecuteTime": {
     "end_time": "2024-12-21T23:22:58.672890Z",
     "start_time": "2024-12-21T23:22:58.662980Z"
    }
   },
   "cell_type": "code",
   "source": [
    "array = np.arange(20).reshape(4,5)\n",
    "array"
   ],
   "id": "b52f023cbd7e55e2",
   "outputs": [
    {
     "data": {
      "text/plain": [
       "array([[ 0,  1,  2,  3,  4],\n",
       "       [ 5,  6,  7,  8,  9],\n",
       "       [10, 11, 12, 13, 14],\n",
       "       [15, 16, 17, 18, 19]])"
      ]
     },
     "execution_count": 28,
     "metadata": {},
     "output_type": "execute_result"
    }
   ],
   "execution_count": 28
  },
  {
   "metadata": {
    "ExecuteTime": {
     "end_time": "2024-12-21T23:22:58.935065Z",
     "start_time": "2024-12-21T23:22:58.926928Z"
    }
   },
   "cell_type": "code",
   "source": "rng.permuted(array, axis = 0)",
   "id": "38f3f890f33467da",
   "outputs": [
    {
     "data": {
      "text/plain": [
       "array([[10,  1,  7, 18, 19],\n",
       "       [ 0, 16,  2,  3, 14],\n",
       "       [15,  6, 17,  8,  9],\n",
       "       [ 5, 11, 12, 13,  4]])"
      ]
     },
     "execution_count": 29,
     "metadata": {},
     "output_type": "execute_result"
    }
   ],
   "execution_count": 29
  },
  {
   "metadata": {
    "ExecuteTime": {
     "end_time": "2024-12-21T23:22:59.241677Z",
     "start_time": "2024-12-21T23:22:59.231446Z"
    }
   },
   "cell_type": "code",
   "source": "rng.permuted(array, axis = 1)",
   "id": "72a60c6804811bb5",
   "outputs": [
    {
     "data": {
      "text/plain": [
       "array([[ 3,  2,  0,  4,  1],\n",
       "       [ 5,  7,  8,  9,  6],\n",
       "       [10, 13, 14, 11, 12],\n",
       "       [16, 19, 17, 18, 15]])"
      ]
     },
     "execution_count": 30,
     "metadata": {},
     "output_type": "execute_result"
    }
   ],
   "execution_count": 30
  }
 ],
 "metadata": {
  "kernelspec": {
   "display_name": "Python 3",
   "language": "python",
   "name": "python3"
  },
  "language_info": {
   "codemirror_mode": {
    "name": "ipython",
    "version": 2
   },
   "file_extension": ".py",
   "mimetype": "text/x-python",
   "name": "python",
   "nbconvert_exporter": "python",
   "pygments_lexer": "ipython2",
   "version": "2.7.6"
  }
 },
 "nbformat": 4,
 "nbformat_minor": 5
}
