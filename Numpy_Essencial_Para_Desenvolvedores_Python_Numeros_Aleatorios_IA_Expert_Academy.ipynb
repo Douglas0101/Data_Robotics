{
 "cells": [
  {
   "cell_type": "code",
   "id": "initial_id",
   "metadata": {
    "collapsed": true,
    "ExecuteTime": {
     "end_time": "2024-12-22T04:51:15.827336Z",
     "start_time": "2024-12-22T04:51:15.284749Z"
    }
   },
   "source": [
    "import numpy as np\n",
    "import matplotlib.pyplot as plt"
   ],
   "outputs": [],
   "execution_count": 1
  },
  {
   "metadata": {
    "ExecuteTime": {
     "end_time": "2024-12-22T04:51:15.862828Z",
     "start_time": "2024-12-22T04:51:15.852996Z"
    }
   },
   "cell_type": "code",
   "source": "rng = np.random.default_rng(seed=1)",
   "id": "eed5e7b970f294b6",
   "outputs": [],
   "execution_count": 2
  },
  {
   "metadata": {
    "ExecuteTime": {
     "end_time": "2024-12-22T04:51:15.997447Z",
     "start_time": "2024-12-22T04:51:15.989016Z"
    }
   },
   "cell_type": "code",
   "source": "rng.random()",
   "id": "8d658a6a20b0b474",
   "outputs": [
    {
     "data": {
      "text/plain": [
       "0.5118216247002567"
      ]
     },
     "execution_count": 3,
     "metadata": {},
     "output_type": "execute_result"
    }
   ],
   "execution_count": 3
  },
  {
   "metadata": {
    "ExecuteTime": {
     "end_time": "2024-12-22T04:51:16.081999Z",
     "start_time": "2024-12-22T04:51:16.072178Z"
    }
   },
   "cell_type": "code",
   "source": [
    "rng = np.random.default_rng(seed=2)\n",
    "rng.random()"
   ],
   "id": "296ee876561e526c",
   "outputs": [
    {
     "data": {
      "text/plain": [
       "0.2616121342493164"
      ]
     },
     "execution_count": 4,
     "metadata": {},
     "output_type": "execute_result"
    }
   ],
   "execution_count": 4
  },
  {
   "metadata": {
    "ExecuteTime": {
     "end_time": "2024-12-22T04:51:16.254629Z",
     "start_time": "2024-12-22T04:51:16.246962Z"
    }
   },
   "cell_type": "code",
   "source": "rng.random(size=10)",
   "id": "11ef55ef5e592c2d",
   "outputs": [
    {
     "data": {
      "text/plain": [
       "array([0.29849114, 0.81422574, 0.09191594, 0.60010053, 0.72856053,\n",
       "       0.18790107, 0.05514663, 0.27496937, 0.65743301, 0.56226566])"
      ]
     },
     "execution_count": 5,
     "metadata": {},
     "output_type": "execute_result"
    }
   ],
   "execution_count": 5
  },
  {
   "metadata": {
    "ExecuteTime": {
     "end_time": "2024-12-22T04:51:16.405936Z",
     "start_time": "2024-12-22T04:51:16.377530Z"
    }
   },
   "cell_type": "code",
   "source": "rng.random(size=(5,2))",
   "id": "6b20cbb7238b3d07",
   "outputs": [
    {
     "data": {
      "text/plain": [
       "array([[0.15006226, 0.43263079],\n",
       "       [0.6692973 , 0.42278467],\n",
       "       [0.6331844 , 0.96743595],\n",
       "       [0.68306482, 0.39162483],\n",
       "       [0.18725257, 0.34596067]])"
      ]
     },
     "execution_count": 6,
     "metadata": {},
     "output_type": "execute_result"
    }
   ],
   "execution_count": 6
  },
  {
   "metadata": {
    "ExecuteTime": {
     "end_time": "2024-12-22T04:51:16.488603Z",
     "start_time": "2024-12-22T04:51:16.469102Z"
    }
   },
   "cell_type": "code",
   "source": "rng.integers(4, size = 5)",
   "id": "5006fc578377a7dd",
   "outputs": [
    {
     "data": {
      "text/plain": [
       "array([2, 2, 2, 3, 3])"
      ]
     },
     "execution_count": 7,
     "metadata": {},
     "output_type": "execute_result"
    }
   ],
   "execution_count": 7
  },
  {
   "metadata": {
    "ExecuteTime": {
     "end_time": "2024-12-22T04:51:16.884926Z",
     "start_time": "2024-12-22T04:51:16.880935Z"
    }
   },
   "cell_type": "code",
   "source": "rng.integers(low = 10, high = [15,54,100])",
   "id": "2e3fb240b5a3c2e1",
   "outputs": [
    {
     "data": {
      "text/plain": [
       "array([13, 52, 38])"
      ]
     },
     "execution_count": 8,
     "metadata": {},
     "output_type": "execute_result"
    }
   ],
   "execution_count": 8
  },
  {
   "metadata": {
    "ExecuteTime": {
     "end_time": "2024-12-22T04:51:17.306267Z",
     "start_time": "2024-12-22T04:51:17.283559Z"
    }
   },
   "cell_type": "code",
   "source": [
    "array = np.arange(0, 10)\n",
    "array"
   ],
   "id": "63fa94a34e6cf9c",
   "outputs": [
    {
     "data": {
      "text/plain": [
       "array([0, 1, 2, 3, 4, 5, 6, 7, 8, 9])"
      ]
     },
     "execution_count": 9,
     "metadata": {},
     "output_type": "execute_result"
    }
   ],
   "execution_count": 9
  },
  {
   "metadata": {
    "ExecuteTime": {
     "end_time": "2024-12-22T04:51:17.674792Z",
     "start_time": "2024-12-22T04:51:17.664962Z"
    }
   },
   "cell_type": "code",
   "source": "rng.choice(a = array, size = 5)",
   "id": "51bf0770d3e41fb9",
   "outputs": [
    {
     "data": {
      "text/plain": [
       "array([9, 9, 2, 4, 5])"
      ]
     },
     "execution_count": 10,
     "metadata": {},
     "output_type": "execute_result"
    }
   ],
   "execution_count": 10
  },
  {
   "metadata": {
    "ExecuteTime": {
     "end_time": "2024-12-22T04:51:17.787252Z",
     "start_time": "2024-12-22T04:51:17.778440Z"
    }
   },
   "cell_type": "code",
   "source": "rng.choice(a = array, size = 10)",
   "id": "1a0f07364e5266ab",
   "outputs": [
    {
     "data": {
      "text/plain": [
       "array([6, 7, 1, 4, 1, 9, 2, 4, 8, 5])"
      ]
     },
     "execution_count": 11,
     "metadata": {},
     "output_type": "execute_result"
    }
   ],
   "execution_count": 11
  },
  {
   "metadata": {
    "ExecuteTime": {
     "end_time": "2024-12-22T04:51:17.907436Z",
     "start_time": "2024-12-22T04:51:17.897653Z"
    }
   },
   "cell_type": "code",
   "source": "rng.choice(a = array, size = 10, replace = False)",
   "id": "67cf80890740a2b5",
   "outputs": [
    {
     "data": {
      "text/plain": [
       "array([9, 0, 4, 8, 2, 1, 6, 3, 5, 7])"
      ]
     },
     "execution_count": 12,
     "metadata": {},
     "output_type": "execute_result"
    }
   ],
   "execution_count": 12
  },
  {
   "metadata": {
    "ExecuteTime": {
     "end_time": "2024-12-22T04:51:18.045540Z",
     "start_time": "2024-12-22T04:51:18.039684Z"
    }
   },
   "cell_type": "code",
   "source": [
    "array = np.array([1, 2, 3])\n",
    "p = np.array([0.5, 0.4, 0.1]) # a soma deve ser igual a 1 (100%)"
   ],
   "id": "950b50b09638d4b7",
   "outputs": [],
   "execution_count": 13
  },
  {
   "metadata": {
    "ExecuteTime": {
     "end_time": "2024-12-22T04:51:18.115705Z",
     "start_time": "2024-12-22T04:51:18.105914Z"
    }
   },
   "cell_type": "code",
   "source": "rng.choice(a = array, p = p, size = 10)",
   "id": "572f29a6b878864f",
   "outputs": [
    {
     "data": {
      "text/plain": [
       "array([2, 1, 2, 1, 2, 1, 1, 1, 2, 1])"
      ]
     },
     "execution_count": 14,
     "metadata": {},
     "output_type": "execute_result"
    }
   ],
   "execution_count": 14
  },
  {
   "metadata": {
    "ExecuteTime": {
     "end_time": "2024-12-22T04:51:18.169243Z",
     "start_time": "2024-12-22T04:51:18.156147Z"
    }
   },
   "cell_type": "code",
   "source": [
    "array_2d = np.arange(0,20).reshape(4,5)\n",
    "array_2d"
   ],
   "id": "22454a0cb78efbe4",
   "outputs": [
    {
     "data": {
      "text/plain": [
       "array([[ 0,  1,  2,  3,  4],\n",
       "       [ 5,  6,  7,  8,  9],\n",
       "       [10, 11, 12, 13, 14],\n",
       "       [15, 16, 17, 18, 19]])"
      ]
     },
     "execution_count": 15,
     "metadata": {},
     "output_type": "execute_result"
    }
   ],
   "execution_count": 15
  },
  {
   "metadata": {
    "ExecuteTime": {
     "end_time": "2024-12-22T04:51:18.284414Z",
     "start_time": "2024-12-22T04:51:18.276887Z"
    }
   },
   "cell_type": "code",
   "source": "rng.choice(a = array_2d, size = 2, axis = 0)",
   "id": "ca0bc15fab296fcb",
   "outputs": [
    {
     "data": {
      "text/plain": [
       "array([[10, 11, 12, 13, 14],\n",
       "       [ 5,  6,  7,  8,  9]])"
      ]
     },
     "execution_count": 16,
     "metadata": {},
     "output_type": "execute_result"
    }
   ],
   "execution_count": 16
  },
  {
   "metadata": {
    "ExecuteTime": {
     "end_time": "2024-12-22T04:51:18.386666Z",
     "start_time": "2024-12-22T04:51:18.375858Z"
    }
   },
   "cell_type": "code",
   "source": "rng.choice(a = array_2d, size = 2, axis = 1)",
   "id": "ce826fbc010f7e3e",
   "outputs": [
    {
     "data": {
      "text/plain": [
       "array([[ 4,  1],\n",
       "       [ 9,  6],\n",
       "       [14, 11],\n",
       "       [19, 16]])"
      ]
     },
     "execution_count": 17,
     "metadata": {},
     "output_type": "execute_result"
    }
   ],
   "execution_count": 17
  },
  {
   "metadata": {
    "ExecuteTime": {
     "end_time": "2024-12-22T04:51:18.585246Z",
     "start_time": "2024-12-22T04:51:18.580041Z"
    }
   },
   "cell_type": "code",
   "source": [
    "array = np.arange(10)\n",
    "array"
   ],
   "id": "48cbf83e98509df1",
   "outputs": [
    {
     "data": {
      "text/plain": [
       "array([0, 1, 2, 3, 4, 5, 6, 7, 8, 9])"
      ]
     },
     "execution_count": 18,
     "metadata": {},
     "output_type": "execute_result"
    }
   ],
   "execution_count": 18
  },
  {
   "metadata": {
    "ExecuteTime": {
     "end_time": "2024-12-22T04:51:18.894685Z",
     "start_time": "2024-12-22T04:51:18.889033Z"
    }
   },
   "cell_type": "code",
   "source": [
    "rng.shuffle(array)\n",
    "array"
   ],
   "id": "e521668bc40e6fe3",
   "outputs": [
    {
     "data": {
      "text/plain": [
       "array([2, 1, 9, 5, 3, 4, 7, 8, 0, 6])"
      ]
     },
     "execution_count": 19,
     "metadata": {},
     "output_type": "execute_result"
    }
   ],
   "execution_count": 19
  },
  {
   "metadata": {
    "ExecuteTime": {
     "end_time": "2024-12-22T04:51:19.130880Z",
     "start_time": "2024-12-22T04:51:19.122033Z"
    }
   },
   "cell_type": "code",
   "source": [
    "array = np.arange(20).reshape(4,5)\n",
    "array"
   ],
   "id": "218546c90db69b8c",
   "outputs": [
    {
     "data": {
      "text/plain": [
       "array([[ 0,  1,  2,  3,  4],\n",
       "       [ 5,  6,  7,  8,  9],\n",
       "       [10, 11, 12, 13, 14],\n",
       "       [15, 16, 17, 18, 19]])"
      ]
     },
     "execution_count": 20,
     "metadata": {},
     "output_type": "execute_result"
    }
   ],
   "execution_count": 20
  },
  {
   "metadata": {
    "ExecuteTime": {
     "end_time": "2024-12-22T04:51:19.368371Z",
     "start_time": "2024-12-22T04:51:19.354089Z"
    }
   },
   "cell_type": "code",
   "source": [
    "rng.shuffle(array, axis = 0)\n",
    "array"
   ],
   "id": "c8d45676b6162319",
   "outputs": [
    {
     "data": {
      "text/plain": [
       "array([[10, 11, 12, 13, 14],\n",
       "       [ 5,  6,  7,  8,  9],\n",
       "       [15, 16, 17, 18, 19],\n",
       "       [ 0,  1,  2,  3,  4]])"
      ]
     },
     "execution_count": 21,
     "metadata": {},
     "output_type": "execute_result"
    }
   ],
   "execution_count": 21
  },
  {
   "metadata": {
    "ExecuteTime": {
     "end_time": "2024-12-22T04:51:19.572178Z",
     "start_time": "2024-12-22T04:51:19.566788Z"
    }
   },
   "cell_type": "code",
   "source": [
    "array = np.arange(20).reshape(4,5)\n",
    "array"
   ],
   "id": "447b65c945c6f15f",
   "outputs": [
    {
     "data": {
      "text/plain": [
       "array([[ 0,  1,  2,  3,  4],\n",
       "       [ 5,  6,  7,  8,  9],\n",
       "       [10, 11, 12, 13, 14],\n",
       "       [15, 16, 17, 18, 19]])"
      ]
     },
     "execution_count": 22,
     "metadata": {},
     "output_type": "execute_result"
    }
   ],
   "execution_count": 22
  },
  {
   "metadata": {
    "ExecuteTime": {
     "end_time": "2024-12-22T04:51:19.928199Z",
     "start_time": "2024-12-22T04:51:19.919985Z"
    }
   },
   "cell_type": "code",
   "source": [
    "rng.shuffle(array, axis = 1)\n",
    "array"
   ],
   "id": "731bc3edeb8fa9ea",
   "outputs": [
    {
     "data": {
      "text/plain": [
       "array([[ 2,  3,  0,  4,  1],\n",
       "       [ 7,  8,  5,  9,  6],\n",
       "       [12, 13, 10, 14, 11],\n",
       "       [17, 18, 15, 19, 16]])"
      ]
     },
     "execution_count": 23,
     "metadata": {},
     "output_type": "execute_result"
    }
   ],
   "execution_count": 23
  },
  {
   "metadata": {
    "ExecuteTime": {
     "end_time": "2024-12-22T04:51:20.135553Z",
     "start_time": "2024-12-22T04:51:20.121072Z"
    }
   },
   "cell_type": "code",
   "source": [
    "# array = np.arange(10)\n",
    "# np.shuffle(array)\n",
    "\n",
    "rng.permutation(10)"
   ],
   "id": "be2697c1945366c8",
   "outputs": [
    {
     "data": {
      "text/plain": [
       "array([9, 7, 8, 5, 0, 4, 3, 6, 1, 2])"
      ]
     },
     "execution_count": 24,
     "metadata": {},
     "output_type": "execute_result"
    }
   ],
   "execution_count": 24
  },
  {
   "metadata": {
    "ExecuteTime": {
     "end_time": "2024-12-22T04:51:20.461052Z",
     "start_time": "2024-12-22T04:51:20.455019Z"
    }
   },
   "cell_type": "code",
   "source": [
    "array = np.arange(20).reshape(4,5)\n",
    "array"
   ],
   "id": "7c012d91c5c040e8",
   "outputs": [
    {
     "data": {
      "text/plain": [
       "array([[ 0,  1,  2,  3,  4],\n",
       "       [ 5,  6,  7,  8,  9],\n",
       "       [10, 11, 12, 13, 14],\n",
       "       [15, 16, 17, 18, 19]])"
      ]
     },
     "execution_count": 25,
     "metadata": {},
     "output_type": "execute_result"
    }
   ],
   "execution_count": 25
  },
  {
   "metadata": {
    "ExecuteTime": {
     "end_time": "2024-12-22T04:51:20.551593Z",
     "start_time": "2024-12-22T04:51:20.545785Z"
    }
   },
   "cell_type": "code",
   "source": "rng.permutation(array, axis = 0)",
   "id": "18e5d9cb17bb9f",
   "outputs": [
    {
     "data": {
      "text/plain": [
       "array([[ 0,  1,  2,  3,  4],\n",
       "       [15, 16, 17, 18, 19],\n",
       "       [10, 11, 12, 13, 14],\n",
       "       [ 5,  6,  7,  8,  9]])"
      ]
     },
     "execution_count": 26,
     "metadata": {},
     "output_type": "execute_result"
    }
   ],
   "execution_count": 26
  },
  {
   "metadata": {
    "ExecuteTime": {
     "end_time": "2024-12-22T04:51:20.698660Z",
     "start_time": "2024-12-22T04:51:20.692711Z"
    }
   },
   "cell_type": "code",
   "source": "rng.permutation(array, axis = 1)",
   "id": "72d282a907ca28a4",
   "outputs": [
    {
     "data": {
      "text/plain": [
       "array([[ 4,  2,  1,  0,  3],\n",
       "       [ 9,  7,  6,  5,  8],\n",
       "       [14, 12, 11, 10, 13],\n",
       "       [19, 17, 16, 15, 18]])"
      ]
     },
     "execution_count": 27,
     "metadata": {},
     "output_type": "execute_result"
    }
   ],
   "execution_count": 27
  },
  {
   "metadata": {
    "ExecuteTime": {
     "end_time": "2024-12-22T04:51:21.035820Z",
     "start_time": "2024-12-22T04:51:21.023377Z"
    }
   },
   "cell_type": "code",
   "source": [
    "array = np.arange(20).reshape(4,5)\n",
    "array"
   ],
   "id": "b52f023cbd7e55e2",
   "outputs": [
    {
     "data": {
      "text/plain": [
       "array([[ 0,  1,  2,  3,  4],\n",
       "       [ 5,  6,  7,  8,  9],\n",
       "       [10, 11, 12, 13, 14],\n",
       "       [15, 16, 17, 18, 19]])"
      ]
     },
     "execution_count": 28,
     "metadata": {},
     "output_type": "execute_result"
    }
   ],
   "execution_count": 28
  },
  {
   "metadata": {
    "ExecuteTime": {
     "end_time": "2024-12-22T04:51:21.327618Z",
     "start_time": "2024-12-22T04:51:21.319780Z"
    }
   },
   "cell_type": "code",
   "source": "rng.permuted(array, axis = 0)",
   "id": "38f3f890f33467da",
   "outputs": [
    {
     "data": {
      "text/plain": [
       "array([[10,  1,  7, 18, 19],\n",
       "       [ 0, 16,  2,  3, 14],\n",
       "       [15,  6, 17,  8,  9],\n",
       "       [ 5, 11, 12, 13,  4]])"
      ]
     },
     "execution_count": 29,
     "metadata": {},
     "output_type": "execute_result"
    }
   ],
   "execution_count": 29
  },
  {
   "metadata": {
    "ExecuteTime": {
     "end_time": "2024-12-22T04:51:21.660263Z",
     "start_time": "2024-12-22T04:51:21.654478Z"
    }
   },
   "cell_type": "code",
   "source": "rng.permuted(array, axis = 1)",
   "id": "72a60c6804811bb5",
   "outputs": [
    {
     "data": {
      "text/plain": [
       "array([[ 3,  2,  0,  4,  1],\n",
       "       [ 5,  7,  8,  9,  6],\n",
       "       [10, 13, 14, 11, 12],\n",
       "       [16, 19, 17, 18, 15]])"
      ]
     },
     "execution_count": 30,
     "metadata": {},
     "output_type": "execute_result"
    }
   ],
   "execution_count": 30
  },
  {
   "metadata": {
    "ExecuteTime": {
     "end_time": "2024-12-22T04:51:21.835783Z",
     "start_time": "2024-12-22T04:51:21.831284Z"
    }
   },
   "cell_type": "code",
   "source": "rng.beta(a = 1, b = 100, size = 10)",
   "id": "6be641d11b758b02",
   "outputs": [
    {
     "data": {
      "text/plain": [
       "array([0.00073194, 0.00724787, 0.00877126, 0.02905168, 0.01613802,\n",
       "       0.00061977, 0.00430386, 0.01230661, 0.00034745, 0.00246354])"
      ]
     },
     "execution_count": 31,
     "metadata": {},
     "output_type": "execute_result"
    }
   ],
   "execution_count": 31
  },
  {
   "metadata": {
    "ExecuteTime": {
     "end_time": "2024-12-22T04:51:21.992281Z",
     "start_time": "2024-12-22T04:51:21.984206Z"
    }
   },
   "cell_type": "code",
   "source": "100_000 / 100",
   "id": "dcc37069be01743c",
   "outputs": [
    {
     "data": {
      "text/plain": [
       "1000.0"
      ]
     },
     "execution_count": 32,
     "metadata": {},
     "output_type": "execute_result"
    }
   ],
   "execution_count": 32
  },
  {
   "metadata": {
    "ExecuteTime": {
     "end_time": "2024-12-22T04:51:22.456854Z",
     "start_time": "2024-12-22T04:51:22.207822Z"
    }
   },
   "cell_type": "code",
   "source": "plt.hist(rng.beta(a = 1, b = 100, size = 100_000), bins = 100);",
   "id": "9119f80ece228cac",
   "outputs": [
    {
     "data": {
      "text/plain": [
       "<Figure size 640x480 with 1 Axes>"
      ],
      "image/png": "[encoded data removed]"
     },
     "metadata": {},
     "output_type": "display_data"
    }
   ],
   "execution_count": 33
  },
  {
   "metadata": {
    "ExecuteTime": {
     "end_time": "2024-12-22T04:51:22.627406Z",
     "start_time": "2024-12-22T04:51:22.622901Z"
    }
   },
   "cell_type": "code",
   "source": "rng.binomial(n = 10, p = 0.25, size = 10)",
   "id": "942d3b32391bc581",
   "outputs": [
    {
     "data": {
      "text/plain": [
       "array([0, 1, 1, 1, 4, 2, 1, 4, 3, 4])"
      ]
     },
     "execution_count": 34,
     "metadata": {},
     "output_type": "execute_result"
    }
   ],
   "execution_count": 34
  },
  {
   "metadata": {
    "ExecuteTime": {
     "end_time": "2024-12-22T04:51:23.174944Z",
     "start_time": "2024-12-22T04:51:22.910840Z"
    }
   },
   "cell_type": "code",
   "source": "plt.hist(rng.binomial(n = 10, p = 0.25, size = 100_000), bins = 100);",
   "id": "e091ba9afe7cb8f2",
   "outputs": [
    {
     "data": {
      "text/plain": [
       "<Figure size 640x480 with 1 Axes>"
      ],
      "image/png": "[encoded data removed]"
     },
     "metadata": {},
     "output_type": "display_data"
    }
   ],
   "execution_count": 35
  },
  {
   "metadata": {
    "ExecuteTime": {
     "end_time": "2024-12-22T04:51:23.272892Z",
     "start_time": "2024-12-22T04:51:23.267431Z"
    }
   },
   "cell_type": "code",
   "source": "rng.chisquare(df = 5, size = 10)",
   "id": "482dc9a0b061a840",
   "outputs": [
    {
     "data": {
      "text/plain": [
       "array([1.07922502, 6.94909394, 4.62360936, 0.78948176, 1.62242558,\n",
       "       6.80186362, 5.44673109, 3.48685896, 7.36525523, 9.11270511])"
      ]
     },
     "execution_count": 36,
     "metadata": {},
     "output_type": "execute_result"
    }
   ],
   "execution_count": 36
  },
  {
   "metadata": {
    "ExecuteTime": {
     "end_time": "2024-12-22T04:51:23.540826Z",
     "start_time": "2024-12-22T04:51:23.351738Z"
    }
   },
   "cell_type": "code",
   "source": "plt.hist(rng.chisquare(df = 5, size = 100_000), bins = 100);",
   "id": "de96dd2bb0134ead",
   "outputs": [
    {
     "data": {
      "text/plain": [
       "<Figure size 640x480 with 1 Axes>"
      ],
      "image/png": "[encoded data removed]"
     },
     "metadata": {},
     "output_type": "display_data"
    }
   ],
   "execution_count": 37
  },
  {
   "metadata": {
    "ExecuteTime": {
     "end_time": "2024-12-22T04:51:23.558348Z",
     "start_time": "2024-12-22T04:51:23.553598Z"
    }
   },
   "cell_type": "code",
   "source": "rng.exponential(scale = 5, size = 10)",
   "id": "ff1952a1b01affd4",
   "outputs": [
    {
     "data": {
      "text/plain": [
       "array([12.67976753,  2.9754406 ,  1.70769059,  2.60779357,  7.33065304,\n",
       "        0.25575099, 10.07978649,  1.69833332,  3.99472303,  1.66790558])"
      ]
     },
     "execution_count": 38,
     "metadata": {},
     "output_type": "execute_result"
    }
   ],
   "execution_count": 38
  },
  {
   "metadata": {
    "ExecuteTime": {
     "end_time": "2024-12-22T04:51:23.779761Z",
     "start_time": "2024-12-22T04:51:23.602856Z"
    }
   },
   "cell_type": "code",
   "source": "plt.hist(rng.exponential(scale = 5, size = 100_000), bins = 100);",
   "id": "cf105cc4c6766072",
   "outputs": [
    {
     "data": {
      "text/plain": [
       "<Figure size 640x480 with 1 Axes>"
      ],
      "image/png": "[encoded data removed]"
     },
     "metadata": {},
     "output_type": "display_data"
    }
   ],
   "execution_count": 39
  },
  {
   "metadata": {
    "ExecuteTime": {
     "end_time": "2024-12-22T04:51:23.791906Z",
     "start_time": "2024-12-22T04:51:23.787316Z"
    }
   },
   "cell_type": "code",
   "source": "rng.gamma(shape = 4, scale = 2, size = 10)",
   "id": "ec87846ed9c2db3e",
   "outputs": [
    {
     "data": {
      "text/plain": [
       "array([10.88913449,  5.36991807, 15.79772285,  5.51830664,  5.35552612,\n",
       "        6.28407722, 13.96441788,  8.87633055,  7.94451754,  7.12009295])"
      ]
     },
     "execution_count": 40,
     "metadata": {},
     "output_type": "execute_result"
    }
   ],
   "execution_count": 40
  },
  {
   "metadata": {
    "ExecuteTime": {
     "end_time": "2024-12-22T04:51:24.015309Z",
     "start_time": "2024-12-22T04:51:23.841948Z"
    }
   },
   "cell_type": "code",
   "source": "plt.hist(rng.gamma(shape=4, scale=2, size=100_000), bins = 100);",
   "id": "f0280af2d0f55a82",
   "outputs": [
    {
     "data": {
      "text/plain": [
       "<Figure size 640x480 with 1 Axes>"
      ],
      "image/png": "[encoded data removed]"
     },
     "metadata": {},
     "output_type": "display_data"
    }
   ],
   "execution_count": 41
  },
  {
   "metadata": {
    "ExecuteTime": {
     "end_time": "2024-12-22T04:51:24.029180Z",
     "start_time": "2024-12-22T04:51:24.024790Z"
    }
   },
   "cell_type": "code",
   "source": "rng.logistic(loc = 2, scale = 5, size = 10)",
   "id": "fedafd089b94d0f",
   "outputs": [
    {
     "data": {
      "text/plain": [
       "array([-5.5158296 , 10.24131026,  6.96068435, 14.27643287,  6.27846608,\n",
       "        8.77326774,  8.79079982,  0.30124498,  2.98431843,  7.06393737])"
      ]
     },
     "execution_count": 42,
     "metadata": {},
     "output_type": "execute_result"
    }
   ],
   "execution_count": 42
  },
  {
   "metadata": {
    "ExecuteTime": {
     "end_time": "2024-12-22T04:51:24.276007Z",
     "start_time": "2024-12-22T04:51:24.079606Z"
    }
   },
   "cell_type": "code",
   "source": "plt.hist(rng.logistic(loc=2, scale=5, size=100_000), bins = 100);",
   "id": "7bfc1516fe698d10",
   "outputs": [
    {
     "data": {
      "text/plain": [
       "<Figure size 640x480 with 1 Axes>"
      ],
      "image/png": "[encoded data removed]"
     },
     "metadata": {},
     "output_type": "display_data"
    }
   ],
   "execution_count": 43
  },
  {
   "metadata": {
    "ExecuteTime": {
     "end_time": "2024-12-22T04:51:24.291110Z",
     "start_time": "2024-12-22T04:51:24.284671Z"
    }
   },
   "cell_type": "code",
   "source": "rng.normal(loc = 0, scale = 1, size = 10)",
   "id": "692c3c0a0ef4601a",
   "outputs": [
    {
     "data": {
      "text/plain": [
       "array([ 0.56954242,  0.29446551, -1.55381829,  0.53421188,  0.45547305,\n",
       "        2.12001791,  0.11602667, -0.03782858, -1.56217515,  1.0474108 ])"
      ]
     },
     "execution_count": 44,
     "metadata": {},
     "output_type": "execute_result"
    }
   ],
   "execution_count": 44
  },
  {
   "metadata": {
    "ExecuteTime": {
     "end_time": "2024-12-22T04:51:24.524645Z",
     "start_time": "2024-12-22T04:51:24.339470Z"
    }
   },
   "cell_type": "code",
   "source": "plt.hist(rng.normal(loc=4, scale=10, size=100_000), bins = 100);",
   "id": "acb993892c57212e",
   "outputs": [
    {
     "data": {
      "text/plain": [
       "<Figure size 640x480 with 1 Axes>"
      ],
      "image/png": "[encoded data removed]"
     },
     "metadata": {},
     "output_type": "display_data"
    }
   ],
   "execution_count": 45
  },
  {
   "metadata": {
    "ExecuteTime": {
     "end_time": "2024-12-22T04:51:24.537845Z",
     "start_time": "2024-12-22T04:51:24.533375Z"
    }
   },
   "cell_type": "code",
   "source": "rng.uniform(low = 10, high=50, size=10)",
   "id": "a56619cc8ae99b48",
   "outputs": [
    {
     "data": {
      "text/plain": [
       "array([11.8904939 , 30.28596653, 49.44648458, 34.01035065, 37.61761709,\n",
       "       10.08004984, 10.05462305, 27.57965191, 27.60977404, 20.0243379 ])"
      ]
     },
     "execution_count": 46,
     "metadata": {},
     "output_type": "execute_result"
    }
   ],
   "execution_count": 46
  },
  {
   "metadata": {
    "ExecuteTime": {
     "end_time": "2024-12-22T04:51:24.811438Z",
     "start_time": "2024-12-22T04:51:24.585595Z"
    }
   },
   "cell_type": "code",
   "source": "plt.hist(rng.uniform(low=10, high=50, size=100_000), bins=100);",
   "id": "dffcef2027c3dee1",
   "outputs": [
    {
     "data": {
      "text/plain": [
       "<Figure size 640x480 with 1 Axes>"
      ],
      "image/png": "[encoded data removed]"
     },
     "metadata": {},
     "output_type": "display_data"
    }
   ],
   "execution_count": 47
  }
 ],
 "metadata": {
  "kernelspec": {
   "display_name": "Python 3",
   "language": "python",
   "name": "python3"
  },
  "language_info": {
   "codemirror_mode": {
    "name": "ipython",
    "version": 2
   },
   "file_extension": ".py",
   "mimetype": "text/x-python",
   "name": "python",
   "nbconvert_exporter": "python",
   "pygments_lexer": "ipython2",
   "version": "2.7.6"
  }
 },
 "nbformat": 4,
 "nbformat_minor": 5
}
