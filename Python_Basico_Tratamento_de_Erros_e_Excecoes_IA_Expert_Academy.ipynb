{
 "cells": [
  {
   "cell_type": "code",
   "id": "initial_id",
   "metadata": {
    "collapsed": true,
    "ExecuteTime": {
     "end_time": "2024-11-21T02:19:53.644887Z",
     "start_time": "2024-11-21T02:19:53.641333Z"
    }
   },
   "source": "3 = 4",
   "outputs": [
    {
     "ename": "SyntaxError",
     "evalue": "cannot assign to literal here. Maybe you meant '==' instead of '='? (4217486709.py, line 1)",
     "output_type": "error",
     "traceback": [
      "\u001B[0;36m  Cell \u001B[0;32mIn[3], line 1\u001B[0;36m\u001B[0m\n\u001B[0;31m    3 = 4\u001B[0m\n\u001B[0m    ^\u001B[0m\n\u001B[0;31mSyntaxError\u001B[0m\u001B[0;31m:\u001B[0m cannot assign to literal here. Maybe you meant '==' instead of '='?\n"
     ]
    }
   ],
   "execution_count": 3
  },
  {
   "metadata": {
    "ExecuteTime": {
     "end_time": "2024-11-21T02:21:07.423722Z",
     "start_time": "2024-11-21T02:21:07.147619Z"
    }
   },
   "cell_type": "code",
   "source": "print(f'Meu nome é {nome}')",
   "id": "920553e085552186",
   "outputs": [
    {
     "ename": "NameError",
     "evalue": "name 'nome' is not defined",
     "output_type": "error",
     "traceback": [
      "\u001B[0;31m---------------------------------------------------------------------------\u001B[0m",
      "\u001B[0;31mNameError\u001B[0m                                 Traceback (most recent call last)",
      "Cell \u001B[0;32mIn[4], line 1\u001B[0m\n\u001B[0;32m----> 1\u001B[0m \u001B[38;5;28mprint\u001B[39m(\u001B[38;5;124mf\u001B[39m\u001B[38;5;124m'\u001B[39m\u001B[38;5;124mMeu nome é \u001B[39m\u001B[38;5;132;01m{\u001B[39;00mnome\u001B[38;5;132;01m}\u001B[39;00m\u001B[38;5;124m'\u001B[39m)\n",
      "\u001B[0;31mNameError\u001B[0m: name 'nome' is not defined"
     ]
    }
   ],
   "execution_count": 4
  },
  {
   "metadata": {
    "ExecuteTime": {
     "end_time": "2024-11-21T02:21:32.124589Z",
     "start_time": "2024-11-21T02:21:32.115510Z"
    }
   },
   "cell_type": "code",
   "source": "print(3 / 0)",
   "id": "c85bb25d369363ad",
   "outputs": [
    {
     "ename": "ZeroDivisionError",
     "evalue": "division by zero",
     "output_type": "error",
     "traceback": [
      "\u001B[0;31m---------------------------------------------------------------------------\u001B[0m",
      "\u001B[0;31mZeroDivisionError\u001B[0m                         Traceback (most recent call last)",
      "Cell \u001B[0;32mIn[5], line 1\u001B[0m\n\u001B[0;32m----> 1\u001B[0m \u001B[38;5;28mprint\u001B[39m(\u001B[38;5;241m3\u001B[39m \u001B[38;5;241m/\u001B[39m \u001B[38;5;241m0\u001B[39m)\n",
      "\u001B[0;31mZeroDivisionError\u001B[0m: division by zero"
     ]
    }
   ],
   "execution_count": 5
  },
  {
   "metadata": {
    "ExecuteTime": {
     "end_time": "2024-11-21T02:21:57.808469Z",
     "start_time": "2024-11-21T02:21:57.799450Z"
    }
   },
   "cell_type": "code",
   "source": "2.3 / 'cachorro'",
   "id": "3192a32d98733ed9",
   "outputs": [
    {
     "ename": "TypeError",
     "evalue": "unsupported operand type(s) for /: 'float' and 'str'",
     "output_type": "error",
     "traceback": [
      "\u001B[0;31m---------------------------------------------------------------------------\u001B[0m",
      "\u001B[0;31mTypeError\u001B[0m                                 Traceback (most recent call last)",
      "Cell \u001B[0;32mIn[6], line 1\u001B[0m\n\u001B[0;32m----> 1\u001B[0m \u001B[38;5;241m2.3\u001B[39m \u001B[38;5;241m/\u001B[39m \u001B[38;5;124m'\u001B[39m\u001B[38;5;124mcachorro\u001B[39m\u001B[38;5;124m'\u001B[39m\n",
      "\u001B[0;31mTypeError\u001B[0m: unsupported operand type(s) for /: 'float' and 'str'"
     ]
    }
   ],
   "execution_count": 6
  },
  {
   "metadata": {
    "ExecuteTime": {
     "end_time": "2024-11-21T02:22:41.035755Z",
     "start_time": "2024-11-21T02:22:41.031535Z"
    }
   },
   "cell_type": "code",
   "source": [
    "c = [1, 2, 3, 4, 5]\n",
    "c"
   ],
   "id": "b4f420ccd9811009",
   "outputs": [
    {
     "data": {
      "text/plain": [
       "[1, 2, 3, 4, 5]"
      ]
     },
     "execution_count": 7,
     "metadata": {},
     "output_type": "execute_result"
    }
   ],
   "execution_count": 7
  },
  {
   "metadata": {
    "ExecuteTime": {
     "end_time": "2024-11-21T02:23:40.756142Z",
     "start_time": "2024-11-21T02:23:40.742725Z"
    }
   },
   "cell_type": "code",
   "source": "c[5]",
   "id": "e812bf399160840d",
   "outputs": [
    {
     "ename": "IndexError",
     "evalue": "list index out of range",
     "output_type": "error",
     "traceback": [
      "\u001B[0;31m---------------------------------------------------------------------------\u001B[0m",
      "\u001B[0;31mIndexError\u001B[0m                                Traceback (most recent call last)",
      "Cell \u001B[0;32mIn[8], line 1\u001B[0m\n\u001B[0;32m----> 1\u001B[0m c[\u001B[38;5;241m5\u001B[39m]\n",
      "\u001B[0;31mIndexError\u001B[0m: list index out of range"
     ]
    }
   ],
   "execution_count": 8
  },
  {
   "metadata": {
    "ExecuteTime": {
     "end_time": "2024-11-21T02:25:06.412004Z",
     "start_time": "2024-11-21T02:25:00.487710Z"
    }
   },
   "cell_type": "code",
   "source": [
    "try:\n",
    "    n = int(input('Digite um número: '))\n",
    "except:\n",
    "    print('Valor inválido')\n",
    "else:\n",
    "    print(f'Você digitou {n}')"
   ],
   "id": "16281f16cbb278ed",
   "outputs": [
    {
     "name": "stdout",
     "output_type": "stream",
     "text": [
      "Voce digitou 9\n"
     ]
    }
   ],
   "execution_count": 10
  },
  {
   "metadata": {
    "ExecuteTime": {
     "end_time": "2024-11-21T02:28:43.284283Z",
     "start_time": "2024-11-21T02:28:41.076179Z"
    }
   },
   "cell_type": "code",
   "source": [
    "while True:\n",
    "    try:\n",
    "        p = int(input('Digite um número inteiro: '))\n",
    "    except ValueError:\n",
    "        print('Valor inválido')\n",
    "    except KeyboardInterrupt:\n",
    "        print('Programa interrompido pelo usuário')\n",
    "        break\n",
    "    else:\n",
    "        print(f' Você digitou {p}')\n",
    "        break"
   ],
   "id": "a822a3c1c7179452",
   "outputs": [
    {
     "name": "stdout",
     "output_type": "stream",
     "text": [
      "Programa interrompido pelo usuário\n"
     ]
    }
   ],
   "execution_count": 11
  }
 ],
 "metadata": {
  "kernelspec": {
   "display_name": "Python 3",
   "language": "python",
   "name": "python3"
  },
  "language_info": {
   "codemirror_mode": {
    "name": "ipython",
    "version": 2
   },
   "file_extension": ".py",
   "mimetype": "text/x-python",
   "name": "python",
   "nbconvert_exporter": "python",
   "pygments_lexer": "ipython2",
   "version": "2.7.6"
  }
 },
 "nbformat": 4,
 "nbformat_minor": 5
}
