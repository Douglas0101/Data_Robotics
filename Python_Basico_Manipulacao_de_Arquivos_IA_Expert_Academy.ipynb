{
 "cells": [
  {
   "cell_type": "code",
   "id": "initial_id",
   "metadata": {
    "collapsed": true,
    "ExecuteTime": {
     "end_time": "2024-11-21T03:32:33.846796Z",
     "start_time": "2024-11-21T03:32:33.844391Z"
    }
   },
   "source": [
    "with open('data/frase1.txt', 'r') as texto:\n",
    "    for linha in texto:\n",
    "        print(linha)"
   ],
   "outputs": [
    {
     "name": "stdout",
     "output_type": "stream",
     "text": [
      "Olá\n",
      "\n",
      "Estou aprendendo\n",
      "\n",
      "a linguagem Python\n",
      "\n",
      "E estou gostando muito\n"
     ]
    }
   ],
   "execution_count": 19
  },
  {
   "metadata": {
    "ExecuteTime": {
     "end_time": "2024-11-21T03:32:33.874737Z",
     "start_time": "2024-11-21T03:32:33.871639Z"
    }
   },
   "cell_type": "code",
   "source": [
    "with open('data/frase1.txt', 'r') as texto:\n",
    "    for linha in texto:\n",
    "        r = linha.strip()\n",
    "        print(r)"
   ],
   "id": "5c88a50d737a07b",
   "outputs": [
    {
     "name": "stdout",
     "output_type": "stream",
     "text": [
      "Olá\n",
      "Estou aprendendo\n",
      "a linguagem Python\n",
      "E estou gostando muito\n"
     ]
    }
   ],
   "execution_count": 20
  },
  {
   "metadata": {
    "ExecuteTime": {
     "end_time": "2024-11-21T03:32:33.930503Z",
     "start_time": "2024-11-21T03:32:33.926168Z"
    }
   },
   "cell_type": "code",
   "source": [
    "with open('data/frase1.txt', 'r') as texto:\n",
    "    r = texto.readlines()"
   ],
   "id": "f588bafa2e3761c0",
   "outputs": [],
   "execution_count": 21
  },
  {
   "metadata": {
    "ExecuteTime": {
     "end_time": "2024-11-21T03:32:33.982041Z",
     "start_time": "2024-11-21T03:32:33.978160Z"
    }
   },
   "cell_type": "code",
   "source": "r",
   "id": "76b34fce6a7a6b22",
   "outputs": [
    {
     "data": {
      "text/plain": [
       "['Olá\\n',\n",
       " 'Estou aprendendo\\n',\n",
       " 'a linguagem Python\\n',\n",
       " 'E estou gostando muito']"
      ]
     },
     "execution_count": 22,
     "metadata": {},
     "output_type": "execute_result"
    }
   ],
   "execution_count": 22
  },
  {
   "metadata": {
    "ExecuteTime": {
     "end_time": "2024-11-21T03:32:34.091935Z",
     "start_time": "2024-11-21T03:32:34.088376Z"
    }
   },
   "cell_type": "code",
   "source": [
    "with open('texto2.txt', 'w') as texto:\n",
    "    texto.write('Olá mundo!\\n')\n",
    "    texto.write('Estou aprendendo Python\\n')"
   ],
   "id": "134d38521554e368",
   "outputs": [],
   "execution_count": 23
  },
  {
   "metadata": {
    "ExecuteTime": {
     "end_time": "2024-11-21T03:32:34.147840Z",
     "start_time": "2024-11-21T03:32:34.144305Z"
    }
   },
   "cell_type": "code",
   "source": [
    "with open('texto2.txt', 'r') as texto:\n",
    "    for linha in texto:\n",
    "        print(linha)"
   ],
   "id": "2be35863ff3162c0",
   "outputs": [
    {
     "name": "stdout",
     "output_type": "stream",
     "text": [
      "Olá mundo!\n",
      "\n",
      "Estou aprendendo Python\n",
      "\n"
     ]
    }
   ],
   "execution_count": 24
  }
 ],
 "metadata": {
  "kernelspec": {
   "display_name": "Python 3",
   "language": "python",
   "name": "python3"
  },
  "language_info": {
   "codemirror_mode": {
    "name": "ipython",
    "version": 2
   },
   "file_extension": ".py",
   "mimetype": "text/x-python",
   "name": "python",
   "nbconvert_exporter": "python",
   "pygments_lexer": "ipython2",
   "version": "2.7.6"
  }
 },
 "nbformat": 4,
 "nbformat_minor": 5
}
