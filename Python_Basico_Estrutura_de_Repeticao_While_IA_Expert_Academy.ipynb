{
 "cells": [
  {
   "metadata": {},
   "cell_type": "code",
   "outputs": [],
   "execution_count": null,
   "source": [
    "numero = 1\n",
    "while numero < 6:\n",
    "    print(numero)\n",
    "    numero += 1\n",
    "    print('---')"
   ],
   "id": "c71cce2dd0a7c9d8"
  },
  {
   "metadata": {},
   "cell_type": "code",
   "outputs": [],
   "execution_count": null,
   "source": [
    "numero = 5\n",
    "while numero > 0:\n",
    "    print(numero)\n",
    "    numero -= 1\n",
    "    print('---')"
   ],
   "id": "18b979806b99da8f"
  },
  {
   "metadata": {},
   "cell_type": "code",
   "outputs": [],
   "execution_count": null,
   "source": "1 + 2 + 3 + 4 + 5",
   "id": "6bdbc0696c986ba"
  },
  {
   "metadata": {},
   "cell_type": "code",
   "outputs": [],
   "execution_count": null,
   "source": [
    "soma = 0\n",
    "numero = 1\n",
    "while numero < 6:\n",
    "    soma += numero\n",
    "    numero += 1\n",
    "print(soma)"
   ],
   "id": "e64fa4d81c4c25fa"
  },
  {
   "metadata": {},
   "cell_type": "code",
   "outputs": [],
   "execution_count": null,
   "source": [
    "numero = 12\n",
    "while numero < 1 or numero > 10:\n",
    "    numero = int(input('Digite um número entre 1 e 10: '))"
   ],
   "id": "4e7e18f4bb3a72b3"
  }
 ],
 "metadata": {
  "kernelspec": {
   "display_name": "Python 3",
   "language": "python",
   "name": "python3"
  },
  "language_info": {
   "codemirror_mode": {
    "name": "ipython",
    "version": 2
   },
   "file_extension": ".py",
   "mimetype": "text/x-python",
   "name": "python",
   "nbconvert_exporter": "python",
   "pygments_lexer": "ipython2",
   "version": "2.7.6"
  }
 },
 "nbformat": 4,
 "nbformat_minor": 5
}
